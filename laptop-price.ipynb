{
 "cells": [
  {
   "cell_type": "markdown",
   "id": "9b23d160",
   "metadata": {
    "papermill": {
     "duration": 0.011356,
     "end_time": "2023-12-18T14:55:04.301093",
     "exception": false,
     "start_time": "2023-12-18T14:55:04.289737",
     "status": "completed"
    },
    "tags": []
   },
   "source": [
    "<div style=\"background-color: #0f0f0f; padding: 20px; border-radius: 10px; box-shadow: 5px 5px 10px #888888;\">\n",
    "<h1 style=\"color: white; font-size: 30px; font-weight: bold; text-align: center; text-shadow: 2px 2px 4px #000000;\">Import Needed Libraries</h1>\n",
    "</div>"
   ]
  },
  {
   "cell_type": "code",
   "execution_count": 1,
   "id": "22e7cb83",
   "metadata": {
    "execution": {
     "iopub.execute_input": "2023-12-18T14:55:04.324738Z",
     "iopub.status.busy": "2023-12-18T14:55:04.324001Z",
     "iopub.status.idle": "2023-12-18T14:55:06.691485Z",
     "shell.execute_reply": "2023-12-18T14:55:06.690635Z"
    },
    "papermill": {
     "duration": 2.381775,
     "end_time": "2023-12-18T14:55:06.693915",
     "exception": false,
     "start_time": "2023-12-18T14:55:04.312140",
     "status": "completed"
    },
    "tags": []
   },
   "outputs": [],
   "source": [
    "import numpy as np\n",
    "import pandas as pd\n",
    "import seaborn as sns\n",
    "import plotly.express as px\n",
    "import matplotlib.pyplot as plt\n",
    "import plotly.graph_objects as go\n",
    "from plotly.offline import iplot, plot\n",
    "from plotly.subplots import make_subplots\n",
    "\n",
    "colors = [\"#8c0404\",\"#f25ed0\",\"#000000\",\"#16A085\",\"#34495E\",\n",
    "           \"#21618C \",\"#512E5F\",\"#45B39D\",\"#AAB7B8 \",\"#20B2AA\",\n",
    "           \"#FF69B4\",\"#00CED1\",\"#FF7F50\",\"#7FFF00\",\"#DA70D6\"]"
   ]
  },
  {
   "cell_type": "markdown",
   "id": "3fb7fb19",
   "metadata": {
    "papermill": {
     "duration": 0.010583,
     "end_time": "2023-12-18T14:55:06.715277",
     "exception": false,
     "start_time": "2023-12-18T14:55:06.704694",
     "status": "completed"
    },
    "tags": []
   },
   "source": [
    "<div style=\"background-color: #0f0f0f; padding: 20px; border-radius: 10px; box-shadow: 5px 5px 10px #888888;\">\n",
    "<h1 style=\"color: white; font-size: 30px; font-weight: bold; text-align: center; text-shadow: 2px 2px 4px #000000;\">Loading Dataset And Get Info¶</h1>\n",
    "</div>"
   ]
  },
  {
   "cell_type": "code",
   "execution_count": 2,
   "id": "6dad5d0a",
   "metadata": {
    "execution": {
     "iopub.execute_input": "2023-12-18T14:55:06.738892Z",
     "iopub.status.busy": "2023-12-18T14:55:06.737936Z",
     "iopub.status.idle": "2023-12-18T14:55:06.767492Z",
     "shell.execute_reply": "2023-12-18T14:55:06.766415Z"
    },
    "papermill": {
     "duration": 0.043908,
     "end_time": "2023-12-18T14:55:06.769970",
     "exception": false,
     "start_time": "2023-12-18T14:55:06.726062",
     "status": "completed"
    },
    "tags": []
   },
   "outputs": [],
   "source": [
    "# Loading Data\n",
    "df = pd.read_csv(\"/kaggle/input/laptop-price-prediction-dataset/data.csv\")"
   ]
  },
  {
   "cell_type": "code",
   "execution_count": 3,
   "id": "6214b55e",
   "metadata": {
    "execution": {
     "iopub.execute_input": "2023-12-18T14:55:06.793786Z",
     "iopub.status.busy": "2023-12-18T14:55:06.793042Z",
     "iopub.status.idle": "2023-12-18T14:55:06.832807Z",
     "shell.execute_reply": "2023-12-18T14:55:06.831706Z"
    },
    "papermill": {
     "duration": 0.054449,
     "end_time": "2023-12-18T14:55:06.835122",
     "exception": false,
     "start_time": "2023-12-18T14:55:06.780673",
     "status": "completed"
    },
    "tags": []
   },
   "outputs": [
    {
     "data": {
      "text/html": [
       "<div>\n",
       "<style scoped>\n",
       "    .dataframe tbody tr th:only-of-type {\n",
       "        vertical-align: middle;\n",
       "    }\n",
       "\n",
       "    .dataframe tbody tr th {\n",
       "        vertical-align: top;\n",
       "    }\n",
       "\n",
       "    .dataframe thead th {\n",
       "        text-align: right;\n",
       "    }\n",
       "</style>\n",
       "<table border=\"1\" class=\"dataframe\">\n",
       "  <thead>\n",
       "    <tr style=\"text-align: right;\">\n",
       "      <th></th>\n",
       "      <th>Unnamed: 0.1</th>\n",
       "      <th>Unnamed: 0</th>\n",
       "      <th>brand</th>\n",
       "      <th>name</th>\n",
       "      <th>price</th>\n",
       "      <th>spec_rating</th>\n",
       "      <th>processor</th>\n",
       "      <th>CPU</th>\n",
       "      <th>Ram</th>\n",
       "      <th>Ram_type</th>\n",
       "      <th>ROM</th>\n",
       "      <th>ROM_type</th>\n",
       "      <th>GPU</th>\n",
       "      <th>display_size</th>\n",
       "      <th>resolution_width</th>\n",
       "      <th>resolution_height</th>\n",
       "      <th>OS</th>\n",
       "      <th>warranty</th>\n",
       "    </tr>\n",
       "  </thead>\n",
       "  <tbody>\n",
       "    <tr>\n",
       "      <th>489</th>\n",
       "      <td>513</td>\n",
       "      <td>580</td>\n",
       "      <td>Acer</td>\n",
       "      <td>Predator Triton 500 SE PT516-52s NH.QFQSI.001 ...</td>\n",
       "      <td>146990</td>\n",
       "      <td>86.000000</td>\n",
       "      <td>12th Gen Intel Core i7 12700H</td>\n",
       "      <td>14 Cores (6P + 8E), 20 Threads</td>\n",
       "      <td>32GB</td>\n",
       "      <td>LPDDR5</td>\n",
       "      <td>2TB</td>\n",
       "      <td>SSD</td>\n",
       "      <td>8GB NVIDIA GeForce RTX 3070 Ti</td>\n",
       "      <td>16.0</td>\n",
       "      <td>2560.0</td>\n",
       "      <td>1600.0</td>\n",
       "      <td>Windows 11 OS</td>\n",
       "      <td>1</td>\n",
       "    </tr>\n",
       "    <tr>\n",
       "      <th>527</th>\n",
       "      <td>551</td>\n",
       "      <td>630</td>\n",
       "      <td>MSI</td>\n",
       "      <td>Summit B15 A11M-236IN Laptop</td>\n",
       "      <td>69990</td>\n",
       "      <td>64.000000</td>\n",
       "      <td>11th Gen Intel Core i7 1185G7</td>\n",
       "      <td>Quad Core, 8 Threads</td>\n",
       "      <td>16GB</td>\n",
       "      <td>DDR4</td>\n",
       "      <td>1TB</td>\n",
       "      <td>SSD</td>\n",
       "      <td>Intel Iris Xe</td>\n",
       "      <td>15.6</td>\n",
       "      <td>1920.0</td>\n",
       "      <td>1080.0</td>\n",
       "      <td>Windows 10 OS</td>\n",
       "      <td>2</td>\n",
       "    </tr>\n",
       "    <tr>\n",
       "      <th>76</th>\n",
       "      <td>78</td>\n",
       "      <td>81</td>\n",
       "      <td>HP</td>\n",
       "      <td>Omen 16-XD0007ax Gaming Laptop</td>\n",
       "      <td>109990</td>\n",
       "      <td>76.000000</td>\n",
       "      <td>7th Gen AMD Ryzen 7 7840HS</td>\n",
       "      <td>Octa Core, 16 Threads</td>\n",
       "      <td>16GB</td>\n",
       "      <td>DDR5</td>\n",
       "      <td>1TB</td>\n",
       "      <td>SSD</td>\n",
       "      <td>6GB NVIDIA GeForce RTX 4050</td>\n",
       "      <td>16.1</td>\n",
       "      <td>1920.0</td>\n",
       "      <td>1080.0</td>\n",
       "      <td>Windows 11 OS</td>\n",
       "      <td>1</td>\n",
       "    </tr>\n",
       "    <tr>\n",
       "      <th>26</th>\n",
       "      <td>27</td>\n",
       "      <td>28</td>\n",
       "      <td>HP</td>\n",
       "      <td>255 G9 840T7PA Laptop</td>\n",
       "      <td>19850</td>\n",
       "      <td>69.323529</td>\n",
       "      <td>3rd Gen AMD Athlon 3050U</td>\n",
       "      <td>Dual Core, 2 Threads</td>\n",
       "      <td>4GB</td>\n",
       "      <td>DDR4</td>\n",
       "      <td>256GB</td>\n",
       "      <td>SSD</td>\n",
       "      <td>AMD Integrated</td>\n",
       "      <td>15.6</td>\n",
       "      <td>1366.0</td>\n",
       "      <td>768.0</td>\n",
       "      <td>DOS OS</td>\n",
       "      <td>1</td>\n",
       "    </tr>\n",
       "    <tr>\n",
       "      <th>726</th>\n",
       "      <td>762</td>\n",
       "      <td>847</td>\n",
       "      <td>Acer</td>\n",
       "      <td>Nitro 16 ‎AN16-41 2023 Gaming Laptop</td>\n",
       "      <td>114990</td>\n",
       "      <td>78.000000</td>\n",
       "      <td>7th Gen AMD Ryzen 7 7840HS</td>\n",
       "      <td>Octa Core, 16 Threads</td>\n",
       "      <td>8GB</td>\n",
       "      <td>DDR5</td>\n",
       "      <td>512GB</td>\n",
       "      <td>SSD</td>\n",
       "      <td>8GB NVIDIA GeForce RTX 4060</td>\n",
       "      <td>16.0</td>\n",
       "      <td>1920.0</td>\n",
       "      <td>1200.0</td>\n",
       "      <td>Windows 11 OS</td>\n",
       "      <td>1</td>\n",
       "    </tr>\n",
       "    <tr>\n",
       "      <th>492</th>\n",
       "      <td>516</td>\n",
       "      <td>584</td>\n",
       "      <td>Dell</td>\n",
       "      <td>Inspiron 15 3511 Laptop</td>\n",
       "      <td>52990</td>\n",
       "      <td>69.323529</td>\n",
       "      <td>11th Gen Intel Core i5 1135G7</td>\n",
       "      <td>Quad Core, 8 Threads</td>\n",
       "      <td>8GB</td>\n",
       "      <td>DDR4</td>\n",
       "      <td>512GB</td>\n",
       "      <td>SSD</td>\n",
       "      <td>Intel Integrated UHD Graphics</td>\n",
       "      <td>15.6</td>\n",
       "      <td>1920.0</td>\n",
       "      <td>1080.0</td>\n",
       "      <td>Windows 11  OS</td>\n",
       "      <td>1</td>\n",
       "    </tr>\n",
       "    <tr>\n",
       "      <th>484</th>\n",
       "      <td>507</td>\n",
       "      <td>574</td>\n",
       "      <td>Dell</td>\n",
       "      <td>Latitude 13 5320 2 in 1 Laptop</td>\n",
       "      <td>89999</td>\n",
       "      <td>62.000000</td>\n",
       "      <td>11th Gen Intel Core i5 1135G7</td>\n",
       "      <td>Quad Core, 8 Threads</td>\n",
       "      <td>8GB</td>\n",
       "      <td>DDR4</td>\n",
       "      <td>256GB</td>\n",
       "      <td>SSD</td>\n",
       "      <td>Intel UHD Graphics</td>\n",
       "      <td>13.3</td>\n",
       "      <td>1920.0</td>\n",
       "      <td>1080.0</td>\n",
       "      <td>Windows 10  OS</td>\n",
       "      <td>1</td>\n",
       "    </tr>\n",
       "    <tr>\n",
       "      <th>191</th>\n",
       "      <td>197</td>\n",
       "      <td>222</td>\n",
       "      <td>Samsung</td>\n",
       "      <td>Galaxy Book 3 Laptop</td>\n",
       "      <td>69990</td>\n",
       "      <td>69.323529</td>\n",
       "      <td>13th Gen Intel Core i5 1340P</td>\n",
       "      <td>12 Cores (4P + 8E), 16 Threads</td>\n",
       "      <td>8GB</td>\n",
       "      <td>LPDDR5</td>\n",
       "      <td>512GB</td>\n",
       "      <td>SSD</td>\n",
       "      <td>Intel Iris Xe Graphics</td>\n",
       "      <td>14.0</td>\n",
       "      <td>1920.0</td>\n",
       "      <td>1080.0</td>\n",
       "      <td>Windows 11 OS</td>\n",
       "      <td>1</td>\n",
       "    </tr>\n",
       "    <tr>\n",
       "      <th>620</th>\n",
       "      <td>650</td>\n",
       "      <td>732</td>\n",
       "      <td>Asus</td>\n",
       "      <td>Vivobook Pro 15 M6500QC-HN551WS Laptop</td>\n",
       "      <td>66990</td>\n",
       "      <td>63.000000</td>\n",
       "      <td>5th Gen AMD Ryzen 5 5600HS</td>\n",
       "      <td>Hexa Core, 12 Threads</td>\n",
       "      <td>16GB</td>\n",
       "      <td>DDR4</td>\n",
       "      <td>1TB</td>\n",
       "      <td>SSD</td>\n",
       "      <td>4GB NVIDIA GeForce RTX 3050</td>\n",
       "      <td>15.6</td>\n",
       "      <td>1920.0</td>\n",
       "      <td>1080.0</td>\n",
       "      <td>Windows 11 OS</td>\n",
       "      <td>1</td>\n",
       "    </tr>\n",
       "    <tr>\n",
       "      <th>816</th>\n",
       "      <td>854</td>\n",
       "      <td>941</td>\n",
       "      <td>MSI</td>\n",
       "      <td>Bravo 17 C7VEK-035IN Gaming Laptop</td>\n",
       "      <td>95490</td>\n",
       "      <td>77.000000</td>\n",
       "      <td>7th Gen AMD Ryzen 7 7735HS</td>\n",
       "      <td>Octa Core, 16 Threads</td>\n",
       "      <td>16GB</td>\n",
       "      <td>DDR5</td>\n",
       "      <td>1TB</td>\n",
       "      <td>SSD</td>\n",
       "      <td>6GB Nvidia GeForce RTX 4050</td>\n",
       "      <td>17.3</td>\n",
       "      <td>1920.0</td>\n",
       "      <td>1080.0</td>\n",
       "      <td>Windows 11 OS</td>\n",
       "      <td>1</td>\n",
       "    </tr>\n",
       "    <tr>\n",
       "      <th>11</th>\n",
       "      <td>11</td>\n",
       "      <td>11</td>\n",
       "      <td>Ultimus</td>\n",
       "      <td>Pro NU14U3INC43BN-CS Laptop</td>\n",
       "      <td>10990</td>\n",
       "      <td>69.323529</td>\n",
       "      <td>Intel Celeron  N4020</td>\n",
       "      <td>Dual Core, 2 Threads</td>\n",
       "      <td>4GB</td>\n",
       "      <td>DDR4</td>\n",
       "      <td>128GB</td>\n",
       "      <td>SSD</td>\n",
       "      <td>Intel Integrated UHD Graphics</td>\n",
       "      <td>14.1</td>\n",
       "      <td>1366.0</td>\n",
       "      <td>768.0</td>\n",
       "      <td>Windows 11 OS</td>\n",
       "      <td>1</td>\n",
       "    </tr>\n",
       "    <tr>\n",
       "      <th>72</th>\n",
       "      <td>74</td>\n",
       "      <td>77</td>\n",
       "      <td>Asus</td>\n",
       "      <td>TUF Gaming F15 FX506HC-HN362WS Gaming Laptop</td>\n",
       "      <td>61990</td>\n",
       "      <td>72.000000</td>\n",
       "      <td>11th Gen Intel Core i5 11400H</td>\n",
       "      <td>Hexa Core, 12 Threads</td>\n",
       "      <td>16GB</td>\n",
       "      <td>DDR4</td>\n",
       "      <td>512GB</td>\n",
       "      <td>SSD</td>\n",
       "      <td>4GB NVIDIA GeForce RTX 3050</td>\n",
       "      <td>15.6</td>\n",
       "      <td>1920.0</td>\n",
       "      <td>1080.0</td>\n",
       "      <td>Windows 11 OS</td>\n",
       "      <td>1</td>\n",
       "    </tr>\n",
       "  </tbody>\n",
       "</table>\n",
       "</div>"
      ],
      "text/plain": [
       "     Unnamed: 0.1  Unnamed: 0    brand  \\\n",
       "489           513         580     Acer   \n",
       "527           551         630      MSI   \n",
       "76             78          81       HP   \n",
       "26             27          28       HP   \n",
       "726           762         847     Acer   \n",
       "492           516         584     Dell   \n",
       "484           507         574     Dell   \n",
       "191           197         222  Samsung   \n",
       "620           650         732     Asus   \n",
       "816           854         941      MSI   \n",
       "11             11          11  Ultimus   \n",
       "72             74          77     Asus   \n",
       "\n",
       "                                                  name   price  spec_rating  \\\n",
       "489  Predator Triton 500 SE PT516-52s NH.QFQSI.001 ...  146990    86.000000   \n",
       "527                       Summit B15 A11M-236IN Laptop   69990    64.000000   \n",
       "76                      Omen 16-XD0007ax Gaming Laptop  109990    76.000000   \n",
       "26                               255 G9 840T7PA Laptop   19850    69.323529   \n",
       "726               Nitro 16 ‎AN16-41 2023 Gaming Laptop  114990    78.000000   \n",
       "492                            Inspiron 15 3511 Laptop   52990    69.323529   \n",
       "484                     Latitude 13 5320 2 in 1 Laptop   89999    62.000000   \n",
       "191                               Galaxy Book 3 Laptop   69990    69.323529   \n",
       "620             Vivobook Pro 15 M6500QC-HN551WS Laptop   66990    63.000000   \n",
       "816                 Bravo 17 C7VEK-035IN Gaming Laptop   95490    77.000000   \n",
       "11                         Pro NU14U3INC43BN-CS Laptop   10990    69.323529   \n",
       "72        TUF Gaming F15 FX506HC-HN362WS Gaming Laptop   61990    72.000000   \n",
       "\n",
       "                          processor                             CPU   Ram  \\\n",
       "489   12th Gen Intel Core i7 12700H  14 Cores (6P + 8E), 20 Threads  32GB   \n",
       "527   11th Gen Intel Core i7 1185G7            Quad Core, 8 Threads  16GB   \n",
       "76       7th Gen AMD Ryzen 7 7840HS           Octa Core, 16 Threads  16GB   \n",
       "26         3rd Gen AMD Athlon 3050U            Dual Core, 2 Threads   4GB   \n",
       "726      7th Gen AMD Ryzen 7 7840HS           Octa Core, 16 Threads   8GB   \n",
       "492   11th Gen Intel Core i5 1135G7            Quad Core, 8 Threads   8GB   \n",
       "484   11th Gen Intel Core i5 1135G7            Quad Core, 8 Threads   8GB   \n",
       "191    13th Gen Intel Core i5 1340P  12 Cores (4P + 8E), 16 Threads   8GB   \n",
       "620      5th Gen AMD Ryzen 5 5600HS           Hexa Core, 12 Threads  16GB   \n",
       "816      7th Gen AMD Ryzen 7 7735HS           Octa Core, 16 Threads  16GB   \n",
       "11             Intel Celeron  N4020            Dual Core, 2 Threads   4GB   \n",
       "72   11th Gen Intel Core i5 11400H            Hexa Core, 12 Threads  16GB   \n",
       "\n",
       "    Ram_type    ROM ROM_type                             GPU  display_size  \\\n",
       "489   LPDDR5    2TB      SSD  8GB NVIDIA GeForce RTX 3070 Ti          16.0   \n",
       "527     DDR4    1TB      SSD                   Intel Iris Xe          15.6   \n",
       "76      DDR5    1TB      SSD     6GB NVIDIA GeForce RTX 4050          16.1   \n",
       "26      DDR4  256GB      SSD                  AMD Integrated          15.6   \n",
       "726     DDR5  512GB      SSD     8GB NVIDIA GeForce RTX 4060          16.0   \n",
       "492     DDR4  512GB      SSD   Intel Integrated UHD Graphics          15.6   \n",
       "484     DDR4  256GB      SSD              Intel UHD Graphics          13.3   \n",
       "191   LPDDR5  512GB      SSD          Intel Iris Xe Graphics          14.0   \n",
       "620     DDR4    1TB      SSD     4GB NVIDIA GeForce RTX 3050          15.6   \n",
       "816     DDR5    1TB      SSD     6GB Nvidia GeForce RTX 4050          17.3   \n",
       "11      DDR4  128GB      SSD   Intel Integrated UHD Graphics          14.1   \n",
       "72      DDR4  512GB      SSD     4GB NVIDIA GeForce RTX 3050          15.6   \n",
       "\n",
       "     resolution_width  resolution_height              OS  warranty  \n",
       "489            2560.0             1600.0   Windows 11 OS         1  \n",
       "527            1920.0             1080.0   Windows 10 OS         2  \n",
       "76             1920.0             1080.0   Windows 11 OS         1  \n",
       "26             1366.0              768.0          DOS OS         1  \n",
       "726            1920.0             1200.0   Windows 11 OS         1  \n",
       "492            1920.0             1080.0  Windows 11  OS         1  \n",
       "484            1920.0             1080.0  Windows 10  OS         1  \n",
       "191            1920.0             1080.0   Windows 11 OS         1  \n",
       "620            1920.0             1080.0   Windows 11 OS         1  \n",
       "816            1920.0             1080.0   Windows 11 OS         1  \n",
       "11             1366.0              768.0   Windows 11 OS         1  \n",
       "72             1920.0             1080.0   Windows 11 OS         1  "
      ]
     },
     "execution_count": 3,
     "metadata": {},
     "output_type": "execute_result"
    }
   ],
   "source": [
    "# Showing 12 Rows Randomly\n",
    "df.sample(12)"
   ]
  },
  {
   "cell_type": "code",
   "execution_count": 4,
   "id": "93bc4549",
   "metadata": {
    "execution": {
     "iopub.execute_input": "2023-12-18T14:55:06.860095Z",
     "iopub.status.busy": "2023-12-18T14:55:06.859478Z",
     "iopub.status.idle": "2023-12-18T14:55:06.864782Z",
     "shell.execute_reply": "2023-12-18T14:55:06.863970Z"
    },
    "papermill": {
     "duration": 0.019759,
     "end_time": "2023-12-18T14:55:06.866578",
     "exception": false,
     "start_time": "2023-12-18T14:55:06.846819",
     "status": "completed"
    },
    "tags": []
   },
   "outputs": [
    {
     "name": "stdout",
     "output_type": "stream",
     "text": [
      "Number of column :18\n",
      "Number of rows :893\n"
     ]
    }
   ],
   "source": [
    "# Shape of DataSet\n",
    "# df.shape\n",
    "print(f\"Number of column :{df.shape[1]}\\nNumber of rows :{df.shape[0]}\")\n"
   ]
  },
  {
   "cell_type": "code",
   "execution_count": 5,
   "id": "fc10457a",
   "metadata": {
    "execution": {
     "iopub.execute_input": "2023-12-18T14:55:06.891722Z",
     "iopub.status.busy": "2023-12-18T14:55:06.891067Z",
     "iopub.status.idle": "2023-12-18T14:55:06.916161Z",
     "shell.execute_reply": "2023-12-18T14:55:06.914488Z"
    },
    "papermill": {
     "duration": 0.040538,
     "end_time": "2023-12-18T14:55:06.918508",
     "exception": false,
     "start_time": "2023-12-18T14:55:06.877970",
     "status": "completed"
    },
    "tags": []
   },
   "outputs": [
    {
     "name": "stdout",
     "output_type": "stream",
     "text": [
      "<class 'pandas.core.frame.DataFrame'>\n",
      "RangeIndex: 893 entries, 0 to 892\n",
      "Data columns (total 18 columns):\n",
      " #   Column             Non-Null Count  Dtype  \n",
      "---  ------             --------------  -----  \n",
      " 0   Unnamed: 0.1       893 non-null    int64  \n",
      " 1   Unnamed: 0         893 non-null    int64  \n",
      " 2   brand              893 non-null    object \n",
      " 3   name               893 non-null    object \n",
      " 4   price              893 non-null    int64  \n",
      " 5   spec_rating        893 non-null    float64\n",
      " 6   processor          893 non-null    object \n",
      " 7   CPU                893 non-null    object \n",
      " 8   Ram                893 non-null    object \n",
      " 9   Ram_type           893 non-null    object \n",
      " 10  ROM                893 non-null    object \n",
      " 11  ROM_type           893 non-null    object \n",
      " 12  GPU                893 non-null    object \n",
      " 13  display_size       893 non-null    float64\n",
      " 14  resolution_width   893 non-null    float64\n",
      " 15  resolution_height  893 non-null    float64\n",
      " 16  OS                 893 non-null    object \n",
      " 17  warranty           893 non-null    int64  \n",
      "dtypes: float64(4), int64(4), object(10)\n",
      "memory usage: 125.7+ KB\n"
     ]
    }
   ],
   "source": [
    "df.info()"
   ]
  },
  {
   "cell_type": "code",
   "execution_count": 6,
   "id": "9cfca6e7",
   "metadata": {
    "execution": {
     "iopub.execute_input": "2023-12-18T14:55:06.943496Z",
     "iopub.status.busy": "2023-12-18T14:55:06.943110Z",
     "iopub.status.idle": "2023-12-18T14:55:06.951456Z",
     "shell.execute_reply": "2023-12-18T14:55:06.950537Z"
    },
    "papermill": {
     "duration": 0.02318,
     "end_time": "2023-12-18T14:55:06.953527",
     "exception": false,
     "start_time": "2023-12-18T14:55:06.930347",
     "status": "completed"
    },
    "tags": []
   },
   "outputs": [
    {
     "data": {
      "text/plain": [
       "Unnamed: 0.1         0\n",
       "Unnamed: 0           0\n",
       "brand                0\n",
       "name                 0\n",
       "price                0\n",
       "spec_rating          0\n",
       "processor            0\n",
       "CPU                  0\n",
       "Ram                  0\n",
       "Ram_type             0\n",
       "ROM                  0\n",
       "ROM_type             0\n",
       "GPU                  0\n",
       "display_size         0\n",
       "resolution_width     0\n",
       "resolution_height    0\n",
       "OS                   0\n",
       "warranty             0\n",
       "dtype: int64"
      ]
     },
     "execution_count": 6,
     "metadata": {},
     "output_type": "execute_result"
    }
   ],
   "source": [
    "df.isnull().sum()"
   ]
  },
  {
   "cell_type": "code",
   "execution_count": 7,
   "id": "630b785d",
   "metadata": {
    "execution": {
     "iopub.execute_input": "2023-12-18T14:55:06.978922Z",
     "iopub.status.busy": "2023-12-18T14:55:06.978526Z",
     "iopub.status.idle": "2023-12-18T14:55:07.011888Z",
     "shell.execute_reply": "2023-12-18T14:55:07.010801Z"
    },
    "papermill": {
     "duration": 0.048781,
     "end_time": "2023-12-18T14:55:07.014125",
     "exception": false,
     "start_time": "2023-12-18T14:55:06.965344",
     "status": "completed"
    },
    "tags": []
   },
   "outputs": [
    {
     "data": {
      "text/html": [
       "<div>\n",
       "<style scoped>\n",
       "    .dataframe tbody tr th:only-of-type {\n",
       "        vertical-align: middle;\n",
       "    }\n",
       "\n",
       "    .dataframe tbody tr th {\n",
       "        vertical-align: top;\n",
       "    }\n",
       "\n",
       "    .dataframe thead th {\n",
       "        text-align: right;\n",
       "    }\n",
       "</style>\n",
       "<table border=\"1\" class=\"dataframe\">\n",
       "  <thead>\n",
       "    <tr style=\"text-align: right;\">\n",
       "      <th></th>\n",
       "      <th>Unnamed: 0.1</th>\n",
       "      <th>Unnamed: 0</th>\n",
       "      <th>price</th>\n",
       "      <th>spec_rating</th>\n",
       "      <th>display_size</th>\n",
       "      <th>resolution_width</th>\n",
       "      <th>resolution_height</th>\n",
       "      <th>warranty</th>\n",
       "    </tr>\n",
       "  </thead>\n",
       "  <tbody>\n",
       "    <tr>\n",
       "      <th>count</th>\n",
       "      <td>893.000000</td>\n",
       "      <td>893.000000</td>\n",
       "      <td>893.000000</td>\n",
       "      <td>893.000000</td>\n",
       "      <td>893.000000</td>\n",
       "      <td>893.000000</td>\n",
       "      <td>893.000000</td>\n",
       "      <td>893.000000</td>\n",
       "    </tr>\n",
       "    <tr>\n",
       "      <th>mean</th>\n",
       "      <td>467.135498</td>\n",
       "      <td>521.382979</td>\n",
       "      <td>79907.409854</td>\n",
       "      <td>69.379026</td>\n",
       "      <td>15.173751</td>\n",
       "      <td>2035.393057</td>\n",
       "      <td>1218.324748</td>\n",
       "      <td>1.079507</td>\n",
       "    </tr>\n",
       "    <tr>\n",
       "      <th>std</th>\n",
       "      <td>270.209769</td>\n",
       "      <td>299.916605</td>\n",
       "      <td>60880.043823</td>\n",
       "      <td>5.541555</td>\n",
       "      <td>0.939095</td>\n",
       "      <td>426.076009</td>\n",
       "      <td>326.756883</td>\n",
       "      <td>0.326956</td>\n",
       "    </tr>\n",
       "    <tr>\n",
       "      <th>min</th>\n",
       "      <td>0.000000</td>\n",
       "      <td>0.000000</td>\n",
       "      <td>9999.000000</td>\n",
       "      <td>60.000000</td>\n",
       "      <td>11.600000</td>\n",
       "      <td>1080.000000</td>\n",
       "      <td>768.000000</td>\n",
       "      <td>0.000000</td>\n",
       "    </tr>\n",
       "    <tr>\n",
       "      <th>25%</th>\n",
       "      <td>235.000000</td>\n",
       "      <td>265.000000</td>\n",
       "      <td>44500.000000</td>\n",
       "      <td>66.000000</td>\n",
       "      <td>14.000000</td>\n",
       "      <td>1920.000000</td>\n",
       "      <td>1080.000000</td>\n",
       "      <td>1.000000</td>\n",
       "    </tr>\n",
       "    <tr>\n",
       "      <th>50%</th>\n",
       "      <td>467.000000</td>\n",
       "      <td>531.000000</td>\n",
       "      <td>61990.000000</td>\n",
       "      <td>69.323529</td>\n",
       "      <td>15.600000</td>\n",
       "      <td>1920.000000</td>\n",
       "      <td>1080.000000</td>\n",
       "      <td>1.000000</td>\n",
       "    </tr>\n",
       "    <tr>\n",
       "      <th>75%</th>\n",
       "      <td>702.000000</td>\n",
       "      <td>784.000000</td>\n",
       "      <td>90990.000000</td>\n",
       "      <td>71.000000</td>\n",
       "      <td>15.600000</td>\n",
       "      <td>1920.000000</td>\n",
       "      <td>1200.000000</td>\n",
       "      <td>1.000000</td>\n",
       "    </tr>\n",
       "    <tr>\n",
       "      <th>max</th>\n",
       "      <td>930.000000</td>\n",
       "      <td>1019.000000</td>\n",
       "      <td>450039.000000</td>\n",
       "      <td>89.000000</td>\n",
       "      <td>18.000000</td>\n",
       "      <td>3840.000000</td>\n",
       "      <td>3456.000000</td>\n",
       "      <td>3.000000</td>\n",
       "    </tr>\n",
       "  </tbody>\n",
       "</table>\n",
       "</div>"
      ],
      "text/plain": [
       "       Unnamed: 0.1   Unnamed: 0          price  spec_rating  display_size  \\\n",
       "count    893.000000   893.000000     893.000000   893.000000    893.000000   \n",
       "mean     467.135498   521.382979   79907.409854    69.379026     15.173751   \n",
       "std      270.209769   299.916605   60880.043823     5.541555      0.939095   \n",
       "min        0.000000     0.000000    9999.000000    60.000000     11.600000   \n",
       "25%      235.000000   265.000000   44500.000000    66.000000     14.000000   \n",
       "50%      467.000000   531.000000   61990.000000    69.323529     15.600000   \n",
       "75%      702.000000   784.000000   90990.000000    71.000000     15.600000   \n",
       "max      930.000000  1019.000000  450039.000000    89.000000     18.000000   \n",
       "\n",
       "       resolution_width  resolution_height    warranty  \n",
       "count        893.000000         893.000000  893.000000  \n",
       "mean        2035.393057        1218.324748    1.079507  \n",
       "std          426.076009         326.756883    0.326956  \n",
       "min         1080.000000         768.000000    0.000000  \n",
       "25%         1920.000000        1080.000000    1.000000  \n",
       "50%         1920.000000        1080.000000    1.000000  \n",
       "75%         1920.000000        1200.000000    1.000000  \n",
       "max         3840.000000        3456.000000    3.000000  "
      ]
     },
     "execution_count": 7,
     "metadata": {},
     "output_type": "execute_result"
    }
   ],
   "source": [
    "df.describe()"
   ]
  },
  {
   "cell_type": "code",
   "execution_count": 8,
   "id": "1e499aa2",
   "metadata": {
    "execution": {
     "iopub.execute_input": "2023-12-18T14:55:07.040053Z",
     "iopub.status.busy": "2023-12-18T14:55:07.039190Z",
     "iopub.status.idle": "2023-12-18T14:55:07.059371Z",
     "shell.execute_reply": "2023-12-18T14:55:07.058236Z"
    },
    "papermill": {
     "duration": 0.035831,
     "end_time": "2023-12-18T14:55:07.061937",
     "exception": false,
     "start_time": "2023-12-18T14:55:07.026106",
     "status": "completed"
    },
    "tags": []
   },
   "outputs": [
    {
     "data": {
      "text/html": [
       "<div>\n",
       "<style scoped>\n",
       "    .dataframe tbody tr th:only-of-type {\n",
       "        vertical-align: middle;\n",
       "    }\n",
       "\n",
       "    .dataframe tbody tr th {\n",
       "        vertical-align: top;\n",
       "    }\n",
       "\n",
       "    .dataframe thead th {\n",
       "        text-align: right;\n",
       "    }\n",
       "</style>\n",
       "<table border=\"1\" class=\"dataframe\">\n",
       "  <thead>\n",
       "    <tr style=\"text-align: right;\">\n",
       "      <th></th>\n",
       "      <th>count</th>\n",
       "      <th>nulls</th>\n",
       "      <th>nulls%</th>\n",
       "      <th>cardinality</th>\n",
       "    </tr>\n",
       "  </thead>\n",
       "  <tbody>\n",
       "    <tr>\n",
       "      <th>Unnamed: 0.1</th>\n",
       "      <td>893</td>\n",
       "      <td>0</td>\n",
       "      <td>0.0</td>\n",
       "      <td>893</td>\n",
       "    </tr>\n",
       "    <tr>\n",
       "      <th>Unnamed: 0</th>\n",
       "      <td>893</td>\n",
       "      <td>0</td>\n",
       "      <td>0.0</td>\n",
       "      <td>893</td>\n",
       "    </tr>\n",
       "    <tr>\n",
       "      <th>brand</th>\n",
       "      <td>893</td>\n",
       "      <td>0</td>\n",
       "      <td>0.0</td>\n",
       "      <td>30</td>\n",
       "    </tr>\n",
       "    <tr>\n",
       "      <th>name</th>\n",
       "      <td>893</td>\n",
       "      <td>0</td>\n",
       "      <td>0.0</td>\n",
       "      <td>815</td>\n",
       "    </tr>\n",
       "    <tr>\n",
       "      <th>price</th>\n",
       "      <td>893</td>\n",
       "      <td>0</td>\n",
       "      <td>0.0</td>\n",
       "      <td>464</td>\n",
       "    </tr>\n",
       "    <tr>\n",
       "      <th>spec_rating</th>\n",
       "      <td>893</td>\n",
       "      <td>0</td>\n",
       "      <td>0.0</td>\n",
       "      <td>30</td>\n",
       "    </tr>\n",
       "    <tr>\n",
       "      <th>processor</th>\n",
       "      <td>893</td>\n",
       "      <td>0</td>\n",
       "      <td>0.0</td>\n",
       "      <td>184</td>\n",
       "    </tr>\n",
       "    <tr>\n",
       "      <th>CPU</th>\n",
       "      <td>893</td>\n",
       "      <td>0</td>\n",
       "      <td>0.0</td>\n",
       "      <td>29</td>\n",
       "    </tr>\n",
       "    <tr>\n",
       "      <th>Ram</th>\n",
       "      <td>893</td>\n",
       "      <td>0</td>\n",
       "      <td>0.0</td>\n",
       "      <td>7</td>\n",
       "    </tr>\n",
       "    <tr>\n",
       "      <th>Ram_type</th>\n",
       "      <td>893</td>\n",
       "      <td>0</td>\n",
       "      <td>0.0</td>\n",
       "      <td>12</td>\n",
       "    </tr>\n",
       "    <tr>\n",
       "      <th>ROM</th>\n",
       "      <td>893</td>\n",
       "      <td>0</td>\n",
       "      <td>0.0</td>\n",
       "      <td>7</td>\n",
       "    </tr>\n",
       "    <tr>\n",
       "      <th>ROM_type</th>\n",
       "      <td>893</td>\n",
       "      <td>0</td>\n",
       "      <td>0.0</td>\n",
       "      <td>2</td>\n",
       "    </tr>\n",
       "    <tr>\n",
       "      <th>GPU</th>\n",
       "      <td>893</td>\n",
       "      <td>0</td>\n",
       "      <td>0.0</td>\n",
       "      <td>134</td>\n",
       "    </tr>\n",
       "    <tr>\n",
       "      <th>display_size</th>\n",
       "      <td>893</td>\n",
       "      <td>0</td>\n",
       "      <td>0.0</td>\n",
       "      <td>18</td>\n",
       "    </tr>\n",
       "    <tr>\n",
       "      <th>resolution_width</th>\n",
       "      <td>893</td>\n",
       "      <td>0</td>\n",
       "      <td>0.0</td>\n",
       "      <td>18</td>\n",
       "    </tr>\n",
       "    <tr>\n",
       "      <th>resolution_height</th>\n",
       "      <td>893</td>\n",
       "      <td>0</td>\n",
       "      <td>0.0</td>\n",
       "      <td>22</td>\n",
       "    </tr>\n",
       "    <tr>\n",
       "      <th>OS</th>\n",
       "      <td>893</td>\n",
       "      <td>0</td>\n",
       "      <td>0.0</td>\n",
       "      <td>14</td>\n",
       "    </tr>\n",
       "    <tr>\n",
       "      <th>warranty</th>\n",
       "      <td>893</td>\n",
       "      <td>0</td>\n",
       "      <td>0.0</td>\n",
       "      <td>4</td>\n",
       "    </tr>\n",
       "  </tbody>\n",
       "</table>\n",
       "</div>"
      ],
      "text/plain": [
       "                   count  nulls  nulls%  cardinality\n",
       "Unnamed: 0.1         893      0     0.0          893\n",
       "Unnamed: 0           893      0     0.0          893\n",
       "brand                893      0     0.0           30\n",
       "name                 893      0     0.0          815\n",
       "price                893      0     0.0          464\n",
       "spec_rating          893      0     0.0           30\n",
       "processor            893      0     0.0          184\n",
       "CPU                  893      0     0.0           29\n",
       "Ram                  893      0     0.0            7\n",
       "Ram_type             893      0     0.0           12\n",
       "ROM                  893      0     0.0            7\n",
       "ROM_type             893      0     0.0            2\n",
       "GPU                  893      0     0.0          134\n",
       "display_size         893      0     0.0           18\n",
       "resolution_width     893      0     0.0           18\n",
       "resolution_height    893      0     0.0           22\n",
       "OS                   893      0     0.0           14\n",
       "warranty             893      0     0.0            4"
      ]
     },
     "execution_count": 8,
     "metadata": {},
     "output_type": "execute_result"
    }
   ],
   "source": [
    "pd.DataFrame({'count': df.shape[0], \n",
    "              'nulls': df.isnull().sum(), \n",
    "              'nulls%': df.isnull().mean() * 100, \n",
    "              'cardinality': df.nunique(),\n",
    "             })"
   ]
  },
  {
   "cell_type": "markdown",
   "id": "6ea8e31a",
   "metadata": {
    "papermill": {
     "duration": 0.012174,
     "end_time": "2023-12-18T14:55:07.086629",
     "exception": false,
     "start_time": "2023-12-18T14:55:07.074455",
     "status": "completed"
    },
    "tags": []
   },
   "source": [
    "<div style=\"background-color: #0f0f0f; padding: 20px; border-radius: 10px; box-shadow: 5px 5px 10px #888888;\">\n",
    "<h1 style=\"color: white; font-size: 30px; font-weight: bold; text-align: center; text-shadow: 2px 2px 4px #000000;\"> Delete unnecessary columns</h1>\n",
    "</div>"
   ]
  },
  {
   "cell_type": "code",
   "execution_count": 9,
   "id": "6765d55c",
   "metadata": {
    "execution": {
     "iopub.execute_input": "2023-12-18T14:55:07.169494Z",
     "iopub.status.busy": "2023-12-18T14:55:07.169131Z",
     "iopub.status.idle": "2023-12-18T14:55:07.176809Z",
     "shell.execute_reply": "2023-12-18T14:55:07.176054Z"
    },
    "papermill": {
     "duration": 0.079385,
     "end_time": "2023-12-18T14:55:07.178744",
     "exception": false,
     "start_time": "2023-12-18T14:55:07.099359",
     "status": "completed"
    },
    "tags": []
   },
   "outputs": [],
   "source": [
    "df.drop(columns=['Unnamed: 0.1','Unnamed: 0'],inplace=True)"
   ]
  },
  {
   "cell_type": "code",
   "execution_count": 10,
   "id": "9dcdc959",
   "metadata": {
    "execution": {
     "iopub.execute_input": "2023-12-18T14:55:07.205192Z",
     "iopub.status.busy": "2023-12-18T14:55:07.204794Z",
     "iopub.status.idle": "2023-12-18T14:55:07.209868Z",
     "shell.execute_reply": "2023-12-18T14:55:07.208875Z"
    },
    "papermill": {
     "duration": 0.020985,
     "end_time": "2023-12-18T14:55:07.212145",
     "exception": false,
     "start_time": "2023-12-18T14:55:07.191160",
     "status": "completed"
    },
    "tags": []
   },
   "outputs": [
    {
     "name": "stdout",
     "output_type": "stream",
     "text": [
      "Number of column :16\n",
      "Number of rows :893\n"
     ]
    }
   ],
   "source": [
    "# Shape After Clean\n",
    "print(f\"Number of column :{df.shape[1]}\\nNumber of rows :{df.shape[0]}\")"
   ]
  },
  {
   "cell_type": "code",
   "execution_count": 11,
   "id": "dfb73296",
   "metadata": {
    "execution": {
     "iopub.execute_input": "2023-12-18T14:55:07.238831Z",
     "iopub.status.busy": "2023-12-18T14:55:07.238474Z",
     "iopub.status.idle": "2023-12-18T14:55:07.263525Z",
     "shell.execute_reply": "2023-12-18T14:55:07.262501Z"
    },
    "papermill": {
     "duration": 0.041087,
     "end_time": "2023-12-18T14:55:07.265731",
     "exception": false,
     "start_time": "2023-12-18T14:55:07.224644",
     "status": "completed"
    },
    "tags": []
   },
   "outputs": [
    {
     "data": {
      "text/html": [
       "<div>\n",
       "<style scoped>\n",
       "    .dataframe tbody tr th:only-of-type {\n",
       "        vertical-align: middle;\n",
       "    }\n",
       "\n",
       "    .dataframe tbody tr th {\n",
       "        vertical-align: top;\n",
       "    }\n",
       "\n",
       "    .dataframe thead th {\n",
       "        text-align: right;\n",
       "    }\n",
       "</style>\n",
       "<table border=\"1\" class=\"dataframe\">\n",
       "  <thead>\n",
       "    <tr style=\"text-align: right;\">\n",
       "      <th></th>\n",
       "      <th>price</th>\n",
       "      <th>spec_rating</th>\n",
       "      <th>display_size</th>\n",
       "      <th>resolution_width</th>\n",
       "      <th>resolution_height</th>\n",
       "      <th>warranty</th>\n",
       "    </tr>\n",
       "  </thead>\n",
       "  <tbody>\n",
       "    <tr>\n",
       "      <th>count</th>\n",
       "      <td>893.000000</td>\n",
       "      <td>893.000000</td>\n",
       "      <td>893.000000</td>\n",
       "      <td>893.000000</td>\n",
       "      <td>893.000000</td>\n",
       "      <td>893.000000</td>\n",
       "    </tr>\n",
       "    <tr>\n",
       "      <th>mean</th>\n",
       "      <td>79907.409854</td>\n",
       "      <td>69.379026</td>\n",
       "      <td>15.173751</td>\n",
       "      <td>2035.393057</td>\n",
       "      <td>1218.324748</td>\n",
       "      <td>1.079507</td>\n",
       "    </tr>\n",
       "    <tr>\n",
       "      <th>std</th>\n",
       "      <td>60880.043823</td>\n",
       "      <td>5.541555</td>\n",
       "      <td>0.939095</td>\n",
       "      <td>426.076009</td>\n",
       "      <td>326.756883</td>\n",
       "      <td>0.326956</td>\n",
       "    </tr>\n",
       "    <tr>\n",
       "      <th>min</th>\n",
       "      <td>9999.000000</td>\n",
       "      <td>60.000000</td>\n",
       "      <td>11.600000</td>\n",
       "      <td>1080.000000</td>\n",
       "      <td>768.000000</td>\n",
       "      <td>0.000000</td>\n",
       "    </tr>\n",
       "    <tr>\n",
       "      <th>25%</th>\n",
       "      <td>44500.000000</td>\n",
       "      <td>66.000000</td>\n",
       "      <td>14.000000</td>\n",
       "      <td>1920.000000</td>\n",
       "      <td>1080.000000</td>\n",
       "      <td>1.000000</td>\n",
       "    </tr>\n",
       "    <tr>\n",
       "      <th>50%</th>\n",
       "      <td>61990.000000</td>\n",
       "      <td>69.323529</td>\n",
       "      <td>15.600000</td>\n",
       "      <td>1920.000000</td>\n",
       "      <td>1080.000000</td>\n",
       "      <td>1.000000</td>\n",
       "    </tr>\n",
       "    <tr>\n",
       "      <th>75%</th>\n",
       "      <td>90990.000000</td>\n",
       "      <td>71.000000</td>\n",
       "      <td>15.600000</td>\n",
       "      <td>1920.000000</td>\n",
       "      <td>1200.000000</td>\n",
       "      <td>1.000000</td>\n",
       "    </tr>\n",
       "    <tr>\n",
       "      <th>max</th>\n",
       "      <td>450039.000000</td>\n",
       "      <td>89.000000</td>\n",
       "      <td>18.000000</td>\n",
       "      <td>3840.000000</td>\n",
       "      <td>3456.000000</td>\n",
       "      <td>3.000000</td>\n",
       "    </tr>\n",
       "  </tbody>\n",
       "</table>\n",
       "</div>"
      ],
      "text/plain": [
       "               price  spec_rating  display_size  resolution_width  \\\n",
       "count     893.000000   893.000000    893.000000        893.000000   \n",
       "mean    79907.409854    69.379026     15.173751       2035.393057   \n",
       "std     60880.043823     5.541555      0.939095        426.076009   \n",
       "min      9999.000000    60.000000     11.600000       1080.000000   \n",
       "25%     44500.000000    66.000000     14.000000       1920.000000   \n",
       "50%     61990.000000    69.323529     15.600000       1920.000000   \n",
       "75%     90990.000000    71.000000     15.600000       1920.000000   \n",
       "max    450039.000000    89.000000     18.000000       3840.000000   \n",
       "\n",
       "       resolution_height    warranty  \n",
       "count         893.000000  893.000000  \n",
       "mean         1218.324748    1.079507  \n",
       "std           326.756883    0.326956  \n",
       "min           768.000000    0.000000  \n",
       "25%          1080.000000    1.000000  \n",
       "50%          1080.000000    1.000000  \n",
       "75%          1200.000000    1.000000  \n",
       "max          3456.000000    3.000000  "
      ]
     },
     "execution_count": 11,
     "metadata": {},
     "output_type": "execute_result"
    }
   ],
   "source": [
    "df.describe()"
   ]
  },
  {
   "cell_type": "code",
   "execution_count": 12,
   "id": "b4886114",
   "metadata": {
    "execution": {
     "iopub.execute_input": "2023-12-18T14:55:07.292845Z",
     "iopub.status.busy": "2023-12-18T14:55:07.292449Z",
     "iopub.status.idle": "2023-12-18T14:55:07.303971Z",
     "shell.execute_reply": "2023-12-18T14:55:07.302997Z"
    },
    "papermill": {
     "duration": 0.027704,
     "end_time": "2023-12-18T14:55:07.306164",
     "exception": false,
     "start_time": "2023-12-18T14:55:07.278460",
     "status": "completed"
    },
    "tags": []
   },
   "outputs": [
    {
     "data": {
      "text/plain": [
       "brand                0\n",
       "name                 0\n",
       "price                0\n",
       "spec_rating          0\n",
       "processor            0\n",
       "CPU                  0\n",
       "Ram                  0\n",
       "Ram_type             0\n",
       "ROM                  0\n",
       "ROM_type             0\n",
       "GPU                  0\n",
       "display_size         0\n",
       "resolution_width     0\n",
       "resolution_height    0\n",
       "OS                   0\n",
       "warranty             0\n",
       "dtype: int64"
      ]
     },
     "execution_count": 12,
     "metadata": {},
     "output_type": "execute_result"
    }
   ],
   "source": [
    "# Drop rows with missing values\n",
    "df = df.dropna()\n",
    "df.isnull().sum()"
   ]
  },
  {
   "cell_type": "markdown",
   "id": "9317f16a",
   "metadata": {
    "papermill": {
     "duration": 0.012385,
     "end_time": "2023-12-18T14:55:07.331556",
     "exception": false,
     "start_time": "2023-12-18T14:55:07.319171",
     "status": "completed"
    },
    "tags": []
   },
   "source": [
    "# STARTING VISUALIZATIONS "
   ]
  },
  {
   "cell_type": "markdown",
   "id": "e62eaca0",
   "metadata": {
    "papermill": {
     "duration": 0.012904,
     "end_time": "2023-12-18T14:55:07.357494",
     "exception": false,
     "start_time": "2023-12-18T14:55:07.344590",
     "status": "completed"
    },
    "tags": []
   },
   "source": [
    "<div style=\"background-color: #0f0f0f; padding: 20px; border-radius: 10px; box-shadow: 5px 5px 10px #888888;\">\n",
    "<h1 style=\"color: white; font-size: 30px; font-weight: bold; text-align: center; text-shadow: 2px 2px 4px #000000;\">How many brands we have </h1>\n",
    "</div>"
   ]
  },
  {
   "cell_type": "code",
   "execution_count": 13,
   "id": "8af242fd",
   "metadata": {
    "execution": {
     "iopub.execute_input": "2023-12-18T14:55:07.385307Z",
     "iopub.status.busy": "2023-12-18T14:55:07.384479Z",
     "iopub.status.idle": "2023-12-18T14:55:07.391761Z",
     "shell.execute_reply": "2023-12-18T14:55:07.391085Z"
    },
    "papermill": {
     "duration": 0.023591,
     "end_time": "2023-12-18T14:55:07.393953",
     "exception": false,
     "start_time": "2023-12-18T14:55:07.370362",
     "status": "completed"
    },
    "tags": []
   },
   "outputs": [
    {
     "data": {
      "text/plain": [
       "brand\n",
       "HP           186\n",
       "Lenovo       169\n",
       "Asus         157\n",
       "Dell         107\n",
       "Acer          84\n",
       "MSI           65\n",
       "Samsung       28\n",
       "Apple         16\n",
       "Infinix       15\n",
       "LG             9\n",
       "Xiaomi         8\n",
       "Gigabyte       8\n",
       "Fujitsu        6\n",
       "Zebronics      4\n",
       "Ultimus        4\n",
       "Tecno          3\n",
       "Wings          3\n",
       "Chuwi          3\n",
       "Realme         3\n",
       "Microsoft      2\n",
       "AXL            2\n",
       "Huawei         2\n",
       "Honor          2\n",
       "Walker         1\n",
       "Vaio           1\n",
       "Avita          1\n",
       "Primebook      1\n",
       "Ninkear        1\n",
       "Razer          1\n",
       "iBall          1\n",
       "Name: count, dtype: int64"
      ]
     },
     "execution_count": 13,
     "metadata": {},
     "output_type": "execute_result"
    }
   ],
   "source": [
    "counts_of_brands = df[\"brand\"].value_counts()\n",
    "counts_of_brands"
   ]
  },
  {
   "cell_type": "code",
   "execution_count": 14,
   "id": "b480b431",
   "metadata": {
    "execution": {
     "iopub.execute_input": "2023-12-18T14:55:07.421803Z",
     "iopub.status.busy": "2023-12-18T14:55:07.420998Z",
     "iopub.status.idle": "2023-12-18T14:55:07.427181Z",
     "shell.execute_reply": "2023-12-18T14:55:07.426103Z"
    },
    "papermill": {
     "duration": 0.022416,
     "end_time": "2023-12-18T14:55:07.429237",
     "exception": false,
     "start_time": "2023-12-18T14:55:07.406821",
     "status": "completed"
    },
    "tags": []
   },
   "outputs": [
    {
     "name": "stdout",
     "output_type": "stream",
     "text": [
      "The highest popular brand in the market is 'HP'\n"
     ]
    }
   ],
   "source": [
    "print(f\"The highest popular brand in the market is '{counts_of_brands.idxmax()}'\")"
   ]
  },
  {
   "cell_type": "code",
   "execution_count": 15,
   "id": "0521c96e",
   "metadata": {
    "execution": {
     "iopub.execute_input": "2023-12-18T14:55:07.457876Z",
     "iopub.status.busy": "2023-12-18T14:55:07.456888Z",
     "iopub.status.idle": "2023-12-18T14:55:09.423215Z",
     "shell.execute_reply": "2023-12-18T14:55:09.422175Z"
    },
    "papermill": {
     "duration": 1.983118,
     "end_time": "2023-12-18T14:55:09.425391",
     "exception": false,
     "start_time": "2023-12-18T14:55:07.442273",
     "status": "completed"
    },
    "tags": []
   },
   "outputs": [
    {
     "data": {
      "text/html": [
       "        <script type=\"text/javascript\">\n",
       "        window.PlotlyConfig = {MathJaxConfig: 'local'};\n",
       "        if (window.MathJax && window.MathJax.Hub && window.MathJax.Hub.Config) {window.MathJax.Hub.Config({SVG: {font: \"STIX-Web\"}});}\n",
       "        if (typeof require !== 'undefined') {\n",
       "        require.undef(\"plotly\");\n",
       "        requirejs.config({\n",
       "            paths: {\n",
       "                'plotly': ['https://cdn.plot.ly/plotly-2.25.2.min']\n",
       "            }\n",
       "        });\n",
       "        require(['plotly'], function(Plotly) {\n",
       "            window._Plotly = Plotly;\n",
       "        });\n",
       "        }\n",
       "        </script>\n",
       "        "
      ]
     },
     "metadata": {},
     "output_type": "display_data"
    },
    {
     "data": {
      "text/html": [
       "<div>                            <div id=\"32fd0ecb-ab28-4782-8bca-60c39eb7a16a\" class=\"plotly-graph-div\" style=\"height:525px; width:100%;\"></div>            <script type=\"text/javascript\">                require([\"plotly\"], function(Plotly) {                    window.PLOTLYENV=window.PLOTLYENV || {};                                    if (document.getElementById(\"32fd0ecb-ab28-4782-8bca-60c39eb7a16a\")) {                    Plotly.newPlot(                        \"32fd0ecb-ab28-4782-8bca-60c39eb7a16a\",                        [{\"alignmentgroup\":\"True\",\"hovertemplate\":\"brand=%{x}\\u003cbr\\u003esum=%{y}\\u003cextra\\u003e\\u003c\\u002fextra\\u003e\",\"legendgroup\":\"HP\",\"marker\":{\"color\":\"#8c0404\",\"pattern\":{\"shape\":\"\"}},\"name\":\"HP\",\"offsetgroup\":\"HP\",\"orientation\":\"v\",\"showlegend\":true,\"textposition\":\"auto\",\"texttemplate\":\"%{y}\",\"x\":[\"HP\"],\"xaxis\":\"x\",\"y\":[186],\"yaxis\":\"y\",\"type\":\"bar\"},{\"alignmentgroup\":\"True\",\"hovertemplate\":\"brand=%{x}\\u003cbr\\u003esum=%{y}\\u003cextra\\u003e\\u003c\\u002fextra\\u003e\",\"legendgroup\":\"Lenovo\",\"marker\":{\"color\":\"#f25ed0\",\"pattern\":{\"shape\":\"\"}},\"name\":\"Lenovo\",\"offsetgroup\":\"Lenovo\",\"orientation\":\"v\",\"showlegend\":true,\"textposition\":\"auto\",\"texttemplate\":\"%{y}\",\"x\":[\"Lenovo\"],\"xaxis\":\"x\",\"y\":[169],\"yaxis\":\"y\",\"type\":\"bar\"},{\"alignmentgroup\":\"True\",\"hovertemplate\":\"brand=%{x}\\u003cbr\\u003esum=%{y}\\u003cextra\\u003e\\u003c\\u002fextra\\u003e\",\"legendgroup\":\"Asus\",\"marker\":{\"color\":\"#000000\",\"pattern\":{\"shape\":\"\"}},\"name\":\"Asus\",\"offsetgroup\":\"Asus\",\"orientation\":\"v\",\"showlegend\":true,\"textposition\":\"auto\",\"texttemplate\":\"%{y}\",\"x\":[\"Asus\"],\"xaxis\":\"x\",\"y\":[157],\"yaxis\":\"y\",\"type\":\"bar\"},{\"alignmentgroup\":\"True\",\"hovertemplate\":\"brand=%{x}\\u003cbr\\u003esum=%{y}\\u003cextra\\u003e\\u003c\\u002fextra\\u003e\",\"legendgroup\":\"Dell\",\"marker\":{\"color\":\"#16A085\",\"pattern\":{\"shape\":\"\"}},\"name\":\"Dell\",\"offsetgroup\":\"Dell\",\"orientation\":\"v\",\"showlegend\":true,\"textposition\":\"auto\",\"texttemplate\":\"%{y}\",\"x\":[\"Dell\"],\"xaxis\":\"x\",\"y\":[107],\"yaxis\":\"y\",\"type\":\"bar\"},{\"alignmentgroup\":\"True\",\"hovertemplate\":\"brand=%{x}\\u003cbr\\u003esum=%{y}\\u003cextra\\u003e\\u003c\\u002fextra\\u003e\",\"legendgroup\":\"Acer\",\"marker\":{\"color\":\"#34495E\",\"pattern\":{\"shape\":\"\"}},\"name\":\"Acer\",\"offsetgroup\":\"Acer\",\"orientation\":\"v\",\"showlegend\":true,\"textposition\":\"auto\",\"texttemplate\":\"%{y}\",\"x\":[\"Acer\"],\"xaxis\":\"x\",\"y\":[84],\"yaxis\":\"y\",\"type\":\"bar\"},{\"alignmentgroup\":\"True\",\"hovertemplate\":\"brand=%{x}\\u003cbr\\u003esum=%{y}\\u003cextra\\u003e\\u003c\\u002fextra\\u003e\",\"legendgroup\":\"MSI\",\"marker\":{\"color\":\"#21618C \",\"pattern\":{\"shape\":\"\"}},\"name\":\"MSI\",\"offsetgroup\":\"MSI\",\"orientation\":\"v\",\"showlegend\":true,\"textposition\":\"auto\",\"texttemplate\":\"%{y}\",\"x\":[\"MSI\"],\"xaxis\":\"x\",\"y\":[65],\"yaxis\":\"y\",\"type\":\"bar\"},{\"alignmentgroup\":\"True\",\"hovertemplate\":\"brand=%{x}\\u003cbr\\u003esum=%{y}\\u003cextra\\u003e\\u003c\\u002fextra\\u003e\",\"legendgroup\":\"Samsung\",\"marker\":{\"color\":\"#512E5F\",\"pattern\":{\"shape\":\"\"}},\"name\":\"Samsung\",\"offsetgroup\":\"Samsung\",\"orientation\":\"v\",\"showlegend\":true,\"textposition\":\"auto\",\"texttemplate\":\"%{y}\",\"x\":[\"Samsung\"],\"xaxis\":\"x\",\"y\":[28],\"yaxis\":\"y\",\"type\":\"bar\"},{\"alignmentgroup\":\"True\",\"hovertemplate\":\"brand=%{x}\\u003cbr\\u003esum=%{y}\\u003cextra\\u003e\\u003c\\u002fextra\\u003e\",\"legendgroup\":\"Apple\",\"marker\":{\"color\":\"#45B39D\",\"pattern\":{\"shape\":\"\"}},\"name\":\"Apple\",\"offsetgroup\":\"Apple\",\"orientation\":\"v\",\"showlegend\":true,\"textposition\":\"auto\",\"texttemplate\":\"%{y}\",\"x\":[\"Apple\"],\"xaxis\":\"x\",\"y\":[16],\"yaxis\":\"y\",\"type\":\"bar\"},{\"alignmentgroup\":\"True\",\"hovertemplate\":\"brand=%{x}\\u003cbr\\u003esum=%{y}\\u003cextra\\u003e\\u003c\\u002fextra\\u003e\",\"legendgroup\":\"Infinix\",\"marker\":{\"color\":\"#AAB7B8 \",\"pattern\":{\"shape\":\"\"}},\"name\":\"Infinix\",\"offsetgroup\":\"Infinix\",\"orientation\":\"v\",\"showlegend\":true,\"textposition\":\"auto\",\"texttemplate\":\"%{y}\",\"x\":[\"Infinix\"],\"xaxis\":\"x\",\"y\":[15],\"yaxis\":\"y\",\"type\":\"bar\"},{\"alignmentgroup\":\"True\",\"hovertemplate\":\"brand=%{x}\\u003cbr\\u003esum=%{y}\\u003cextra\\u003e\\u003c\\u002fextra\\u003e\",\"legendgroup\":\"LG\",\"marker\":{\"color\":\"#20B2AA\",\"pattern\":{\"shape\":\"\"}},\"name\":\"LG\",\"offsetgroup\":\"LG\",\"orientation\":\"v\",\"showlegend\":true,\"textposition\":\"auto\",\"texttemplate\":\"%{y}\",\"x\":[\"LG\"],\"xaxis\":\"x\",\"y\":[9],\"yaxis\":\"y\",\"type\":\"bar\"},{\"alignmentgroup\":\"True\",\"hovertemplate\":\"brand=%{x}\\u003cbr\\u003esum=%{y}\\u003cextra\\u003e\\u003c\\u002fextra\\u003e\",\"legendgroup\":\"Xiaomi\",\"marker\":{\"color\":\"#FF69B4\",\"pattern\":{\"shape\":\"\"}},\"name\":\"Xiaomi\",\"offsetgroup\":\"Xiaomi\",\"orientation\":\"v\",\"showlegend\":true,\"textposition\":\"auto\",\"texttemplate\":\"%{y}\",\"x\":[\"Xiaomi\"],\"xaxis\":\"x\",\"y\":[8],\"yaxis\":\"y\",\"type\":\"bar\"},{\"alignmentgroup\":\"True\",\"hovertemplate\":\"brand=%{x}\\u003cbr\\u003esum=%{y}\\u003cextra\\u003e\\u003c\\u002fextra\\u003e\",\"legendgroup\":\"Gigabyte\",\"marker\":{\"color\":\"#00CED1\",\"pattern\":{\"shape\":\"\"}},\"name\":\"Gigabyte\",\"offsetgroup\":\"Gigabyte\",\"orientation\":\"v\",\"showlegend\":true,\"textposition\":\"auto\",\"texttemplate\":\"%{y}\",\"x\":[\"Gigabyte\"],\"xaxis\":\"x\",\"y\":[8],\"yaxis\":\"y\",\"type\":\"bar\"},{\"alignmentgroup\":\"True\",\"hovertemplate\":\"brand=%{x}\\u003cbr\\u003esum=%{y}\\u003cextra\\u003e\\u003c\\u002fextra\\u003e\",\"legendgroup\":\"Fujitsu\",\"marker\":{\"color\":\"#FF7F50\",\"pattern\":{\"shape\":\"\"}},\"name\":\"Fujitsu\",\"offsetgroup\":\"Fujitsu\",\"orientation\":\"v\",\"showlegend\":true,\"textposition\":\"auto\",\"texttemplate\":\"%{y}\",\"x\":[\"Fujitsu\"],\"xaxis\":\"x\",\"y\":[6],\"yaxis\":\"y\",\"type\":\"bar\"},{\"alignmentgroup\":\"True\",\"hovertemplate\":\"brand=%{x}\\u003cbr\\u003esum=%{y}\\u003cextra\\u003e\\u003c\\u002fextra\\u003e\",\"legendgroup\":\"Zebronics\",\"marker\":{\"color\":\"#7FFF00\",\"pattern\":{\"shape\":\"\"}},\"name\":\"Zebronics\",\"offsetgroup\":\"Zebronics\",\"orientation\":\"v\",\"showlegend\":true,\"textposition\":\"auto\",\"texttemplate\":\"%{y}\",\"x\":[\"Zebronics\"],\"xaxis\":\"x\",\"y\":[4],\"yaxis\":\"y\",\"type\":\"bar\"},{\"alignmentgroup\":\"True\",\"hovertemplate\":\"brand=%{x}\\u003cbr\\u003esum=%{y}\\u003cextra\\u003e\\u003c\\u002fextra\\u003e\",\"legendgroup\":\"Ultimus\",\"marker\":{\"color\":\"#DA70D6\",\"pattern\":{\"shape\":\"\"}},\"name\":\"Ultimus\",\"offsetgroup\":\"Ultimus\",\"orientation\":\"v\",\"showlegend\":true,\"textposition\":\"auto\",\"texttemplate\":\"%{y}\",\"x\":[\"Ultimus\"],\"xaxis\":\"x\",\"y\":[4],\"yaxis\":\"y\",\"type\":\"bar\"},{\"alignmentgroup\":\"True\",\"hovertemplate\":\"brand=%{x}\\u003cbr\\u003esum=%{y}\\u003cextra\\u003e\\u003c\\u002fextra\\u003e\",\"legendgroup\":\"Tecno\",\"marker\":{\"color\":\"#8c0404\",\"pattern\":{\"shape\":\"\"}},\"name\":\"Tecno\",\"offsetgroup\":\"Tecno\",\"orientation\":\"v\",\"showlegend\":true,\"textposition\":\"auto\",\"texttemplate\":\"%{y}\",\"x\":[\"Tecno\"],\"xaxis\":\"x\",\"y\":[3],\"yaxis\":\"y\",\"type\":\"bar\"},{\"alignmentgroup\":\"True\",\"hovertemplate\":\"brand=%{x}\\u003cbr\\u003esum=%{y}\\u003cextra\\u003e\\u003c\\u002fextra\\u003e\",\"legendgroup\":\"Wings\",\"marker\":{\"color\":\"#f25ed0\",\"pattern\":{\"shape\":\"\"}},\"name\":\"Wings\",\"offsetgroup\":\"Wings\",\"orientation\":\"v\",\"showlegend\":true,\"textposition\":\"auto\",\"texttemplate\":\"%{y}\",\"x\":[\"Wings\"],\"xaxis\":\"x\",\"y\":[3],\"yaxis\":\"y\",\"type\":\"bar\"},{\"alignmentgroup\":\"True\",\"hovertemplate\":\"brand=%{x}\\u003cbr\\u003esum=%{y}\\u003cextra\\u003e\\u003c\\u002fextra\\u003e\",\"legendgroup\":\"Chuwi\",\"marker\":{\"color\":\"#000000\",\"pattern\":{\"shape\":\"\"}},\"name\":\"Chuwi\",\"offsetgroup\":\"Chuwi\",\"orientation\":\"v\",\"showlegend\":true,\"textposition\":\"auto\",\"texttemplate\":\"%{y}\",\"x\":[\"Chuwi\"],\"xaxis\":\"x\",\"y\":[3],\"yaxis\":\"y\",\"type\":\"bar\"},{\"alignmentgroup\":\"True\",\"hovertemplate\":\"brand=%{x}\\u003cbr\\u003esum=%{y}\\u003cextra\\u003e\\u003c\\u002fextra\\u003e\",\"legendgroup\":\"Realme\",\"marker\":{\"color\":\"#16A085\",\"pattern\":{\"shape\":\"\"}},\"name\":\"Realme\",\"offsetgroup\":\"Realme\",\"orientation\":\"v\",\"showlegend\":true,\"textposition\":\"auto\",\"texttemplate\":\"%{y}\",\"x\":[\"Realme\"],\"xaxis\":\"x\",\"y\":[3],\"yaxis\":\"y\",\"type\":\"bar\"},{\"alignmentgroup\":\"True\",\"hovertemplate\":\"brand=%{x}\\u003cbr\\u003esum=%{y}\\u003cextra\\u003e\\u003c\\u002fextra\\u003e\",\"legendgroup\":\"Microsoft\",\"marker\":{\"color\":\"#34495E\",\"pattern\":{\"shape\":\"\"}},\"name\":\"Microsoft\",\"offsetgroup\":\"Microsoft\",\"orientation\":\"v\",\"showlegend\":true,\"textposition\":\"auto\",\"texttemplate\":\"%{y}\",\"x\":[\"Microsoft\"],\"xaxis\":\"x\",\"y\":[2],\"yaxis\":\"y\",\"type\":\"bar\"},{\"alignmentgroup\":\"True\",\"hovertemplate\":\"brand=%{x}\\u003cbr\\u003esum=%{y}\\u003cextra\\u003e\\u003c\\u002fextra\\u003e\",\"legendgroup\":\"AXL\",\"marker\":{\"color\":\"#21618C \",\"pattern\":{\"shape\":\"\"}},\"name\":\"AXL\",\"offsetgroup\":\"AXL\",\"orientation\":\"v\",\"showlegend\":true,\"textposition\":\"auto\",\"texttemplate\":\"%{y}\",\"x\":[\"AXL\"],\"xaxis\":\"x\",\"y\":[2],\"yaxis\":\"y\",\"type\":\"bar\"},{\"alignmentgroup\":\"True\",\"hovertemplate\":\"brand=%{x}\\u003cbr\\u003esum=%{y}\\u003cextra\\u003e\\u003c\\u002fextra\\u003e\",\"legendgroup\":\"Huawei\",\"marker\":{\"color\":\"#512E5F\",\"pattern\":{\"shape\":\"\"}},\"name\":\"Huawei\",\"offsetgroup\":\"Huawei\",\"orientation\":\"v\",\"showlegend\":true,\"textposition\":\"auto\",\"texttemplate\":\"%{y}\",\"x\":[\"Huawei\"],\"xaxis\":\"x\",\"y\":[2],\"yaxis\":\"y\",\"type\":\"bar\"},{\"alignmentgroup\":\"True\",\"hovertemplate\":\"brand=%{x}\\u003cbr\\u003esum=%{y}\\u003cextra\\u003e\\u003c\\u002fextra\\u003e\",\"legendgroup\":\"Honor\",\"marker\":{\"color\":\"#45B39D\",\"pattern\":{\"shape\":\"\"}},\"name\":\"Honor\",\"offsetgroup\":\"Honor\",\"orientation\":\"v\",\"showlegend\":true,\"textposition\":\"auto\",\"texttemplate\":\"%{y}\",\"x\":[\"Honor\"],\"xaxis\":\"x\",\"y\":[2],\"yaxis\":\"y\",\"type\":\"bar\"},{\"alignmentgroup\":\"True\",\"hovertemplate\":\"brand=%{x}\\u003cbr\\u003esum=%{y}\\u003cextra\\u003e\\u003c\\u002fextra\\u003e\",\"legendgroup\":\"Walker\",\"marker\":{\"color\":\"#AAB7B8 \",\"pattern\":{\"shape\":\"\"}},\"name\":\"Walker\",\"offsetgroup\":\"Walker\",\"orientation\":\"v\",\"showlegend\":true,\"textposition\":\"auto\",\"texttemplate\":\"%{y}\",\"x\":[\"Walker\"],\"xaxis\":\"x\",\"y\":[1],\"yaxis\":\"y\",\"type\":\"bar\"},{\"alignmentgroup\":\"True\",\"hovertemplate\":\"brand=%{x}\\u003cbr\\u003esum=%{y}\\u003cextra\\u003e\\u003c\\u002fextra\\u003e\",\"legendgroup\":\"Vaio\",\"marker\":{\"color\":\"#20B2AA\",\"pattern\":{\"shape\":\"\"}},\"name\":\"Vaio\",\"offsetgroup\":\"Vaio\",\"orientation\":\"v\",\"showlegend\":true,\"textposition\":\"auto\",\"texttemplate\":\"%{y}\",\"x\":[\"Vaio\"],\"xaxis\":\"x\",\"y\":[1],\"yaxis\":\"y\",\"type\":\"bar\"},{\"alignmentgroup\":\"True\",\"hovertemplate\":\"brand=%{x}\\u003cbr\\u003esum=%{y}\\u003cextra\\u003e\\u003c\\u002fextra\\u003e\",\"legendgroup\":\"Avita\",\"marker\":{\"color\":\"#FF69B4\",\"pattern\":{\"shape\":\"\"}},\"name\":\"Avita\",\"offsetgroup\":\"Avita\",\"orientation\":\"v\",\"showlegend\":true,\"textposition\":\"auto\",\"texttemplate\":\"%{y}\",\"x\":[\"Avita\"],\"xaxis\":\"x\",\"y\":[1],\"yaxis\":\"y\",\"type\":\"bar\"},{\"alignmentgroup\":\"True\",\"hovertemplate\":\"brand=%{x}\\u003cbr\\u003esum=%{y}\\u003cextra\\u003e\\u003c\\u002fextra\\u003e\",\"legendgroup\":\"Primebook\",\"marker\":{\"color\":\"#00CED1\",\"pattern\":{\"shape\":\"\"}},\"name\":\"Primebook\",\"offsetgroup\":\"Primebook\",\"orientation\":\"v\",\"showlegend\":true,\"textposition\":\"auto\",\"texttemplate\":\"%{y}\",\"x\":[\"Primebook\"],\"xaxis\":\"x\",\"y\":[1],\"yaxis\":\"y\",\"type\":\"bar\"},{\"alignmentgroup\":\"True\",\"hovertemplate\":\"brand=%{x}\\u003cbr\\u003esum=%{y}\\u003cextra\\u003e\\u003c\\u002fextra\\u003e\",\"legendgroup\":\"Ninkear\",\"marker\":{\"color\":\"#FF7F50\",\"pattern\":{\"shape\":\"\"}},\"name\":\"Ninkear\",\"offsetgroup\":\"Ninkear\",\"orientation\":\"v\",\"showlegend\":true,\"textposition\":\"auto\",\"texttemplate\":\"%{y}\",\"x\":[\"Ninkear\"],\"xaxis\":\"x\",\"y\":[1],\"yaxis\":\"y\",\"type\":\"bar\"},{\"alignmentgroup\":\"True\",\"hovertemplate\":\"brand=%{x}\\u003cbr\\u003esum=%{y}\\u003cextra\\u003e\\u003c\\u002fextra\\u003e\",\"legendgroup\":\"Razer\",\"marker\":{\"color\":\"#7FFF00\",\"pattern\":{\"shape\":\"\"}},\"name\":\"Razer\",\"offsetgroup\":\"Razer\",\"orientation\":\"v\",\"showlegend\":true,\"textposition\":\"auto\",\"texttemplate\":\"%{y}\",\"x\":[\"Razer\"],\"xaxis\":\"x\",\"y\":[1],\"yaxis\":\"y\",\"type\":\"bar\"},{\"alignmentgroup\":\"True\",\"hovertemplate\":\"brand=%{x}\\u003cbr\\u003esum=%{y}\\u003cextra\\u003e\\u003c\\u002fextra\\u003e\",\"legendgroup\":\"iBall\",\"marker\":{\"color\":\"#DA70D6\",\"pattern\":{\"shape\":\"\"}},\"name\":\"iBall\",\"offsetgroup\":\"iBall\",\"orientation\":\"v\",\"showlegend\":true,\"textposition\":\"auto\",\"texttemplate\":\"%{y}\",\"x\":[\"iBall\"],\"xaxis\":\"x\",\"y\":[1],\"yaxis\":\"y\",\"type\":\"bar\"}],                        {\"barmode\":\"relative\",\"legend\":{\"title\":{\"text\":\"brand\"},\"tracegroupgap\":0},\"template\":{\"data\":{\"barpolar\":[{\"marker\":{\"line\":{\"color\":\"#E5ECF6\",\"width\":0.5},\"pattern\":{\"fillmode\":\"overlay\",\"size\":10,\"solidity\":0.2}},\"type\":\"barpolar\"}],\"bar\":[{\"error_x\":{\"color\":\"#2a3f5f\"},\"error_y\":{\"color\":\"#2a3f5f\"},\"marker\":{\"line\":{\"color\":\"#E5ECF6\",\"width\":0.5},\"pattern\":{\"fillmode\":\"overlay\",\"size\":10,\"solidity\":0.2}},\"type\":\"bar\"}],\"carpet\":[{\"aaxis\":{\"endlinecolor\":\"#2a3f5f\",\"gridcolor\":\"white\",\"linecolor\":\"white\",\"minorgridcolor\":\"white\",\"startlinecolor\":\"#2a3f5f\"},\"baxis\":{\"endlinecolor\":\"#2a3f5f\",\"gridcolor\":\"white\",\"linecolor\":\"white\",\"minorgridcolor\":\"white\",\"startlinecolor\":\"#2a3f5f\"},\"type\":\"carpet\"}],\"choropleth\":[{\"colorbar\":{\"outlinewidth\":0,\"ticks\":\"\"},\"type\":\"choropleth\"}],\"contourcarpet\":[{\"colorbar\":{\"outlinewidth\":0,\"ticks\":\"\"},\"type\":\"contourcarpet\"}],\"contour\":[{\"colorbar\":{\"outlinewidth\":0,\"ticks\":\"\"},\"colorscale\":[[0.0,\"#0d0887\"],[0.1111111111111111,\"#46039f\"],[0.2222222222222222,\"#7201a8\"],[0.3333333333333333,\"#9c179e\"],[0.4444444444444444,\"#bd3786\"],[0.5555555555555556,\"#d8576b\"],[0.6666666666666666,\"#ed7953\"],[0.7777777777777778,\"#fb9f3a\"],[0.8888888888888888,\"#fdca26\"],[1.0,\"#f0f921\"]],\"type\":\"contour\"}],\"heatmapgl\":[{\"colorbar\":{\"outlinewidth\":0,\"ticks\":\"\"},\"colorscale\":[[0.0,\"#0d0887\"],[0.1111111111111111,\"#46039f\"],[0.2222222222222222,\"#7201a8\"],[0.3333333333333333,\"#9c179e\"],[0.4444444444444444,\"#bd3786\"],[0.5555555555555556,\"#d8576b\"],[0.6666666666666666,\"#ed7953\"],[0.7777777777777778,\"#fb9f3a\"],[0.8888888888888888,\"#fdca26\"],[1.0,\"#f0f921\"]],\"type\":\"heatmapgl\"}],\"heatmap\":[{\"colorbar\":{\"outlinewidth\":0,\"ticks\":\"\"},\"colorscale\":[[0.0,\"#0d0887\"],[0.1111111111111111,\"#46039f\"],[0.2222222222222222,\"#7201a8\"],[0.3333333333333333,\"#9c179e\"],[0.4444444444444444,\"#bd3786\"],[0.5555555555555556,\"#d8576b\"],[0.6666666666666666,\"#ed7953\"],[0.7777777777777778,\"#fb9f3a\"],[0.8888888888888888,\"#fdca26\"],[1.0,\"#f0f921\"]],\"type\":\"heatmap\"}],\"histogram2dcontour\":[{\"colorbar\":{\"outlinewidth\":0,\"ticks\":\"\"},\"colorscale\":[[0.0,\"#0d0887\"],[0.1111111111111111,\"#46039f\"],[0.2222222222222222,\"#7201a8\"],[0.3333333333333333,\"#9c179e\"],[0.4444444444444444,\"#bd3786\"],[0.5555555555555556,\"#d8576b\"],[0.6666666666666666,\"#ed7953\"],[0.7777777777777778,\"#fb9f3a\"],[0.8888888888888888,\"#fdca26\"],[1.0,\"#f0f921\"]],\"type\":\"histogram2dcontour\"}],\"histogram2d\":[{\"colorbar\":{\"outlinewidth\":0,\"ticks\":\"\"},\"colorscale\":[[0.0,\"#0d0887\"],[0.1111111111111111,\"#46039f\"],[0.2222222222222222,\"#7201a8\"],[0.3333333333333333,\"#9c179e\"],[0.4444444444444444,\"#bd3786\"],[0.5555555555555556,\"#d8576b\"],[0.6666666666666666,\"#ed7953\"],[0.7777777777777778,\"#fb9f3a\"],[0.8888888888888888,\"#fdca26\"],[1.0,\"#f0f921\"]],\"type\":\"histogram2d\"}],\"histogram\":[{\"marker\":{\"pattern\":{\"fillmode\":\"overlay\",\"size\":10,\"solidity\":0.2}},\"type\":\"histogram\"}],\"mesh3d\":[{\"colorbar\":{\"outlinewidth\":0,\"ticks\":\"\"},\"type\":\"mesh3d\"}],\"parcoords\":[{\"line\":{\"colorbar\":{\"outlinewidth\":0,\"ticks\":\"\"}},\"type\":\"parcoords\"}],\"pie\":[{\"automargin\":true,\"type\":\"pie\"}],\"scatter3d\":[{\"line\":{\"colorbar\":{\"outlinewidth\":0,\"ticks\":\"\"}},\"marker\":{\"colorbar\":{\"outlinewidth\":0,\"ticks\":\"\"}},\"type\":\"scatter3d\"}],\"scattercarpet\":[{\"marker\":{\"colorbar\":{\"outlinewidth\":0,\"ticks\":\"\"}},\"type\":\"scattercarpet\"}],\"scattergeo\":[{\"marker\":{\"colorbar\":{\"outlinewidth\":0,\"ticks\":\"\"}},\"type\":\"scattergeo\"}],\"scattergl\":[{\"marker\":{\"colorbar\":{\"outlinewidth\":0,\"ticks\":\"\"}},\"type\":\"scattergl\"}],\"scattermapbox\":[{\"marker\":{\"colorbar\":{\"outlinewidth\":0,\"ticks\":\"\"}},\"type\":\"scattermapbox\"}],\"scatterpolargl\":[{\"marker\":{\"colorbar\":{\"outlinewidth\":0,\"ticks\":\"\"}},\"type\":\"scatterpolargl\"}],\"scatterpolar\":[{\"marker\":{\"colorbar\":{\"outlinewidth\":0,\"ticks\":\"\"}},\"type\":\"scatterpolar\"}],\"scatter\":[{\"fillpattern\":{\"fillmode\":\"overlay\",\"size\":10,\"solidity\":0.2},\"type\":\"scatter\"}],\"scatterternary\":[{\"marker\":{\"colorbar\":{\"outlinewidth\":0,\"ticks\":\"\"}},\"type\":\"scatterternary\"}],\"surface\":[{\"colorbar\":{\"outlinewidth\":0,\"ticks\":\"\"},\"colorscale\":[[0.0,\"#0d0887\"],[0.1111111111111111,\"#46039f\"],[0.2222222222222222,\"#7201a8\"],[0.3333333333333333,\"#9c179e\"],[0.4444444444444444,\"#bd3786\"],[0.5555555555555556,\"#d8576b\"],[0.6666666666666666,\"#ed7953\"],[0.7777777777777778,\"#fb9f3a\"],[0.8888888888888888,\"#fdca26\"],[1.0,\"#f0f921\"]],\"type\":\"surface\"}],\"table\":[{\"cells\":{\"fill\":{\"color\":\"#EBF0F8\"},\"line\":{\"color\":\"white\"}},\"header\":{\"fill\":{\"color\":\"#C8D4E3\"},\"line\":{\"color\":\"white\"}},\"type\":\"table\"}]},\"layout\":{\"annotationdefaults\":{\"arrowcolor\":\"#2a3f5f\",\"arrowhead\":0,\"arrowwidth\":1},\"autotypenumbers\":\"strict\",\"coloraxis\":{\"colorbar\":{\"outlinewidth\":0,\"ticks\":\"\"}},\"colorscale\":{\"diverging\":[[0,\"#8e0152\"],[0.1,\"#c51b7d\"],[0.2,\"#de77ae\"],[0.3,\"#f1b6da\"],[0.4,\"#fde0ef\"],[0.5,\"#f7f7f7\"],[0.6,\"#e6f5d0\"],[0.7,\"#b8e186\"],[0.8,\"#7fbc41\"],[0.9,\"#4d9221\"],[1,\"#276419\"]],\"sequential\":[[0.0,\"#0d0887\"],[0.1111111111111111,\"#46039f\"],[0.2222222222222222,\"#7201a8\"],[0.3333333333333333,\"#9c179e\"],[0.4444444444444444,\"#bd3786\"],[0.5555555555555556,\"#d8576b\"],[0.6666666666666666,\"#ed7953\"],[0.7777777777777778,\"#fb9f3a\"],[0.8888888888888888,\"#fdca26\"],[1.0,\"#f0f921\"]],\"sequentialminus\":[[0.0,\"#0d0887\"],[0.1111111111111111,\"#46039f\"],[0.2222222222222222,\"#7201a8\"],[0.3333333333333333,\"#9c179e\"],[0.4444444444444444,\"#bd3786\"],[0.5555555555555556,\"#d8576b\"],[0.6666666666666666,\"#ed7953\"],[0.7777777777777778,\"#fb9f3a\"],[0.8888888888888888,\"#fdca26\"],[1.0,\"#f0f921\"]]},\"colorway\":[\"#636efa\",\"#EF553B\",\"#00cc96\",\"#ab63fa\",\"#FFA15A\",\"#19d3f3\",\"#FF6692\",\"#B6E880\",\"#FF97FF\",\"#FECB52\"],\"font\":{\"color\":\"#2a3f5f\"},\"geo\":{\"bgcolor\":\"white\",\"lakecolor\":\"white\",\"landcolor\":\"#E5ECF6\",\"showlakes\":true,\"showland\":true,\"subunitcolor\":\"white\"},\"hoverlabel\":{\"align\":\"left\"},\"hovermode\":\"closest\",\"mapbox\":{\"style\":\"light\"},\"paper_bgcolor\":\"white\",\"plot_bgcolor\":\"#E5ECF6\",\"polar\":{\"angularaxis\":{\"gridcolor\":\"white\",\"linecolor\":\"white\",\"ticks\":\"\"},\"bgcolor\":\"#E5ECF6\",\"radialaxis\":{\"gridcolor\":\"white\",\"linecolor\":\"white\",\"ticks\":\"\"}},\"scene\":{\"xaxis\":{\"backgroundcolor\":\"#E5ECF6\",\"gridcolor\":\"white\",\"gridwidth\":2,\"linecolor\":\"white\",\"showbackground\":true,\"ticks\":\"\",\"zerolinecolor\":\"white\"},\"yaxis\":{\"backgroundcolor\":\"#E5ECF6\",\"gridcolor\":\"white\",\"gridwidth\":2,\"linecolor\":\"white\",\"showbackground\":true,\"ticks\":\"\",\"zerolinecolor\":\"white\"},\"zaxis\":{\"backgroundcolor\":\"#E5ECF6\",\"gridcolor\":\"white\",\"gridwidth\":2,\"linecolor\":\"white\",\"showbackground\":true,\"ticks\":\"\",\"zerolinecolor\":\"white\"}},\"shapedefaults\":{\"line\":{\"color\":\"#2a3f5f\"}},\"ternary\":{\"aaxis\":{\"gridcolor\":\"white\",\"linecolor\":\"white\",\"ticks\":\"\"},\"baxis\":{\"gridcolor\":\"white\",\"linecolor\":\"white\",\"ticks\":\"\"},\"bgcolor\":\"#E5ECF6\",\"caxis\":{\"gridcolor\":\"white\",\"linecolor\":\"white\",\"ticks\":\"\"}},\"title\":{\"x\":0.05},\"xaxis\":{\"automargin\":true,\"gridcolor\":\"white\",\"linecolor\":\"white\",\"ticks\":\"\",\"title\":{\"standoff\":15},\"zerolinecolor\":\"white\",\"zerolinewidth\":2},\"yaxis\":{\"automargin\":true,\"gridcolor\":\"white\",\"linecolor\":\"white\",\"ticks\":\"\",\"title\":{\"standoff\":15},\"zerolinecolor\":\"white\",\"zerolinewidth\":2}}},\"title\":{\"text\":\"Top 10 Brands in The World\"},\"xaxis\":{\"anchor\":\"y\",\"categoryarray\":[\"HP\",\"Lenovo\",\"Asus\",\"Dell\",\"Acer\",\"MSI\",\"Samsung\",\"Apple\",\"Infinix\",\"LG\",\"Xiaomi\",\"Gigabyte\",\"Fujitsu\",\"Zebronics\",\"Ultimus\",\"Tecno\",\"Wings\",\"Chuwi\",\"Realme\",\"Microsoft\",\"AXL\",\"Huawei\",\"Honor\",\"Walker\",\"Vaio\",\"Avita\",\"Primebook\",\"Ninkear\",\"Razer\",\"iBall\"],\"categoryorder\":\"array\",\"domain\":[0.0,1.0],\"title\":{\"text\":\"brand\"}},\"yaxis\":{\"anchor\":\"x\",\"domain\":[0.0,1.0],\"title\":{\"text\":\"sum\"}}},                        {\"responsive\": true}                    ).then(function(){\n",
       "                            \n",
       "var gd = document.getElementById('32fd0ecb-ab28-4782-8bca-60c39eb7a16a');\n",
       "var x = new MutationObserver(function (mutations, observer) {{\n",
       "        var display = window.getComputedStyle(gd).display;\n",
       "        if (!display || display === 'none') {{\n",
       "            console.log([gd, 'removed!']);\n",
       "            Plotly.purge(gd);\n",
       "            observer.disconnect();\n",
       "        }}\n",
       "}});\n",
       "\n",
       "// Listen for the removal of the full notebook cells\n",
       "var notebookContainer = gd.closest('#notebook-container');\n",
       "if (notebookContainer) {{\n",
       "    x.observe(notebookContainer, {childList: true});\n",
       "}}\n",
       "\n",
       "// Listen for the clearing of the current output cell\n",
       "var outputEl = gd.closest('.output');\n",
       "if (outputEl) {{\n",
       "    x.observe(outputEl, {childList: true});\n",
       "}}\n",
       "\n",
       "                        })                };                });            </script>        </div>"
      ]
     },
     "metadata": {},
     "output_type": "display_data"
    }
   ],
   "source": [
    "iplot(px.bar(counts_of_brands,\n",
    "             text_auto = True,\n",
    "             color = counts_of_brands.index,\n",
    "             color_discrete_sequence = colors,\n",
    "             title = 'Top 10 Brands in The World',\n",
    "             labels=dict(index='brands',value='sum')))"
   ]
  },
  {
   "cell_type": "markdown",
   "id": "718ff140",
   "metadata": {
    "papermill": {
     "duration": 0.013326,
     "end_time": "2023-12-18T14:55:09.453002",
     "exception": false,
     "start_time": "2023-12-18T14:55:09.439676",
     "status": "completed"
    },
    "tags": []
   },
   "source": [
    "<div style=\"background-color: #0f0f0f; padding: 20px; border-radius: 10px; box-shadow: 5px 5px 10px #888888;\">\n",
    "<h1 style=\"color: white; font-size: 30px; font-weight: bold; text-align: center; text-shadow: 2px 2px 4px #000000;\">total price per brand </h1>\n",
    "</div>"
   ]
  },
  {
   "cell_type": "code",
   "execution_count": 16,
   "id": "3a8ff433",
   "metadata": {
    "execution": {
     "iopub.execute_input": "2023-12-18T14:55:09.482471Z",
     "iopub.status.busy": "2023-12-18T14:55:09.481735Z",
     "iopub.status.idle": "2023-12-18T14:55:09.494511Z",
     "shell.execute_reply": "2023-12-18T14:55:09.493454Z"
    },
    "papermill": {
     "duration": 0.030469,
     "end_time": "2023-12-18T14:55:09.496890",
     "exception": false,
     "start_time": "2023-12-18T14:55:09.466421",
     "status": "completed"
    },
    "tags": []
   },
   "outputs": [
    {
     "data": {
      "text/plain": [
       "brand\n",
       "Razer        199990.000000\n",
       "Apple        174230.875000\n",
       "Gigabyte     133279.125000\n",
       "LG           128618.444444\n",
       "Samsung      117512.142857\n",
       "MSI          100849.630769\n",
       "Dell          91150.934579\n",
       "Fujitsu       81656.666667\n",
       "HP            80872.473118\n",
       "Ninkear       79999.000000\n",
       "Asus          75774.191083\n",
       "Lenovo        70060.946746\n",
       "Microsoft     60440.000000\n",
       "Acer          58651.178571\n",
       "Huawei        56999.000000\n",
       "Xiaomi        56543.875000\n",
       "Honor         47490.000000\n",
       "Realme        44329.333333\n",
       "Tecno         43999.000000\n",
       "Infinix       43990.000000\n",
       "Vaio          39990.000000\n",
       "Zebronics     37990.000000\n",
       "Wings         37323.333333\n",
       "Chuwi         31659.666667\n",
       "Avita         21990.000000\n",
       "Ultimus       19115.000000\n",
       "Walker        16990.000000\n",
       "AXL           14490.000000\n",
       "Primebook     10990.000000\n",
       "iBall          9999.000000\n",
       "Name: price, dtype: float64"
      ]
     },
     "execution_count": 16,
     "metadata": {},
     "output_type": "execute_result"
    }
   ],
   "source": [
    "price_brand = df.groupby('brand')['price'].mean().sort_values(ascending=False)\n",
    "price_brand"
   ]
  },
  {
   "cell_type": "code",
   "execution_count": 17,
   "id": "95f7044f",
   "metadata": {
    "execution": {
     "iopub.execute_input": "2023-12-18T14:55:09.527010Z",
     "iopub.status.busy": "2023-12-18T14:55:09.525891Z",
     "iopub.status.idle": "2023-12-18T14:55:09.531836Z",
     "shell.execute_reply": "2023-12-18T14:55:09.530772Z"
    },
    "papermill": {
     "duration": 0.023343,
     "end_time": "2023-12-18T14:55:09.534152",
     "exception": false,
     "start_time": "2023-12-18T14:55:09.510809",
     "status": "completed"
    },
    "tags": []
   },
   "outputs": [
    {
     "name": "stdout",
     "output_type": "stream",
     "text": [
      "Most expensive brand in the market 'Razer'\n"
     ]
    }
   ],
   "source": [
    "print(f\"Most expensive brand in the market '{price_brand.idxmax()}'\")"
   ]
  },
  {
   "cell_type": "code",
   "execution_count": 18,
   "id": "e9ab1342",
   "metadata": {
    "execution": {
     "iopub.execute_input": "2023-12-18T14:55:09.563255Z",
     "iopub.status.busy": "2023-12-18T14:55:09.562840Z",
     "iopub.status.idle": "2023-12-18T14:55:09.785058Z",
     "shell.execute_reply": "2023-12-18T14:55:09.783803Z"
    },
    "papermill": {
     "duration": 0.239747,
     "end_time": "2023-12-18T14:55:09.787638",
     "exception": false,
     "start_time": "2023-12-18T14:55:09.547891",
     "status": "completed"
    },
    "tags": []
   },
   "outputs": [
    {
     "data": {
      "text/html": [
       "<div>                            <div id=\"5305e2eb-f4ef-4b51-804f-f74d4a547f81\" class=\"plotly-graph-div\" style=\"height:525px; width:100%;\"></div>            <script type=\"text/javascript\">                require([\"plotly\"], function(Plotly) {                    window.PLOTLYENV=window.PLOTLYENV || {};                                    if (document.getElementById(\"5305e2eb-f4ef-4b51-804f-f74d4a547f81\")) {                    Plotly.newPlot(                        \"5305e2eb-f4ef-4b51-804f-f74d4a547f81\",                        [{\"alignmentgroup\":\"True\",\"hovertemplate\":\"Name Of Brand=%{x}\\u003cbr\\u003eAVG of Price=%{y}\\u003cextra\\u003e\\u003c\\u002fextra\\u003e\",\"legendgroup\":\"Razer\",\"marker\":{\"color\":\"#636efa\",\"pattern\":{\"shape\":\"\"}},\"name\":\"Razer\",\"offsetgroup\":\"Razer\",\"orientation\":\"v\",\"showlegend\":true,\"textposition\":\"auto\",\"texttemplate\":\"%{y}\",\"x\":[\"Razer\"],\"xaxis\":\"x\",\"y\":[199990.0],\"yaxis\":\"y\",\"type\":\"bar\"},{\"alignmentgroup\":\"True\",\"hovertemplate\":\"Name Of Brand=%{x}\\u003cbr\\u003eAVG of Price=%{y}\\u003cextra\\u003e\\u003c\\u002fextra\\u003e\",\"legendgroup\":\"Apple\",\"marker\":{\"color\":\"#EF553B\",\"pattern\":{\"shape\":\"\"}},\"name\":\"Apple\",\"offsetgroup\":\"Apple\",\"orientation\":\"v\",\"showlegend\":true,\"textposition\":\"auto\",\"texttemplate\":\"%{y}\",\"x\":[\"Apple\"],\"xaxis\":\"x\",\"y\":[174230.875],\"yaxis\":\"y\",\"type\":\"bar\"},{\"alignmentgroup\":\"True\",\"hovertemplate\":\"Name Of Brand=%{x}\\u003cbr\\u003eAVG of Price=%{y}\\u003cextra\\u003e\\u003c\\u002fextra\\u003e\",\"legendgroup\":\"Gigabyte\",\"marker\":{\"color\":\"#00cc96\",\"pattern\":{\"shape\":\"\"}},\"name\":\"Gigabyte\",\"offsetgroup\":\"Gigabyte\",\"orientation\":\"v\",\"showlegend\":true,\"textposition\":\"auto\",\"texttemplate\":\"%{y}\",\"x\":[\"Gigabyte\"],\"xaxis\":\"x\",\"y\":[133279.125],\"yaxis\":\"y\",\"type\":\"bar\"},{\"alignmentgroup\":\"True\",\"hovertemplate\":\"Name Of Brand=%{x}\\u003cbr\\u003eAVG of Price=%{y}\\u003cextra\\u003e\\u003c\\u002fextra\\u003e\",\"legendgroup\":\"LG\",\"marker\":{\"color\":\"#ab63fa\",\"pattern\":{\"shape\":\"\"}},\"name\":\"LG\",\"offsetgroup\":\"LG\",\"orientation\":\"v\",\"showlegend\":true,\"textposition\":\"auto\",\"texttemplate\":\"%{y}\",\"x\":[\"LG\"],\"xaxis\":\"x\",\"y\":[128618.44444444444],\"yaxis\":\"y\",\"type\":\"bar\"},{\"alignmentgroup\":\"True\",\"hovertemplate\":\"Name Of Brand=%{x}\\u003cbr\\u003eAVG of Price=%{y}\\u003cextra\\u003e\\u003c\\u002fextra\\u003e\",\"legendgroup\":\"Samsung\",\"marker\":{\"color\":\"#FFA15A\",\"pattern\":{\"shape\":\"\"}},\"name\":\"Samsung\",\"offsetgroup\":\"Samsung\",\"orientation\":\"v\",\"showlegend\":true,\"textposition\":\"auto\",\"texttemplate\":\"%{y}\",\"x\":[\"Samsung\"],\"xaxis\":\"x\",\"y\":[117512.14285714286],\"yaxis\":\"y\",\"type\":\"bar\"},{\"alignmentgroup\":\"True\",\"hovertemplate\":\"Name Of Brand=%{x}\\u003cbr\\u003eAVG of Price=%{y}\\u003cextra\\u003e\\u003c\\u002fextra\\u003e\",\"legendgroup\":\"MSI\",\"marker\":{\"color\":\"#19d3f3\",\"pattern\":{\"shape\":\"\"}},\"name\":\"MSI\",\"offsetgroup\":\"MSI\",\"orientation\":\"v\",\"showlegend\":true,\"textposition\":\"auto\",\"texttemplate\":\"%{y}\",\"x\":[\"MSI\"],\"xaxis\":\"x\",\"y\":[100849.63076923077],\"yaxis\":\"y\",\"type\":\"bar\"},{\"alignmentgroup\":\"True\",\"hovertemplate\":\"Name Of Brand=%{x}\\u003cbr\\u003eAVG of Price=%{y}\\u003cextra\\u003e\\u003c\\u002fextra\\u003e\",\"legendgroup\":\"Dell\",\"marker\":{\"color\":\"#FF6692\",\"pattern\":{\"shape\":\"\"}},\"name\":\"Dell\",\"offsetgroup\":\"Dell\",\"orientation\":\"v\",\"showlegend\":true,\"textposition\":\"auto\",\"texttemplate\":\"%{y}\",\"x\":[\"Dell\"],\"xaxis\":\"x\",\"y\":[91150.93457943926],\"yaxis\":\"y\",\"type\":\"bar\"},{\"alignmentgroup\":\"True\",\"hovertemplate\":\"Name Of Brand=%{x}\\u003cbr\\u003eAVG of Price=%{y}\\u003cextra\\u003e\\u003c\\u002fextra\\u003e\",\"legendgroup\":\"Fujitsu\",\"marker\":{\"color\":\"#B6E880\",\"pattern\":{\"shape\":\"\"}},\"name\":\"Fujitsu\",\"offsetgroup\":\"Fujitsu\",\"orientation\":\"v\",\"showlegend\":true,\"textposition\":\"auto\",\"texttemplate\":\"%{y}\",\"x\":[\"Fujitsu\"],\"xaxis\":\"x\",\"y\":[81656.66666666667],\"yaxis\":\"y\",\"type\":\"bar\"},{\"alignmentgroup\":\"True\",\"hovertemplate\":\"Name Of Brand=%{x}\\u003cbr\\u003eAVG of Price=%{y}\\u003cextra\\u003e\\u003c\\u002fextra\\u003e\",\"legendgroup\":\"HP\",\"marker\":{\"color\":\"#FF97FF\",\"pattern\":{\"shape\":\"\"}},\"name\":\"HP\",\"offsetgroup\":\"HP\",\"orientation\":\"v\",\"showlegend\":true,\"textposition\":\"auto\",\"texttemplate\":\"%{y}\",\"x\":[\"HP\"],\"xaxis\":\"x\",\"y\":[80872.47311827957],\"yaxis\":\"y\",\"type\":\"bar\"},{\"alignmentgroup\":\"True\",\"hovertemplate\":\"Name Of Brand=%{x}\\u003cbr\\u003eAVG of Price=%{y}\\u003cextra\\u003e\\u003c\\u002fextra\\u003e\",\"legendgroup\":\"Ninkear\",\"marker\":{\"color\":\"#FECB52\",\"pattern\":{\"shape\":\"\"}},\"name\":\"Ninkear\",\"offsetgroup\":\"Ninkear\",\"orientation\":\"v\",\"showlegend\":true,\"textposition\":\"auto\",\"texttemplate\":\"%{y}\",\"x\":[\"Ninkear\"],\"xaxis\":\"x\",\"y\":[79999.0],\"yaxis\":\"y\",\"type\":\"bar\"},{\"alignmentgroup\":\"True\",\"hovertemplate\":\"Name Of Brand=%{x}\\u003cbr\\u003eAVG of Price=%{y}\\u003cextra\\u003e\\u003c\\u002fextra\\u003e\",\"legendgroup\":\"Asus\",\"marker\":{\"color\":\"#636efa\",\"pattern\":{\"shape\":\"\"}},\"name\":\"Asus\",\"offsetgroup\":\"Asus\",\"orientation\":\"v\",\"showlegend\":true,\"textposition\":\"auto\",\"texttemplate\":\"%{y}\",\"x\":[\"Asus\"],\"xaxis\":\"x\",\"y\":[75774.19108280254],\"yaxis\":\"y\",\"type\":\"bar\"},{\"alignmentgroup\":\"True\",\"hovertemplate\":\"Name Of Brand=%{x}\\u003cbr\\u003eAVG of Price=%{y}\\u003cextra\\u003e\\u003c\\u002fextra\\u003e\",\"legendgroup\":\"Lenovo\",\"marker\":{\"color\":\"#EF553B\",\"pattern\":{\"shape\":\"\"}},\"name\":\"Lenovo\",\"offsetgroup\":\"Lenovo\",\"orientation\":\"v\",\"showlegend\":true,\"textposition\":\"auto\",\"texttemplate\":\"%{y}\",\"x\":[\"Lenovo\"],\"xaxis\":\"x\",\"y\":[70060.94674556213],\"yaxis\":\"y\",\"type\":\"bar\"},{\"alignmentgroup\":\"True\",\"hovertemplate\":\"Name Of Brand=%{x}\\u003cbr\\u003eAVG of Price=%{y}\\u003cextra\\u003e\\u003c\\u002fextra\\u003e\",\"legendgroup\":\"Microsoft\",\"marker\":{\"color\":\"#00cc96\",\"pattern\":{\"shape\":\"\"}},\"name\":\"Microsoft\",\"offsetgroup\":\"Microsoft\",\"orientation\":\"v\",\"showlegend\":true,\"textposition\":\"auto\",\"texttemplate\":\"%{y}\",\"x\":[\"Microsoft\"],\"xaxis\":\"x\",\"y\":[60440.0],\"yaxis\":\"y\",\"type\":\"bar\"},{\"alignmentgroup\":\"True\",\"hovertemplate\":\"Name Of Brand=%{x}\\u003cbr\\u003eAVG of Price=%{y}\\u003cextra\\u003e\\u003c\\u002fextra\\u003e\",\"legendgroup\":\"Acer\",\"marker\":{\"color\":\"#ab63fa\",\"pattern\":{\"shape\":\"\"}},\"name\":\"Acer\",\"offsetgroup\":\"Acer\",\"orientation\":\"v\",\"showlegend\":true,\"textposition\":\"auto\",\"texttemplate\":\"%{y}\",\"x\":[\"Acer\"],\"xaxis\":\"x\",\"y\":[58651.17857142857],\"yaxis\":\"y\",\"type\":\"bar\"},{\"alignmentgroup\":\"True\",\"hovertemplate\":\"Name Of Brand=%{x}\\u003cbr\\u003eAVG of Price=%{y}\\u003cextra\\u003e\\u003c\\u002fextra\\u003e\",\"legendgroup\":\"Huawei\",\"marker\":{\"color\":\"#FFA15A\",\"pattern\":{\"shape\":\"\"}},\"name\":\"Huawei\",\"offsetgroup\":\"Huawei\",\"orientation\":\"v\",\"showlegend\":true,\"textposition\":\"auto\",\"texttemplate\":\"%{y}\",\"x\":[\"Huawei\"],\"xaxis\":\"x\",\"y\":[56999.0],\"yaxis\":\"y\",\"type\":\"bar\"},{\"alignmentgroup\":\"True\",\"hovertemplate\":\"Name Of Brand=%{x}\\u003cbr\\u003eAVG of Price=%{y}\\u003cextra\\u003e\\u003c\\u002fextra\\u003e\",\"legendgroup\":\"Xiaomi\",\"marker\":{\"color\":\"#19d3f3\",\"pattern\":{\"shape\":\"\"}},\"name\":\"Xiaomi\",\"offsetgroup\":\"Xiaomi\",\"orientation\":\"v\",\"showlegend\":true,\"textposition\":\"auto\",\"texttemplate\":\"%{y}\",\"x\":[\"Xiaomi\"],\"xaxis\":\"x\",\"y\":[56543.875],\"yaxis\":\"y\",\"type\":\"bar\"},{\"alignmentgroup\":\"True\",\"hovertemplate\":\"Name Of Brand=%{x}\\u003cbr\\u003eAVG of Price=%{y}\\u003cextra\\u003e\\u003c\\u002fextra\\u003e\",\"legendgroup\":\"Honor\",\"marker\":{\"color\":\"#FF6692\",\"pattern\":{\"shape\":\"\"}},\"name\":\"Honor\",\"offsetgroup\":\"Honor\",\"orientation\":\"v\",\"showlegend\":true,\"textposition\":\"auto\",\"texttemplate\":\"%{y}\",\"x\":[\"Honor\"],\"xaxis\":\"x\",\"y\":[47490.0],\"yaxis\":\"y\",\"type\":\"bar\"},{\"alignmentgroup\":\"True\",\"hovertemplate\":\"Name Of Brand=%{x}\\u003cbr\\u003eAVG of Price=%{y}\\u003cextra\\u003e\\u003c\\u002fextra\\u003e\",\"legendgroup\":\"Realme\",\"marker\":{\"color\":\"#B6E880\",\"pattern\":{\"shape\":\"\"}},\"name\":\"Realme\",\"offsetgroup\":\"Realme\",\"orientation\":\"v\",\"showlegend\":true,\"textposition\":\"auto\",\"texttemplate\":\"%{y}\",\"x\":[\"Realme\"],\"xaxis\":\"x\",\"y\":[44329.333333333336],\"yaxis\":\"y\",\"type\":\"bar\"},{\"alignmentgroup\":\"True\",\"hovertemplate\":\"Name Of Brand=%{x}\\u003cbr\\u003eAVG of Price=%{y}\\u003cextra\\u003e\\u003c\\u002fextra\\u003e\",\"legendgroup\":\"Tecno\",\"marker\":{\"color\":\"#FF97FF\",\"pattern\":{\"shape\":\"\"}},\"name\":\"Tecno\",\"offsetgroup\":\"Tecno\",\"orientation\":\"v\",\"showlegend\":true,\"textposition\":\"auto\",\"texttemplate\":\"%{y}\",\"x\":[\"Tecno\"],\"xaxis\":\"x\",\"y\":[43999.0],\"yaxis\":\"y\",\"type\":\"bar\"},{\"alignmentgroup\":\"True\",\"hovertemplate\":\"Name Of Brand=%{x}\\u003cbr\\u003eAVG of Price=%{y}\\u003cextra\\u003e\\u003c\\u002fextra\\u003e\",\"legendgroup\":\"Infinix\",\"marker\":{\"color\":\"#FECB52\",\"pattern\":{\"shape\":\"\"}},\"name\":\"Infinix\",\"offsetgroup\":\"Infinix\",\"orientation\":\"v\",\"showlegend\":true,\"textposition\":\"auto\",\"texttemplate\":\"%{y}\",\"x\":[\"Infinix\"],\"xaxis\":\"x\",\"y\":[43990.0],\"yaxis\":\"y\",\"type\":\"bar\"},{\"alignmentgroup\":\"True\",\"hovertemplate\":\"Name Of Brand=%{x}\\u003cbr\\u003eAVG of Price=%{y}\\u003cextra\\u003e\\u003c\\u002fextra\\u003e\",\"legendgroup\":\"Vaio\",\"marker\":{\"color\":\"#636efa\",\"pattern\":{\"shape\":\"\"}},\"name\":\"Vaio\",\"offsetgroup\":\"Vaio\",\"orientation\":\"v\",\"showlegend\":true,\"textposition\":\"auto\",\"texttemplate\":\"%{y}\",\"x\":[\"Vaio\"],\"xaxis\":\"x\",\"y\":[39990.0],\"yaxis\":\"y\",\"type\":\"bar\"},{\"alignmentgroup\":\"True\",\"hovertemplate\":\"Name Of Brand=%{x}\\u003cbr\\u003eAVG of Price=%{y}\\u003cextra\\u003e\\u003c\\u002fextra\\u003e\",\"legendgroup\":\"Zebronics\",\"marker\":{\"color\":\"#EF553B\",\"pattern\":{\"shape\":\"\"}},\"name\":\"Zebronics\",\"offsetgroup\":\"Zebronics\",\"orientation\":\"v\",\"showlegend\":true,\"textposition\":\"auto\",\"texttemplate\":\"%{y}\",\"x\":[\"Zebronics\"],\"xaxis\":\"x\",\"y\":[37990.0],\"yaxis\":\"y\",\"type\":\"bar\"},{\"alignmentgroup\":\"True\",\"hovertemplate\":\"Name Of Brand=%{x}\\u003cbr\\u003eAVG of Price=%{y}\\u003cextra\\u003e\\u003c\\u002fextra\\u003e\",\"legendgroup\":\"Wings\",\"marker\":{\"color\":\"#00cc96\",\"pattern\":{\"shape\":\"\"}},\"name\":\"Wings\",\"offsetgroup\":\"Wings\",\"orientation\":\"v\",\"showlegend\":true,\"textposition\":\"auto\",\"texttemplate\":\"%{y}\",\"x\":[\"Wings\"],\"xaxis\":\"x\",\"y\":[37323.333333333336],\"yaxis\":\"y\",\"type\":\"bar\"},{\"alignmentgroup\":\"True\",\"hovertemplate\":\"Name Of Brand=%{x}\\u003cbr\\u003eAVG of Price=%{y}\\u003cextra\\u003e\\u003c\\u002fextra\\u003e\",\"legendgroup\":\"Chuwi\",\"marker\":{\"color\":\"#ab63fa\",\"pattern\":{\"shape\":\"\"}},\"name\":\"Chuwi\",\"offsetgroup\":\"Chuwi\",\"orientation\":\"v\",\"showlegend\":true,\"textposition\":\"auto\",\"texttemplate\":\"%{y}\",\"x\":[\"Chuwi\"],\"xaxis\":\"x\",\"y\":[31659.666666666668],\"yaxis\":\"y\",\"type\":\"bar\"},{\"alignmentgroup\":\"True\",\"hovertemplate\":\"Name Of Brand=%{x}\\u003cbr\\u003eAVG of Price=%{y}\\u003cextra\\u003e\\u003c\\u002fextra\\u003e\",\"legendgroup\":\"Avita\",\"marker\":{\"color\":\"#FFA15A\",\"pattern\":{\"shape\":\"\"}},\"name\":\"Avita\",\"offsetgroup\":\"Avita\",\"orientation\":\"v\",\"showlegend\":true,\"textposition\":\"auto\",\"texttemplate\":\"%{y}\",\"x\":[\"Avita\"],\"xaxis\":\"x\",\"y\":[21990.0],\"yaxis\":\"y\",\"type\":\"bar\"},{\"alignmentgroup\":\"True\",\"hovertemplate\":\"Name Of Brand=%{x}\\u003cbr\\u003eAVG of Price=%{y}\\u003cextra\\u003e\\u003c\\u002fextra\\u003e\",\"legendgroup\":\"Ultimus\",\"marker\":{\"color\":\"#19d3f3\",\"pattern\":{\"shape\":\"\"}},\"name\":\"Ultimus\",\"offsetgroup\":\"Ultimus\",\"orientation\":\"v\",\"showlegend\":true,\"textposition\":\"auto\",\"texttemplate\":\"%{y}\",\"x\":[\"Ultimus\"],\"xaxis\":\"x\",\"y\":[19115.0],\"yaxis\":\"y\",\"type\":\"bar\"},{\"alignmentgroup\":\"True\",\"hovertemplate\":\"Name Of Brand=%{x}\\u003cbr\\u003eAVG of Price=%{y}\\u003cextra\\u003e\\u003c\\u002fextra\\u003e\",\"legendgroup\":\"Walker\",\"marker\":{\"color\":\"#FF6692\",\"pattern\":{\"shape\":\"\"}},\"name\":\"Walker\",\"offsetgroup\":\"Walker\",\"orientation\":\"v\",\"showlegend\":true,\"textposition\":\"auto\",\"texttemplate\":\"%{y}\",\"x\":[\"Walker\"],\"xaxis\":\"x\",\"y\":[16990.0],\"yaxis\":\"y\",\"type\":\"bar\"},{\"alignmentgroup\":\"True\",\"hovertemplate\":\"Name Of Brand=%{x}\\u003cbr\\u003eAVG of Price=%{y}\\u003cextra\\u003e\\u003c\\u002fextra\\u003e\",\"legendgroup\":\"AXL\",\"marker\":{\"color\":\"#B6E880\",\"pattern\":{\"shape\":\"\"}},\"name\":\"AXL\",\"offsetgroup\":\"AXL\",\"orientation\":\"v\",\"showlegend\":true,\"textposition\":\"auto\",\"texttemplate\":\"%{y}\",\"x\":[\"AXL\"],\"xaxis\":\"x\",\"y\":[14490.0],\"yaxis\":\"y\",\"type\":\"bar\"},{\"alignmentgroup\":\"True\",\"hovertemplate\":\"Name Of Brand=%{x}\\u003cbr\\u003eAVG of Price=%{y}\\u003cextra\\u003e\\u003c\\u002fextra\\u003e\",\"legendgroup\":\"Primebook\",\"marker\":{\"color\":\"#FF97FF\",\"pattern\":{\"shape\":\"\"}},\"name\":\"Primebook\",\"offsetgroup\":\"Primebook\",\"orientation\":\"v\",\"showlegend\":true,\"textposition\":\"auto\",\"texttemplate\":\"%{y}\",\"x\":[\"Primebook\"],\"xaxis\":\"x\",\"y\":[10990.0],\"yaxis\":\"y\",\"type\":\"bar\"},{\"alignmentgroup\":\"True\",\"hovertemplate\":\"Name Of Brand=%{x}\\u003cbr\\u003eAVG of Price=%{y}\\u003cextra\\u003e\\u003c\\u002fextra\\u003e\",\"legendgroup\":\"iBall\",\"marker\":{\"color\":\"#FECB52\",\"pattern\":{\"shape\":\"\"}},\"name\":\"iBall\",\"offsetgroup\":\"iBall\",\"orientation\":\"v\",\"showlegend\":true,\"textposition\":\"auto\",\"texttemplate\":\"%{y}\",\"x\":[\"iBall\"],\"xaxis\":\"x\",\"y\":[9999.0],\"yaxis\":\"y\",\"type\":\"bar\"}],                        {\"barmode\":\"relative\",\"legend\":{\"title\":{\"text\":\"Name Of Brand\"},\"tracegroupgap\":0},\"template\":{\"data\":{\"barpolar\":[{\"marker\":{\"line\":{\"color\":\"#E5ECF6\",\"width\":0.5},\"pattern\":{\"fillmode\":\"overlay\",\"size\":10,\"solidity\":0.2}},\"type\":\"barpolar\"}],\"bar\":[{\"error_x\":{\"color\":\"#2a3f5f\"},\"error_y\":{\"color\":\"#2a3f5f\"},\"marker\":{\"line\":{\"color\":\"#E5ECF6\",\"width\":0.5},\"pattern\":{\"fillmode\":\"overlay\",\"size\":10,\"solidity\":0.2}},\"type\":\"bar\"}],\"carpet\":[{\"aaxis\":{\"endlinecolor\":\"#2a3f5f\",\"gridcolor\":\"white\",\"linecolor\":\"white\",\"minorgridcolor\":\"white\",\"startlinecolor\":\"#2a3f5f\"},\"baxis\":{\"endlinecolor\":\"#2a3f5f\",\"gridcolor\":\"white\",\"linecolor\":\"white\",\"minorgridcolor\":\"white\",\"startlinecolor\":\"#2a3f5f\"},\"type\":\"carpet\"}],\"choropleth\":[{\"colorbar\":{\"outlinewidth\":0,\"ticks\":\"\"},\"type\":\"choropleth\"}],\"contourcarpet\":[{\"colorbar\":{\"outlinewidth\":0,\"ticks\":\"\"},\"type\":\"contourcarpet\"}],\"contour\":[{\"colorbar\":{\"outlinewidth\":0,\"ticks\":\"\"},\"colorscale\":[[0.0,\"#0d0887\"],[0.1111111111111111,\"#46039f\"],[0.2222222222222222,\"#7201a8\"],[0.3333333333333333,\"#9c179e\"],[0.4444444444444444,\"#bd3786\"],[0.5555555555555556,\"#d8576b\"],[0.6666666666666666,\"#ed7953\"],[0.7777777777777778,\"#fb9f3a\"],[0.8888888888888888,\"#fdca26\"],[1.0,\"#f0f921\"]],\"type\":\"contour\"}],\"heatmapgl\":[{\"colorbar\":{\"outlinewidth\":0,\"ticks\":\"\"},\"colorscale\":[[0.0,\"#0d0887\"],[0.1111111111111111,\"#46039f\"],[0.2222222222222222,\"#7201a8\"],[0.3333333333333333,\"#9c179e\"],[0.4444444444444444,\"#bd3786\"],[0.5555555555555556,\"#d8576b\"],[0.6666666666666666,\"#ed7953\"],[0.7777777777777778,\"#fb9f3a\"],[0.8888888888888888,\"#fdca26\"],[1.0,\"#f0f921\"]],\"type\":\"heatmapgl\"}],\"heatmap\":[{\"colorbar\":{\"outlinewidth\":0,\"ticks\":\"\"},\"colorscale\":[[0.0,\"#0d0887\"],[0.1111111111111111,\"#46039f\"],[0.2222222222222222,\"#7201a8\"],[0.3333333333333333,\"#9c179e\"],[0.4444444444444444,\"#bd3786\"],[0.5555555555555556,\"#d8576b\"],[0.6666666666666666,\"#ed7953\"],[0.7777777777777778,\"#fb9f3a\"],[0.8888888888888888,\"#fdca26\"],[1.0,\"#f0f921\"]],\"type\":\"heatmap\"}],\"histogram2dcontour\":[{\"colorbar\":{\"outlinewidth\":0,\"ticks\":\"\"},\"colorscale\":[[0.0,\"#0d0887\"],[0.1111111111111111,\"#46039f\"],[0.2222222222222222,\"#7201a8\"],[0.3333333333333333,\"#9c179e\"],[0.4444444444444444,\"#bd3786\"],[0.5555555555555556,\"#d8576b\"],[0.6666666666666666,\"#ed7953\"],[0.7777777777777778,\"#fb9f3a\"],[0.8888888888888888,\"#fdca26\"],[1.0,\"#f0f921\"]],\"type\":\"histogram2dcontour\"}],\"histogram2d\":[{\"colorbar\":{\"outlinewidth\":0,\"ticks\":\"\"},\"colorscale\":[[0.0,\"#0d0887\"],[0.1111111111111111,\"#46039f\"],[0.2222222222222222,\"#7201a8\"],[0.3333333333333333,\"#9c179e\"],[0.4444444444444444,\"#bd3786\"],[0.5555555555555556,\"#d8576b\"],[0.6666666666666666,\"#ed7953\"],[0.7777777777777778,\"#fb9f3a\"],[0.8888888888888888,\"#fdca26\"],[1.0,\"#f0f921\"]],\"type\":\"histogram2d\"}],\"histogram\":[{\"marker\":{\"pattern\":{\"fillmode\":\"overlay\",\"size\":10,\"solidity\":0.2}},\"type\":\"histogram\"}],\"mesh3d\":[{\"colorbar\":{\"outlinewidth\":0,\"ticks\":\"\"},\"type\":\"mesh3d\"}],\"parcoords\":[{\"line\":{\"colorbar\":{\"outlinewidth\":0,\"ticks\":\"\"}},\"type\":\"parcoords\"}],\"pie\":[{\"automargin\":true,\"type\":\"pie\"}],\"scatter3d\":[{\"line\":{\"colorbar\":{\"outlinewidth\":0,\"ticks\":\"\"}},\"marker\":{\"colorbar\":{\"outlinewidth\":0,\"ticks\":\"\"}},\"type\":\"scatter3d\"}],\"scattercarpet\":[{\"marker\":{\"colorbar\":{\"outlinewidth\":0,\"ticks\":\"\"}},\"type\":\"scattercarpet\"}],\"scattergeo\":[{\"marker\":{\"colorbar\":{\"outlinewidth\":0,\"ticks\":\"\"}},\"type\":\"scattergeo\"}],\"scattergl\":[{\"marker\":{\"colorbar\":{\"outlinewidth\":0,\"ticks\":\"\"}},\"type\":\"scattergl\"}],\"scattermapbox\":[{\"marker\":{\"colorbar\":{\"outlinewidth\":0,\"ticks\":\"\"}},\"type\":\"scattermapbox\"}],\"scatterpolargl\":[{\"marker\":{\"colorbar\":{\"outlinewidth\":0,\"ticks\":\"\"}},\"type\":\"scatterpolargl\"}],\"scatterpolar\":[{\"marker\":{\"colorbar\":{\"outlinewidth\":0,\"ticks\":\"\"}},\"type\":\"scatterpolar\"}],\"scatter\":[{\"fillpattern\":{\"fillmode\":\"overlay\",\"size\":10,\"solidity\":0.2},\"type\":\"scatter\"}],\"scatterternary\":[{\"marker\":{\"colorbar\":{\"outlinewidth\":0,\"ticks\":\"\"}},\"type\":\"scatterternary\"}],\"surface\":[{\"colorbar\":{\"outlinewidth\":0,\"ticks\":\"\"},\"colorscale\":[[0.0,\"#0d0887\"],[0.1111111111111111,\"#46039f\"],[0.2222222222222222,\"#7201a8\"],[0.3333333333333333,\"#9c179e\"],[0.4444444444444444,\"#bd3786\"],[0.5555555555555556,\"#d8576b\"],[0.6666666666666666,\"#ed7953\"],[0.7777777777777778,\"#fb9f3a\"],[0.8888888888888888,\"#fdca26\"],[1.0,\"#f0f921\"]],\"type\":\"surface\"}],\"table\":[{\"cells\":{\"fill\":{\"color\":\"#EBF0F8\"},\"line\":{\"color\":\"white\"}},\"header\":{\"fill\":{\"color\":\"#C8D4E3\"},\"line\":{\"color\":\"white\"}},\"type\":\"table\"}]},\"layout\":{\"annotationdefaults\":{\"arrowcolor\":\"#2a3f5f\",\"arrowhead\":0,\"arrowwidth\":1},\"autotypenumbers\":\"strict\",\"coloraxis\":{\"colorbar\":{\"outlinewidth\":0,\"ticks\":\"\"}},\"colorscale\":{\"diverging\":[[0,\"#8e0152\"],[0.1,\"#c51b7d\"],[0.2,\"#de77ae\"],[0.3,\"#f1b6da\"],[0.4,\"#fde0ef\"],[0.5,\"#f7f7f7\"],[0.6,\"#e6f5d0\"],[0.7,\"#b8e186\"],[0.8,\"#7fbc41\"],[0.9,\"#4d9221\"],[1,\"#276419\"]],\"sequential\":[[0.0,\"#0d0887\"],[0.1111111111111111,\"#46039f\"],[0.2222222222222222,\"#7201a8\"],[0.3333333333333333,\"#9c179e\"],[0.4444444444444444,\"#bd3786\"],[0.5555555555555556,\"#d8576b\"],[0.6666666666666666,\"#ed7953\"],[0.7777777777777778,\"#fb9f3a\"],[0.8888888888888888,\"#fdca26\"],[1.0,\"#f0f921\"]],\"sequentialminus\":[[0.0,\"#0d0887\"],[0.1111111111111111,\"#46039f\"],[0.2222222222222222,\"#7201a8\"],[0.3333333333333333,\"#9c179e\"],[0.4444444444444444,\"#bd3786\"],[0.5555555555555556,\"#d8576b\"],[0.6666666666666666,\"#ed7953\"],[0.7777777777777778,\"#fb9f3a\"],[0.8888888888888888,\"#fdca26\"],[1.0,\"#f0f921\"]]},\"colorway\":[\"#636efa\",\"#EF553B\",\"#00cc96\",\"#ab63fa\",\"#FFA15A\",\"#19d3f3\",\"#FF6692\",\"#B6E880\",\"#FF97FF\",\"#FECB52\"],\"font\":{\"color\":\"#2a3f5f\"},\"geo\":{\"bgcolor\":\"white\",\"lakecolor\":\"white\",\"landcolor\":\"#E5ECF6\",\"showlakes\":true,\"showland\":true,\"subunitcolor\":\"white\"},\"hoverlabel\":{\"align\":\"left\"},\"hovermode\":\"closest\",\"mapbox\":{\"style\":\"light\"},\"paper_bgcolor\":\"white\",\"plot_bgcolor\":\"#E5ECF6\",\"polar\":{\"angularaxis\":{\"gridcolor\":\"white\",\"linecolor\":\"white\",\"ticks\":\"\"},\"bgcolor\":\"#E5ECF6\",\"radialaxis\":{\"gridcolor\":\"white\",\"linecolor\":\"white\",\"ticks\":\"\"}},\"scene\":{\"xaxis\":{\"backgroundcolor\":\"#E5ECF6\",\"gridcolor\":\"white\",\"gridwidth\":2,\"linecolor\":\"white\",\"showbackground\":true,\"ticks\":\"\",\"zerolinecolor\":\"white\"},\"yaxis\":{\"backgroundcolor\":\"#E5ECF6\",\"gridcolor\":\"white\",\"gridwidth\":2,\"linecolor\":\"white\",\"showbackground\":true,\"ticks\":\"\",\"zerolinecolor\":\"white\"},\"zaxis\":{\"backgroundcolor\":\"#E5ECF6\",\"gridcolor\":\"white\",\"gridwidth\":2,\"linecolor\":\"white\",\"showbackground\":true,\"ticks\":\"\",\"zerolinecolor\":\"white\"}},\"shapedefaults\":{\"line\":{\"color\":\"#2a3f5f\"}},\"ternary\":{\"aaxis\":{\"gridcolor\":\"white\",\"linecolor\":\"white\",\"ticks\":\"\"},\"baxis\":{\"gridcolor\":\"white\",\"linecolor\":\"white\",\"ticks\":\"\"},\"bgcolor\":\"#E5ECF6\",\"caxis\":{\"gridcolor\":\"white\",\"linecolor\":\"white\",\"ticks\":\"\"}},\"title\":{\"x\":0.05},\"xaxis\":{\"automargin\":true,\"gridcolor\":\"white\",\"linecolor\":\"white\",\"ticks\":\"\",\"title\":{\"standoff\":15},\"zerolinecolor\":\"white\",\"zerolinewidth\":2},\"yaxis\":{\"automargin\":true,\"gridcolor\":\"white\",\"linecolor\":\"white\",\"ticks\":\"\",\"title\":{\"standoff\":15},\"zerolinecolor\":\"white\",\"zerolinewidth\":2}}},\"title\":{\"text\":\"Is Brand affect on Price ?\"},\"xaxis\":{\"anchor\":\"y\",\"categoryarray\":[\"Razer\",\"Apple\",\"Gigabyte\",\"LG\",\"Samsung\",\"MSI\",\"Dell\",\"Fujitsu\",\"HP\",\"Ninkear\",\"Asus\",\"Lenovo\",\"Microsoft\",\"Acer\",\"Huawei\",\"Xiaomi\",\"Honor\",\"Realme\",\"Tecno\",\"Infinix\",\"Vaio\",\"Zebronics\",\"Wings\",\"Chuwi\",\"Avita\",\"Ultimus\",\"Walker\",\"AXL\",\"Primebook\",\"iBall\"],\"categoryorder\":\"array\",\"domain\":[0.0,1.0],\"title\":{\"text\":\"Name Of Brand\"}},\"yaxis\":{\"anchor\":\"x\",\"domain\":[0.0,1.0],\"title\":{\"text\":\"AVG of Price\"}}},                        {\"responsive\": true}                    ).then(function(){\n",
       "                            \n",
       "var gd = document.getElementById('5305e2eb-f4ef-4b51-804f-f74d4a547f81');\n",
       "var x = new MutationObserver(function (mutations, observer) {{\n",
       "        var display = window.getComputedStyle(gd).display;\n",
       "        if (!display || display === 'none') {{\n",
       "            console.log([gd, 'removed!']);\n",
       "            Plotly.purge(gd);\n",
       "            observer.disconnect();\n",
       "        }}\n",
       "}});\n",
       "\n",
       "// Listen for the removal of the full notebook cells\n",
       "var notebookContainer = gd.closest('#notebook-container');\n",
       "if (notebookContainer) {{\n",
       "    x.observe(notebookContainer, {childList: true});\n",
       "}}\n",
       "\n",
       "// Listen for the clearing of the current output cell\n",
       "var outputEl = gd.closest('.output');\n",
       "if (outputEl) {{\n",
       "    x.observe(outputEl, {childList: true});\n",
       "}}\n",
       "\n",
       "                        })                };                });            </script>        </div>"
      ]
     },
     "metadata": {},
     "output_type": "display_data"
    }
   ],
   "source": [
    "iplot(px.bar(price_brand,\n",
    "             color=price_brand.index,\n",
    "             labels={'brand':'Name Of Brand','value':'AVG of Price'},\n",
    "             text_auto=True,\n",
    "             title='Is Brand affect on Price ?'))\n"
   ]
  },
  {
   "cell_type": "markdown",
   "id": "219e472c",
   "metadata": {
    "papermill": {
     "duration": 0.013862,
     "end_time": "2023-12-18T14:55:09.816168",
     "exception": false,
     "start_time": "2023-12-18T14:55:09.802306",
     "status": "completed"
    },
    "tags": []
   },
   "source": [
    "\n",
    "<div style=\"background-color: #0f0f0f; padding: 20px; border-radius: 10px; box-shadow: 5px 5px 10px #888888;\">\n",
    "<h1 style=\"color: white; font-size: 30px; font-weight: bold; text-align: center; text-shadow: 2px 2px 4px #000000;\">spec ratings</h1>\n",
    "</div>"
   ]
  },
  {
   "cell_type": "code",
   "execution_count": 19,
   "id": "7f1406a2",
   "metadata": {
    "execution": {
     "iopub.execute_input": "2023-12-18T14:55:09.847053Z",
     "iopub.status.busy": "2023-12-18T14:55:09.846383Z",
     "iopub.status.idle": "2023-12-18T14:55:10.235992Z",
     "shell.execute_reply": "2023-12-18T14:55:10.235275Z"
    },
    "papermill": {
     "duration": 0.407511,
     "end_time": "2023-12-18T14:55:10.238197",
     "exception": false,
     "start_time": "2023-12-18T14:55:09.830686",
     "status": "completed"
    },
    "tags": []
   },
   "outputs": [
    {
     "data": {
      "image/png": "[encoded data removed]",
      "text/plain": [
       "<Figure size 1500x600 with 1 Axes>"
      ]
     },
     "metadata": {},
     "output_type": "display_data"
    }
   ],
   "source": [
    "plt.figure(figsize=(15,6))\n",
    "sns.kdeplot(df['spec_rating'],fill=True)\n",
    "plt.xlabel('Spec Rating')\n",
    "plt.title('KDE of Spec Rating')\n",
    "plt.show()"
   ]
  },
  {
   "cell_type": "markdown",
   "id": "bd96307c",
   "metadata": {
    "papermill": {
     "duration": 0.014421,
     "end_time": "2023-12-18T14:55:10.267329",
     "exception": false,
     "start_time": "2023-12-18T14:55:10.252908",
     "status": "completed"
    },
    "tags": []
   },
   "source": [
    "<div style=\"background-color: #0f0f0f; padding: 20px; border-radius: 10px; box-shadow: 5px 5px 10px #888888;\">\n",
    "<h1 style=\"color: white; font-size: 30px; font-weight: bold; text-align: center; text-shadow: 2px 2px 4px #000000;\">Processors</h1>\n",
    "</div>"
   ]
  },
  {
   "cell_type": "code",
   "execution_count": 20,
   "id": "089e1899",
   "metadata": {
    "execution": {
     "iopub.execute_input": "2023-12-18T14:55:10.299040Z",
     "iopub.status.busy": "2023-12-18T14:55:10.298403Z",
     "iopub.status.idle": "2023-12-18T14:55:10.305849Z",
     "shell.execute_reply": "2023-12-18T14:55:10.305092Z"
    },
    "papermill": {
     "duration": 0.02569,
     "end_time": "2023-12-18T14:55:10.307808",
     "exception": false,
     "start_time": "2023-12-18T14:55:10.282118",
     "status": "completed"
    },
    "tags": []
   },
   "outputs": [
    {
     "data": {
      "text/plain": [
       "processor\n",
       "12th Gen Intel Core i5 1235U     49\n",
       "13th Gen Intel Core i5 1335U     41\n",
       "12th Gen Intel Core i3 1215U     38\n",
       "11th Gen Intel Core i3 1115G4    36\n",
       "12th Gen Intel Core i5 12450H    33\n",
       "13th Gen Intel Core i7 1360P     18\n",
       "7th Gen AMD Ryzen 3 7320U        17\n",
       "12th Gen Intel Core i5 12500H    17\n",
       "7th Gen AMD Ryzen 5 7520U        17\n",
       "13th Gen Intel Core i7 13700H    16\n",
       "7th Gen AMD Ryzen 5 7530U        16\n",
       "7th Gen AMD Ryzen 7 7840HS       16\n",
       "11th Gen Intel Core i5 1135G7    15\n",
       "5th Gen AMD Ryzen 5 5500U        15\n",
       "12th Gen Intel Core i5 1240P     15\n",
       "Name: count, dtype: int64"
      ]
     },
     "execution_count": 20,
     "metadata": {},
     "output_type": "execute_result"
    }
   ],
   "source": [
    "processors = df['processor'].value_counts()[:15]\n",
    "processors"
   ]
  },
  {
   "cell_type": "code",
   "execution_count": 21,
   "id": "2748b439",
   "metadata": {
    "execution": {
     "iopub.execute_input": "2023-12-18T14:55:10.341715Z",
     "iopub.status.busy": "2023-12-18T14:55:10.340631Z",
     "iopub.status.idle": "2023-12-18T14:55:10.483953Z",
     "shell.execute_reply": "2023-12-18T14:55:10.482735Z"
    },
    "papermill": {
     "duration": 0.161748,
     "end_time": "2023-12-18T14:55:10.486318",
     "exception": false,
     "start_time": "2023-12-18T14:55:10.324570",
     "status": "completed"
    },
    "tags": []
   },
   "outputs": [
    {
     "data": {
      "text/html": [
       "<div>                            <div id=\"404c4b2c-d3e3-42ab-b914-c8dce36d7e4e\" class=\"plotly-graph-div\" style=\"height:525px; width:100%;\"></div>            <script type=\"text/javascript\">                require([\"plotly\"], function(Plotly) {                    window.PLOTLYENV=window.PLOTLYENV || {};                                    if (document.getElementById(\"404c4b2c-d3e3-42ab-b914-c8dce36d7e4e\")) {                    Plotly.newPlot(                        \"404c4b2c-d3e3-42ab-b914-c8dce36d7e4e\",                        [{\"alignmentgroup\":\"True\",\"hovertemplate\":\"processor=%{x}\\u003cbr\\u003eNumebr=%{y}\\u003cextra\\u003e\\u003c\\u002fextra\\u003e\",\"legendgroup\":\"12th Gen Intel Core i5 1235U\",\"marker\":{\"color\":\"#636efa\",\"pattern\":{\"shape\":\"\"}},\"name\":\"12th Gen Intel Core i5 1235U\",\"offsetgroup\":\"12th Gen Intel Core i5 1235U\",\"orientation\":\"v\",\"showlegend\":true,\"textposition\":\"auto\",\"x\":[\"12th Gen Intel Core i5 1235U\"],\"xaxis\":\"x\",\"y\":[49],\"yaxis\":\"y\",\"type\":\"bar\"},{\"alignmentgroup\":\"True\",\"hovertemplate\":\"processor=%{x}\\u003cbr\\u003eNumebr=%{y}\\u003cextra\\u003e\\u003c\\u002fextra\\u003e\",\"legendgroup\":\"13th Gen Intel Core i5 1335U\",\"marker\":{\"color\":\"#EF553B\",\"pattern\":{\"shape\":\"\"}},\"name\":\"13th Gen Intel Core i5 1335U\",\"offsetgroup\":\"13th Gen Intel Core i5 1335U\",\"orientation\":\"v\",\"showlegend\":true,\"textposition\":\"auto\",\"x\":[\"13th Gen Intel Core i5 1335U\"],\"xaxis\":\"x\",\"y\":[41],\"yaxis\":\"y\",\"type\":\"bar\"},{\"alignmentgroup\":\"True\",\"hovertemplate\":\"processor=%{x}\\u003cbr\\u003eNumebr=%{y}\\u003cextra\\u003e\\u003c\\u002fextra\\u003e\",\"legendgroup\":\"12th Gen Intel Core i3 1215U\",\"marker\":{\"color\":\"#00cc96\",\"pattern\":{\"shape\":\"\"}},\"name\":\"12th Gen Intel Core i3 1215U\",\"offsetgroup\":\"12th Gen Intel Core i3 1215U\",\"orientation\":\"v\",\"showlegend\":true,\"textposition\":\"auto\",\"x\":[\"12th Gen Intel Core i3 1215U\"],\"xaxis\":\"x\",\"y\":[38],\"yaxis\":\"y\",\"type\":\"bar\"},{\"alignmentgroup\":\"True\",\"hovertemplate\":\"processor=%{x}\\u003cbr\\u003eNumebr=%{y}\\u003cextra\\u003e\\u003c\\u002fextra\\u003e\",\"legendgroup\":\"11th Gen Intel Core i3 1115G4\",\"marker\":{\"color\":\"#ab63fa\",\"pattern\":{\"shape\":\"\"}},\"name\":\"11th Gen Intel Core i3 1115G4\",\"offsetgroup\":\"11th Gen Intel Core i3 1115G4\",\"orientation\":\"v\",\"showlegend\":true,\"textposition\":\"auto\",\"x\":[\"11th Gen Intel Core i3 1115G4\"],\"xaxis\":\"x\",\"y\":[36],\"yaxis\":\"y\",\"type\":\"bar\"},{\"alignmentgroup\":\"True\",\"hovertemplate\":\"processor=%{x}\\u003cbr\\u003eNumebr=%{y}\\u003cextra\\u003e\\u003c\\u002fextra\\u003e\",\"legendgroup\":\"12th Gen Intel Core i5 12450H\",\"marker\":{\"color\":\"#FFA15A\",\"pattern\":{\"shape\":\"\"}},\"name\":\"12th Gen Intel Core i5 12450H\",\"offsetgroup\":\"12th Gen Intel Core i5 12450H\",\"orientation\":\"v\",\"showlegend\":true,\"textposition\":\"auto\",\"x\":[\"12th Gen Intel Core i5 12450H\"],\"xaxis\":\"x\",\"y\":[33],\"yaxis\":\"y\",\"type\":\"bar\"},{\"alignmentgroup\":\"True\",\"hovertemplate\":\"processor=%{x}\\u003cbr\\u003eNumebr=%{y}\\u003cextra\\u003e\\u003c\\u002fextra\\u003e\",\"legendgroup\":\"13th Gen Intel Core i7 1360P\",\"marker\":{\"color\":\"#19d3f3\",\"pattern\":{\"shape\":\"\"}},\"name\":\"13th Gen Intel Core i7 1360P\",\"offsetgroup\":\"13th Gen Intel Core i7 1360P\",\"orientation\":\"v\",\"showlegend\":true,\"textposition\":\"auto\",\"x\":[\"13th Gen Intel Core i7 1360P\"],\"xaxis\":\"x\",\"y\":[18],\"yaxis\":\"y\",\"type\":\"bar\"},{\"alignmentgroup\":\"True\",\"hovertemplate\":\"processor=%{x}\\u003cbr\\u003eNumebr=%{y}\\u003cextra\\u003e\\u003c\\u002fextra\\u003e\",\"legendgroup\":\"7th Gen AMD Ryzen 3 7320U\",\"marker\":{\"color\":\"#FF6692\",\"pattern\":{\"shape\":\"\"}},\"name\":\"7th Gen AMD Ryzen 3 7320U\",\"offsetgroup\":\"7th Gen AMD Ryzen 3 7320U\",\"orientation\":\"v\",\"showlegend\":true,\"textposition\":\"auto\",\"x\":[\"7th Gen AMD Ryzen 3 7320U\"],\"xaxis\":\"x\",\"y\":[17],\"yaxis\":\"y\",\"type\":\"bar\"},{\"alignmentgroup\":\"True\",\"hovertemplate\":\"processor=%{x}\\u003cbr\\u003eNumebr=%{y}\\u003cextra\\u003e\\u003c\\u002fextra\\u003e\",\"legendgroup\":\"12th Gen Intel Core i5 12500H\",\"marker\":{\"color\":\"#B6E880\",\"pattern\":{\"shape\":\"\"}},\"name\":\"12th Gen Intel Core i5 12500H\",\"offsetgroup\":\"12th Gen Intel Core i5 12500H\",\"orientation\":\"v\",\"showlegend\":true,\"textposition\":\"auto\",\"x\":[\"12th Gen Intel Core i5 12500H\"],\"xaxis\":\"x\",\"y\":[17],\"yaxis\":\"y\",\"type\":\"bar\"},{\"alignmentgroup\":\"True\",\"hovertemplate\":\"processor=%{x}\\u003cbr\\u003eNumebr=%{y}\\u003cextra\\u003e\\u003c\\u002fextra\\u003e\",\"legendgroup\":\"7th Gen AMD Ryzen 5 7520U\",\"marker\":{\"color\":\"#FF97FF\",\"pattern\":{\"shape\":\"\"}},\"name\":\"7th Gen AMD Ryzen 5 7520U\",\"offsetgroup\":\"7th Gen AMD Ryzen 5 7520U\",\"orientation\":\"v\",\"showlegend\":true,\"textposition\":\"auto\",\"x\":[\"7th Gen AMD Ryzen 5 7520U\"],\"xaxis\":\"x\",\"y\":[17],\"yaxis\":\"y\",\"type\":\"bar\"},{\"alignmentgroup\":\"True\",\"hovertemplate\":\"processor=%{x}\\u003cbr\\u003eNumebr=%{y}\\u003cextra\\u003e\\u003c\\u002fextra\\u003e\",\"legendgroup\":\"13th Gen Intel Core i7 13700H\",\"marker\":{\"color\":\"#FECB52\",\"pattern\":{\"shape\":\"\"}},\"name\":\"13th Gen Intel Core i7 13700H\",\"offsetgroup\":\"13th Gen Intel Core i7 13700H\",\"orientation\":\"v\",\"showlegend\":true,\"textposition\":\"auto\",\"x\":[\"13th Gen Intel Core i7 13700H\"],\"xaxis\":\"x\",\"y\":[16],\"yaxis\":\"y\",\"type\":\"bar\"},{\"alignmentgroup\":\"True\",\"hovertemplate\":\"processor=%{x}\\u003cbr\\u003eNumebr=%{y}\\u003cextra\\u003e\\u003c\\u002fextra\\u003e\",\"legendgroup\":\"7th Gen AMD Ryzen 5 7530U\",\"marker\":{\"color\":\"#636efa\",\"pattern\":{\"shape\":\"\"}},\"name\":\"7th Gen AMD Ryzen 5 7530U\",\"offsetgroup\":\"7th Gen AMD Ryzen 5 7530U\",\"orientation\":\"v\",\"showlegend\":true,\"textposition\":\"auto\",\"x\":[\"7th Gen AMD Ryzen 5 7530U\"],\"xaxis\":\"x\",\"y\":[16],\"yaxis\":\"y\",\"type\":\"bar\"},{\"alignmentgroup\":\"True\",\"hovertemplate\":\"processor=%{x}\\u003cbr\\u003eNumebr=%{y}\\u003cextra\\u003e\\u003c\\u002fextra\\u003e\",\"legendgroup\":\"7th Gen AMD Ryzen 7 7840HS\",\"marker\":{\"color\":\"#EF553B\",\"pattern\":{\"shape\":\"\"}},\"name\":\"7th Gen AMD Ryzen 7 7840HS\",\"offsetgroup\":\"7th Gen AMD Ryzen 7 7840HS\",\"orientation\":\"v\",\"showlegend\":true,\"textposition\":\"auto\",\"x\":[\"7th Gen AMD Ryzen 7 7840HS\"],\"xaxis\":\"x\",\"y\":[16],\"yaxis\":\"y\",\"type\":\"bar\"},{\"alignmentgroup\":\"True\",\"hovertemplate\":\"processor=%{x}\\u003cbr\\u003eNumebr=%{y}\\u003cextra\\u003e\\u003c\\u002fextra\\u003e\",\"legendgroup\":\"11th Gen Intel Core i5 1135G7\",\"marker\":{\"color\":\"#00cc96\",\"pattern\":{\"shape\":\"\"}},\"name\":\"11th Gen Intel Core i5 1135G7\",\"offsetgroup\":\"11th Gen Intel Core i5 1135G7\",\"orientation\":\"v\",\"showlegend\":true,\"textposition\":\"auto\",\"x\":[\"11th Gen Intel Core i5 1135G7\"],\"xaxis\":\"x\",\"y\":[15],\"yaxis\":\"y\",\"type\":\"bar\"},{\"alignmentgroup\":\"True\",\"hovertemplate\":\"processor=%{x}\\u003cbr\\u003eNumebr=%{y}\\u003cextra\\u003e\\u003c\\u002fextra\\u003e\",\"legendgroup\":\"5th Gen AMD Ryzen 5 5500U\",\"marker\":{\"color\":\"#ab63fa\",\"pattern\":{\"shape\":\"\"}},\"name\":\"5th Gen AMD Ryzen 5 5500U\",\"offsetgroup\":\"5th Gen AMD Ryzen 5 5500U\",\"orientation\":\"v\",\"showlegend\":true,\"textposition\":\"auto\",\"x\":[\"5th Gen AMD Ryzen 5 5500U\"],\"xaxis\":\"x\",\"y\":[15],\"yaxis\":\"y\",\"type\":\"bar\"},{\"alignmentgroup\":\"True\",\"hovertemplate\":\"processor=%{x}\\u003cbr\\u003eNumebr=%{y}\\u003cextra\\u003e\\u003c\\u002fextra\\u003e\",\"legendgroup\":\"12th Gen Intel Core i5 1240P\",\"marker\":{\"color\":\"#FFA15A\",\"pattern\":{\"shape\":\"\"}},\"name\":\"12th Gen Intel Core i5 1240P\",\"offsetgroup\":\"12th Gen Intel Core i5 1240P\",\"orientation\":\"v\",\"showlegend\":true,\"textposition\":\"auto\",\"x\":[\"12th Gen Intel Core i5 1240P\"],\"xaxis\":\"x\",\"y\":[15],\"yaxis\":\"y\",\"type\":\"bar\"}],                        {\"barmode\":\"relative\",\"legend\":{\"title\":{\"text\":\"processor\"},\"tracegroupgap\":0},\"template\":{\"data\":{\"barpolar\":[{\"marker\":{\"line\":{\"color\":\"#E5ECF6\",\"width\":0.5},\"pattern\":{\"fillmode\":\"overlay\",\"size\":10,\"solidity\":0.2}},\"type\":\"barpolar\"}],\"bar\":[{\"error_x\":{\"color\":\"#2a3f5f\"},\"error_y\":{\"color\":\"#2a3f5f\"},\"marker\":{\"line\":{\"color\":\"#E5ECF6\",\"width\":0.5},\"pattern\":{\"fillmode\":\"overlay\",\"size\":10,\"solidity\":0.2}},\"type\":\"bar\"}],\"carpet\":[{\"aaxis\":{\"endlinecolor\":\"#2a3f5f\",\"gridcolor\":\"white\",\"linecolor\":\"white\",\"minorgridcolor\":\"white\",\"startlinecolor\":\"#2a3f5f\"},\"baxis\":{\"endlinecolor\":\"#2a3f5f\",\"gridcolor\":\"white\",\"linecolor\":\"white\",\"minorgridcolor\":\"white\",\"startlinecolor\":\"#2a3f5f\"},\"type\":\"carpet\"}],\"choropleth\":[{\"colorbar\":{\"outlinewidth\":0,\"ticks\":\"\"},\"type\":\"choropleth\"}],\"contourcarpet\":[{\"colorbar\":{\"outlinewidth\":0,\"ticks\":\"\"},\"type\":\"contourcarpet\"}],\"contour\":[{\"colorbar\":{\"outlinewidth\":0,\"ticks\":\"\"},\"colorscale\":[[0.0,\"#0d0887\"],[0.1111111111111111,\"#46039f\"],[0.2222222222222222,\"#7201a8\"],[0.3333333333333333,\"#9c179e\"],[0.4444444444444444,\"#bd3786\"],[0.5555555555555556,\"#d8576b\"],[0.6666666666666666,\"#ed7953\"],[0.7777777777777778,\"#fb9f3a\"],[0.8888888888888888,\"#fdca26\"],[1.0,\"#f0f921\"]],\"type\":\"contour\"}],\"heatmapgl\":[{\"colorbar\":{\"outlinewidth\":0,\"ticks\":\"\"},\"colorscale\":[[0.0,\"#0d0887\"],[0.1111111111111111,\"#46039f\"],[0.2222222222222222,\"#7201a8\"],[0.3333333333333333,\"#9c179e\"],[0.4444444444444444,\"#bd3786\"],[0.5555555555555556,\"#d8576b\"],[0.6666666666666666,\"#ed7953\"],[0.7777777777777778,\"#fb9f3a\"],[0.8888888888888888,\"#fdca26\"],[1.0,\"#f0f921\"]],\"type\":\"heatmapgl\"}],\"heatmap\":[{\"colorbar\":{\"outlinewidth\":0,\"ticks\":\"\"},\"colorscale\":[[0.0,\"#0d0887\"],[0.1111111111111111,\"#46039f\"],[0.2222222222222222,\"#7201a8\"],[0.3333333333333333,\"#9c179e\"],[0.4444444444444444,\"#bd3786\"],[0.5555555555555556,\"#d8576b\"],[0.6666666666666666,\"#ed7953\"],[0.7777777777777778,\"#fb9f3a\"],[0.8888888888888888,\"#fdca26\"],[1.0,\"#f0f921\"]],\"type\":\"heatmap\"}],\"histogram2dcontour\":[{\"colorbar\":{\"outlinewidth\":0,\"ticks\":\"\"},\"colorscale\":[[0.0,\"#0d0887\"],[0.1111111111111111,\"#46039f\"],[0.2222222222222222,\"#7201a8\"],[0.3333333333333333,\"#9c179e\"],[0.4444444444444444,\"#bd3786\"],[0.5555555555555556,\"#d8576b\"],[0.6666666666666666,\"#ed7953\"],[0.7777777777777778,\"#fb9f3a\"],[0.8888888888888888,\"#fdca26\"],[1.0,\"#f0f921\"]],\"type\":\"histogram2dcontour\"}],\"histogram2d\":[{\"colorbar\":{\"outlinewidth\":0,\"ticks\":\"\"},\"colorscale\":[[0.0,\"#0d0887\"],[0.1111111111111111,\"#46039f\"],[0.2222222222222222,\"#7201a8\"],[0.3333333333333333,\"#9c179e\"],[0.4444444444444444,\"#bd3786\"],[0.5555555555555556,\"#d8576b\"],[0.6666666666666666,\"#ed7953\"],[0.7777777777777778,\"#fb9f3a\"],[0.8888888888888888,\"#fdca26\"],[1.0,\"#f0f921\"]],\"type\":\"histogram2d\"}],\"histogram\":[{\"marker\":{\"pattern\":{\"fillmode\":\"overlay\",\"size\":10,\"solidity\":0.2}},\"type\":\"histogram\"}],\"mesh3d\":[{\"colorbar\":{\"outlinewidth\":0,\"ticks\":\"\"},\"type\":\"mesh3d\"}],\"parcoords\":[{\"line\":{\"colorbar\":{\"outlinewidth\":0,\"ticks\":\"\"}},\"type\":\"parcoords\"}],\"pie\":[{\"automargin\":true,\"type\":\"pie\"}],\"scatter3d\":[{\"line\":{\"colorbar\":{\"outlinewidth\":0,\"ticks\":\"\"}},\"marker\":{\"colorbar\":{\"outlinewidth\":0,\"ticks\":\"\"}},\"type\":\"scatter3d\"}],\"scattercarpet\":[{\"marker\":{\"colorbar\":{\"outlinewidth\":0,\"ticks\":\"\"}},\"type\":\"scattercarpet\"}],\"scattergeo\":[{\"marker\":{\"colorbar\":{\"outlinewidth\":0,\"ticks\":\"\"}},\"type\":\"scattergeo\"}],\"scattergl\":[{\"marker\":{\"colorbar\":{\"outlinewidth\":0,\"ticks\":\"\"}},\"type\":\"scattergl\"}],\"scattermapbox\":[{\"marker\":{\"colorbar\":{\"outlinewidth\":0,\"ticks\":\"\"}},\"type\":\"scattermapbox\"}],\"scatterpolargl\":[{\"marker\":{\"colorbar\":{\"outlinewidth\":0,\"ticks\":\"\"}},\"type\":\"scatterpolargl\"}],\"scatterpolar\":[{\"marker\":{\"colorbar\":{\"outlinewidth\":0,\"ticks\":\"\"}},\"type\":\"scatterpolar\"}],\"scatter\":[{\"fillpattern\":{\"fillmode\":\"overlay\",\"size\":10,\"solidity\":0.2},\"type\":\"scatter\"}],\"scatterternary\":[{\"marker\":{\"colorbar\":{\"outlinewidth\":0,\"ticks\":\"\"}},\"type\":\"scatterternary\"}],\"surface\":[{\"colorbar\":{\"outlinewidth\":0,\"ticks\":\"\"},\"colorscale\":[[0.0,\"#0d0887\"],[0.1111111111111111,\"#46039f\"],[0.2222222222222222,\"#7201a8\"],[0.3333333333333333,\"#9c179e\"],[0.4444444444444444,\"#bd3786\"],[0.5555555555555556,\"#d8576b\"],[0.6666666666666666,\"#ed7953\"],[0.7777777777777778,\"#fb9f3a\"],[0.8888888888888888,\"#fdca26\"],[1.0,\"#f0f921\"]],\"type\":\"surface\"}],\"table\":[{\"cells\":{\"fill\":{\"color\":\"#EBF0F8\"},\"line\":{\"color\":\"white\"}},\"header\":{\"fill\":{\"color\":\"#C8D4E3\"},\"line\":{\"color\":\"white\"}},\"type\":\"table\"}]},\"layout\":{\"annotationdefaults\":{\"arrowcolor\":\"#2a3f5f\",\"arrowhead\":0,\"arrowwidth\":1},\"autotypenumbers\":\"strict\",\"coloraxis\":{\"colorbar\":{\"outlinewidth\":0,\"ticks\":\"\"}},\"colorscale\":{\"diverging\":[[0,\"#8e0152\"],[0.1,\"#c51b7d\"],[0.2,\"#de77ae\"],[0.3,\"#f1b6da\"],[0.4,\"#fde0ef\"],[0.5,\"#f7f7f7\"],[0.6,\"#e6f5d0\"],[0.7,\"#b8e186\"],[0.8,\"#7fbc41\"],[0.9,\"#4d9221\"],[1,\"#276419\"]],\"sequential\":[[0.0,\"#0d0887\"],[0.1111111111111111,\"#46039f\"],[0.2222222222222222,\"#7201a8\"],[0.3333333333333333,\"#9c179e\"],[0.4444444444444444,\"#bd3786\"],[0.5555555555555556,\"#d8576b\"],[0.6666666666666666,\"#ed7953\"],[0.7777777777777778,\"#fb9f3a\"],[0.8888888888888888,\"#fdca26\"],[1.0,\"#f0f921\"]],\"sequentialminus\":[[0.0,\"#0d0887\"],[0.1111111111111111,\"#46039f\"],[0.2222222222222222,\"#7201a8\"],[0.3333333333333333,\"#9c179e\"],[0.4444444444444444,\"#bd3786\"],[0.5555555555555556,\"#d8576b\"],[0.6666666666666666,\"#ed7953\"],[0.7777777777777778,\"#fb9f3a\"],[0.8888888888888888,\"#fdca26\"],[1.0,\"#f0f921\"]]},\"colorway\":[\"#636efa\",\"#EF553B\",\"#00cc96\",\"#ab63fa\",\"#FFA15A\",\"#19d3f3\",\"#FF6692\",\"#B6E880\",\"#FF97FF\",\"#FECB52\"],\"font\":{\"color\":\"#2a3f5f\"},\"geo\":{\"bgcolor\":\"white\",\"lakecolor\":\"white\",\"landcolor\":\"#E5ECF6\",\"showlakes\":true,\"showland\":true,\"subunitcolor\":\"white\"},\"hoverlabel\":{\"align\":\"left\"},\"hovermode\":\"closest\",\"mapbox\":{\"style\":\"light\"},\"paper_bgcolor\":\"white\",\"plot_bgcolor\":\"#E5ECF6\",\"polar\":{\"angularaxis\":{\"gridcolor\":\"white\",\"linecolor\":\"white\",\"ticks\":\"\"},\"bgcolor\":\"#E5ECF6\",\"radialaxis\":{\"gridcolor\":\"white\",\"linecolor\":\"white\",\"ticks\":\"\"}},\"scene\":{\"xaxis\":{\"backgroundcolor\":\"#E5ECF6\",\"gridcolor\":\"white\",\"gridwidth\":2,\"linecolor\":\"white\",\"showbackground\":true,\"ticks\":\"\",\"zerolinecolor\":\"white\"},\"yaxis\":{\"backgroundcolor\":\"#E5ECF6\",\"gridcolor\":\"white\",\"gridwidth\":2,\"linecolor\":\"white\",\"showbackground\":true,\"ticks\":\"\",\"zerolinecolor\":\"white\"},\"zaxis\":{\"backgroundcolor\":\"#E5ECF6\",\"gridcolor\":\"white\",\"gridwidth\":2,\"linecolor\":\"white\",\"showbackground\":true,\"ticks\":\"\",\"zerolinecolor\":\"white\"}},\"shapedefaults\":{\"line\":{\"color\":\"#2a3f5f\"}},\"ternary\":{\"aaxis\":{\"gridcolor\":\"white\",\"linecolor\":\"white\",\"ticks\":\"\"},\"baxis\":{\"gridcolor\":\"white\",\"linecolor\":\"white\",\"ticks\":\"\"},\"bgcolor\":\"#E5ECF6\",\"caxis\":{\"gridcolor\":\"white\",\"linecolor\":\"white\",\"ticks\":\"\"}},\"title\":{\"x\":0.05},\"xaxis\":{\"automargin\":true,\"gridcolor\":\"white\",\"linecolor\":\"white\",\"ticks\":\"\",\"title\":{\"standoff\":15},\"zerolinecolor\":\"white\",\"zerolinewidth\":2},\"yaxis\":{\"automargin\":true,\"gridcolor\":\"white\",\"linecolor\":\"white\",\"ticks\":\"\",\"title\":{\"standoff\":15},\"zerolinecolor\":\"white\",\"zerolinewidth\":2}}},\"title\":{\"text\":\"Top 10 Processors Popular\"},\"xaxis\":{\"anchor\":\"y\",\"categoryarray\":[\"12th Gen Intel Core i5 1235U\",\"13th Gen Intel Core i5 1335U\",\"12th Gen Intel Core i3 1215U\",\"11th Gen Intel Core i3 1115G4\",\"12th Gen Intel Core i5 12450H\",\"13th Gen Intel Core i7 1360P\",\"7th Gen AMD Ryzen 3 7320U\",\"12th Gen Intel Core i5 12500H\",\"7th Gen AMD Ryzen 5 7520U\",\"13th Gen Intel Core i7 13700H\",\"7th Gen AMD Ryzen 5 7530U\",\"7th Gen AMD Ryzen 7 7840HS\",\"11th Gen Intel Core i5 1135G7\",\"5th Gen AMD Ryzen 5 5500U\",\"12th Gen Intel Core i5 1240P\"],\"categoryorder\":\"array\",\"domain\":[0.0,1.0],\"title\":{\"text\":\"processor\"}},\"yaxis\":{\"anchor\":\"x\",\"domain\":[0.0,1.0],\"title\":{\"text\":\"Numebr\"}}},                        {\"responsive\": true}                    ).then(function(){\n",
       "                            \n",
       "var gd = document.getElementById('404c4b2c-d3e3-42ab-b914-c8dce36d7e4e');\n",
       "var x = new MutationObserver(function (mutations, observer) {{\n",
       "        var display = window.getComputedStyle(gd).display;\n",
       "        if (!display || display === 'none') {{\n",
       "            console.log([gd, 'removed!']);\n",
       "            Plotly.purge(gd);\n",
       "            observer.disconnect();\n",
       "        }}\n",
       "}});\n",
       "\n",
       "// Listen for the removal of the full notebook cells\n",
       "var notebookContainer = gd.closest('#notebook-container');\n",
       "if (notebookContainer) {{\n",
       "    x.observe(notebookContainer, {childList: true});\n",
       "}}\n",
       "\n",
       "// Listen for the clearing of the current output cell\n",
       "var outputEl = gd.closest('.output');\n",
       "if (outputEl) {{\n",
       "    x.observe(outputEl, {childList: true});\n",
       "}}\n",
       "\n",
       "                        })                };                });            </script>        </div>"
      ]
     },
     "metadata": {},
     "output_type": "display_data"
    }
   ],
   "source": [
    "iplot(px.bar(processors,\n",
    "             color=processors.index,\n",
    "             labels={'value':'Numebr','index':'Name of Processor'},\n",
    "             title='Top 10 Processors Popular'\n",
    "))"
   ]
  },
  {
   "cell_type": "markdown",
   "id": "1a7b5ae7",
   "metadata": {
    "papermill": {
     "duration": 0.015129,
     "end_time": "2023-12-18T14:55:10.517589",
     "exception": false,
     "start_time": "2023-12-18T14:55:10.502460",
     "status": "completed"
    },
    "tags": []
   },
   "source": [
    "<div style=\"background-color: #0f0f0f; padding: 20px; border-radius: 10px; box-shadow: 5px 5px 10px #888888;\">\n",
    "<h1 style=\"color: white; font-size: 30px; font-weight: bold; text-align: center; text-shadow: 2px 2px 4px #000000;\">CPU</h1>\n",
    "</div>"
   ]
  },
  {
   "cell_type": "code",
   "execution_count": 22,
   "id": "372017cf",
   "metadata": {
    "execution": {
     "iopub.execute_input": "2023-12-18T14:55:10.550838Z",
     "iopub.status.busy": "2023-12-18T14:55:10.550473Z",
     "iopub.status.idle": "2023-12-18T14:55:10.558588Z",
     "shell.execute_reply": "2023-12-18T14:55:10.557478Z"
    },
    "papermill": {
     "duration": 0.027606,
     "end_time": "2023-12-18T14:55:10.561006",
     "exception": false,
     "start_time": "2023-12-18T14:55:10.533400",
     "status": "completed"
    },
    "tags": []
   },
   "outputs": [
    {
     "data": {
      "text/plain": [
       "CPU\n",
       "Quad Core, 8 Threads               130\n",
       "Hexa Core, 12 Threads              126\n",
       "10 Cores (2P + 8E), 12 Threads     125\n",
       "Octa Core, 16 Threads              102\n",
       "12 Cores (4P + 8E), 16 Threads      83\n",
       "Dual Core, 4 Threads                55\n",
       "14 Cores (6P + 8E), 20 Threads      50\n",
       "Hexa Core (2P + 4E), 8 Threads      44\n",
       "Octa Core (4P + 4E), 12 Threads     43\n",
       "Dual Core, 2 Threads                36\n",
       "10 Cores (6P + 4E), 16 Threads      26\n",
       "24 Cores (8P + 16E), 32 Threads     16\n",
       "16 Cores (8P + 8E), 24 Threads      10\n",
       "14 Cores (6P + 8E)                   9\n",
       "5 Cores (1P + 4E), 6 Threads         7\n",
       "Octa Core (4P + 4E)                  5\n",
       "Quad Core, 4 Threads                 4\n",
       "Octa Core, 8 Threads                 4\n",
       "Octa Core                            3\n",
       "10 Cores (8P + 2E)                   2\n",
       "Quad Core                            2\n",
       "12 Cores                             2\n",
       "10 Cores, 12 Threads                 2\n",
       "10 Cores                             2\n",
       "24 Cores (8P + 16E)                  1\n",
       "16 Cores, 32 Threads                 1\n",
       "Octa Core, 12 Threads                1\n",
       "14 Cores, 20 Threads                 1\n",
       "20 Threads                           1\n",
       "Name: count, dtype: int64"
      ]
     },
     "execution_count": 22,
     "metadata": {},
     "output_type": "execute_result"
    }
   ],
   "source": [
    "cpu = df['CPU'].value_counts()\n",
    "cpu"
   ]
  },
  {
   "cell_type": "code",
   "execution_count": 23,
   "id": "3698a5a0",
   "metadata": {
    "execution": {
     "iopub.execute_input": "2023-12-18T14:55:10.593967Z",
     "iopub.status.busy": "2023-12-18T14:55:10.593582Z",
     "iopub.status.idle": "2023-12-18T14:55:10.797980Z",
     "shell.execute_reply": "2023-12-18T14:55:10.796971Z"
    },
    "papermill": {
     "duration": 0.223511,
     "end_time": "2023-12-18T14:55:10.800163",
     "exception": false,
     "start_time": "2023-12-18T14:55:10.576652",
     "status": "completed"
    },
    "tags": []
   },
   "outputs": [
    {
     "data": {
      "text/html": [
       "<div>                            <div id=\"f09b7687-317e-4385-9dd8-6827deb2022b\" class=\"plotly-graph-div\" style=\"height:525px; width:100%;\"></div>            <script type=\"text/javascript\">                require([\"plotly\"], function(Plotly) {                    window.PLOTLYENV=window.PLOTLYENV || {};                                    if (document.getElementById(\"f09b7687-317e-4385-9dd8-6827deb2022b\")) {                    Plotly.newPlot(                        \"f09b7687-317e-4385-9dd8-6827deb2022b\",                        [{\"alignmentgroup\":\"True\",\"hovertemplate\":\"CPU=%{x}\\u003cbr\\u003eNumebr=%{y}\\u003cextra\\u003e\\u003c\\u002fextra\\u003e\",\"legendgroup\":\"Quad Core, 8 Threads\",\"marker\":{\"color\":\"#636efa\",\"pattern\":{\"shape\":\"\"}},\"name\":\"Quad Core, 8 Threads\",\"offsetgroup\":\"Quad Core, 8 Threads\",\"orientation\":\"v\",\"showlegend\":true,\"textposition\":\"auto\",\"x\":[\"Quad Core, 8 Threads\"],\"xaxis\":\"x\",\"y\":[130],\"yaxis\":\"y\",\"type\":\"bar\"},{\"alignmentgroup\":\"True\",\"hovertemplate\":\"CPU=%{x}\\u003cbr\\u003eNumebr=%{y}\\u003cextra\\u003e\\u003c\\u002fextra\\u003e\",\"legendgroup\":\"Hexa Core, 12 Threads\",\"marker\":{\"color\":\"#EF553B\",\"pattern\":{\"shape\":\"\"}},\"name\":\"Hexa Core, 12 Threads\",\"offsetgroup\":\"Hexa Core, 12 Threads\",\"orientation\":\"v\",\"showlegend\":true,\"textposition\":\"auto\",\"x\":[\"Hexa Core, 12 Threads\"],\"xaxis\":\"x\",\"y\":[126],\"yaxis\":\"y\",\"type\":\"bar\"},{\"alignmentgroup\":\"True\",\"hovertemplate\":\"CPU=%{x}\\u003cbr\\u003eNumebr=%{y}\\u003cextra\\u003e\\u003c\\u002fextra\\u003e\",\"legendgroup\":\"10 Cores (2P + 8E), 12 Threads\",\"marker\":{\"color\":\"#00cc96\",\"pattern\":{\"shape\":\"\"}},\"name\":\"10 Cores (2P + 8E), 12 Threads\",\"offsetgroup\":\"10 Cores (2P + 8E), 12 Threads\",\"orientation\":\"v\",\"showlegend\":true,\"textposition\":\"auto\",\"x\":[\"10 Cores (2P + 8E), 12 Threads\"],\"xaxis\":\"x\",\"y\":[125],\"yaxis\":\"y\",\"type\":\"bar\"},{\"alignmentgroup\":\"True\",\"hovertemplate\":\"CPU=%{x}\\u003cbr\\u003eNumebr=%{y}\\u003cextra\\u003e\\u003c\\u002fextra\\u003e\",\"legendgroup\":\"Octa Core, 16 Threads\",\"marker\":{\"color\":\"#ab63fa\",\"pattern\":{\"shape\":\"\"}},\"name\":\"Octa Core, 16 Threads\",\"offsetgroup\":\"Octa Core, 16 Threads\",\"orientation\":\"v\",\"showlegend\":true,\"textposition\":\"auto\",\"x\":[\"Octa Core, 16 Threads\"],\"xaxis\":\"x\",\"y\":[102],\"yaxis\":\"y\",\"type\":\"bar\"},{\"alignmentgroup\":\"True\",\"hovertemplate\":\"CPU=%{x}\\u003cbr\\u003eNumebr=%{y}\\u003cextra\\u003e\\u003c\\u002fextra\\u003e\",\"legendgroup\":\"12 Cores (4P + 8E), 16 Threads\",\"marker\":{\"color\":\"#FFA15A\",\"pattern\":{\"shape\":\"\"}},\"name\":\"12 Cores (4P + 8E), 16 Threads\",\"offsetgroup\":\"12 Cores (4P + 8E), 16 Threads\",\"orientation\":\"v\",\"showlegend\":true,\"textposition\":\"auto\",\"x\":[\"12 Cores (4P + 8E), 16 Threads\"],\"xaxis\":\"x\",\"y\":[83],\"yaxis\":\"y\",\"type\":\"bar\"},{\"alignmentgroup\":\"True\",\"hovertemplate\":\"CPU=%{x}\\u003cbr\\u003eNumebr=%{y}\\u003cextra\\u003e\\u003c\\u002fextra\\u003e\",\"legendgroup\":\"Dual Core, 4 Threads\",\"marker\":{\"color\":\"#19d3f3\",\"pattern\":{\"shape\":\"\"}},\"name\":\"Dual Core, 4 Threads\",\"offsetgroup\":\"Dual Core, 4 Threads\",\"orientation\":\"v\",\"showlegend\":true,\"textposition\":\"auto\",\"x\":[\"Dual Core, 4 Threads\"],\"xaxis\":\"x\",\"y\":[55],\"yaxis\":\"y\",\"type\":\"bar\"},{\"alignmentgroup\":\"True\",\"hovertemplate\":\"CPU=%{x}\\u003cbr\\u003eNumebr=%{y}\\u003cextra\\u003e\\u003c\\u002fextra\\u003e\",\"legendgroup\":\"14 Cores (6P + 8E), 20 Threads\",\"marker\":{\"color\":\"#FF6692\",\"pattern\":{\"shape\":\"\"}},\"name\":\"14 Cores (6P + 8E), 20 Threads\",\"offsetgroup\":\"14 Cores (6P + 8E), 20 Threads\",\"orientation\":\"v\",\"showlegend\":true,\"textposition\":\"auto\",\"x\":[\"14 Cores (6P + 8E), 20 Threads\"],\"xaxis\":\"x\",\"y\":[50],\"yaxis\":\"y\",\"type\":\"bar\"},{\"alignmentgroup\":\"True\",\"hovertemplate\":\"CPU=%{x}\\u003cbr\\u003eNumebr=%{y}\\u003cextra\\u003e\\u003c\\u002fextra\\u003e\",\"legendgroup\":\"Hexa Core (2P + 4E), 8 Threads\",\"marker\":{\"color\":\"#B6E880\",\"pattern\":{\"shape\":\"\"}},\"name\":\"Hexa Core (2P + 4E), 8 Threads\",\"offsetgroup\":\"Hexa Core (2P + 4E), 8 Threads\",\"orientation\":\"v\",\"showlegend\":true,\"textposition\":\"auto\",\"x\":[\"Hexa Core (2P + 4E), 8 Threads\"],\"xaxis\":\"x\",\"y\":[44],\"yaxis\":\"y\",\"type\":\"bar\"},{\"alignmentgroup\":\"True\",\"hovertemplate\":\"CPU=%{x}\\u003cbr\\u003eNumebr=%{y}\\u003cextra\\u003e\\u003c\\u002fextra\\u003e\",\"legendgroup\":\"Octa Core (4P + 4E), 12 Threads\",\"marker\":{\"color\":\"#FF97FF\",\"pattern\":{\"shape\":\"\"}},\"name\":\"Octa Core (4P + 4E), 12 Threads\",\"offsetgroup\":\"Octa Core (4P + 4E), 12 Threads\",\"orientation\":\"v\",\"showlegend\":true,\"textposition\":\"auto\",\"x\":[\"Octa Core (4P + 4E), 12 Threads\"],\"xaxis\":\"x\",\"y\":[43],\"yaxis\":\"y\",\"type\":\"bar\"},{\"alignmentgroup\":\"True\",\"hovertemplate\":\"CPU=%{x}\\u003cbr\\u003eNumebr=%{y}\\u003cextra\\u003e\\u003c\\u002fextra\\u003e\",\"legendgroup\":\"Dual Core, 2 Threads\",\"marker\":{\"color\":\"#FECB52\",\"pattern\":{\"shape\":\"\"}},\"name\":\"Dual Core, 2 Threads\",\"offsetgroup\":\"Dual Core, 2 Threads\",\"orientation\":\"v\",\"showlegend\":true,\"textposition\":\"auto\",\"x\":[\"Dual Core, 2 Threads\"],\"xaxis\":\"x\",\"y\":[36],\"yaxis\":\"y\",\"type\":\"bar\"},{\"alignmentgroup\":\"True\",\"hovertemplate\":\"CPU=%{x}\\u003cbr\\u003eNumebr=%{y}\\u003cextra\\u003e\\u003c\\u002fextra\\u003e\",\"legendgroup\":\"10 Cores (6P + 4E), 16 Threads\",\"marker\":{\"color\":\"#636efa\",\"pattern\":{\"shape\":\"\"}},\"name\":\"10 Cores (6P + 4E), 16 Threads\",\"offsetgroup\":\"10 Cores (6P + 4E), 16 Threads\",\"orientation\":\"v\",\"showlegend\":true,\"textposition\":\"auto\",\"x\":[\"10 Cores (6P + 4E), 16 Threads\"],\"xaxis\":\"x\",\"y\":[26],\"yaxis\":\"y\",\"type\":\"bar\"},{\"alignmentgroup\":\"True\",\"hovertemplate\":\"CPU=%{x}\\u003cbr\\u003eNumebr=%{y}\\u003cextra\\u003e\\u003c\\u002fextra\\u003e\",\"legendgroup\":\"24 Cores (8P + 16E), 32 Threads\",\"marker\":{\"color\":\"#EF553B\",\"pattern\":{\"shape\":\"\"}},\"name\":\"24 Cores (8P + 16E), 32 Threads\",\"offsetgroup\":\"24 Cores (8P + 16E), 32 Threads\",\"orientation\":\"v\",\"showlegend\":true,\"textposition\":\"auto\",\"x\":[\"24 Cores (8P + 16E), 32 Threads\"],\"xaxis\":\"x\",\"y\":[16],\"yaxis\":\"y\",\"type\":\"bar\"},{\"alignmentgroup\":\"True\",\"hovertemplate\":\"CPU=%{x}\\u003cbr\\u003eNumebr=%{y}\\u003cextra\\u003e\\u003c\\u002fextra\\u003e\",\"legendgroup\":\"16 Cores (8P + 8E), 24 Threads\",\"marker\":{\"color\":\"#00cc96\",\"pattern\":{\"shape\":\"\"}},\"name\":\"16 Cores (8P + 8E), 24 Threads\",\"offsetgroup\":\"16 Cores (8P + 8E), 24 Threads\",\"orientation\":\"v\",\"showlegend\":true,\"textposition\":\"auto\",\"x\":[\"16 Cores (8P + 8E), 24 Threads\"],\"xaxis\":\"x\",\"y\":[10],\"yaxis\":\"y\",\"type\":\"bar\"},{\"alignmentgroup\":\"True\",\"hovertemplate\":\"CPU=%{x}\\u003cbr\\u003eNumebr=%{y}\\u003cextra\\u003e\\u003c\\u002fextra\\u003e\",\"legendgroup\":\"14 Cores (6P + 8E)\",\"marker\":{\"color\":\"#ab63fa\",\"pattern\":{\"shape\":\"\"}},\"name\":\"14 Cores (6P + 8E)\",\"offsetgroup\":\"14 Cores (6P + 8E)\",\"orientation\":\"v\",\"showlegend\":true,\"textposition\":\"auto\",\"x\":[\"14 Cores (6P + 8E)\"],\"xaxis\":\"x\",\"y\":[9],\"yaxis\":\"y\",\"type\":\"bar\"},{\"alignmentgroup\":\"True\",\"hovertemplate\":\"CPU=%{x}\\u003cbr\\u003eNumebr=%{y}\\u003cextra\\u003e\\u003c\\u002fextra\\u003e\",\"legendgroup\":\"5 Cores (1P + 4E), 6 Threads\",\"marker\":{\"color\":\"#FFA15A\",\"pattern\":{\"shape\":\"\"}},\"name\":\"5 Cores (1P + 4E), 6 Threads\",\"offsetgroup\":\"5 Cores (1P + 4E), 6 Threads\",\"orientation\":\"v\",\"showlegend\":true,\"textposition\":\"auto\",\"x\":[\"5 Cores (1P + 4E), 6 Threads\"],\"xaxis\":\"x\",\"y\":[7],\"yaxis\":\"y\",\"type\":\"bar\"},{\"alignmentgroup\":\"True\",\"hovertemplate\":\"CPU=%{x}\\u003cbr\\u003eNumebr=%{y}\\u003cextra\\u003e\\u003c\\u002fextra\\u003e\",\"legendgroup\":\"Octa Core (4P + 4E)\",\"marker\":{\"color\":\"#19d3f3\",\"pattern\":{\"shape\":\"\"}},\"name\":\"Octa Core (4P + 4E)\",\"offsetgroup\":\"Octa Core (4P + 4E)\",\"orientation\":\"v\",\"showlegend\":true,\"textposition\":\"auto\",\"x\":[\"Octa Core (4P + 4E)\"],\"xaxis\":\"x\",\"y\":[5],\"yaxis\":\"y\",\"type\":\"bar\"},{\"alignmentgroup\":\"True\",\"hovertemplate\":\"CPU=%{x}\\u003cbr\\u003eNumebr=%{y}\\u003cextra\\u003e\\u003c\\u002fextra\\u003e\",\"legendgroup\":\"Quad Core, 4 Threads\",\"marker\":{\"color\":\"#FF6692\",\"pattern\":{\"shape\":\"\"}},\"name\":\"Quad Core, 4 Threads\",\"offsetgroup\":\"Quad Core, 4 Threads\",\"orientation\":\"v\",\"showlegend\":true,\"textposition\":\"auto\",\"x\":[\"Quad Core, 4 Threads\"],\"xaxis\":\"x\",\"y\":[4],\"yaxis\":\"y\",\"type\":\"bar\"},{\"alignmentgroup\":\"True\",\"hovertemplate\":\"CPU=%{x}\\u003cbr\\u003eNumebr=%{y}\\u003cextra\\u003e\\u003c\\u002fextra\\u003e\",\"legendgroup\":\"Octa Core, 8 Threads\",\"marker\":{\"color\":\"#B6E880\",\"pattern\":{\"shape\":\"\"}},\"name\":\"Octa Core, 8 Threads\",\"offsetgroup\":\"Octa Core, 8 Threads\",\"orientation\":\"v\",\"showlegend\":true,\"textposition\":\"auto\",\"x\":[\"Octa Core, 8 Threads\"],\"xaxis\":\"x\",\"y\":[4],\"yaxis\":\"y\",\"type\":\"bar\"},{\"alignmentgroup\":\"True\",\"hovertemplate\":\"CPU=%{x}\\u003cbr\\u003eNumebr=%{y}\\u003cextra\\u003e\\u003c\\u002fextra\\u003e\",\"legendgroup\":\"Octa Core\",\"marker\":{\"color\":\"#FF97FF\",\"pattern\":{\"shape\":\"\"}},\"name\":\"Octa Core\",\"offsetgroup\":\"Octa Core\",\"orientation\":\"v\",\"showlegend\":true,\"textposition\":\"auto\",\"x\":[\"Octa Core\"],\"xaxis\":\"x\",\"y\":[3],\"yaxis\":\"y\",\"type\":\"bar\"},{\"alignmentgroup\":\"True\",\"hovertemplate\":\"CPU=%{x}\\u003cbr\\u003eNumebr=%{y}\\u003cextra\\u003e\\u003c\\u002fextra\\u003e\",\"legendgroup\":\"10 Cores (8P + 2E)\",\"marker\":{\"color\":\"#FECB52\",\"pattern\":{\"shape\":\"\"}},\"name\":\"10 Cores (8P + 2E)\",\"offsetgroup\":\"10 Cores (8P + 2E)\",\"orientation\":\"v\",\"showlegend\":true,\"textposition\":\"auto\",\"x\":[\"10 Cores (8P + 2E)\"],\"xaxis\":\"x\",\"y\":[2],\"yaxis\":\"y\",\"type\":\"bar\"},{\"alignmentgroup\":\"True\",\"hovertemplate\":\"CPU=%{x}\\u003cbr\\u003eNumebr=%{y}\\u003cextra\\u003e\\u003c\\u002fextra\\u003e\",\"legendgroup\":\"Quad Core\",\"marker\":{\"color\":\"#636efa\",\"pattern\":{\"shape\":\"\"}},\"name\":\"Quad Core\",\"offsetgroup\":\"Quad Core\",\"orientation\":\"v\",\"showlegend\":true,\"textposition\":\"auto\",\"x\":[\"Quad Core\"],\"xaxis\":\"x\",\"y\":[2],\"yaxis\":\"y\",\"type\":\"bar\"},{\"alignmentgroup\":\"True\",\"hovertemplate\":\"CPU=%{x}\\u003cbr\\u003eNumebr=%{y}\\u003cextra\\u003e\\u003c\\u002fextra\\u003e\",\"legendgroup\":\"12 Cores\",\"marker\":{\"color\":\"#EF553B\",\"pattern\":{\"shape\":\"\"}},\"name\":\"12 Cores\",\"offsetgroup\":\"12 Cores\",\"orientation\":\"v\",\"showlegend\":true,\"textposition\":\"auto\",\"x\":[\"12 Cores\"],\"xaxis\":\"x\",\"y\":[2],\"yaxis\":\"y\",\"type\":\"bar\"},{\"alignmentgroup\":\"True\",\"hovertemplate\":\"CPU=%{x}\\u003cbr\\u003eNumebr=%{y}\\u003cextra\\u003e\\u003c\\u002fextra\\u003e\",\"legendgroup\":\"10 Cores, 12 Threads\",\"marker\":{\"color\":\"#00cc96\",\"pattern\":{\"shape\":\"\"}},\"name\":\"10 Cores, 12 Threads\",\"offsetgroup\":\"10 Cores, 12 Threads\",\"orientation\":\"v\",\"showlegend\":true,\"textposition\":\"auto\",\"x\":[\"10 Cores, 12 Threads\"],\"xaxis\":\"x\",\"y\":[2],\"yaxis\":\"y\",\"type\":\"bar\"},{\"alignmentgroup\":\"True\",\"hovertemplate\":\"CPU=%{x}\\u003cbr\\u003eNumebr=%{y}\\u003cextra\\u003e\\u003c\\u002fextra\\u003e\",\"legendgroup\":\"10 Cores\",\"marker\":{\"color\":\"#ab63fa\",\"pattern\":{\"shape\":\"\"}},\"name\":\"10 Cores\",\"offsetgroup\":\"10 Cores\",\"orientation\":\"v\",\"showlegend\":true,\"textposition\":\"auto\",\"x\":[\"10 Cores\"],\"xaxis\":\"x\",\"y\":[2],\"yaxis\":\"y\",\"type\":\"bar\"},{\"alignmentgroup\":\"True\",\"hovertemplate\":\"CPU=%{x}\\u003cbr\\u003eNumebr=%{y}\\u003cextra\\u003e\\u003c\\u002fextra\\u003e\",\"legendgroup\":\"24 Cores (8P + 16E)\",\"marker\":{\"color\":\"#FFA15A\",\"pattern\":{\"shape\":\"\"}},\"name\":\"24 Cores (8P + 16E)\",\"offsetgroup\":\"24 Cores (8P + 16E)\",\"orientation\":\"v\",\"showlegend\":true,\"textposition\":\"auto\",\"x\":[\"24 Cores (8P + 16E)\"],\"xaxis\":\"x\",\"y\":[1],\"yaxis\":\"y\",\"type\":\"bar\"},{\"alignmentgroup\":\"True\",\"hovertemplate\":\"CPU=%{x}\\u003cbr\\u003eNumebr=%{y}\\u003cextra\\u003e\\u003c\\u002fextra\\u003e\",\"legendgroup\":\"16 Cores, 32 Threads\",\"marker\":{\"color\":\"#19d3f3\",\"pattern\":{\"shape\":\"\"}},\"name\":\"16 Cores, 32 Threads\",\"offsetgroup\":\"16 Cores, 32 Threads\",\"orientation\":\"v\",\"showlegend\":true,\"textposition\":\"auto\",\"x\":[\"16 Cores, 32 Threads\"],\"xaxis\":\"x\",\"y\":[1],\"yaxis\":\"y\",\"type\":\"bar\"},{\"alignmentgroup\":\"True\",\"hovertemplate\":\"CPU=%{x}\\u003cbr\\u003eNumebr=%{y}\\u003cextra\\u003e\\u003c\\u002fextra\\u003e\",\"legendgroup\":\"Octa Core, 12 Threads\",\"marker\":{\"color\":\"#FF6692\",\"pattern\":{\"shape\":\"\"}},\"name\":\"Octa Core, 12 Threads\",\"offsetgroup\":\"Octa Core, 12 Threads\",\"orientation\":\"v\",\"showlegend\":true,\"textposition\":\"auto\",\"x\":[\"Octa Core, 12 Threads\"],\"xaxis\":\"x\",\"y\":[1],\"yaxis\":\"y\",\"type\":\"bar\"},{\"alignmentgroup\":\"True\",\"hovertemplate\":\"CPU=%{x}\\u003cbr\\u003eNumebr=%{y}\\u003cextra\\u003e\\u003c\\u002fextra\\u003e\",\"legendgroup\":\"14 Cores, 20 Threads\",\"marker\":{\"color\":\"#B6E880\",\"pattern\":{\"shape\":\"\"}},\"name\":\"14 Cores, 20 Threads\",\"offsetgroup\":\"14 Cores, 20 Threads\",\"orientation\":\"v\",\"showlegend\":true,\"textposition\":\"auto\",\"x\":[\"14 Cores, 20 Threads\"],\"xaxis\":\"x\",\"y\":[1],\"yaxis\":\"y\",\"type\":\"bar\"},{\"alignmentgroup\":\"True\",\"hovertemplate\":\"CPU=%{x}\\u003cbr\\u003eNumebr=%{y}\\u003cextra\\u003e\\u003c\\u002fextra\\u003e\",\"legendgroup\":\"20 Threads\",\"marker\":{\"color\":\"#FF97FF\",\"pattern\":{\"shape\":\"\"}},\"name\":\"20 Threads\",\"offsetgroup\":\"20 Threads\",\"orientation\":\"v\",\"showlegend\":true,\"textposition\":\"auto\",\"x\":[\"20 Threads\"],\"xaxis\":\"x\",\"y\":[1],\"yaxis\":\"y\",\"type\":\"bar\"}],                        {\"barmode\":\"relative\",\"legend\":{\"title\":{\"text\":\"CPU\"},\"tracegroupgap\":0},\"template\":{\"data\":{\"barpolar\":[{\"marker\":{\"line\":{\"color\":\"#E5ECF6\",\"width\":0.5},\"pattern\":{\"fillmode\":\"overlay\",\"size\":10,\"solidity\":0.2}},\"type\":\"barpolar\"}],\"bar\":[{\"error_x\":{\"color\":\"#2a3f5f\"},\"error_y\":{\"color\":\"#2a3f5f\"},\"marker\":{\"line\":{\"color\":\"#E5ECF6\",\"width\":0.5},\"pattern\":{\"fillmode\":\"overlay\",\"size\":10,\"solidity\":0.2}},\"type\":\"bar\"}],\"carpet\":[{\"aaxis\":{\"endlinecolor\":\"#2a3f5f\",\"gridcolor\":\"white\",\"linecolor\":\"white\",\"minorgridcolor\":\"white\",\"startlinecolor\":\"#2a3f5f\"},\"baxis\":{\"endlinecolor\":\"#2a3f5f\",\"gridcolor\":\"white\",\"linecolor\":\"white\",\"minorgridcolor\":\"white\",\"startlinecolor\":\"#2a3f5f\"},\"type\":\"carpet\"}],\"choropleth\":[{\"colorbar\":{\"outlinewidth\":0,\"ticks\":\"\"},\"type\":\"choropleth\"}],\"contourcarpet\":[{\"colorbar\":{\"outlinewidth\":0,\"ticks\":\"\"},\"type\":\"contourcarpet\"}],\"contour\":[{\"colorbar\":{\"outlinewidth\":0,\"ticks\":\"\"},\"colorscale\":[[0.0,\"#0d0887\"],[0.1111111111111111,\"#46039f\"],[0.2222222222222222,\"#7201a8\"],[0.3333333333333333,\"#9c179e\"],[0.4444444444444444,\"#bd3786\"],[0.5555555555555556,\"#d8576b\"],[0.6666666666666666,\"#ed7953\"],[0.7777777777777778,\"#fb9f3a\"],[0.8888888888888888,\"#fdca26\"],[1.0,\"#f0f921\"]],\"type\":\"contour\"}],\"heatmapgl\":[{\"colorbar\":{\"outlinewidth\":0,\"ticks\":\"\"},\"colorscale\":[[0.0,\"#0d0887\"],[0.1111111111111111,\"#46039f\"],[0.2222222222222222,\"#7201a8\"],[0.3333333333333333,\"#9c179e\"],[0.4444444444444444,\"#bd3786\"],[0.5555555555555556,\"#d8576b\"],[0.6666666666666666,\"#ed7953\"],[0.7777777777777778,\"#fb9f3a\"],[0.8888888888888888,\"#fdca26\"],[1.0,\"#f0f921\"]],\"type\":\"heatmapgl\"}],\"heatmap\":[{\"colorbar\":{\"outlinewidth\":0,\"ticks\":\"\"},\"colorscale\":[[0.0,\"#0d0887\"],[0.1111111111111111,\"#46039f\"],[0.2222222222222222,\"#7201a8\"],[0.3333333333333333,\"#9c179e\"],[0.4444444444444444,\"#bd3786\"],[0.5555555555555556,\"#d8576b\"],[0.6666666666666666,\"#ed7953\"],[0.7777777777777778,\"#fb9f3a\"],[0.8888888888888888,\"#fdca26\"],[1.0,\"#f0f921\"]],\"type\":\"heatmap\"}],\"histogram2dcontour\":[{\"colorbar\":{\"outlinewidth\":0,\"ticks\":\"\"},\"colorscale\":[[0.0,\"#0d0887\"],[0.1111111111111111,\"#46039f\"],[0.2222222222222222,\"#7201a8\"],[0.3333333333333333,\"#9c179e\"],[0.4444444444444444,\"#bd3786\"],[0.5555555555555556,\"#d8576b\"],[0.6666666666666666,\"#ed7953\"],[0.7777777777777778,\"#fb9f3a\"],[0.8888888888888888,\"#fdca26\"],[1.0,\"#f0f921\"]],\"type\":\"histogram2dcontour\"}],\"histogram2d\":[{\"colorbar\":{\"outlinewidth\":0,\"ticks\":\"\"},\"colorscale\":[[0.0,\"#0d0887\"],[0.1111111111111111,\"#46039f\"],[0.2222222222222222,\"#7201a8\"],[0.3333333333333333,\"#9c179e\"],[0.4444444444444444,\"#bd3786\"],[0.5555555555555556,\"#d8576b\"],[0.6666666666666666,\"#ed7953\"],[0.7777777777777778,\"#fb9f3a\"],[0.8888888888888888,\"#fdca26\"],[1.0,\"#f0f921\"]],\"type\":\"histogram2d\"}],\"histogram\":[{\"marker\":{\"pattern\":{\"fillmode\":\"overlay\",\"size\":10,\"solidity\":0.2}},\"type\":\"histogram\"}],\"mesh3d\":[{\"colorbar\":{\"outlinewidth\":0,\"ticks\":\"\"},\"type\":\"mesh3d\"}],\"parcoords\":[{\"line\":{\"colorbar\":{\"outlinewidth\":0,\"ticks\":\"\"}},\"type\":\"parcoords\"}],\"pie\":[{\"automargin\":true,\"type\":\"pie\"}],\"scatter3d\":[{\"line\":{\"colorbar\":{\"outlinewidth\":0,\"ticks\":\"\"}},\"marker\":{\"colorbar\":{\"outlinewidth\":0,\"ticks\":\"\"}},\"type\":\"scatter3d\"}],\"scattercarpet\":[{\"marker\":{\"colorbar\":{\"outlinewidth\":0,\"ticks\":\"\"}},\"type\":\"scattercarpet\"}],\"scattergeo\":[{\"marker\":{\"colorbar\":{\"outlinewidth\":0,\"ticks\":\"\"}},\"type\":\"scattergeo\"}],\"scattergl\":[{\"marker\":{\"colorbar\":{\"outlinewidth\":0,\"ticks\":\"\"}},\"type\":\"scattergl\"}],\"scattermapbox\":[{\"marker\":{\"colorbar\":{\"outlinewidth\":0,\"ticks\":\"\"}},\"type\":\"scattermapbox\"}],\"scatterpolargl\":[{\"marker\":{\"colorbar\":{\"outlinewidth\":0,\"ticks\":\"\"}},\"type\":\"scatterpolargl\"}],\"scatterpolar\":[{\"marker\":{\"colorbar\":{\"outlinewidth\":0,\"ticks\":\"\"}},\"type\":\"scatterpolar\"}],\"scatter\":[{\"fillpattern\":{\"fillmode\":\"overlay\",\"size\":10,\"solidity\":0.2},\"type\":\"scatter\"}],\"scatterternary\":[{\"marker\":{\"colorbar\":{\"outlinewidth\":0,\"ticks\":\"\"}},\"type\":\"scatterternary\"}],\"surface\":[{\"colorbar\":{\"outlinewidth\":0,\"ticks\":\"\"},\"colorscale\":[[0.0,\"#0d0887\"],[0.1111111111111111,\"#46039f\"],[0.2222222222222222,\"#7201a8\"],[0.3333333333333333,\"#9c179e\"],[0.4444444444444444,\"#bd3786\"],[0.5555555555555556,\"#d8576b\"],[0.6666666666666666,\"#ed7953\"],[0.7777777777777778,\"#fb9f3a\"],[0.8888888888888888,\"#fdca26\"],[1.0,\"#f0f921\"]],\"type\":\"surface\"}],\"table\":[{\"cells\":{\"fill\":{\"color\":\"#EBF0F8\"},\"line\":{\"color\":\"white\"}},\"header\":{\"fill\":{\"color\":\"#C8D4E3\"},\"line\":{\"color\":\"white\"}},\"type\":\"table\"}]},\"layout\":{\"annotationdefaults\":{\"arrowcolor\":\"#2a3f5f\",\"arrowhead\":0,\"arrowwidth\":1},\"autotypenumbers\":\"strict\",\"coloraxis\":{\"colorbar\":{\"outlinewidth\":0,\"ticks\":\"\"}},\"colorscale\":{\"diverging\":[[0,\"#8e0152\"],[0.1,\"#c51b7d\"],[0.2,\"#de77ae\"],[0.3,\"#f1b6da\"],[0.4,\"#fde0ef\"],[0.5,\"#f7f7f7\"],[0.6,\"#e6f5d0\"],[0.7,\"#b8e186\"],[0.8,\"#7fbc41\"],[0.9,\"#4d9221\"],[1,\"#276419\"]],\"sequential\":[[0.0,\"#0d0887\"],[0.1111111111111111,\"#46039f\"],[0.2222222222222222,\"#7201a8\"],[0.3333333333333333,\"#9c179e\"],[0.4444444444444444,\"#bd3786\"],[0.5555555555555556,\"#d8576b\"],[0.6666666666666666,\"#ed7953\"],[0.7777777777777778,\"#fb9f3a\"],[0.8888888888888888,\"#fdca26\"],[1.0,\"#f0f921\"]],\"sequentialminus\":[[0.0,\"#0d0887\"],[0.1111111111111111,\"#46039f\"],[0.2222222222222222,\"#7201a8\"],[0.3333333333333333,\"#9c179e\"],[0.4444444444444444,\"#bd3786\"],[0.5555555555555556,\"#d8576b\"],[0.6666666666666666,\"#ed7953\"],[0.7777777777777778,\"#fb9f3a\"],[0.8888888888888888,\"#fdca26\"],[1.0,\"#f0f921\"]]},\"colorway\":[\"#636efa\",\"#EF553B\",\"#00cc96\",\"#ab63fa\",\"#FFA15A\",\"#19d3f3\",\"#FF6692\",\"#B6E880\",\"#FF97FF\",\"#FECB52\"],\"font\":{\"color\":\"#2a3f5f\"},\"geo\":{\"bgcolor\":\"white\",\"lakecolor\":\"white\",\"landcolor\":\"#E5ECF6\",\"showlakes\":true,\"showland\":true,\"subunitcolor\":\"white\"},\"hoverlabel\":{\"align\":\"left\"},\"hovermode\":\"closest\",\"mapbox\":{\"style\":\"light\"},\"paper_bgcolor\":\"white\",\"plot_bgcolor\":\"#E5ECF6\",\"polar\":{\"angularaxis\":{\"gridcolor\":\"white\",\"linecolor\":\"white\",\"ticks\":\"\"},\"bgcolor\":\"#E5ECF6\",\"radialaxis\":{\"gridcolor\":\"white\",\"linecolor\":\"white\",\"ticks\":\"\"}},\"scene\":{\"xaxis\":{\"backgroundcolor\":\"#E5ECF6\",\"gridcolor\":\"white\",\"gridwidth\":2,\"linecolor\":\"white\",\"showbackground\":true,\"ticks\":\"\",\"zerolinecolor\":\"white\"},\"yaxis\":{\"backgroundcolor\":\"#E5ECF6\",\"gridcolor\":\"white\",\"gridwidth\":2,\"linecolor\":\"white\",\"showbackground\":true,\"ticks\":\"\",\"zerolinecolor\":\"white\"},\"zaxis\":{\"backgroundcolor\":\"#E5ECF6\",\"gridcolor\":\"white\",\"gridwidth\":2,\"linecolor\":\"white\",\"showbackground\":true,\"ticks\":\"\",\"zerolinecolor\":\"white\"}},\"shapedefaults\":{\"line\":{\"color\":\"#2a3f5f\"}},\"ternary\":{\"aaxis\":{\"gridcolor\":\"white\",\"linecolor\":\"white\",\"ticks\":\"\"},\"baxis\":{\"gridcolor\":\"white\",\"linecolor\":\"white\",\"ticks\":\"\"},\"bgcolor\":\"#E5ECF6\",\"caxis\":{\"gridcolor\":\"white\",\"linecolor\":\"white\",\"ticks\":\"\"}},\"title\":{\"x\":0.05},\"xaxis\":{\"automargin\":true,\"gridcolor\":\"white\",\"linecolor\":\"white\",\"ticks\":\"\",\"title\":{\"standoff\":15},\"zerolinecolor\":\"white\",\"zerolinewidth\":2},\"yaxis\":{\"automargin\":true,\"gridcolor\":\"white\",\"linecolor\":\"white\",\"ticks\":\"\",\"title\":{\"standoff\":15},\"zerolinecolor\":\"white\",\"zerolinewidth\":2}}},\"title\":{\"text\":\"Top 15 CPU Popular\"},\"xaxis\":{\"anchor\":\"y\",\"categoryarray\":[\"Quad Core, 8 Threads\",\"Hexa Core, 12 Threads\",\"10 Cores (2P + 8E), 12 Threads\",\"Octa Core, 16 Threads\",\"12 Cores (4P + 8E), 16 Threads\",\"Dual Core, 4 Threads\",\"14 Cores (6P + 8E), 20 Threads\",\"Hexa Core (2P + 4E), 8 Threads\",\"Octa Core (4P + 4E), 12 Threads\",\"Dual Core, 2 Threads\",\"10 Cores (6P + 4E), 16 Threads\",\"24 Cores (8P + 16E), 32 Threads\",\"16 Cores (8P + 8E), 24 Threads\",\"14 Cores (6P + 8E)\",\"5 Cores (1P + 4E), 6 Threads\",\"Octa Core (4P + 4E)\",\"Quad Core, 4 Threads\",\"Octa Core, 8 Threads\",\"Octa Core\",\"10 Cores (8P + 2E)\",\"Quad Core\",\"12 Cores\",\"10 Cores, 12 Threads\",\"10 Cores\",\"24 Cores (8P + 16E)\",\"16 Cores, 32 Threads\",\"Octa Core, 12 Threads\",\"14 Cores, 20 Threads\",\"20 Threads\"],\"categoryorder\":\"array\",\"domain\":[0.0,1.0],\"title\":{\"text\":\"CPU\"}},\"yaxis\":{\"anchor\":\"x\",\"domain\":[0.0,1.0],\"title\":{\"text\":\"Numebr\"}}},                        {\"responsive\": true}                    ).then(function(){\n",
       "                            \n",
       "var gd = document.getElementById('f09b7687-317e-4385-9dd8-6827deb2022b');\n",
       "var x = new MutationObserver(function (mutations, observer) {{\n",
       "        var display = window.getComputedStyle(gd).display;\n",
       "        if (!display || display === 'none') {{\n",
       "            console.log([gd, 'removed!']);\n",
       "            Plotly.purge(gd);\n",
       "            observer.disconnect();\n",
       "        }}\n",
       "}});\n",
       "\n",
       "// Listen for the removal of the full notebook cells\n",
       "var notebookContainer = gd.closest('#notebook-container');\n",
       "if (notebookContainer) {{\n",
       "    x.observe(notebookContainer, {childList: true});\n",
       "}}\n",
       "\n",
       "// Listen for the clearing of the current output cell\n",
       "var outputEl = gd.closest('.output');\n",
       "if (outputEl) {{\n",
       "    x.observe(outputEl, {childList: true});\n",
       "}}\n",
       "\n",
       "                        })                };                });            </script>        </div>"
      ]
     },
     "metadata": {},
     "output_type": "display_data"
    }
   ],
   "source": [
    "iplot(px.bar(cpu,\n",
    "             color=cpu.index,\n",
    "             labels={'value':'Numebr','index':'Name of CPU'},\n",
    "             title='Top 15 CPU Popular',\n",
    "))"
   ]
  },
  {
   "cell_type": "markdown",
   "id": "31897289",
   "metadata": {
    "papermill": {
     "duration": 0.015378,
     "end_time": "2023-12-18T14:55:10.834169",
     "exception": false,
     "start_time": "2023-12-18T14:55:10.818791",
     "status": "completed"
    },
    "tags": []
   },
   "source": [
    "<div style=\"background-color: #0f0f0f; padding: 20px; border-radius: 10px; box-shadow: 5px 5px 10px #888888;\">\n",
    "<h1 style=\"color: white; font-size: 30px; font-weight: bold; text-align: center; text-shadow: 2px 2px 4px #000000;\">RAM</h1>\n",
    "</div>"
   ]
  },
  {
   "cell_type": "markdown",
   "id": "70422457",
   "metadata": {
    "papermill": {
     "duration": 0.01528,
     "end_time": "2023-12-18T14:55:10.865213",
     "exception": false,
     "start_time": "2023-12-18T14:55:10.849933",
     "status": "completed"
    },
    "tags": []
   },
   "source": [
    "# RAM"
   ]
  },
  {
   "cell_type": "code",
   "execution_count": 24,
   "id": "70cc6cfc",
   "metadata": {
    "execution": {
     "iopub.execute_input": "2023-12-18T14:55:10.897971Z",
     "iopub.status.busy": "2023-12-18T14:55:10.897593Z",
     "iopub.status.idle": "2023-12-18T14:55:10.906193Z",
     "shell.execute_reply": "2023-12-18T14:55:10.905120Z"
    },
    "papermill": {
     "duration": 0.027578,
     "end_time": "2023-12-18T14:55:10.908353",
     "exception": false,
     "start_time": "2023-12-18T14:55:10.880775",
     "status": "completed"
    },
    "tags": []
   },
   "outputs": [
    {
     "data": {
      "text/plain": [
       "Ram\n",
       "16GB    456\n",
       "8GB     369\n",
       "32GB     40\n",
       "4GB      22\n",
       "64GB      3\n",
       "12GB      2\n",
       "2GB       1\n",
       "Name: count, dtype: int64"
      ]
     },
     "execution_count": 24,
     "metadata": {},
     "output_type": "execute_result"
    }
   ],
   "source": [
    "ram = df['Ram'].value_counts()\n",
    "ram"
   ]
  },
  {
   "cell_type": "code",
   "execution_count": 25,
   "id": "b756bd25",
   "metadata": {
    "execution": {
     "iopub.execute_input": "2023-12-18T14:55:10.942018Z",
     "iopub.status.busy": "2023-12-18T14:55:10.941655Z",
     "iopub.status.idle": "2023-12-18T14:55:11.035382Z",
     "shell.execute_reply": "2023-12-18T14:55:11.034284Z"
    },
    "papermill": {
     "duration": 0.113487,
     "end_time": "2023-12-18T14:55:11.037832",
     "exception": false,
     "start_time": "2023-12-18T14:55:10.924345",
     "status": "completed"
    },
    "tags": []
   },
   "outputs": [
    {
     "data": {
      "text/html": [
       "<div>                            <div id=\"568ca1ea-efe9-47f8-a50e-5c5eb84295e0\" class=\"plotly-graph-div\" style=\"height:525px; width:100%;\"></div>            <script type=\"text/javascript\">                require([\"plotly\"], function(Plotly) {                    window.PLOTLYENV=window.PLOTLYENV || {};                                    if (document.getElementById(\"568ca1ea-efe9-47f8-a50e-5c5eb84295e0\")) {                    Plotly.newPlot(                        \"568ca1ea-efe9-47f8-a50e-5c5eb84295e0\",                        [{\"domain\":{\"x\":[0.0,1.0],\"y\":[0.0,1.0]},\"hovertemplate\":\"label=%{label}\\u003cbr\\u003evalue=%{value}\\u003cextra\\u003e\\u003c\\u002fextra\\u003e\",\"labels\":[\"16GB\",\"8GB\",\"32GB\",\"4GB\",\"64GB\",\"12GB\",\"2GB\"],\"legendgroup\":\"\",\"name\":\"\",\"showlegend\":true,\"textinfo\":\"value+percent\",\"values\":[456,369,40,22,3,2,1],\"type\":\"pie\"}],                        {\"legend\":{\"tracegroupgap\":0},\"piecolorway\":[\"#8c0404\",\"#f25ed0\",\"#000000\",\"#16A085\",\"#34495E\",\"#21618C \",\"#512E5F\",\"#45B39D\",\"#AAB7B8 \",\"#20B2AA\",\"#FF69B4\",\"#00CED1\",\"#FF7F50\",\"#7FFF00\",\"#DA70D6\"],\"template\":{\"data\":{\"barpolar\":[{\"marker\":{\"line\":{\"color\":\"#E5ECF6\",\"width\":0.5},\"pattern\":{\"fillmode\":\"overlay\",\"size\":10,\"solidity\":0.2}},\"type\":\"barpolar\"}],\"bar\":[{\"error_x\":{\"color\":\"#2a3f5f\"},\"error_y\":{\"color\":\"#2a3f5f\"},\"marker\":{\"line\":{\"color\":\"#E5ECF6\",\"width\":0.5},\"pattern\":{\"fillmode\":\"overlay\",\"size\":10,\"solidity\":0.2}},\"type\":\"bar\"}],\"carpet\":[{\"aaxis\":{\"endlinecolor\":\"#2a3f5f\",\"gridcolor\":\"white\",\"linecolor\":\"white\",\"minorgridcolor\":\"white\",\"startlinecolor\":\"#2a3f5f\"},\"baxis\":{\"endlinecolor\":\"#2a3f5f\",\"gridcolor\":\"white\",\"linecolor\":\"white\",\"minorgridcolor\":\"white\",\"startlinecolor\":\"#2a3f5f\"},\"type\":\"carpet\"}],\"choropleth\":[{\"colorbar\":{\"outlinewidth\":0,\"ticks\":\"\"},\"type\":\"choropleth\"}],\"contourcarpet\":[{\"colorbar\":{\"outlinewidth\":0,\"ticks\":\"\"},\"type\":\"contourcarpet\"}],\"contour\":[{\"colorbar\":{\"outlinewidth\":0,\"ticks\":\"\"},\"colorscale\":[[0.0,\"#0d0887\"],[0.1111111111111111,\"#46039f\"],[0.2222222222222222,\"#7201a8\"],[0.3333333333333333,\"#9c179e\"],[0.4444444444444444,\"#bd3786\"],[0.5555555555555556,\"#d8576b\"],[0.6666666666666666,\"#ed7953\"],[0.7777777777777778,\"#fb9f3a\"],[0.8888888888888888,\"#fdca26\"],[1.0,\"#f0f921\"]],\"type\":\"contour\"}],\"heatmapgl\":[{\"colorbar\":{\"outlinewidth\":0,\"ticks\":\"\"},\"colorscale\":[[0.0,\"#0d0887\"],[0.1111111111111111,\"#46039f\"],[0.2222222222222222,\"#7201a8\"],[0.3333333333333333,\"#9c179e\"],[0.4444444444444444,\"#bd3786\"],[0.5555555555555556,\"#d8576b\"],[0.6666666666666666,\"#ed7953\"],[0.7777777777777778,\"#fb9f3a\"],[0.8888888888888888,\"#fdca26\"],[1.0,\"#f0f921\"]],\"type\":\"heatmapgl\"}],\"heatmap\":[{\"colorbar\":{\"outlinewidth\":0,\"ticks\":\"\"},\"colorscale\":[[0.0,\"#0d0887\"],[0.1111111111111111,\"#46039f\"],[0.2222222222222222,\"#7201a8\"],[0.3333333333333333,\"#9c179e\"],[0.4444444444444444,\"#bd3786\"],[0.5555555555555556,\"#d8576b\"],[0.6666666666666666,\"#ed7953\"],[0.7777777777777778,\"#fb9f3a\"],[0.8888888888888888,\"#fdca26\"],[1.0,\"#f0f921\"]],\"type\":\"heatmap\"}],\"histogram2dcontour\":[{\"colorbar\":{\"outlinewidth\":0,\"ticks\":\"\"},\"colorscale\":[[0.0,\"#0d0887\"],[0.1111111111111111,\"#46039f\"],[0.2222222222222222,\"#7201a8\"],[0.3333333333333333,\"#9c179e\"],[0.4444444444444444,\"#bd3786\"],[0.5555555555555556,\"#d8576b\"],[0.6666666666666666,\"#ed7953\"],[0.7777777777777778,\"#fb9f3a\"],[0.8888888888888888,\"#fdca26\"],[1.0,\"#f0f921\"]],\"type\":\"histogram2dcontour\"}],\"histogram2d\":[{\"colorbar\":{\"outlinewidth\":0,\"ticks\":\"\"},\"colorscale\":[[0.0,\"#0d0887\"],[0.1111111111111111,\"#46039f\"],[0.2222222222222222,\"#7201a8\"],[0.3333333333333333,\"#9c179e\"],[0.4444444444444444,\"#bd3786\"],[0.5555555555555556,\"#d8576b\"],[0.6666666666666666,\"#ed7953\"],[0.7777777777777778,\"#fb9f3a\"],[0.8888888888888888,\"#fdca26\"],[1.0,\"#f0f921\"]],\"type\":\"histogram2d\"}],\"histogram\":[{\"marker\":{\"pattern\":{\"fillmode\":\"overlay\",\"size\":10,\"solidity\":0.2}},\"type\":\"histogram\"}],\"mesh3d\":[{\"colorbar\":{\"outlinewidth\":0,\"ticks\":\"\"},\"type\":\"mesh3d\"}],\"parcoords\":[{\"line\":{\"colorbar\":{\"outlinewidth\":0,\"ticks\":\"\"}},\"type\":\"parcoords\"}],\"pie\":[{\"automargin\":true,\"type\":\"pie\"}],\"scatter3d\":[{\"line\":{\"colorbar\":{\"outlinewidth\":0,\"ticks\":\"\"}},\"marker\":{\"colorbar\":{\"outlinewidth\":0,\"ticks\":\"\"}},\"type\":\"scatter3d\"}],\"scattercarpet\":[{\"marker\":{\"colorbar\":{\"outlinewidth\":0,\"ticks\":\"\"}},\"type\":\"scattercarpet\"}],\"scattergeo\":[{\"marker\":{\"colorbar\":{\"outlinewidth\":0,\"ticks\":\"\"}},\"type\":\"scattergeo\"}],\"scattergl\":[{\"marker\":{\"colorbar\":{\"outlinewidth\":0,\"ticks\":\"\"}},\"type\":\"scattergl\"}],\"scattermapbox\":[{\"marker\":{\"colorbar\":{\"outlinewidth\":0,\"ticks\":\"\"}},\"type\":\"scattermapbox\"}],\"scatterpolargl\":[{\"marker\":{\"colorbar\":{\"outlinewidth\":0,\"ticks\":\"\"}},\"type\":\"scatterpolargl\"}],\"scatterpolar\":[{\"marker\":{\"colorbar\":{\"outlinewidth\":0,\"ticks\":\"\"}},\"type\":\"scatterpolar\"}],\"scatter\":[{\"fillpattern\":{\"fillmode\":\"overlay\",\"size\":10,\"solidity\":0.2},\"type\":\"scatter\"}],\"scatterternary\":[{\"marker\":{\"colorbar\":{\"outlinewidth\":0,\"ticks\":\"\"}},\"type\":\"scatterternary\"}],\"surface\":[{\"colorbar\":{\"outlinewidth\":0,\"ticks\":\"\"},\"colorscale\":[[0.0,\"#0d0887\"],[0.1111111111111111,\"#46039f\"],[0.2222222222222222,\"#7201a8\"],[0.3333333333333333,\"#9c179e\"],[0.4444444444444444,\"#bd3786\"],[0.5555555555555556,\"#d8576b\"],[0.6666666666666666,\"#ed7953\"],[0.7777777777777778,\"#fb9f3a\"],[0.8888888888888888,\"#fdca26\"],[1.0,\"#f0f921\"]],\"type\":\"surface\"}],\"table\":[{\"cells\":{\"fill\":{\"color\":\"#EBF0F8\"},\"line\":{\"color\":\"white\"}},\"header\":{\"fill\":{\"color\":\"#C8D4E3\"},\"line\":{\"color\":\"white\"}},\"type\":\"table\"}]},\"layout\":{\"annotationdefaults\":{\"arrowcolor\":\"#2a3f5f\",\"arrowhead\":0,\"arrowwidth\":1},\"autotypenumbers\":\"strict\",\"coloraxis\":{\"colorbar\":{\"outlinewidth\":0,\"ticks\":\"\"}},\"colorscale\":{\"diverging\":[[0,\"#8e0152\"],[0.1,\"#c51b7d\"],[0.2,\"#de77ae\"],[0.3,\"#f1b6da\"],[0.4,\"#fde0ef\"],[0.5,\"#f7f7f7\"],[0.6,\"#e6f5d0\"],[0.7,\"#b8e186\"],[0.8,\"#7fbc41\"],[0.9,\"#4d9221\"],[1,\"#276419\"]],\"sequential\":[[0.0,\"#0d0887\"],[0.1111111111111111,\"#46039f\"],[0.2222222222222222,\"#7201a8\"],[0.3333333333333333,\"#9c179e\"],[0.4444444444444444,\"#bd3786\"],[0.5555555555555556,\"#d8576b\"],[0.6666666666666666,\"#ed7953\"],[0.7777777777777778,\"#fb9f3a\"],[0.8888888888888888,\"#fdca26\"],[1.0,\"#f0f921\"]],\"sequentialminus\":[[0.0,\"#0d0887\"],[0.1111111111111111,\"#46039f\"],[0.2222222222222222,\"#7201a8\"],[0.3333333333333333,\"#9c179e\"],[0.4444444444444444,\"#bd3786\"],[0.5555555555555556,\"#d8576b\"],[0.6666666666666666,\"#ed7953\"],[0.7777777777777778,\"#fb9f3a\"],[0.8888888888888888,\"#fdca26\"],[1.0,\"#f0f921\"]]},\"colorway\":[\"#636efa\",\"#EF553B\",\"#00cc96\",\"#ab63fa\",\"#FFA15A\",\"#19d3f3\",\"#FF6692\",\"#B6E880\",\"#FF97FF\",\"#FECB52\"],\"font\":{\"color\":\"#2a3f5f\"},\"geo\":{\"bgcolor\":\"white\",\"lakecolor\":\"white\",\"landcolor\":\"#E5ECF6\",\"showlakes\":true,\"showland\":true,\"subunitcolor\":\"white\"},\"hoverlabel\":{\"align\":\"left\"},\"hovermode\":\"closest\",\"mapbox\":{\"style\":\"light\"},\"paper_bgcolor\":\"white\",\"plot_bgcolor\":\"#E5ECF6\",\"polar\":{\"angularaxis\":{\"gridcolor\":\"white\",\"linecolor\":\"white\",\"ticks\":\"\"},\"bgcolor\":\"#E5ECF6\",\"radialaxis\":{\"gridcolor\":\"white\",\"linecolor\":\"white\",\"ticks\":\"\"}},\"scene\":{\"xaxis\":{\"backgroundcolor\":\"#E5ECF6\",\"gridcolor\":\"white\",\"gridwidth\":2,\"linecolor\":\"white\",\"showbackground\":true,\"ticks\":\"\",\"zerolinecolor\":\"white\"},\"yaxis\":{\"backgroundcolor\":\"#E5ECF6\",\"gridcolor\":\"white\",\"gridwidth\":2,\"linecolor\":\"white\",\"showbackground\":true,\"ticks\":\"\",\"zerolinecolor\":\"white\"},\"zaxis\":{\"backgroundcolor\":\"#E5ECF6\",\"gridcolor\":\"white\",\"gridwidth\":2,\"linecolor\":\"white\",\"showbackground\":true,\"ticks\":\"\",\"zerolinecolor\":\"white\"}},\"shapedefaults\":{\"line\":{\"color\":\"#2a3f5f\"}},\"ternary\":{\"aaxis\":{\"gridcolor\":\"white\",\"linecolor\":\"white\",\"ticks\":\"\"},\"baxis\":{\"gridcolor\":\"white\",\"linecolor\":\"white\",\"ticks\":\"\"},\"bgcolor\":\"#E5ECF6\",\"caxis\":{\"gridcolor\":\"white\",\"linecolor\":\"white\",\"ticks\":\"\"}},\"title\":{\"x\":0.05},\"xaxis\":{\"automargin\":true,\"gridcolor\":\"white\",\"linecolor\":\"white\",\"ticks\":\"\",\"title\":{\"standoff\":15},\"zerolinecolor\":\"white\",\"zerolinewidth\":2},\"yaxis\":{\"automargin\":true,\"gridcolor\":\"white\",\"linecolor\":\"white\",\"ticks\":\"\",\"title\":{\"standoff\":15},\"zerolinecolor\":\"white\",\"zerolinewidth\":2}}},\"title\":{\"text\":\"Ram counts\"}},                        {\"responsive\": true}                    ).then(function(){\n",
       "                            \n",
       "var gd = document.getElementById('568ca1ea-efe9-47f8-a50e-5c5eb84295e0');\n",
       "var x = new MutationObserver(function (mutations, observer) {{\n",
       "        var display = window.getComputedStyle(gd).display;\n",
       "        if (!display || display === 'none') {{\n",
       "            console.log([gd, 'removed!']);\n",
       "            Plotly.purge(gd);\n",
       "            observer.disconnect();\n",
       "        }}\n",
       "}});\n",
       "\n",
       "// Listen for the removal of the full notebook cells\n",
       "var notebookContainer = gd.closest('#notebook-container');\n",
       "if (notebookContainer) {{\n",
       "    x.observe(notebookContainer, {childList: true});\n",
       "}}\n",
       "\n",
       "// Listen for the clearing of the current output cell\n",
       "var outputEl = gd.closest('.output');\n",
       "if (outputEl) {{\n",
       "    x.observe(outputEl, {childList: true});\n",
       "}}\n",
       "\n",
       "                        })                };                });            </script>        </div>"
      ]
     },
     "metadata": {},
     "output_type": "display_data"
    }
   ],
   "source": [
    "iplot(px.pie(values = ram,\n",
    "       names=['16GB','8GB','32GB','4GB','64GB','12GB','2GB'],\n",
    "       color_discrete_sequence = colors,\n",
    "       title=\"Ram counts\").update_traces(textinfo='value+percent'))"
   ]
  },
  {
   "cell_type": "markdown",
   "id": "8134525d",
   "metadata": {
    "papermill": {
     "duration": 0.015945,
     "end_time": "2023-12-18T14:55:11.070120",
     "exception": false,
     "start_time": "2023-12-18T14:55:11.054175",
     "status": "completed"
    },
    "tags": []
   },
   "source": [
    "# RAM TYPE"
   ]
  },
  {
   "cell_type": "code",
   "execution_count": 26,
   "id": "40a73372",
   "metadata": {
    "execution": {
     "iopub.execute_input": "2023-12-18T14:55:11.104702Z",
     "iopub.status.busy": "2023-12-18T14:55:11.104014Z",
     "iopub.status.idle": "2023-12-18T14:55:11.112659Z",
     "shell.execute_reply": "2023-12-18T14:55:11.111600Z"
    },
    "papermill": {
     "duration": 0.028583,
     "end_time": "2023-12-18T14:55:11.114985",
     "exception": false,
     "start_time": "2023-12-18T14:55:11.086402",
     "status": "completed"
    },
    "tags": []
   },
   "outputs": [
    {
     "data": {
      "text/plain": [
       "Ram_type\n",
       "DDR4       499\n",
       "DDR5       166\n",
       "LPDDR5     145\n",
       "LPDDR4X     41\n",
       "LPDDR4      14\n",
       "LPDDR4x     13\n",
       "Unified      7\n",
       "DDR3         3\n",
       "LPDDR5X      2\n",
       "DDR4-        1\n",
       "LPDDR5x      1\n",
       "DDR          1\n",
       "Name: count, dtype: int64"
      ]
     },
     "execution_count": 26,
     "metadata": {},
     "output_type": "execute_result"
    }
   ],
   "source": [
    "Ram_type_counts = df['Ram_type'].value_counts()\n",
    "Ram_type_counts"
   ]
  },
  {
   "cell_type": "code",
   "execution_count": 27,
   "id": "e37cd81a",
   "metadata": {
    "execution": {
     "iopub.execute_input": "2023-12-18T14:55:11.150596Z",
     "iopub.status.busy": "2023-12-18T14:55:11.149636Z",
     "iopub.status.idle": "2023-12-18T14:55:11.284641Z",
     "shell.execute_reply": "2023-12-18T14:55:11.283379Z"
    },
    "papermill": {
     "duration": 0.155772,
     "end_time": "2023-12-18T14:55:11.287611",
     "exception": false,
     "start_time": "2023-12-18T14:55:11.131839",
     "status": "completed"
    },
    "tags": []
   },
   "outputs": [
    {
     "data": {
      "text/html": [
       "<div>                            <div id=\"725b6017-da84-4a9c-934b-d55e730905e0\" class=\"plotly-graph-div\" style=\"height:525px; width:100%;\"></div>            <script type=\"text/javascript\">                require([\"plotly\"], function(Plotly) {                    window.PLOTLYENV=window.PLOTLYENV || {};                                    if (document.getElementById(\"725b6017-da84-4a9c-934b-d55e730905e0\")) {                    Plotly.newPlot(                        \"725b6017-da84-4a9c-934b-d55e730905e0\",                        [{\"alignmentgroup\":\"True\",\"hovertemplate\":\"Ram_type=%{x}\\u003cbr\\u003evalue=%{y}\\u003cbr\\u003etext=%{text}\\u003cextra\\u003e\\u003c\\u002fextra\\u003e\",\"legendgroup\":\"DDR4\",\"marker\":{\"color\":\"#636efa\",\"pattern\":{\"shape\":\"\"}},\"name\":\"DDR4\",\"offsetgroup\":\"DDR4\",\"orientation\":\"v\",\"showlegend\":true,\"text\":[499.0],\"textposition\":\"auto\",\"x\":[\"DDR4\"],\"xaxis\":\"x\",\"y\":[499],\"yaxis\":\"y\",\"type\":\"bar\"},{\"alignmentgroup\":\"True\",\"hovertemplate\":\"Ram_type=%{x}\\u003cbr\\u003evalue=%{y}\\u003cbr\\u003etext=%{text}\\u003cextra\\u003e\\u003c\\u002fextra\\u003e\",\"legendgroup\":\"DDR5\",\"marker\":{\"color\":\"#EF553B\",\"pattern\":{\"shape\":\"\"}},\"name\":\"DDR5\",\"offsetgroup\":\"DDR5\",\"orientation\":\"v\",\"showlegend\":true,\"text\":[166.0],\"textposition\":\"auto\",\"x\":[\"DDR5\"],\"xaxis\":\"x\",\"y\":[166],\"yaxis\":\"y\",\"type\":\"bar\"},{\"alignmentgroup\":\"True\",\"hovertemplate\":\"Ram_type=%{x}\\u003cbr\\u003evalue=%{y}\\u003cbr\\u003etext=%{text}\\u003cextra\\u003e\\u003c\\u002fextra\\u003e\",\"legendgroup\":\"LPDDR5\",\"marker\":{\"color\":\"#00cc96\",\"pattern\":{\"shape\":\"\"}},\"name\":\"LPDDR5\",\"offsetgroup\":\"LPDDR5\",\"orientation\":\"v\",\"showlegend\":true,\"text\":[145.0],\"textposition\":\"auto\",\"x\":[\"LPDDR5\"],\"xaxis\":\"x\",\"y\":[145],\"yaxis\":\"y\",\"type\":\"bar\"},{\"alignmentgroup\":\"True\",\"hovertemplate\":\"Ram_type=%{x}\\u003cbr\\u003evalue=%{y}\\u003cbr\\u003etext=%{text}\\u003cextra\\u003e\\u003c\\u002fextra\\u003e\",\"legendgroup\":\"LPDDR4X\",\"marker\":{\"color\":\"#ab63fa\",\"pattern\":{\"shape\":\"\"}},\"name\":\"LPDDR4X\",\"offsetgroup\":\"LPDDR4X\",\"orientation\":\"v\",\"showlegend\":true,\"text\":[41.0],\"textposition\":\"auto\",\"x\":[\"LPDDR4X\"],\"xaxis\":\"x\",\"y\":[41],\"yaxis\":\"y\",\"type\":\"bar\"},{\"alignmentgroup\":\"True\",\"hovertemplate\":\"Ram_type=%{x}\\u003cbr\\u003evalue=%{y}\\u003cbr\\u003etext=%{text}\\u003cextra\\u003e\\u003c\\u002fextra\\u003e\",\"legendgroup\":\"LPDDR4\",\"marker\":{\"color\":\"#FFA15A\",\"pattern\":{\"shape\":\"\"}},\"name\":\"LPDDR4\",\"offsetgroup\":\"LPDDR4\",\"orientation\":\"v\",\"showlegend\":true,\"text\":[14.0],\"textposition\":\"auto\",\"x\":[\"LPDDR4\"],\"xaxis\":\"x\",\"y\":[14],\"yaxis\":\"y\",\"type\":\"bar\"},{\"alignmentgroup\":\"True\",\"hovertemplate\":\"Ram_type=%{x}\\u003cbr\\u003evalue=%{y}\\u003cbr\\u003etext=%{text}\\u003cextra\\u003e\\u003c\\u002fextra\\u003e\",\"legendgroup\":\"LPDDR4x\",\"marker\":{\"color\":\"#19d3f3\",\"pattern\":{\"shape\":\"\"}},\"name\":\"LPDDR4x\",\"offsetgroup\":\"LPDDR4x\",\"orientation\":\"v\",\"showlegend\":true,\"text\":[13.0],\"textposition\":\"auto\",\"x\":[\"LPDDR4x\"],\"xaxis\":\"x\",\"y\":[13],\"yaxis\":\"y\",\"type\":\"bar\"},{\"alignmentgroup\":\"True\",\"hovertemplate\":\"Ram_type=%{x}\\u003cbr\\u003evalue=%{y}\\u003cbr\\u003etext=%{text}\\u003cextra\\u003e\\u003c\\u002fextra\\u003e\",\"legendgroup\":\"Unified\",\"marker\":{\"color\":\"#FF6692\",\"pattern\":{\"shape\":\"\"}},\"name\":\"Unified\",\"offsetgroup\":\"Unified\",\"orientation\":\"v\",\"showlegend\":true,\"text\":[7.0],\"textposition\":\"auto\",\"x\":[\"Unified\"],\"xaxis\":\"x\",\"y\":[7],\"yaxis\":\"y\",\"type\":\"bar\"},{\"alignmentgroup\":\"True\",\"hovertemplate\":\"Ram_type=%{x}\\u003cbr\\u003evalue=%{y}\\u003cbr\\u003etext=%{text}\\u003cextra\\u003e\\u003c\\u002fextra\\u003e\",\"legendgroup\":\"DDR3\",\"marker\":{\"color\":\"#B6E880\",\"pattern\":{\"shape\":\"\"}},\"name\":\"DDR3\",\"offsetgroup\":\"DDR3\",\"orientation\":\"v\",\"showlegend\":true,\"text\":[3.0],\"textposition\":\"auto\",\"x\":[\"DDR3\"],\"xaxis\":\"x\",\"y\":[3],\"yaxis\":\"y\",\"type\":\"bar\"},{\"alignmentgroup\":\"True\",\"hovertemplate\":\"Ram_type=%{x}\\u003cbr\\u003evalue=%{y}\\u003cbr\\u003etext=%{text}\\u003cextra\\u003e\\u003c\\u002fextra\\u003e\",\"legendgroup\":\"LPDDR5X\",\"marker\":{\"color\":\"#FF97FF\",\"pattern\":{\"shape\":\"\"}},\"name\":\"LPDDR5X\",\"offsetgroup\":\"LPDDR5X\",\"orientation\":\"v\",\"showlegend\":true,\"text\":[2.0],\"textposition\":\"auto\",\"x\":[\"LPDDR5X\"],\"xaxis\":\"x\",\"y\":[2],\"yaxis\":\"y\",\"type\":\"bar\"},{\"alignmentgroup\":\"True\",\"hovertemplate\":\"Ram_type=%{x}\\u003cbr\\u003evalue=%{y}\\u003cbr\\u003etext=%{text}\\u003cextra\\u003e\\u003c\\u002fextra\\u003e\",\"legendgroup\":\"DDR4-\",\"marker\":{\"color\":\"#FECB52\",\"pattern\":{\"shape\":\"\"}},\"name\":\"DDR4-\",\"offsetgroup\":\"DDR4-\",\"orientation\":\"v\",\"showlegend\":true,\"text\":[1.0],\"textposition\":\"auto\",\"x\":[\"DDR4-\"],\"xaxis\":\"x\",\"y\":[1],\"yaxis\":\"y\",\"type\":\"bar\"},{\"alignmentgroup\":\"True\",\"hovertemplate\":\"Ram_type=%{x}\\u003cbr\\u003evalue=%{y}\\u003cbr\\u003etext=%{text}\\u003cextra\\u003e\\u003c\\u002fextra\\u003e\",\"legendgroup\":\"LPDDR5x\",\"marker\":{\"color\":\"#636efa\",\"pattern\":{\"shape\":\"\"}},\"name\":\"LPDDR5x\",\"offsetgroup\":\"LPDDR5x\",\"orientation\":\"v\",\"showlegend\":true,\"text\":[1.0],\"textposition\":\"auto\",\"x\":[\"LPDDR5x\"],\"xaxis\":\"x\",\"y\":[1],\"yaxis\":\"y\",\"type\":\"bar\"},{\"alignmentgroup\":\"True\",\"hovertemplate\":\"Ram_type=%{x}\\u003cbr\\u003evalue=%{y}\\u003cbr\\u003etext=%{text}\\u003cextra\\u003e\\u003c\\u002fextra\\u003e\",\"legendgroup\":\"DDR\",\"marker\":{\"color\":\"#EF553B\",\"pattern\":{\"shape\":\"\"}},\"name\":\"DDR\",\"offsetgroup\":\"DDR\",\"orientation\":\"v\",\"showlegend\":true,\"text\":[1.0],\"textposition\":\"auto\",\"x\":[\"DDR\"],\"xaxis\":\"x\",\"y\":[1],\"yaxis\":\"y\",\"type\":\"bar\"}],                        {\"barmode\":\"relative\",\"legend\":{\"title\":{\"text\":\"Ram_type\"},\"tracegroupgap\":0},\"template\":{\"data\":{\"barpolar\":[{\"marker\":{\"line\":{\"color\":\"#E5ECF6\",\"width\":0.5},\"pattern\":{\"fillmode\":\"overlay\",\"size\":10,\"solidity\":0.2}},\"type\":\"barpolar\"}],\"bar\":[{\"error_x\":{\"color\":\"#2a3f5f\"},\"error_y\":{\"color\":\"#2a3f5f\"},\"marker\":{\"line\":{\"color\":\"#E5ECF6\",\"width\":0.5},\"pattern\":{\"fillmode\":\"overlay\",\"size\":10,\"solidity\":0.2}},\"type\":\"bar\"}],\"carpet\":[{\"aaxis\":{\"endlinecolor\":\"#2a3f5f\",\"gridcolor\":\"white\",\"linecolor\":\"white\",\"minorgridcolor\":\"white\",\"startlinecolor\":\"#2a3f5f\"},\"baxis\":{\"endlinecolor\":\"#2a3f5f\",\"gridcolor\":\"white\",\"linecolor\":\"white\",\"minorgridcolor\":\"white\",\"startlinecolor\":\"#2a3f5f\"},\"type\":\"carpet\"}],\"choropleth\":[{\"colorbar\":{\"outlinewidth\":0,\"ticks\":\"\"},\"type\":\"choropleth\"}],\"contourcarpet\":[{\"colorbar\":{\"outlinewidth\":0,\"ticks\":\"\"},\"type\":\"contourcarpet\"}],\"contour\":[{\"colorbar\":{\"outlinewidth\":0,\"ticks\":\"\"},\"colorscale\":[[0.0,\"#0d0887\"],[0.1111111111111111,\"#46039f\"],[0.2222222222222222,\"#7201a8\"],[0.3333333333333333,\"#9c179e\"],[0.4444444444444444,\"#bd3786\"],[0.5555555555555556,\"#d8576b\"],[0.6666666666666666,\"#ed7953\"],[0.7777777777777778,\"#fb9f3a\"],[0.8888888888888888,\"#fdca26\"],[1.0,\"#f0f921\"]],\"type\":\"contour\"}],\"heatmapgl\":[{\"colorbar\":{\"outlinewidth\":0,\"ticks\":\"\"},\"colorscale\":[[0.0,\"#0d0887\"],[0.1111111111111111,\"#46039f\"],[0.2222222222222222,\"#7201a8\"],[0.3333333333333333,\"#9c179e\"],[0.4444444444444444,\"#bd3786\"],[0.5555555555555556,\"#d8576b\"],[0.6666666666666666,\"#ed7953\"],[0.7777777777777778,\"#fb9f3a\"],[0.8888888888888888,\"#fdca26\"],[1.0,\"#f0f921\"]],\"type\":\"heatmapgl\"}],\"heatmap\":[{\"colorbar\":{\"outlinewidth\":0,\"ticks\":\"\"},\"colorscale\":[[0.0,\"#0d0887\"],[0.1111111111111111,\"#46039f\"],[0.2222222222222222,\"#7201a8\"],[0.3333333333333333,\"#9c179e\"],[0.4444444444444444,\"#bd3786\"],[0.5555555555555556,\"#d8576b\"],[0.6666666666666666,\"#ed7953\"],[0.7777777777777778,\"#fb9f3a\"],[0.8888888888888888,\"#fdca26\"],[1.0,\"#f0f921\"]],\"type\":\"heatmap\"}],\"histogram2dcontour\":[{\"colorbar\":{\"outlinewidth\":0,\"ticks\":\"\"},\"colorscale\":[[0.0,\"#0d0887\"],[0.1111111111111111,\"#46039f\"],[0.2222222222222222,\"#7201a8\"],[0.3333333333333333,\"#9c179e\"],[0.4444444444444444,\"#bd3786\"],[0.5555555555555556,\"#d8576b\"],[0.6666666666666666,\"#ed7953\"],[0.7777777777777778,\"#fb9f3a\"],[0.8888888888888888,\"#fdca26\"],[1.0,\"#f0f921\"]],\"type\":\"histogram2dcontour\"}],\"histogram2d\":[{\"colorbar\":{\"outlinewidth\":0,\"ticks\":\"\"},\"colorscale\":[[0.0,\"#0d0887\"],[0.1111111111111111,\"#46039f\"],[0.2222222222222222,\"#7201a8\"],[0.3333333333333333,\"#9c179e\"],[0.4444444444444444,\"#bd3786\"],[0.5555555555555556,\"#d8576b\"],[0.6666666666666666,\"#ed7953\"],[0.7777777777777778,\"#fb9f3a\"],[0.8888888888888888,\"#fdca26\"],[1.0,\"#f0f921\"]],\"type\":\"histogram2d\"}],\"histogram\":[{\"marker\":{\"pattern\":{\"fillmode\":\"overlay\",\"size\":10,\"solidity\":0.2}},\"type\":\"histogram\"}],\"mesh3d\":[{\"colorbar\":{\"outlinewidth\":0,\"ticks\":\"\"},\"type\":\"mesh3d\"}],\"parcoords\":[{\"line\":{\"colorbar\":{\"outlinewidth\":0,\"ticks\":\"\"}},\"type\":\"parcoords\"}],\"pie\":[{\"automargin\":true,\"type\":\"pie\"}],\"scatter3d\":[{\"line\":{\"colorbar\":{\"outlinewidth\":0,\"ticks\":\"\"}},\"marker\":{\"colorbar\":{\"outlinewidth\":0,\"ticks\":\"\"}},\"type\":\"scatter3d\"}],\"scattercarpet\":[{\"marker\":{\"colorbar\":{\"outlinewidth\":0,\"ticks\":\"\"}},\"type\":\"scattercarpet\"}],\"scattergeo\":[{\"marker\":{\"colorbar\":{\"outlinewidth\":0,\"ticks\":\"\"}},\"type\":\"scattergeo\"}],\"scattergl\":[{\"marker\":{\"colorbar\":{\"outlinewidth\":0,\"ticks\":\"\"}},\"type\":\"scattergl\"}],\"scattermapbox\":[{\"marker\":{\"colorbar\":{\"outlinewidth\":0,\"ticks\":\"\"}},\"type\":\"scattermapbox\"}],\"scatterpolargl\":[{\"marker\":{\"colorbar\":{\"outlinewidth\":0,\"ticks\":\"\"}},\"type\":\"scatterpolargl\"}],\"scatterpolar\":[{\"marker\":{\"colorbar\":{\"outlinewidth\":0,\"ticks\":\"\"}},\"type\":\"scatterpolar\"}],\"scatter\":[{\"fillpattern\":{\"fillmode\":\"overlay\",\"size\":10,\"solidity\":0.2},\"type\":\"scatter\"}],\"scatterternary\":[{\"marker\":{\"colorbar\":{\"outlinewidth\":0,\"ticks\":\"\"}},\"type\":\"scatterternary\"}],\"surface\":[{\"colorbar\":{\"outlinewidth\":0,\"ticks\":\"\"},\"colorscale\":[[0.0,\"#0d0887\"],[0.1111111111111111,\"#46039f\"],[0.2222222222222222,\"#7201a8\"],[0.3333333333333333,\"#9c179e\"],[0.4444444444444444,\"#bd3786\"],[0.5555555555555556,\"#d8576b\"],[0.6666666666666666,\"#ed7953\"],[0.7777777777777778,\"#fb9f3a\"],[0.8888888888888888,\"#fdca26\"],[1.0,\"#f0f921\"]],\"type\":\"surface\"}],\"table\":[{\"cells\":{\"fill\":{\"color\":\"#EBF0F8\"},\"line\":{\"color\":\"white\"}},\"header\":{\"fill\":{\"color\":\"#C8D4E3\"},\"line\":{\"color\":\"white\"}},\"type\":\"table\"}]},\"layout\":{\"annotationdefaults\":{\"arrowcolor\":\"#2a3f5f\",\"arrowhead\":0,\"arrowwidth\":1},\"autotypenumbers\":\"strict\",\"coloraxis\":{\"colorbar\":{\"outlinewidth\":0,\"ticks\":\"\"}},\"colorscale\":{\"diverging\":[[0,\"#8e0152\"],[0.1,\"#c51b7d\"],[0.2,\"#de77ae\"],[0.3,\"#f1b6da\"],[0.4,\"#fde0ef\"],[0.5,\"#f7f7f7\"],[0.6,\"#e6f5d0\"],[0.7,\"#b8e186\"],[0.8,\"#7fbc41\"],[0.9,\"#4d9221\"],[1,\"#276419\"]],\"sequential\":[[0.0,\"#0d0887\"],[0.1111111111111111,\"#46039f\"],[0.2222222222222222,\"#7201a8\"],[0.3333333333333333,\"#9c179e\"],[0.4444444444444444,\"#bd3786\"],[0.5555555555555556,\"#d8576b\"],[0.6666666666666666,\"#ed7953\"],[0.7777777777777778,\"#fb9f3a\"],[0.8888888888888888,\"#fdca26\"],[1.0,\"#f0f921\"]],\"sequentialminus\":[[0.0,\"#0d0887\"],[0.1111111111111111,\"#46039f\"],[0.2222222222222222,\"#7201a8\"],[0.3333333333333333,\"#9c179e\"],[0.4444444444444444,\"#bd3786\"],[0.5555555555555556,\"#d8576b\"],[0.6666666666666666,\"#ed7953\"],[0.7777777777777778,\"#fb9f3a\"],[0.8888888888888888,\"#fdca26\"],[1.0,\"#f0f921\"]]},\"colorway\":[\"#636efa\",\"#EF553B\",\"#00cc96\",\"#ab63fa\",\"#FFA15A\",\"#19d3f3\",\"#FF6692\",\"#B6E880\",\"#FF97FF\",\"#FECB52\"],\"font\":{\"color\":\"#2a3f5f\"},\"geo\":{\"bgcolor\":\"white\",\"lakecolor\":\"white\",\"landcolor\":\"#E5ECF6\",\"showlakes\":true,\"showland\":true,\"subunitcolor\":\"white\"},\"hoverlabel\":{\"align\":\"left\"},\"hovermode\":\"closest\",\"mapbox\":{\"style\":\"light\"},\"paper_bgcolor\":\"white\",\"plot_bgcolor\":\"#E5ECF6\",\"polar\":{\"angularaxis\":{\"gridcolor\":\"white\",\"linecolor\":\"white\",\"ticks\":\"\"},\"bgcolor\":\"#E5ECF6\",\"radialaxis\":{\"gridcolor\":\"white\",\"linecolor\":\"white\",\"ticks\":\"\"}},\"scene\":{\"xaxis\":{\"backgroundcolor\":\"#E5ECF6\",\"gridcolor\":\"white\",\"gridwidth\":2,\"linecolor\":\"white\",\"showbackground\":true,\"ticks\":\"\",\"zerolinecolor\":\"white\"},\"yaxis\":{\"backgroundcolor\":\"#E5ECF6\",\"gridcolor\":\"white\",\"gridwidth\":2,\"linecolor\":\"white\",\"showbackground\":true,\"ticks\":\"\",\"zerolinecolor\":\"white\"},\"zaxis\":{\"backgroundcolor\":\"#E5ECF6\",\"gridcolor\":\"white\",\"gridwidth\":2,\"linecolor\":\"white\",\"showbackground\":true,\"ticks\":\"\",\"zerolinecolor\":\"white\"}},\"shapedefaults\":{\"line\":{\"color\":\"#2a3f5f\"}},\"ternary\":{\"aaxis\":{\"gridcolor\":\"white\",\"linecolor\":\"white\",\"ticks\":\"\"},\"baxis\":{\"gridcolor\":\"white\",\"linecolor\":\"white\",\"ticks\":\"\"},\"bgcolor\":\"#E5ECF6\",\"caxis\":{\"gridcolor\":\"white\",\"linecolor\":\"white\",\"ticks\":\"\"}},\"title\":{\"x\":0.05},\"xaxis\":{\"automargin\":true,\"gridcolor\":\"white\",\"linecolor\":\"white\",\"ticks\":\"\",\"title\":{\"standoff\":15},\"zerolinecolor\":\"white\",\"zerolinewidth\":2},\"yaxis\":{\"automargin\":true,\"gridcolor\":\"white\",\"linecolor\":\"white\",\"ticks\":\"\",\"title\":{\"standoff\":15},\"zerolinecolor\":\"white\",\"zerolinewidth\":2}}},\"title\":{\"text\":\"Most Type of RAM is Used in laptop\"},\"xaxis\":{\"anchor\":\"y\",\"categoryarray\":[\"DDR4\",\"DDR5\",\"LPDDR5\",\"LPDDR4X\",\"LPDDR4\",\"LPDDR4x\",\"Unified\",\"DDR3\",\"LPDDR5X\",\"DDR4-\",\"LPDDR5x\",\"DDR\"],\"categoryorder\":\"array\",\"domain\":[0.0,1.0],\"title\":{\"text\":\"Ram_type\"}},\"yaxis\":{\"anchor\":\"x\",\"domain\":[0.0,1.0],\"title\":{\"text\":\"value\"}}},                        {\"responsive\": true}                    ).then(function(){\n",
       "                            \n",
       "var gd = document.getElementById('725b6017-da84-4a9c-934b-d55e730905e0');\n",
       "var x = new MutationObserver(function (mutations, observer) {{\n",
       "        var display = window.getComputedStyle(gd).display;\n",
       "        if (!display || display === 'none') {{\n",
       "            console.log([gd, 'removed!']);\n",
       "            Plotly.purge(gd);\n",
       "            observer.disconnect();\n",
       "        }}\n",
       "}});\n",
       "\n",
       "// Listen for the removal of the full notebook cells\n",
       "var notebookContainer = gd.closest('#notebook-container');\n",
       "if (notebookContainer) {{\n",
       "    x.observe(notebookContainer, {childList: true});\n",
       "}}\n",
       "\n",
       "// Listen for the clearing of the current output cell\n",
       "var outputEl = gd.closest('.output');\n",
       "if (outputEl) {{\n",
       "    x.observe(outputEl, {childList: true});\n",
       "}}\n",
       "\n",
       "                        })                };                });            </script>        </div>"
      ]
     },
     "metadata": {},
     "output_type": "display_data"
    }
   ],
   "source": [
    "iplot(px.bar(Ram_type_counts,\n",
    "             color=Ram_type_counts.index,\n",
    "             text=Ram_type_counts.values,\n",
    "             labels={'index':'RAM Type'},\n",
    "             title='Most Type of RAM is Used in laptop'\n",
    "\n",
    "))"
   ]
  },
  {
   "cell_type": "markdown",
   "id": "2398bc6a",
   "metadata": {
    "papermill": {
     "duration": 0.021013,
     "end_time": "2023-12-18T14:55:11.328015",
     "exception": false,
     "start_time": "2023-12-18T14:55:11.307002",
     "status": "completed"
    },
    "tags": []
   },
   "source": [
    "<div style=\"background-color: #0f0f0f; padding: 20px; border-radius: 10px; box-shadow: 5px 5px 10px #888888;\">\n",
    "<h1 style=\"color: white; font-size: 30px; font-weight: bold; text-align: center; text-shadow: 2px 2px 4px #000000;\">ROM</h1>\n",
    "</div>"
   ]
  },
  {
   "cell_type": "code",
   "execution_count": 28,
   "id": "f4b54af9",
   "metadata": {
    "execution": {
     "iopub.execute_input": "2023-12-18T14:55:11.372178Z",
     "iopub.status.busy": "2023-12-18T14:55:11.371403Z",
     "iopub.status.idle": "2023-12-18T14:55:11.380573Z",
     "shell.execute_reply": "2023-12-18T14:55:11.379752Z"
    },
    "papermill": {
     "duration": 0.034118,
     "end_time": "2023-12-18T14:55:11.382843",
     "exception": false,
     "start_time": "2023-12-18T14:55:11.348725",
     "status": "completed"
    },
    "tags": []
   },
   "outputs": [
    {
     "data": {
      "text/plain": [
       "ROM\n",
       "512GB    634\n",
       "1TB      188\n",
       "256GB     42\n",
       "128GB     12\n",
       "2TB       10\n",
       "64GB       5\n",
       "32GB       2\n",
       "Name: count, dtype: int64"
      ]
     },
     "execution_count": 28,
     "metadata": {},
     "output_type": "execute_result"
    }
   ],
   "source": [
    "rom_counts = df['ROM'].value_counts()\n",
    "rom_counts"
   ]
  },
  {
   "cell_type": "code",
   "execution_count": 29,
   "id": "525cecc2",
   "metadata": {
    "execution": {
     "iopub.execute_input": "2023-12-18T14:55:11.432345Z",
     "iopub.status.busy": "2023-12-18T14:55:11.429348Z",
     "iopub.status.idle": "2023-12-18T14:55:11.516798Z",
     "shell.execute_reply": "2023-12-18T14:55:11.515826Z"
    },
    "papermill": {
     "duration": 0.114626,
     "end_time": "2023-12-18T14:55:11.519077",
     "exception": false,
     "start_time": "2023-12-18T14:55:11.404451",
     "status": "completed"
    },
    "tags": []
   },
   "outputs": [
    {
     "data": {
      "text/html": [
       "<div>                            <div id=\"59f23ee6-5fdd-4b5f-b6ec-1d4548349636\" class=\"plotly-graph-div\" style=\"height:525px; width:100%;\"></div>            <script type=\"text/javascript\">                require([\"plotly\"], function(Plotly) {                    window.PLOTLYENV=window.PLOTLYENV || {};                                    if (document.getElementById(\"59f23ee6-5fdd-4b5f-b6ec-1d4548349636\")) {                    Plotly.newPlot(                        \"59f23ee6-5fdd-4b5f-b6ec-1d4548349636\",                        [{\"alignmentgroup\":\"True\",\"hovertemplate\":\"variable=count\\u003cbr\\u003eROM=%{x}\\u003cbr\\u003ecounts=%{y}\\u003cextra\\u003e\\u003c\\u002fextra\\u003e\",\"legendgroup\":\"count\",\"marker\":{\"color\":[\"#8c0404\",\"#f25ed0\",\"#000000\",\"#16A085\",\"#34495E\",\"#21618C \",\"#512E5F\",\"#45B39D\",\"#AAB7B8 \",\"#20B2AA\",\"#FF69B4\",\"#00CED1\",\"#FF7F50\",\"#7FFF00\",\"#DA70D6\"],\"pattern\":{\"shape\":\"\"}},\"name\":\"count\",\"offsetgroup\":\"count\",\"orientation\":\"v\",\"showlegend\":true,\"textposition\":\"auto\",\"texttemplate\":\"%{y}\",\"x\":[\"512GB\",\"1TB\",\"256GB\",\"128GB\",\"2TB\",\"64GB\",\"32GB\"],\"xaxis\":\"x\",\"y\":[634,188,42,12,10,5,2],\"yaxis\":\"y\",\"type\":\"bar\"}],                        {\"barmode\":\"relative\",\"legend\":{\"title\":{\"text\":\"variable\"},\"tracegroupgap\":0},\"template\":{\"data\":{\"barpolar\":[{\"marker\":{\"line\":{\"color\":\"#E5ECF6\",\"width\":0.5},\"pattern\":{\"fillmode\":\"overlay\",\"size\":10,\"solidity\":0.2}},\"type\":\"barpolar\"}],\"bar\":[{\"error_x\":{\"color\":\"#2a3f5f\"},\"error_y\":{\"color\":\"#2a3f5f\"},\"marker\":{\"line\":{\"color\":\"#E5ECF6\",\"width\":0.5},\"pattern\":{\"fillmode\":\"overlay\",\"size\":10,\"solidity\":0.2}},\"type\":\"bar\"}],\"carpet\":[{\"aaxis\":{\"endlinecolor\":\"#2a3f5f\",\"gridcolor\":\"white\",\"linecolor\":\"white\",\"minorgridcolor\":\"white\",\"startlinecolor\":\"#2a3f5f\"},\"baxis\":{\"endlinecolor\":\"#2a3f5f\",\"gridcolor\":\"white\",\"linecolor\":\"white\",\"minorgridcolor\":\"white\",\"startlinecolor\":\"#2a3f5f\"},\"type\":\"carpet\"}],\"choropleth\":[{\"colorbar\":{\"outlinewidth\":0,\"ticks\":\"\"},\"type\":\"choropleth\"}],\"contourcarpet\":[{\"colorbar\":{\"outlinewidth\":0,\"ticks\":\"\"},\"type\":\"contourcarpet\"}],\"contour\":[{\"colorbar\":{\"outlinewidth\":0,\"ticks\":\"\"},\"colorscale\":[[0.0,\"#0d0887\"],[0.1111111111111111,\"#46039f\"],[0.2222222222222222,\"#7201a8\"],[0.3333333333333333,\"#9c179e\"],[0.4444444444444444,\"#bd3786\"],[0.5555555555555556,\"#d8576b\"],[0.6666666666666666,\"#ed7953\"],[0.7777777777777778,\"#fb9f3a\"],[0.8888888888888888,\"#fdca26\"],[1.0,\"#f0f921\"]],\"type\":\"contour\"}],\"heatmapgl\":[{\"colorbar\":{\"outlinewidth\":0,\"ticks\":\"\"},\"colorscale\":[[0.0,\"#0d0887\"],[0.1111111111111111,\"#46039f\"],[0.2222222222222222,\"#7201a8\"],[0.3333333333333333,\"#9c179e\"],[0.4444444444444444,\"#bd3786\"],[0.5555555555555556,\"#d8576b\"],[0.6666666666666666,\"#ed7953\"],[0.7777777777777778,\"#fb9f3a\"],[0.8888888888888888,\"#fdca26\"],[1.0,\"#f0f921\"]],\"type\":\"heatmapgl\"}],\"heatmap\":[{\"colorbar\":{\"outlinewidth\":0,\"ticks\":\"\"},\"colorscale\":[[0.0,\"#0d0887\"],[0.1111111111111111,\"#46039f\"],[0.2222222222222222,\"#7201a8\"],[0.3333333333333333,\"#9c179e\"],[0.4444444444444444,\"#bd3786\"],[0.5555555555555556,\"#d8576b\"],[0.6666666666666666,\"#ed7953\"],[0.7777777777777778,\"#fb9f3a\"],[0.8888888888888888,\"#fdca26\"],[1.0,\"#f0f921\"]],\"type\":\"heatmap\"}],\"histogram2dcontour\":[{\"colorbar\":{\"outlinewidth\":0,\"ticks\":\"\"},\"colorscale\":[[0.0,\"#0d0887\"],[0.1111111111111111,\"#46039f\"],[0.2222222222222222,\"#7201a8\"],[0.3333333333333333,\"#9c179e\"],[0.4444444444444444,\"#bd3786\"],[0.5555555555555556,\"#d8576b\"],[0.6666666666666666,\"#ed7953\"],[0.7777777777777778,\"#fb9f3a\"],[0.8888888888888888,\"#fdca26\"],[1.0,\"#f0f921\"]],\"type\":\"histogram2dcontour\"}],\"histogram2d\":[{\"colorbar\":{\"outlinewidth\":0,\"ticks\":\"\"},\"colorscale\":[[0.0,\"#0d0887\"],[0.1111111111111111,\"#46039f\"],[0.2222222222222222,\"#7201a8\"],[0.3333333333333333,\"#9c179e\"],[0.4444444444444444,\"#bd3786\"],[0.5555555555555556,\"#d8576b\"],[0.6666666666666666,\"#ed7953\"],[0.7777777777777778,\"#fb9f3a\"],[0.8888888888888888,\"#fdca26\"],[1.0,\"#f0f921\"]],\"type\":\"histogram2d\"}],\"histogram\":[{\"marker\":{\"pattern\":{\"fillmode\":\"overlay\",\"size\":10,\"solidity\":0.2}},\"type\":\"histogram\"}],\"mesh3d\":[{\"colorbar\":{\"outlinewidth\":0,\"ticks\":\"\"},\"type\":\"mesh3d\"}],\"parcoords\":[{\"line\":{\"colorbar\":{\"outlinewidth\":0,\"ticks\":\"\"}},\"type\":\"parcoords\"}],\"pie\":[{\"automargin\":true,\"type\":\"pie\"}],\"scatter3d\":[{\"line\":{\"colorbar\":{\"outlinewidth\":0,\"ticks\":\"\"}},\"marker\":{\"colorbar\":{\"outlinewidth\":0,\"ticks\":\"\"}},\"type\":\"scatter3d\"}],\"scattercarpet\":[{\"marker\":{\"colorbar\":{\"outlinewidth\":0,\"ticks\":\"\"}},\"type\":\"scattercarpet\"}],\"scattergeo\":[{\"marker\":{\"colorbar\":{\"outlinewidth\":0,\"ticks\":\"\"}},\"type\":\"scattergeo\"}],\"scattergl\":[{\"marker\":{\"colorbar\":{\"outlinewidth\":0,\"ticks\":\"\"}},\"type\":\"scattergl\"}],\"scattermapbox\":[{\"marker\":{\"colorbar\":{\"outlinewidth\":0,\"ticks\":\"\"}},\"type\":\"scattermapbox\"}],\"scatterpolargl\":[{\"marker\":{\"colorbar\":{\"outlinewidth\":0,\"ticks\":\"\"}},\"type\":\"scatterpolargl\"}],\"scatterpolar\":[{\"marker\":{\"colorbar\":{\"outlinewidth\":0,\"ticks\":\"\"}},\"type\":\"scatterpolar\"}],\"scatter\":[{\"fillpattern\":{\"fillmode\":\"overlay\",\"size\":10,\"solidity\":0.2},\"type\":\"scatter\"}],\"scatterternary\":[{\"marker\":{\"colorbar\":{\"outlinewidth\":0,\"ticks\":\"\"}},\"type\":\"scatterternary\"}],\"surface\":[{\"colorbar\":{\"outlinewidth\":0,\"ticks\":\"\"},\"colorscale\":[[0.0,\"#0d0887\"],[0.1111111111111111,\"#46039f\"],[0.2222222222222222,\"#7201a8\"],[0.3333333333333333,\"#9c179e\"],[0.4444444444444444,\"#bd3786\"],[0.5555555555555556,\"#d8576b\"],[0.6666666666666666,\"#ed7953\"],[0.7777777777777778,\"#fb9f3a\"],[0.8888888888888888,\"#fdca26\"],[1.0,\"#f0f921\"]],\"type\":\"surface\"}],\"table\":[{\"cells\":{\"fill\":{\"color\":\"#EBF0F8\"},\"line\":{\"color\":\"white\"}},\"header\":{\"fill\":{\"color\":\"#C8D4E3\"},\"line\":{\"color\":\"white\"}},\"type\":\"table\"}]},\"layout\":{\"annotationdefaults\":{\"arrowcolor\":\"#2a3f5f\",\"arrowhead\":0,\"arrowwidth\":1},\"autotypenumbers\":\"strict\",\"coloraxis\":{\"colorbar\":{\"outlinewidth\":0,\"ticks\":\"\"}},\"colorscale\":{\"diverging\":[[0,\"#8e0152\"],[0.1,\"#c51b7d\"],[0.2,\"#de77ae\"],[0.3,\"#f1b6da\"],[0.4,\"#fde0ef\"],[0.5,\"#f7f7f7\"],[0.6,\"#e6f5d0\"],[0.7,\"#b8e186\"],[0.8,\"#7fbc41\"],[0.9,\"#4d9221\"],[1,\"#276419\"]],\"sequential\":[[0.0,\"#0d0887\"],[0.1111111111111111,\"#46039f\"],[0.2222222222222222,\"#7201a8\"],[0.3333333333333333,\"#9c179e\"],[0.4444444444444444,\"#bd3786\"],[0.5555555555555556,\"#d8576b\"],[0.6666666666666666,\"#ed7953\"],[0.7777777777777778,\"#fb9f3a\"],[0.8888888888888888,\"#fdca26\"],[1.0,\"#f0f921\"]],\"sequentialminus\":[[0.0,\"#0d0887\"],[0.1111111111111111,\"#46039f\"],[0.2222222222222222,\"#7201a8\"],[0.3333333333333333,\"#9c179e\"],[0.4444444444444444,\"#bd3786\"],[0.5555555555555556,\"#d8576b\"],[0.6666666666666666,\"#ed7953\"],[0.7777777777777778,\"#fb9f3a\"],[0.8888888888888888,\"#fdca26\"],[1.0,\"#f0f921\"]]},\"colorway\":[\"#636efa\",\"#EF553B\",\"#00cc96\",\"#ab63fa\",\"#FFA15A\",\"#19d3f3\",\"#FF6692\",\"#B6E880\",\"#FF97FF\",\"#FECB52\"],\"font\":{\"color\":\"#2a3f5f\"},\"geo\":{\"bgcolor\":\"white\",\"lakecolor\":\"white\",\"landcolor\":\"#E5ECF6\",\"showlakes\":true,\"showland\":true,\"subunitcolor\":\"white\"},\"hoverlabel\":{\"align\":\"left\"},\"hovermode\":\"closest\",\"mapbox\":{\"style\":\"light\"},\"paper_bgcolor\":\"white\",\"plot_bgcolor\":\"#E5ECF6\",\"polar\":{\"angularaxis\":{\"gridcolor\":\"white\",\"linecolor\":\"white\",\"ticks\":\"\"},\"bgcolor\":\"#E5ECF6\",\"radialaxis\":{\"gridcolor\":\"white\",\"linecolor\":\"white\",\"ticks\":\"\"}},\"scene\":{\"xaxis\":{\"backgroundcolor\":\"#E5ECF6\",\"gridcolor\":\"white\",\"gridwidth\":2,\"linecolor\":\"white\",\"showbackground\":true,\"ticks\":\"\",\"zerolinecolor\":\"white\"},\"yaxis\":{\"backgroundcolor\":\"#E5ECF6\",\"gridcolor\":\"white\",\"gridwidth\":2,\"linecolor\":\"white\",\"showbackground\":true,\"ticks\":\"\",\"zerolinecolor\":\"white\"},\"zaxis\":{\"backgroundcolor\":\"#E5ECF6\",\"gridcolor\":\"white\",\"gridwidth\":2,\"linecolor\":\"white\",\"showbackground\":true,\"ticks\":\"\",\"zerolinecolor\":\"white\"}},\"shapedefaults\":{\"line\":{\"color\":\"#2a3f5f\"}},\"ternary\":{\"aaxis\":{\"gridcolor\":\"white\",\"linecolor\":\"white\",\"ticks\":\"\"},\"baxis\":{\"gridcolor\":\"white\",\"linecolor\":\"white\",\"ticks\":\"\"},\"bgcolor\":\"#E5ECF6\",\"caxis\":{\"gridcolor\":\"white\",\"linecolor\":\"white\",\"ticks\":\"\"}},\"title\":{\"x\":0.05},\"xaxis\":{\"automargin\":true,\"gridcolor\":\"white\",\"linecolor\":\"white\",\"ticks\":\"\",\"title\":{\"standoff\":15},\"zerolinecolor\":\"white\",\"zerolinewidth\":2},\"yaxis\":{\"automargin\":true,\"gridcolor\":\"white\",\"linecolor\":\"white\",\"ticks\":\"\",\"title\":{\"standoff\":15},\"zerolinecolor\":\"white\",\"zerolinewidth\":2}}},\"title\":{\"text\":\"ROM counts\"},\"xaxis\":{\"anchor\":\"y\",\"domain\":[0.0,1.0],\"title\":{\"text\":\"ROM\"}},\"yaxis\":{\"anchor\":\"x\",\"domain\":[0.0,1.0],\"title\":{\"text\":\"counts\"}}},                        {\"responsive\": true}                    ).then(function(){\n",
       "                            \n",
       "var gd = document.getElementById('59f23ee6-5fdd-4b5f-b6ec-1d4548349636');\n",
       "var x = new MutationObserver(function (mutations, observer) {{\n",
       "        var display = window.getComputedStyle(gd).display;\n",
       "        if (!display || display === 'none') {{\n",
       "            console.log([gd, 'removed!']);\n",
       "            Plotly.purge(gd);\n",
       "            observer.disconnect();\n",
       "        }}\n",
       "}});\n",
       "\n",
       "// Listen for the removal of the full notebook cells\n",
       "var notebookContainer = gd.closest('#notebook-container');\n",
       "if (notebookContainer) {{\n",
       "    x.observe(notebookContainer, {childList: true});\n",
       "}}\n",
       "\n",
       "// Listen for the clearing of the current output cell\n",
       "var outputEl = gd.closest('.output');\n",
       "if (outputEl) {{\n",
       "    x.observe(outputEl, {childList: true});\n",
       "}}\n",
       "\n",
       "                        })                };                });            </script>        </div>"
      ]
     },
     "metadata": {},
     "output_type": "display_data"
    }
   ],
   "source": [
    "iplot(px.bar(rom_counts,\n",
    "            title='ROM counts', \n",
    "            text_auto=True,\n",
    "            labels=dict(index='ROM',value='counts'),\n",
    "            color_discrete_sequence=[colors]))"
   ]
  },
  {
   "cell_type": "markdown",
   "id": "071d6ff1",
   "metadata": {
    "papermill": {
     "duration": 0.016682,
     "end_time": "2023-12-18T14:55:11.552896",
     "exception": false,
     "start_time": "2023-12-18T14:55:11.536214",
     "status": "completed"
    },
    "tags": []
   },
   "source": [
    "# Rom Type"
   ]
  },
  {
   "cell_type": "code",
   "execution_count": 30,
   "id": "9910d047",
   "metadata": {
    "execution": {
     "iopub.execute_input": "2023-12-18T14:55:11.589053Z",
     "iopub.status.busy": "2023-12-18T14:55:11.588331Z",
     "iopub.status.idle": "2023-12-18T14:55:11.595842Z",
     "shell.execute_reply": "2023-12-18T14:55:11.595109Z"
    },
    "papermill": {
     "duration": 0.027856,
     "end_time": "2023-12-18T14:55:11.597748",
     "exception": false,
     "start_time": "2023-12-18T14:55:11.569892",
     "status": "completed"
    },
    "tags": []
   },
   "outputs": [
    {
     "data": {
      "text/plain": [
       "ROM_type\n",
       "SSD          872\n",
       "Hard-Disk     21\n",
       "Name: count, dtype: int64"
      ]
     },
     "execution_count": 30,
     "metadata": {},
     "output_type": "execute_result"
    }
   ],
   "source": [
    "rom_type = df['ROM_type'].value_counts()\n",
    "rom_type"
   ]
  },
  {
   "cell_type": "code",
   "execution_count": 31,
   "id": "393094af",
   "metadata": {
    "execution": {
     "iopub.execute_input": "2023-12-18T14:55:11.634905Z",
     "iopub.status.busy": "2023-12-18T14:55:11.634002Z",
     "iopub.status.idle": "2023-12-18T14:55:11.710207Z",
     "shell.execute_reply": "2023-12-18T14:55:11.708965Z"
    },
    "papermill": {
     "duration": 0.096831,
     "end_time": "2023-12-18T14:55:11.712465",
     "exception": false,
     "start_time": "2023-12-18T14:55:11.615634",
     "status": "completed"
    },
    "tags": []
   },
   "outputs": [
    {
     "data": {
      "text/html": [
       "<div>                            <div id=\"e2e0ddb9-5c4e-4532-961d-d4bf35b9fe4a\" class=\"plotly-graph-div\" style=\"height:525px; width:100%;\"></div>            <script type=\"text/javascript\">                require([\"plotly\"], function(Plotly) {                    window.PLOTLYENV=window.PLOTLYENV || {};                                    if (document.getElementById(\"e2e0ddb9-5c4e-4532-961d-d4bf35b9fe4a\")) {                    Plotly.newPlot(                        \"e2e0ddb9-5c4e-4532-961d-d4bf35b9fe4a\",                        [{\"customdata\":[[\"SSD\"],[\"Hard-Disk\"]],\"domain\":{\"x\":[0.0,1.0],\"y\":[0.0,1.0]},\"hovertemplate\":\"label=%{label}\\u003cbr\\u003evalue=%{value}\\u003cbr\\u003ecolor=%{customdata[0]}\\u003cextra\\u003e\\u003c\\u002fextra\\u003e\",\"labels\":[\"SSD\",\"Hard-Disk\"],\"legendgroup\":\"\",\"marker\":{\"colors\":[\"#636efa\",\"#EF553B\"]},\"name\":\"\",\"showlegend\":true,\"textinfo\":\"label+percent\",\"values\":[872,21],\"type\":\"pie\"}],                        {\"legend\":{\"tracegroupgap\":0},\"template\":{\"data\":{\"barpolar\":[{\"marker\":{\"line\":{\"color\":\"#E5ECF6\",\"width\":0.5},\"pattern\":{\"fillmode\":\"overlay\",\"size\":10,\"solidity\":0.2}},\"type\":\"barpolar\"}],\"bar\":[{\"error_x\":{\"color\":\"#2a3f5f\"},\"error_y\":{\"color\":\"#2a3f5f\"},\"marker\":{\"line\":{\"color\":\"#E5ECF6\",\"width\":0.5},\"pattern\":{\"fillmode\":\"overlay\",\"size\":10,\"solidity\":0.2}},\"type\":\"bar\"}],\"carpet\":[{\"aaxis\":{\"endlinecolor\":\"#2a3f5f\",\"gridcolor\":\"white\",\"linecolor\":\"white\",\"minorgridcolor\":\"white\",\"startlinecolor\":\"#2a3f5f\"},\"baxis\":{\"endlinecolor\":\"#2a3f5f\",\"gridcolor\":\"white\",\"linecolor\":\"white\",\"minorgridcolor\":\"white\",\"startlinecolor\":\"#2a3f5f\"},\"type\":\"carpet\"}],\"choropleth\":[{\"colorbar\":{\"outlinewidth\":0,\"ticks\":\"\"},\"type\":\"choropleth\"}],\"contourcarpet\":[{\"colorbar\":{\"outlinewidth\":0,\"ticks\":\"\"},\"type\":\"contourcarpet\"}],\"contour\":[{\"colorbar\":{\"outlinewidth\":0,\"ticks\":\"\"},\"colorscale\":[[0.0,\"#0d0887\"],[0.1111111111111111,\"#46039f\"],[0.2222222222222222,\"#7201a8\"],[0.3333333333333333,\"#9c179e\"],[0.4444444444444444,\"#bd3786\"],[0.5555555555555556,\"#d8576b\"],[0.6666666666666666,\"#ed7953\"],[0.7777777777777778,\"#fb9f3a\"],[0.8888888888888888,\"#fdca26\"],[1.0,\"#f0f921\"]],\"type\":\"contour\"}],\"heatmapgl\":[{\"colorbar\":{\"outlinewidth\":0,\"ticks\":\"\"},\"colorscale\":[[0.0,\"#0d0887\"],[0.1111111111111111,\"#46039f\"],[0.2222222222222222,\"#7201a8\"],[0.3333333333333333,\"#9c179e\"],[0.4444444444444444,\"#bd3786\"],[0.5555555555555556,\"#d8576b\"],[0.6666666666666666,\"#ed7953\"],[0.7777777777777778,\"#fb9f3a\"],[0.8888888888888888,\"#fdca26\"],[1.0,\"#f0f921\"]],\"type\":\"heatmapgl\"}],\"heatmap\":[{\"colorbar\":{\"outlinewidth\":0,\"ticks\":\"\"},\"colorscale\":[[0.0,\"#0d0887\"],[0.1111111111111111,\"#46039f\"],[0.2222222222222222,\"#7201a8\"],[0.3333333333333333,\"#9c179e\"],[0.4444444444444444,\"#bd3786\"],[0.5555555555555556,\"#d8576b\"],[0.6666666666666666,\"#ed7953\"],[0.7777777777777778,\"#fb9f3a\"],[0.8888888888888888,\"#fdca26\"],[1.0,\"#f0f921\"]],\"type\":\"heatmap\"}],\"histogram2dcontour\":[{\"colorbar\":{\"outlinewidth\":0,\"ticks\":\"\"},\"colorscale\":[[0.0,\"#0d0887\"],[0.1111111111111111,\"#46039f\"],[0.2222222222222222,\"#7201a8\"],[0.3333333333333333,\"#9c179e\"],[0.4444444444444444,\"#bd3786\"],[0.5555555555555556,\"#d8576b\"],[0.6666666666666666,\"#ed7953\"],[0.7777777777777778,\"#fb9f3a\"],[0.8888888888888888,\"#fdca26\"],[1.0,\"#f0f921\"]],\"type\":\"histogram2dcontour\"}],\"histogram2d\":[{\"colorbar\":{\"outlinewidth\":0,\"ticks\":\"\"},\"colorscale\":[[0.0,\"#0d0887\"],[0.1111111111111111,\"#46039f\"],[0.2222222222222222,\"#7201a8\"],[0.3333333333333333,\"#9c179e\"],[0.4444444444444444,\"#bd3786\"],[0.5555555555555556,\"#d8576b\"],[0.6666666666666666,\"#ed7953\"],[0.7777777777777778,\"#fb9f3a\"],[0.8888888888888888,\"#fdca26\"],[1.0,\"#f0f921\"]],\"type\":\"histogram2d\"}],\"histogram\":[{\"marker\":{\"pattern\":{\"fillmode\":\"overlay\",\"size\":10,\"solidity\":0.2}},\"type\":\"histogram\"}],\"mesh3d\":[{\"colorbar\":{\"outlinewidth\":0,\"ticks\":\"\"},\"type\":\"mesh3d\"}],\"parcoords\":[{\"line\":{\"colorbar\":{\"outlinewidth\":0,\"ticks\":\"\"}},\"type\":\"parcoords\"}],\"pie\":[{\"automargin\":true,\"type\":\"pie\"}],\"scatter3d\":[{\"line\":{\"colorbar\":{\"outlinewidth\":0,\"ticks\":\"\"}},\"marker\":{\"colorbar\":{\"outlinewidth\":0,\"ticks\":\"\"}},\"type\":\"scatter3d\"}],\"scattercarpet\":[{\"marker\":{\"colorbar\":{\"outlinewidth\":0,\"ticks\":\"\"}},\"type\":\"scattercarpet\"}],\"scattergeo\":[{\"marker\":{\"colorbar\":{\"outlinewidth\":0,\"ticks\":\"\"}},\"type\":\"scattergeo\"}],\"scattergl\":[{\"marker\":{\"colorbar\":{\"outlinewidth\":0,\"ticks\":\"\"}},\"type\":\"scattergl\"}],\"scattermapbox\":[{\"marker\":{\"colorbar\":{\"outlinewidth\":0,\"ticks\":\"\"}},\"type\":\"scattermapbox\"}],\"scatterpolargl\":[{\"marker\":{\"colorbar\":{\"outlinewidth\":0,\"ticks\":\"\"}},\"type\":\"scatterpolargl\"}],\"scatterpolar\":[{\"marker\":{\"colorbar\":{\"outlinewidth\":0,\"ticks\":\"\"}},\"type\":\"scatterpolar\"}],\"scatter\":[{\"fillpattern\":{\"fillmode\":\"overlay\",\"size\":10,\"solidity\":0.2},\"type\":\"scatter\"}],\"scatterternary\":[{\"marker\":{\"colorbar\":{\"outlinewidth\":0,\"ticks\":\"\"}},\"type\":\"scatterternary\"}],\"surface\":[{\"colorbar\":{\"outlinewidth\":0,\"ticks\":\"\"},\"colorscale\":[[0.0,\"#0d0887\"],[0.1111111111111111,\"#46039f\"],[0.2222222222222222,\"#7201a8\"],[0.3333333333333333,\"#9c179e\"],[0.4444444444444444,\"#bd3786\"],[0.5555555555555556,\"#d8576b\"],[0.6666666666666666,\"#ed7953\"],[0.7777777777777778,\"#fb9f3a\"],[0.8888888888888888,\"#fdca26\"],[1.0,\"#f0f921\"]],\"type\":\"surface\"}],\"table\":[{\"cells\":{\"fill\":{\"color\":\"#EBF0F8\"},\"line\":{\"color\":\"white\"}},\"header\":{\"fill\":{\"color\":\"#C8D4E3\"},\"line\":{\"color\":\"white\"}},\"type\":\"table\"}]},\"layout\":{\"annotationdefaults\":{\"arrowcolor\":\"#2a3f5f\",\"arrowhead\":0,\"arrowwidth\":1},\"autotypenumbers\":\"strict\",\"coloraxis\":{\"colorbar\":{\"outlinewidth\":0,\"ticks\":\"\"}},\"colorscale\":{\"diverging\":[[0,\"#8e0152\"],[0.1,\"#c51b7d\"],[0.2,\"#de77ae\"],[0.3,\"#f1b6da\"],[0.4,\"#fde0ef\"],[0.5,\"#f7f7f7\"],[0.6,\"#e6f5d0\"],[0.7,\"#b8e186\"],[0.8,\"#7fbc41\"],[0.9,\"#4d9221\"],[1,\"#276419\"]],\"sequential\":[[0.0,\"#0d0887\"],[0.1111111111111111,\"#46039f\"],[0.2222222222222222,\"#7201a8\"],[0.3333333333333333,\"#9c179e\"],[0.4444444444444444,\"#bd3786\"],[0.5555555555555556,\"#d8576b\"],[0.6666666666666666,\"#ed7953\"],[0.7777777777777778,\"#fb9f3a\"],[0.8888888888888888,\"#fdca26\"],[1.0,\"#f0f921\"]],\"sequentialminus\":[[0.0,\"#0d0887\"],[0.1111111111111111,\"#46039f\"],[0.2222222222222222,\"#7201a8\"],[0.3333333333333333,\"#9c179e\"],[0.4444444444444444,\"#bd3786\"],[0.5555555555555556,\"#d8576b\"],[0.6666666666666666,\"#ed7953\"],[0.7777777777777778,\"#fb9f3a\"],[0.8888888888888888,\"#fdca26\"],[1.0,\"#f0f921\"]]},\"colorway\":[\"#636efa\",\"#EF553B\",\"#00cc96\",\"#ab63fa\",\"#FFA15A\",\"#19d3f3\",\"#FF6692\",\"#B6E880\",\"#FF97FF\",\"#FECB52\"],\"font\":{\"color\":\"#2a3f5f\"},\"geo\":{\"bgcolor\":\"white\",\"lakecolor\":\"white\",\"landcolor\":\"#E5ECF6\",\"showlakes\":true,\"showland\":true,\"subunitcolor\":\"white\"},\"hoverlabel\":{\"align\":\"left\"},\"hovermode\":\"closest\",\"mapbox\":{\"style\":\"light\"},\"paper_bgcolor\":\"white\",\"plot_bgcolor\":\"#E5ECF6\",\"polar\":{\"angularaxis\":{\"gridcolor\":\"white\",\"linecolor\":\"white\",\"ticks\":\"\"},\"bgcolor\":\"#E5ECF6\",\"radialaxis\":{\"gridcolor\":\"white\",\"linecolor\":\"white\",\"ticks\":\"\"}},\"scene\":{\"xaxis\":{\"backgroundcolor\":\"#E5ECF6\",\"gridcolor\":\"white\",\"gridwidth\":2,\"linecolor\":\"white\",\"showbackground\":true,\"ticks\":\"\",\"zerolinecolor\":\"white\"},\"yaxis\":{\"backgroundcolor\":\"#E5ECF6\",\"gridcolor\":\"white\",\"gridwidth\":2,\"linecolor\":\"white\",\"showbackground\":true,\"ticks\":\"\",\"zerolinecolor\":\"white\"},\"zaxis\":{\"backgroundcolor\":\"#E5ECF6\",\"gridcolor\":\"white\",\"gridwidth\":2,\"linecolor\":\"white\",\"showbackground\":true,\"ticks\":\"\",\"zerolinecolor\":\"white\"}},\"shapedefaults\":{\"line\":{\"color\":\"#2a3f5f\"}},\"ternary\":{\"aaxis\":{\"gridcolor\":\"white\",\"linecolor\":\"white\",\"ticks\":\"\"},\"baxis\":{\"gridcolor\":\"white\",\"linecolor\":\"white\",\"ticks\":\"\"},\"bgcolor\":\"#E5ECF6\",\"caxis\":{\"gridcolor\":\"white\",\"linecolor\":\"white\",\"ticks\":\"\"}},\"title\":{\"x\":0.05},\"xaxis\":{\"automargin\":true,\"gridcolor\":\"white\",\"linecolor\":\"white\",\"ticks\":\"\",\"title\":{\"standoff\":15},\"zerolinecolor\":\"white\",\"zerolinewidth\":2},\"yaxis\":{\"automargin\":true,\"gridcolor\":\"white\",\"linecolor\":\"white\",\"ticks\":\"\",\"title\":{\"standoff\":15},\"zerolinecolor\":\"white\",\"zerolinewidth\":2}}},\"title\":{\"text\":\"ROM Type in Labtops\"}},                        {\"responsive\": true}                    ).then(function(){\n",
       "                            \n",
       "var gd = document.getElementById('e2e0ddb9-5c4e-4532-961d-d4bf35b9fe4a');\n",
       "var x = new MutationObserver(function (mutations, observer) {{\n",
       "        var display = window.getComputedStyle(gd).display;\n",
       "        if (!display || display === 'none') {{\n",
       "            console.log([gd, 'removed!']);\n",
       "            Plotly.purge(gd);\n",
       "            observer.disconnect();\n",
       "        }}\n",
       "}});\n",
       "\n",
       "// Listen for the removal of the full notebook cells\n",
       "var notebookContainer = gd.closest('#notebook-container');\n",
       "if (notebookContainer) {{\n",
       "    x.observe(notebookContainer, {childList: true});\n",
       "}}\n",
       "\n",
       "// Listen for the clearing of the current output cell\n",
       "var outputEl = gd.closest('.output');\n",
       "if (outputEl) {{\n",
       "    x.observe(outputEl, {childList: true});\n",
       "}}\n",
       "\n",
       "                        })                };                });            </script>        </div>"
      ]
     },
     "metadata": {},
     "output_type": "display_data"
    }
   ],
   "source": [
    "iplot(px.pie(values=rom_type,\n",
    "             names=['SSD','Hard-Disk'],\n",
    "             title='ROM Type in Labtops',\n",
    "             color=rom_type.index,\n",
    ").update_traces(textinfo='label+percent'))"
   ]
  },
  {
   "cell_type": "markdown",
   "id": "8c5d37bd",
   "metadata": {
    "papermill": {
     "duration": 0.020059,
     "end_time": "2023-12-18T14:55:11.749859",
     "exception": false,
     "start_time": "2023-12-18T14:55:11.729800",
     "status": "completed"
    },
    "tags": []
   },
   "source": [
    "<div style=\"background-color: #0f0f0f; padding: 20px; border-radius: 10px; box-shadow: 5px 5px 10px #888888;\">\n",
    "<h1 style=\"color: white; font-size: 30px; font-weight: bold; text-align: center; text-shadow: 2px 2px 4px #000000;\">GPU</h1>\n",
    "</div>"
   ]
  },
  {
   "cell_type": "code",
   "execution_count": 32,
   "id": "3c1237fd",
   "metadata": {
    "execution": {
     "iopub.execute_input": "2023-12-18T14:55:11.798727Z",
     "iopub.status.busy": "2023-12-18T14:55:11.797649Z",
     "iopub.status.idle": "2023-12-18T14:55:11.806785Z",
     "shell.execute_reply": "2023-12-18T14:55:11.805830Z"
    },
    "papermill": {
     "duration": 0.03706,
     "end_time": "2023-12-18T14:55:11.809388",
     "exception": false,
     "start_time": "2023-12-18T14:55:11.772328",
     "status": "completed"
    },
    "tags": []
   },
   "outputs": [
    {
     "data": {
      "text/plain": [
       "GPU\n",
       "Intel Iris Xe Graphics         107\n",
       "Intel UHD Graphics              63\n",
       "Intel Integrated UHD            61\n",
       "AMD Radeon AMD                  55\n",
       "AMD Radeon Graphics             54\n",
       "Intel Integrated Iris Xe        51\n",
       "4GB NVIDIA GeForce RTX 3050     50\n",
       "8GB NVIDIA GeForce RTX 4060     42\n",
       "4GB NVIDIA GeForce RTX 2050     39\n",
       "6GB NVIDIA GeForce RTX 4050     36\n",
       "Name: count, dtype: int64"
      ]
     },
     "execution_count": 32,
     "metadata": {},
     "output_type": "execute_result"
    }
   ],
   "source": [
    "gpu_counts = df['GPU'].value_counts()[0:10]\n",
    "gpu_counts"
   ]
  },
  {
   "cell_type": "code",
   "execution_count": 33,
   "id": "353da57c",
   "metadata": {
    "execution": {
     "iopub.execute_input": "2023-12-18T14:55:11.855842Z",
     "iopub.status.busy": "2023-12-18T14:55:11.855427Z",
     "iopub.status.idle": "2023-12-18T14:55:12.156825Z",
     "shell.execute_reply": "2023-12-18T14:55:12.155574Z"
    },
    "papermill": {
     "duration": 0.3254,
     "end_time": "2023-12-18T14:55:12.159326",
     "exception": false,
     "start_time": "2023-12-18T14:55:11.833926",
     "status": "completed"
    },
    "tags": []
   },
   "outputs": [
    {
     "data": {
      "image/png": "[encoded data removed]",
      "text/plain": [
       "<Figure size 1000x800 with 1 Axes>"
      ]
     },
     "metadata": {},
     "output_type": "display_data"
    }
   ],
   "source": [
    "gpu_counts.sort_values().plot(kind='line', x='CPU', y='Count',color = ['#45B39D'], figsize=(10, 8))\n",
    "plt.xlabel('Count')\n",
    "plt.ylabel('GPU')\n",
    "plt.title('GPU Counts')\n",
    "plt.show()"
   ]
  },
  {
   "cell_type": "markdown",
   "id": "552a892a",
   "metadata": {
    "papermill": {
     "duration": 0.02013,
     "end_time": "2023-12-18T14:55:12.202139",
     "exception": false,
     "start_time": "2023-12-18T14:55:12.182009",
     "status": "completed"
    },
    "tags": []
   },
   "source": [
    "<div style=\"background-color: #0f0f0f; padding: 20px; border-radius: 10px; box-shadow: 5px 5px 10px #888888;\">\n",
    "<h1 style=\"color: white; font-size: 30px; font-weight: bold; text-align: center; text-shadow: 2px 2px 4px #000000;\">OS</h1>\n",
    "</div>"
   ]
  },
  {
   "cell_type": "code",
   "execution_count": 34,
   "id": "6bfa1bc3",
   "metadata": {
    "execution": {
     "iopub.execute_input": "2023-12-18T14:55:12.240815Z",
     "iopub.status.busy": "2023-12-18T14:55:12.240341Z",
     "iopub.status.idle": "2023-12-18T14:55:12.251189Z",
     "shell.execute_reply": "2023-12-18T14:55:12.250116Z"
    },
    "papermill": {
     "duration": 0.033562,
     "end_time": "2023-12-18T14:55:12.254273",
     "exception": false,
     "start_time": "2023-12-18T14:55:12.220711",
     "status": "completed"
    },
    "tags": []
   },
   "outputs": [
    {
     "data": {
      "text/plain": [
       "OS\n",
       "Windows 11 OS         782\n",
       "Windows 10 OS          28\n",
       "DOS OS                 18\n",
       "Windows 11  OS         15\n",
       "Mac OS                 12\n",
       "Windows 10  OS         10\n",
       "Chrome OS              10\n",
       "Windows OS              9\n",
       "Ubuntu OS               2\n",
       "DOS 3.0 OS              2\n",
       "Mac 10.15.3\\t OS        2\n",
       "Android 11 OS           1\n",
       "Mac Catalina OS         1\n",
       "Mac High Sierra OS      1\n",
       "Name: count, dtype: int64"
      ]
     },
     "execution_count": 34,
     "metadata": {},
     "output_type": "execute_result"
    }
   ],
   "source": [
    "os_counts = df['OS'].value_counts()\n",
    "os_counts"
   ]
  },
  {
   "cell_type": "code",
   "execution_count": 35,
   "id": "e5675ccf",
   "metadata": {
    "execution": {
     "iopub.execute_input": "2023-12-18T14:55:12.313466Z",
     "iopub.status.busy": "2023-12-18T14:55:12.312559Z",
     "iopub.status.idle": "2023-12-18T14:55:12.640917Z",
     "shell.execute_reply": "2023-12-18T14:55:12.639842Z"
    },
    "papermill": {
     "duration": 0.360932,
     "end_time": "2023-12-18T14:55:12.643176",
     "exception": false,
     "start_time": "2023-12-18T14:55:12.282244",
     "status": "completed"
    },
    "tags": []
   },
   "outputs": [
    {
     "data": {
      "image/png": "[encoded data removed]",
      "text/plain": [
       "<Figure size 1000x800 with 1 Axes>"
      ]
     },
     "metadata": {},
     "output_type": "display_data"
    }
   ],
   "source": [
    "plt.figure(figsize=(10, 8))\n",
    "os_counts.head(10).sort_values().plot(kind='kde', color='black')  \n",
    "plt.xlabel('Count')\n",
    "plt.ylabel('OS')\n",
    "plt.title('top 10 OS Count')\n",
    "plt.show()"
   ]
  },
  {
   "cell_type": "markdown",
   "id": "99aebc4c",
   "metadata": {
    "papermill": {
     "duration": 0.01971,
     "end_time": "2023-12-18T14:55:12.682405",
     "exception": false,
     "start_time": "2023-12-18T14:55:12.662695",
     "status": "completed"
    },
    "tags": []
   },
   "source": [
    "<div style=\"background-color: #0f0f0f; padding: 20px; border-radius: 10px; box-shadow: 5px 5px 10px #888888;\">\n",
    "<h1 style=\"color: white; font-size: 30px; font-weight: bold; text-align: center; text-shadow: 2px 2px 4px #000000;\">Discounts</h1>\n",
    "</div>"
   ]
  },
  {
   "cell_type": "code",
   "execution_count": 36,
   "id": "f1a1c595",
   "metadata": {
    "execution": {
     "iopub.execute_input": "2023-12-18T14:55:12.724015Z",
     "iopub.status.busy": "2023-12-18T14:55:12.722901Z",
     "iopub.status.idle": "2023-12-18T14:55:12.730897Z",
     "shell.execute_reply": "2023-12-18T14:55:12.730014Z"
    },
    "papermill": {
     "duration": 0.031041,
     "end_time": "2023-12-18T14:55:12.733002",
     "exception": false,
     "start_time": "2023-12-18T14:55:12.701961",
     "status": "completed"
    },
    "tags": []
   },
   "outputs": [
    {
     "data": {
      "text/plain": [
       "['price',\n",
       " 'spec_rating',\n",
       " 'display_size',\n",
       " 'resolution_width',\n",
       " 'resolution_height',\n",
       " 'warranty']"
      ]
     },
     "execution_count": 36,
     "metadata": {},
     "output_type": "execute_result"
    }
   ],
   "source": [
    "non_object_columns = df.select_dtypes(exclude=['object']).columns.tolist()\n",
    "non_object_columns"
   ]
  },
  {
   "cell_type": "code",
   "execution_count": 37,
   "id": "c0e320a8",
   "metadata": {
    "execution": {
     "iopub.execute_input": "2023-12-18T14:55:12.774613Z",
     "iopub.status.busy": "2023-12-18T14:55:12.773853Z",
     "iopub.status.idle": "2023-12-18T14:55:13.218375Z",
     "shell.execute_reply": "2023-12-18T14:55:13.217448Z"
    },
    "papermill": {
     "duration": 0.4681,
     "end_time": "2023-12-18T14:55:13.220715",
     "exception": false,
     "start_time": "2023-12-18T14:55:12.752615",
     "status": "completed"
    },
    "tags": []
   },
   "outputs": [
    {
     "data": {
      "text/html": [
       "<div>                            <div id=\"538f1372-d172-4fc6-ba66-be408de9fa42\" class=\"plotly-graph-div\" style=\"height:525px; width:100%;\"></div>            <script type=\"text/javascript\">                require([\"plotly\"], function(Plotly) {                    window.PLOTLYENV=window.PLOTLYENV || {};                                    if (document.getElementById(\"538f1372-d172-4fc6-ba66-be408de9fa42\")) {                    Plotly.newPlot(                        \"538f1372-d172-4fc6-ba66-be408de9fa42\",                        [{\"alignmentgroup\":\"True\",\"bingroup\":\"x\",\"hovertemplate\":\"price=%{x}\\u003cbr\\u003ecount=%{y}\\u003cextra\\u003e\\u003c\\u002fextra\\u003e\",\"legendgroup\":\"\",\"marker\":{\"color\":\"#8c0404\",\"pattern\":{\"shape\":\"\"}},\"name\":\"\",\"offsetgroup\":\"\",\"orientation\":\"v\",\"showlegend\":false,\"x\":[49900,39900,26990,59729,69990,39990,36790,76990,48990,74990,49990,10990,72990,10990,29990,53649,33990,79990,68990,45990,49900,104990,54990,49580,55990,43990,19850,28990,54999,70990,56889,179880,53790,37990,96990,71990,59990,62990,30990,74990,36490,77990,54990,41190,89990,399999,31990,31490,70590,104990,23990,37999,52990,30849,58990,34990,49990,51780,68990,85990,96990,148990,72990,84490,60990,33990,35990,60990,43990,62990,65990,23990,61990,36990,50970,184999,109990,42990,39150,92999,80990,55850,38990,53990,38990,139234,57990,89999,37990,30990,92990,42990,59089,72999,126742,126990,49990,74390,52990,60990,98174,18990,38990,41950,46990,9999,40990,74990,33990,39990,10990,88990,54990,49990,80739,62990,62990,69501,59990,54990,64990,37729,50712,44990,23990,49990,72990,52101,28990,69490,39965,54990,46999,83990,51499,50990,23990,27990,79990,84390,24990,281990,26590,37990,71189,85999,93990,84990,44190,159990,52990,39990,73990,57500,59990,53990,33990,75990,144990,60539,56990,75533,74990,94990,179990,77990,37990,62990,129999,52990,104990,47999,114499,49990,39990,68990,79990,66490,69990,86490,32790,429990,49990,43990,36990,102990,29990,77889,69990,138990,51990,69990,72990,50400,108000,50990,47990,91990,25449,33207,52990,42434,42200,41990,80900,38990,135990,72490,72490,35990,45989,52500,59999,112990,21990,201498,64990,68999,60990,40990,107690,25490,38999,59990,60990,55500,124999,104990,136990,131990,36490,188752,36999,92890,57990,51999,79990,76890,37790,17990,38990,41990,68990,69990,56990,89990,62990,37990,58990,26990,94990,86189,37990,194990,51990,31990,41990,31990,51390,76900,27890,56990,73990,24999,33999,61990,47990,53990,31890,62390,49990,29990,49990,43490,95640,125990,72990,47990,99999,40990,94990,37990,73990,109990,65999,35990,37980,40789,450039,89990,56990,16990,54990,67000,34499,107763,61490,80490,57990,39990,53990,44500,48999,116990,30990,33790,51990,45990,51990,34099,65600,27990,46990,161590,98990,172990,25990,61990,76990,126790,209990,209990,142990,156990,93980,53990,51990,35990,37990,46490,90490,55990,159990,57990,104990,99990,80500,37990,34250,109990,33990,79990,64990,109990,62990,58999,420000,23990,42999,38861,33590,15990,33980,78400,79990,47990,74990,45889,90990,50990,74990,25990,133990,165990,163990,109990,139990,109990,149990,179990,155990,229900,35990,37990,34999,290990,234990,82799,31790,60990,86990,52990,38990,52558,31990,34499,94490,33800,74390,104490,105739,45500,50760,49990,33199,70990,64990,59990,88990,44990,77990,70990,55990,43999,37990,64990,32990,179490,56990,56990,34990,83249,57990,85490,55890,40689,48990,66648,36990,74990,144990,118499,35490,62889,63999,41990,49990,54990,119990,85990,85590,31990,55800,72422,31500,37990,63490,60990,39900,33990,57580,339990,34999,54990,35999,41710,50090,45890,29990,37672,83523,52128,39990,54790,147090,67990,49290,51990,83149,54999,74990,66990,61990,51573,31500,29000,32990,36990,239900,309490,49990,40250,59990,57990,36999,53990,48990,39990,37290,60390,54999,90464,54490,199900,89999,260000,45999,106990,221990,146990,52990,59990,52990,64490,78990,59900,55990,19990,47990,112990,101990,102990,33499,33999,215994,215994,26500,79990,68000,47925,59990,67800,60490,72999,109999,87990,121900,136490,143700,50490,71990,136899,62990,43990,33990,58990,154990,69990,50000,36990,76500,33990,32990,103221,89990,56990,44980,23990,76990,26920,14490,38990,52990,362999,64990,62990,18990,169999,189999,298999,99999,267999,108990,51990,62608,57999,62990,71990,297990,138490,103395,88990,419990,87990,48990,79990,33990,26990,13990,49990,59990,91990,95689,26732,89999,69990,65391,90000,38390,40990,50990,47990,59990,61990,31990,129990,49989,42990,259990,44690,61990,123300,74499,47990,85990,61990,21990,49990,112990,127990,91590,103060,39600,137590,53980,54990,28099,415000,64990,84990,52999,34999,65990,56990,88999,35990,111490,50990,89500,66388,66990,74990,26990,65990,87990,36480,63989,90990,104990,64800,27990,14990,22990,23990,42900,130000,94990,57990,104222,69990,63990,48990,46990,55990,66990,89990,62990,85990,47100,91990,67990,39990,36990,33990,43800,179490,164990,84990,104990,57990,58990,304990,33990,28990,39900,36490,87490,44990,107990,46900,98890,76990,86990,86990,58490,69199,45990,94990,97990,179990,125990,116463,109990,153625,270129,149990,58990,107190,32999,102090,231746,81990,36890,87990,77990,117574,97990,284990,344990,146599,44990,57990,128599,21990,151990,52990,119888,22990,76888,256990,83090,67999,96256,77990,323290,67990,82990,199990,189999,73990,67990,142990,64990,84800,64990,129990,114990,80000,54990,98999,69990,76990,74990,89990,29999,97705,240707,234990,209990,390914,172588,254657,152499,23990,119990,78299,115990,61990,26999,103099,64990,47990,24990,130800,57990,38500,47990,44990,69990,61990,89990,65990,58990,94990,86490,77490,85490,44000,51990,37990,34990,57799,65990,53990,49990,171990,44990,115990,50990,109990,29990,163999,58990,83990,43890,79999,35490,137890,94990,67990,46990,94990,83500,91990,111990,67990,67999,46200,52998,45499,49999,29980,57290,58990,199990,79990,78990,51990,104990,104990,39990,59990,47990,47890,85490,94990,95490,54999,159000,80610,77990,303490,201990,278290,286200,157544,140990,133000,72500,127000,146990,142990,205000,89799,63999,43490,12990,15990,36990,63990,45990,34990,41490,64990,57990,54990,208990,91560,74000,51999,31990,32490,74888,66500,156799,166899,89990,171499,29999,35998,44989,34990,48990,72990,71570,74990,25990,46490,64590,63990,247999,93990,51990,47990,34390,50990,28490,79990,79990,29990,59990,107399,129199,119990,187490,125699,49990,56990,44990,110000,189990,129990,131990],\"xaxis\":\"x\",\"yaxis\":\"y\",\"type\":\"histogram\"}],                        {\"barmode\":\"relative\",\"legend\":{\"tracegroupgap\":0},\"template\":{\"data\":{\"barpolar\":[{\"marker\":{\"line\":{\"color\":\"#E5ECF6\",\"width\":0.5},\"pattern\":{\"fillmode\":\"overlay\",\"size\":10,\"solidity\":0.2}},\"type\":\"barpolar\"}],\"bar\":[{\"error_x\":{\"color\":\"#2a3f5f\"},\"error_y\":{\"color\":\"#2a3f5f\"},\"marker\":{\"line\":{\"color\":\"#E5ECF6\",\"width\":0.5},\"pattern\":{\"fillmode\":\"overlay\",\"size\":10,\"solidity\":0.2}},\"type\":\"bar\"}],\"carpet\":[{\"aaxis\":{\"endlinecolor\":\"#2a3f5f\",\"gridcolor\":\"white\",\"linecolor\":\"white\",\"minorgridcolor\":\"white\",\"startlinecolor\":\"#2a3f5f\"},\"baxis\":{\"endlinecolor\":\"#2a3f5f\",\"gridcolor\":\"white\",\"linecolor\":\"white\",\"minorgridcolor\":\"white\",\"startlinecolor\":\"#2a3f5f\"},\"type\":\"carpet\"}],\"choropleth\":[{\"colorbar\":{\"outlinewidth\":0,\"ticks\":\"\"},\"type\":\"choropleth\"}],\"contourcarpet\":[{\"colorbar\":{\"outlinewidth\":0,\"ticks\":\"\"},\"type\":\"contourcarpet\"}],\"contour\":[{\"colorbar\":{\"outlinewidth\":0,\"ticks\":\"\"},\"colorscale\":[[0.0,\"#0d0887\"],[0.1111111111111111,\"#46039f\"],[0.2222222222222222,\"#7201a8\"],[0.3333333333333333,\"#9c179e\"],[0.4444444444444444,\"#bd3786\"],[0.5555555555555556,\"#d8576b\"],[0.6666666666666666,\"#ed7953\"],[0.7777777777777778,\"#fb9f3a\"],[0.8888888888888888,\"#fdca26\"],[1.0,\"#f0f921\"]],\"type\":\"contour\"}],\"heatmapgl\":[{\"colorbar\":{\"outlinewidth\":0,\"ticks\":\"\"},\"colorscale\":[[0.0,\"#0d0887\"],[0.1111111111111111,\"#46039f\"],[0.2222222222222222,\"#7201a8\"],[0.3333333333333333,\"#9c179e\"],[0.4444444444444444,\"#bd3786\"],[0.5555555555555556,\"#d8576b\"],[0.6666666666666666,\"#ed7953\"],[0.7777777777777778,\"#fb9f3a\"],[0.8888888888888888,\"#fdca26\"],[1.0,\"#f0f921\"]],\"type\":\"heatmapgl\"}],\"heatmap\":[{\"colorbar\":{\"outlinewidth\":0,\"ticks\":\"\"},\"colorscale\":[[0.0,\"#0d0887\"],[0.1111111111111111,\"#46039f\"],[0.2222222222222222,\"#7201a8\"],[0.3333333333333333,\"#9c179e\"],[0.4444444444444444,\"#bd3786\"],[0.5555555555555556,\"#d8576b\"],[0.6666666666666666,\"#ed7953\"],[0.7777777777777778,\"#fb9f3a\"],[0.8888888888888888,\"#fdca26\"],[1.0,\"#f0f921\"]],\"type\":\"heatmap\"}],\"histogram2dcontour\":[{\"colorbar\":{\"outlinewidth\":0,\"ticks\":\"\"},\"colorscale\":[[0.0,\"#0d0887\"],[0.1111111111111111,\"#46039f\"],[0.2222222222222222,\"#7201a8\"],[0.3333333333333333,\"#9c179e\"],[0.4444444444444444,\"#bd3786\"],[0.5555555555555556,\"#d8576b\"],[0.6666666666666666,\"#ed7953\"],[0.7777777777777778,\"#fb9f3a\"],[0.8888888888888888,\"#fdca26\"],[1.0,\"#f0f921\"]],\"type\":\"histogram2dcontour\"}],\"histogram2d\":[{\"colorbar\":{\"outlinewidth\":0,\"ticks\":\"\"},\"colorscale\":[[0.0,\"#0d0887\"],[0.1111111111111111,\"#46039f\"],[0.2222222222222222,\"#7201a8\"],[0.3333333333333333,\"#9c179e\"],[0.4444444444444444,\"#bd3786\"],[0.5555555555555556,\"#d8576b\"],[0.6666666666666666,\"#ed7953\"],[0.7777777777777778,\"#fb9f3a\"],[0.8888888888888888,\"#fdca26\"],[1.0,\"#f0f921\"]],\"type\":\"histogram2d\"}],\"histogram\":[{\"marker\":{\"pattern\":{\"fillmode\":\"overlay\",\"size\":10,\"solidity\":0.2}},\"type\":\"histogram\"}],\"mesh3d\":[{\"colorbar\":{\"outlinewidth\":0,\"ticks\":\"\"},\"type\":\"mesh3d\"}],\"parcoords\":[{\"line\":{\"colorbar\":{\"outlinewidth\":0,\"ticks\":\"\"}},\"type\":\"parcoords\"}],\"pie\":[{\"automargin\":true,\"type\":\"pie\"}],\"scatter3d\":[{\"line\":{\"colorbar\":{\"outlinewidth\":0,\"ticks\":\"\"}},\"marker\":{\"colorbar\":{\"outlinewidth\":0,\"ticks\":\"\"}},\"type\":\"scatter3d\"}],\"scattercarpet\":[{\"marker\":{\"colorbar\":{\"outlinewidth\":0,\"ticks\":\"\"}},\"type\":\"scattercarpet\"}],\"scattergeo\":[{\"marker\":{\"colorbar\":{\"outlinewidth\":0,\"ticks\":\"\"}},\"type\":\"scattergeo\"}],\"scattergl\":[{\"marker\":{\"colorbar\":{\"outlinewidth\":0,\"ticks\":\"\"}},\"type\":\"scattergl\"}],\"scattermapbox\":[{\"marker\":{\"colorbar\":{\"outlinewidth\":0,\"ticks\":\"\"}},\"type\":\"scattermapbox\"}],\"scatterpolargl\":[{\"marker\":{\"colorbar\":{\"outlinewidth\":0,\"ticks\":\"\"}},\"type\":\"scatterpolargl\"}],\"scatterpolar\":[{\"marker\":{\"colorbar\":{\"outlinewidth\":0,\"ticks\":\"\"}},\"type\":\"scatterpolar\"}],\"scatter\":[{\"fillpattern\":{\"fillmode\":\"overlay\",\"size\":10,\"solidity\":0.2},\"type\":\"scatter\"}],\"scatterternary\":[{\"marker\":{\"colorbar\":{\"outlinewidth\":0,\"ticks\":\"\"}},\"type\":\"scatterternary\"}],\"surface\":[{\"colorbar\":{\"outlinewidth\":0,\"ticks\":\"\"},\"colorscale\":[[0.0,\"#0d0887\"],[0.1111111111111111,\"#46039f\"],[0.2222222222222222,\"#7201a8\"],[0.3333333333333333,\"#9c179e\"],[0.4444444444444444,\"#bd3786\"],[0.5555555555555556,\"#d8576b\"],[0.6666666666666666,\"#ed7953\"],[0.7777777777777778,\"#fb9f3a\"],[0.8888888888888888,\"#fdca26\"],[1.0,\"#f0f921\"]],\"type\":\"surface\"}],\"table\":[{\"cells\":{\"fill\":{\"color\":\"#EBF0F8\"},\"line\":{\"color\":\"white\"}},\"header\":{\"fill\":{\"color\":\"#C8D4E3\"},\"line\":{\"color\":\"white\"}},\"type\":\"table\"}]},\"layout\":{\"annotationdefaults\":{\"arrowcolor\":\"#2a3f5f\",\"arrowhead\":0,\"arrowwidth\":1},\"autotypenumbers\":\"strict\",\"coloraxis\":{\"colorbar\":{\"outlinewidth\":0,\"ticks\":\"\"}},\"colorscale\":{\"diverging\":[[0,\"#8e0152\"],[0.1,\"#c51b7d\"],[0.2,\"#de77ae\"],[0.3,\"#f1b6da\"],[0.4,\"#fde0ef\"],[0.5,\"#f7f7f7\"],[0.6,\"#e6f5d0\"],[0.7,\"#b8e186\"],[0.8,\"#7fbc41\"],[0.9,\"#4d9221\"],[1,\"#276419\"]],\"sequential\":[[0.0,\"#0d0887\"],[0.1111111111111111,\"#46039f\"],[0.2222222222222222,\"#7201a8\"],[0.3333333333333333,\"#9c179e\"],[0.4444444444444444,\"#bd3786\"],[0.5555555555555556,\"#d8576b\"],[0.6666666666666666,\"#ed7953\"],[0.7777777777777778,\"#fb9f3a\"],[0.8888888888888888,\"#fdca26\"],[1.0,\"#f0f921\"]],\"sequentialminus\":[[0.0,\"#0d0887\"],[0.1111111111111111,\"#46039f\"],[0.2222222222222222,\"#7201a8\"],[0.3333333333333333,\"#9c179e\"],[0.4444444444444444,\"#bd3786\"],[0.5555555555555556,\"#d8576b\"],[0.6666666666666666,\"#ed7953\"],[0.7777777777777778,\"#fb9f3a\"],[0.8888888888888888,\"#fdca26\"],[1.0,\"#f0f921\"]]},\"colorway\":[\"#636efa\",\"#EF553B\",\"#00cc96\",\"#ab63fa\",\"#FFA15A\",\"#19d3f3\",\"#FF6692\",\"#B6E880\",\"#FF97FF\",\"#FECB52\"],\"font\":{\"color\":\"#2a3f5f\"},\"geo\":{\"bgcolor\":\"white\",\"lakecolor\":\"white\",\"landcolor\":\"#E5ECF6\",\"showlakes\":true,\"showland\":true,\"subunitcolor\":\"white\"},\"hoverlabel\":{\"align\":\"left\"},\"hovermode\":\"closest\",\"mapbox\":{\"style\":\"light\"},\"paper_bgcolor\":\"white\",\"plot_bgcolor\":\"#E5ECF6\",\"polar\":{\"angularaxis\":{\"gridcolor\":\"white\",\"linecolor\":\"white\",\"ticks\":\"\"},\"bgcolor\":\"#E5ECF6\",\"radialaxis\":{\"gridcolor\":\"white\",\"linecolor\":\"white\",\"ticks\":\"\"}},\"scene\":{\"xaxis\":{\"backgroundcolor\":\"#E5ECF6\",\"gridcolor\":\"white\",\"gridwidth\":2,\"linecolor\":\"white\",\"showbackground\":true,\"ticks\":\"\",\"zerolinecolor\":\"white\"},\"yaxis\":{\"backgroundcolor\":\"#E5ECF6\",\"gridcolor\":\"white\",\"gridwidth\":2,\"linecolor\":\"white\",\"showbackground\":true,\"ticks\":\"\",\"zerolinecolor\":\"white\"},\"zaxis\":{\"backgroundcolor\":\"#E5ECF6\",\"gridcolor\":\"white\",\"gridwidth\":2,\"linecolor\":\"white\",\"showbackground\":true,\"ticks\":\"\",\"zerolinecolor\":\"white\"}},\"shapedefaults\":{\"line\":{\"color\":\"#2a3f5f\"}},\"ternary\":{\"aaxis\":{\"gridcolor\":\"white\",\"linecolor\":\"white\",\"ticks\":\"\"},\"baxis\":{\"gridcolor\":\"white\",\"linecolor\":\"white\",\"ticks\":\"\"},\"bgcolor\":\"#E5ECF6\",\"caxis\":{\"gridcolor\":\"white\",\"linecolor\":\"white\",\"ticks\":\"\"}},\"title\":{\"x\":0.05},\"xaxis\":{\"automargin\":true,\"gridcolor\":\"white\",\"linecolor\":\"white\",\"ticks\":\"\",\"title\":{\"standoff\":15},\"zerolinecolor\":\"white\",\"zerolinewidth\":2},\"yaxis\":{\"automargin\":true,\"gridcolor\":\"white\",\"linecolor\":\"white\",\"ticks\":\"\",\"title\":{\"standoff\":15},\"zerolinecolor\":\"white\",\"zerolinewidth\":2}}},\"title\":{\"text\":\"price distribution in top hits\"},\"xaxis\":{\"anchor\":\"y\",\"domain\":[0.0,1.0],\"title\":{\"text\":\"price\"}},\"yaxis\":{\"anchor\":\"x\",\"domain\":[0.0,1.0],\"title\":{\"text\":\"count\"}}},                        {\"responsive\": true}                    ).then(function(){\n",
       "                            \n",
       "var gd = document.getElementById('538f1372-d172-4fc6-ba66-be408de9fa42');\n",
       "var x = new MutationObserver(function (mutations, observer) {{\n",
       "        var display = window.getComputedStyle(gd).display;\n",
       "        if (!display || display === 'none') {{\n",
       "            console.log([gd, 'removed!']);\n",
       "            Plotly.purge(gd);\n",
       "            observer.disconnect();\n",
       "        }}\n",
       "}});\n",
       "\n",
       "// Listen for the removal of the full notebook cells\n",
       "var notebookContainer = gd.closest('#notebook-container');\n",
       "if (notebookContainer) {{\n",
       "    x.observe(notebookContainer, {childList: true});\n",
       "}}\n",
       "\n",
       "// Listen for the clearing of the current output cell\n",
       "var outputEl = gd.closest('.output');\n",
       "if (outputEl) {{\n",
       "    x.observe(outputEl, {childList: true});\n",
       "}}\n",
       "\n",
       "                        })                };                });            </script>        </div>"
      ]
     },
     "metadata": {},
     "output_type": "display_data"
    },
    {
     "data": {
      "text/html": [
       "<div>                            <div id=\"30b67a1c-1dd1-4847-8234-d12df9a9ff3b\" class=\"plotly-graph-div\" style=\"height:525px; width:100%;\"></div>            <script type=\"text/javascript\">                require([\"plotly\"], function(Plotly) {                    window.PLOTLYENV=window.PLOTLYENV || {};                                    if (document.getElementById(\"30b67a1c-1dd1-4847-8234-d12df9a9ff3b\")) {                    Plotly.newPlot(                        \"30b67a1c-1dd1-4847-8234-d12df9a9ff3b\",                        [{\"alignmentgroup\":\"True\",\"bingroup\":\"x\",\"hovertemplate\":\"spec_rating=%{x}\\u003cbr\\u003ecount=%{y}\\u003cextra\\u003e\\u003c\\u002fextra\\u003e\",\"legendgroup\":\"\",\"marker\":{\"color\":\"#f25ed0\",\"pattern\":{\"shape\":\"\"}},\"name\":\"\",\"offsetgroup\":\"\",\"orientation\":\"v\",\"showlegend\":false,\"x\":[73.0,60.0,69.32352941176471,66.0,69.32352941176471,62.0,60.0,63.0,64.0,68.0,69.32352941176471,69.32352941176471,76.0,69.32352941176471,69.32352941176471,70.0,69.32352941176471,71.0,65.0,71.0,65.0,69.32352941176471,72.0,64.0,71.0,63.0,69.32352941176471,69.32352941176471,71.0,69.32352941176471,60.0,78.0,71.0,60.0,77.0,66.0,75.0,60.0,69.32352941176471,70.0,60.0,73.0,62.0,69.32352941176471,70.0,84.0,69.32352941176471,69.32352941176471,71.0,78.0,69.32352941176471,64.0,66.0,62.0,70.0,63.0,69.0,69.32352941176471,71.0,76.0,67.0,80.0,75.0,66.0,67.0,69.32352941176471,64.0,70.0,69.32352941176471,72.0,76.0,69.32352941176471,72.0,62.0,65.0,70.0,76.0,69.0,69.32352941176471,64.0,76.0,70.0,64.0,73.0,69.32352941176471,80.0,73.0,64.0,60.0,69.32352941176471,71.0,69.32352941176471,72.0,72.0,77.0,69.32352941176471,69.32352941176471,62.0,69.32352941176471,67.0,80.0,69.32352941176471,60.0,64.0,65.0,69.32352941176471,69.32352941176471,67.0,65.0,66.0,69.32352941176471,75.0,62.0,70.0,71.0,64.0,66.0,71.0,69.32352941176471,69.0,69.0,60.0,69.0,62.0,69.32352941176471,63.0,66.0,66.0,69.32352941176471,65.0,69.32352941176471,67.0,64.0,65.0,67.0,68.0,69.32352941176471,69.32352941176471,70.0,60.0,69.32352941176471,82.0,69.32352941176471,60.0,70.0,76.0,80.0,69.0,69.32352941176471,79.0,70.0,62.0,63.0,70.0,60.0,69.0,69.32352941176471,70.0,69.32352941176471,64.0,69.32352941176471,66.0,69.0,77.0,77.0,72.0,69.32352941176471,69.32352941176471,78.0,62.0,75.0,62.0,75.0,60.0,69.32352941176471,73.0,72.0,75.0,70.0,65.0,69.32352941176471,69.32352941176471,68.0,62.0,69.32352941176471,79.0,69.32352941176471,70.0,69.32352941176471,74.0,67.0,69.32352941176471,66.0,67.0,60.0,69.32352941176471,67.0,80.0,69.32352941176471,69.32352941176471,69.32352941176471,66.0,65.0,60.0,79.0,69.32352941176471,69.32352941176471,64.0,62.0,69.32352941176471,64.0,69.32352941176471,69.32352941176471,69.32352941176471,69.32352941176471,81.0,72.0,63.0,66.0,69.32352941176471,75.0,69.32352941176471,69.32352941176471,69.32352941176471,64.0,70.0,76.0,76.0,72.0,83.0,60.0,75.0,60.0,75.0,69.32352941176471,62.0,69.32352941176471,64.0,69.32352941176471,69.32352941176471,69.32352941176471,63.0,69.32352941176471,67.0,65.0,71.0,71.0,69.32352941176471,60.0,69.32352941176471,70.0,71.0,69.32352941176471,89.0,67.0,69.32352941176471,69.32352941176471,69.32352941176471,60.0,69.32352941176471,69.32352941176471,60.0,64.0,69.32352941176471,69.32352941176471,63.0,62.0,66.0,69.32352941176471,63.0,69.32352941176471,69.32352941176471,69.32352941176471,69.32352941176471,60.0,80.0,63.0,69.0,71.0,69.32352941176471,75.0,69.32352941176471,69.0,75.0,65.0,69.32352941176471,69.32352941176471,63.0,83.0,75.0,60.0,69.32352941176471,63.0,60.0,69.32352941176471,71.0,69.32352941176471,69.0,69.0,62.0,64.0,69.32352941176471,60.0,70.0,69.32352941176471,69.32352941176471,72.0,69.32352941176471,70.0,69.32352941176471,66.0,69.32352941176471,69.32352941176471,78.0,69.32352941176471,79.0,69.32352941176471,66.0,64.0,73.0,73.0,79.0,78.0,84.0,70.0,64.0,69.32352941176471,69.32352941176471,69.32352941176471,69.32352941176471,69.0,67.0,88.0,69.32352941176471,66.0,70.0,69.0,69.32352941176471,69.32352941176471,71.0,69.32352941176471,64.0,62.0,71.0,72.0,65.0,69.32352941176471,69.32352941176471,69.32352941176471,69.32352941176471,69.32352941176471,69.32352941176471,69.32352941176471,71.0,72.0,67.0,68.0,69.32352941176471,70.0,69.32352941176471,69.32352941176471,69.32352941176471,68.0,73.0,80.0,66.0,71.0,66.0,72.0,81.0,74.0,78.0,61.0,60.0,60.0,61.0,69.32352941176471,70.0,60.0,67.0,77.0,63.0,69.32352941176471,60.0,69.32352941176471,69.32352941176471,75.0,69.32352941176471,69.32352941176471,71.0,71.0,66.0,69.32352941176471,69.32352941176471,69.32352941176471,72.0,71.0,64.0,70.0,69.32352941176471,69.0,65.0,70.0,66.0,69.32352941176471,67.0,69.32352941176471,81.0,60.0,71.0,69.32352941176471,70.0,60.0,71.0,69.32352941176471,69.32352941176471,65.0,64.0,69.32352941176471,73.0,69.32352941176471,69.32352941176471,69.32352941176471,74.0,67.0,69.32352941176471,62.0,62.0,75.0,78.0,79.0,61.0,69.32352941176471,68.0,69.32352941176471,69.32352941176471,71.0,66.0,64.0,69.32352941176471,69.32352941176471,85.0,60.0,61.0,60.0,65.0,67.0,69.32352941176471,69.32352941176471,69.32352941176471,77.0,66.0,69.32352941176471,66.0,86.0,61.0,70.0,62.0,64.0,69.32352941176471,65.0,67.0,62.0,69.32352941176471,69.32352941176471,69.32352941176471,69.32352941176471,69.32352941176471,69.32352941176471,60.0,69.32352941176471,69.32352941176471,72.0,65.0,69.32352941176471,67.0,62.0,69.32352941176471,61.0,69.32352941176471,65.0,69.32352941176471,61.0,69.32352941176471,62.0,62.0,64.0,69.0,64.0,86.0,62.0,69.32352941176471,69.32352941176471,69.32352941176471,62.0,69.32352941176471,69.32352941176471,69.32352941176471,63.0,72.0,67.0,71.0,69.32352941176471,69.32352941176471,69.32352941176471,69.32352941176471,69.32352941176471,65.0,70.0,60.0,70.0,69.32352941176471,69.32352941176471,69.32352941176471,69.32352941176471,67.0,69.0,69.32352941176471,77.0,69.32352941176471,69.32352941176471,75.0,69.0,69.32352941176471,69.32352941176471,65.0,71.0,64.0,69.32352941176471,69.32352941176471,66.0,69.32352941176471,69.32352941176471,69.0,71.0,69.0,69.32352941176471,69.32352941176471,63.0,69.32352941176471,69.32352941176471,69.32352941176471,63.0,88.0,65.0,64.0,69.32352941176471,78.0,80.0,88.0,70.0,85.0,63.0,69.0,66.0,67.0,69.32352941176471,69.32352941176471,85.0,78.0,77.0,66.0,89.0,65.0,62.0,70.0,69.32352941176471,69.32352941176471,69.32352941176471,65.0,65.0,71.0,73.0,69.32352941176471,70.0,62.0,69.32352941176471,69.32352941176471,69.32352941176471,69.32352941176471,62.0,69.32352941176471,69.32352941176471,69.32352941176471,69.32352941176471,82.0,63.0,69.32352941176471,83.0,69.32352941176471,69.0,75.0,69.32352941176471,65.0,71.0,63.0,69.32352941176471,67.0,79.0,83.0,70.0,71.0,69.32352941176471,83.0,69.0,60.0,69.32352941176471,67.0,66.0,69.0,67.0,63.0,67.0,67.0,64.0,69.32352941176471,76.0,69.32352941176471,64.0,62.0,63.0,64.0,69.32352941176471,69.32352941176471,73.0,69.32352941176471,69.32352941176471,64.0,72.0,69.32352941176471,69.32352941176471,69.32352941176471,69.32352941176471,69.32352941176471,62.0,71.0,73.0,60.0,72.0,65.0,69.0,69.32352941176471,69.32352941176471,69.0,65.0,70.0,71.0,76.0,65.0,76.0,62.0,63.0,60.0,69.32352941176471,69.32352941176471,78.0,70.0,69.32352941176471,76.0,69.0,63.0,78.0,69.32352941176471,69.32352941176471,69.32352941176471,60.0,62.0,69.32352941176471,75.0,69.32352941176471,63.0,69.32352941176471,62.0,60.0,63.0,71.0,65.0,77.0,77.0,83.0,76.0,71.0,72.0,75.0,86.0,83.0,64.0,67.0,69.32352941176471,72.0,71.0,72.0,69.32352941176471,71.0,67.0,80.0,73.0,89.0,69.32352941176471,77.0,65.0,67.0,73.0,69.32352941176471,77.0,62.0,75.0,69.32352941176471,67.0,85.0,60.0,65.0,72.0,63.0,85.0,65.0,65.0,80.0,77.0,69.0,70.0,82.0,72.0,75.0,69.0,80.0,78.0,69.32352941176471,60.0,67.0,62.0,72.0,66.0,73.0,69.32352941176471,67.0,89.0,83.0,80.0,69.32352941176471,84.0,86.0,78.0,69.32352941176471,71.0,72.0,69.0,65.0,69.32352941176471,73.0,63.0,62.0,69.32352941176471,69.0,71.0,69.32352941176471,67.0,60.0,65.0,64.0,75.0,60.0,62.0,66.0,70.0,66.0,66.0,69.32352941176471,60.0,60.0,69.32352941176471,64.0,67.0,66.0,67.0,79.0,69.32352941176471,70.0,60.0,69.0,69.32352941176471,83.0,71.0,69.32352941176471,63.0,76.0,69.32352941176471,77.0,67.0,70.0,69.32352941176471,77.0,67.0,73.0,78.0,66.0,62.0,69.32352941176471,69.32352941176471,69.32352941176471,62.0,69.32352941176471,60.0,62.0,85.0,70.0,69.0,69.32352941176471,78.0,78.0,69.32352941176471,71.0,66.0,69.32352941176471,75.0,77.0,77.0,63.0,72.0,70.0,66.0,69.32352941176471,82.0,88.0,82.0,71.0,77.0,75.0,63.0,70.0,76.0,76.0,72.0,75.0,62.0,69.32352941176471,69.32352941176471,69.32352941176471,62.0,69.0,69.32352941176471,69.32352941176471,69.32352941176471,64.0,70.0,69.0,72.0,66.0,64.0,69.32352941176471,69.32352941176471,69.32352941176471,64.0,71.0,78.0,82.0,69.32352941176471,79.0,69.32352941176471,69.32352941176471,69.32352941176471,69.32352941176471,60.0,69.32352941176471,69.32352941176471,67.0,69.32352941176471,63.0,69.32352941176471,69.32352941176471,69.32352941176471,66.0,65.0,63.0,69.32352941176471,65.0,69.32352941176471,75.0,75.0,69.32352941176471,64.0,69.32352941176471,76.0,73.0,79.0,75.0,69.32352941176471,69.32352941176471,69.32352941176471,71.0,89.0,73.0,84.0],\"xaxis\":\"x\",\"yaxis\":\"y\",\"type\":\"histogram\"}],                        {\"barmode\":\"relative\",\"legend\":{\"tracegroupgap\":0},\"template\":{\"data\":{\"barpolar\":[{\"marker\":{\"line\":{\"color\":\"#E5ECF6\",\"width\":0.5},\"pattern\":{\"fillmode\":\"overlay\",\"size\":10,\"solidity\":0.2}},\"type\":\"barpolar\"}],\"bar\":[{\"error_x\":{\"color\":\"#2a3f5f\"},\"error_y\":{\"color\":\"#2a3f5f\"},\"marker\":{\"line\":{\"color\":\"#E5ECF6\",\"width\":0.5},\"pattern\":{\"fillmode\":\"overlay\",\"size\":10,\"solidity\":0.2}},\"type\":\"bar\"}],\"carpet\":[{\"aaxis\":{\"endlinecolor\":\"#2a3f5f\",\"gridcolor\":\"white\",\"linecolor\":\"white\",\"minorgridcolor\":\"white\",\"startlinecolor\":\"#2a3f5f\"},\"baxis\":{\"endlinecolor\":\"#2a3f5f\",\"gridcolor\":\"white\",\"linecolor\":\"white\",\"minorgridcolor\":\"white\",\"startlinecolor\":\"#2a3f5f\"},\"type\":\"carpet\"}],\"choropleth\":[{\"colorbar\":{\"outlinewidth\":0,\"ticks\":\"\"},\"type\":\"choropleth\"}],\"contourcarpet\":[{\"colorbar\":{\"outlinewidth\":0,\"ticks\":\"\"},\"type\":\"contourcarpet\"}],\"contour\":[{\"colorbar\":{\"outlinewidth\":0,\"ticks\":\"\"},\"colorscale\":[[0.0,\"#0d0887\"],[0.1111111111111111,\"#46039f\"],[0.2222222222222222,\"#7201a8\"],[0.3333333333333333,\"#9c179e\"],[0.4444444444444444,\"#bd3786\"],[0.5555555555555556,\"#d8576b\"],[0.6666666666666666,\"#ed7953\"],[0.7777777777777778,\"#fb9f3a\"],[0.8888888888888888,\"#fdca26\"],[1.0,\"#f0f921\"]],\"type\":\"contour\"}],\"heatmapgl\":[{\"colorbar\":{\"outlinewidth\":0,\"ticks\":\"\"},\"colorscale\":[[0.0,\"#0d0887\"],[0.1111111111111111,\"#46039f\"],[0.2222222222222222,\"#7201a8\"],[0.3333333333333333,\"#9c179e\"],[0.4444444444444444,\"#bd3786\"],[0.5555555555555556,\"#d8576b\"],[0.6666666666666666,\"#ed7953\"],[0.7777777777777778,\"#fb9f3a\"],[0.8888888888888888,\"#fdca26\"],[1.0,\"#f0f921\"]],\"type\":\"heatmapgl\"}],\"heatmap\":[{\"colorbar\":{\"outlinewidth\":0,\"ticks\":\"\"},\"colorscale\":[[0.0,\"#0d0887\"],[0.1111111111111111,\"#46039f\"],[0.2222222222222222,\"#7201a8\"],[0.3333333333333333,\"#9c179e\"],[0.4444444444444444,\"#bd3786\"],[0.5555555555555556,\"#d8576b\"],[0.6666666666666666,\"#ed7953\"],[0.7777777777777778,\"#fb9f3a\"],[0.8888888888888888,\"#fdca26\"],[1.0,\"#f0f921\"]],\"type\":\"heatmap\"}],\"histogram2dcontour\":[{\"colorbar\":{\"outlinewidth\":0,\"ticks\":\"\"},\"colorscale\":[[0.0,\"#0d0887\"],[0.1111111111111111,\"#46039f\"],[0.2222222222222222,\"#7201a8\"],[0.3333333333333333,\"#9c179e\"],[0.4444444444444444,\"#bd3786\"],[0.5555555555555556,\"#d8576b\"],[0.6666666666666666,\"#ed7953\"],[0.7777777777777778,\"#fb9f3a\"],[0.8888888888888888,\"#fdca26\"],[1.0,\"#f0f921\"]],\"type\":\"histogram2dcontour\"}],\"histogram2d\":[{\"colorbar\":{\"outlinewidth\":0,\"ticks\":\"\"},\"colorscale\":[[0.0,\"#0d0887\"],[0.1111111111111111,\"#46039f\"],[0.2222222222222222,\"#7201a8\"],[0.3333333333333333,\"#9c179e\"],[0.4444444444444444,\"#bd3786\"],[0.5555555555555556,\"#d8576b\"],[0.6666666666666666,\"#ed7953\"],[0.7777777777777778,\"#fb9f3a\"],[0.8888888888888888,\"#fdca26\"],[1.0,\"#f0f921\"]],\"type\":\"histogram2d\"}],\"histogram\":[{\"marker\":{\"pattern\":{\"fillmode\":\"overlay\",\"size\":10,\"solidity\":0.2}},\"type\":\"histogram\"}],\"mesh3d\":[{\"colorbar\":{\"outlinewidth\":0,\"ticks\":\"\"},\"type\":\"mesh3d\"}],\"parcoords\":[{\"line\":{\"colorbar\":{\"outlinewidth\":0,\"ticks\":\"\"}},\"type\":\"parcoords\"}],\"pie\":[{\"automargin\":true,\"type\":\"pie\"}],\"scatter3d\":[{\"line\":{\"colorbar\":{\"outlinewidth\":0,\"ticks\":\"\"}},\"marker\":{\"colorbar\":{\"outlinewidth\":0,\"ticks\":\"\"}},\"type\":\"scatter3d\"}],\"scattercarpet\":[{\"marker\":{\"colorbar\":{\"outlinewidth\":0,\"ticks\":\"\"}},\"type\":\"scattercarpet\"}],\"scattergeo\":[{\"marker\":{\"colorbar\":{\"outlinewidth\":0,\"ticks\":\"\"}},\"type\":\"scattergeo\"}],\"scattergl\":[{\"marker\":{\"colorbar\":{\"outlinewidth\":0,\"ticks\":\"\"}},\"type\":\"scattergl\"}],\"scattermapbox\":[{\"marker\":{\"colorbar\":{\"outlinewidth\":0,\"ticks\":\"\"}},\"type\":\"scattermapbox\"}],\"scatterpolargl\":[{\"marker\":{\"colorbar\":{\"outlinewidth\":0,\"ticks\":\"\"}},\"type\":\"scatterpolargl\"}],\"scatterpolar\":[{\"marker\":{\"colorbar\":{\"outlinewidth\":0,\"ticks\":\"\"}},\"type\":\"scatterpolar\"}],\"scatter\":[{\"fillpattern\":{\"fillmode\":\"overlay\",\"size\":10,\"solidity\":0.2},\"type\":\"scatter\"}],\"scatterternary\":[{\"marker\":{\"colorbar\":{\"outlinewidth\":0,\"ticks\":\"\"}},\"type\":\"scatterternary\"}],\"surface\":[{\"colorbar\":{\"outlinewidth\":0,\"ticks\":\"\"},\"colorscale\":[[0.0,\"#0d0887\"],[0.1111111111111111,\"#46039f\"],[0.2222222222222222,\"#7201a8\"],[0.3333333333333333,\"#9c179e\"],[0.4444444444444444,\"#bd3786\"],[0.5555555555555556,\"#d8576b\"],[0.6666666666666666,\"#ed7953\"],[0.7777777777777778,\"#fb9f3a\"],[0.8888888888888888,\"#fdca26\"],[1.0,\"#f0f921\"]],\"type\":\"surface\"}],\"table\":[{\"cells\":{\"fill\":{\"color\":\"#EBF0F8\"},\"line\":{\"color\":\"white\"}},\"header\":{\"fill\":{\"color\":\"#C8D4E3\"},\"line\":{\"color\":\"white\"}},\"type\":\"table\"}]},\"layout\":{\"annotationdefaults\":{\"arrowcolor\":\"#2a3f5f\",\"arrowhead\":0,\"arrowwidth\":1},\"autotypenumbers\":\"strict\",\"coloraxis\":{\"colorbar\":{\"outlinewidth\":0,\"ticks\":\"\"}},\"colorscale\":{\"diverging\":[[0,\"#8e0152\"],[0.1,\"#c51b7d\"],[0.2,\"#de77ae\"],[0.3,\"#f1b6da\"],[0.4,\"#fde0ef\"],[0.5,\"#f7f7f7\"],[0.6,\"#e6f5d0\"],[0.7,\"#b8e186\"],[0.8,\"#7fbc41\"],[0.9,\"#4d9221\"],[1,\"#276419\"]],\"sequential\":[[0.0,\"#0d0887\"],[0.1111111111111111,\"#46039f\"],[0.2222222222222222,\"#7201a8\"],[0.3333333333333333,\"#9c179e\"],[0.4444444444444444,\"#bd3786\"],[0.5555555555555556,\"#d8576b\"],[0.6666666666666666,\"#ed7953\"],[0.7777777777777778,\"#fb9f3a\"],[0.8888888888888888,\"#fdca26\"],[1.0,\"#f0f921\"]],\"sequentialminus\":[[0.0,\"#0d0887\"],[0.1111111111111111,\"#46039f\"],[0.2222222222222222,\"#7201a8\"],[0.3333333333333333,\"#9c179e\"],[0.4444444444444444,\"#bd3786\"],[0.5555555555555556,\"#d8576b\"],[0.6666666666666666,\"#ed7953\"],[0.7777777777777778,\"#fb9f3a\"],[0.8888888888888888,\"#fdca26\"],[1.0,\"#f0f921\"]]},\"colorway\":[\"#636efa\",\"#EF553B\",\"#00cc96\",\"#ab63fa\",\"#FFA15A\",\"#19d3f3\",\"#FF6692\",\"#B6E880\",\"#FF97FF\",\"#FECB52\"],\"font\":{\"color\":\"#2a3f5f\"},\"geo\":{\"bgcolor\":\"white\",\"lakecolor\":\"white\",\"landcolor\":\"#E5ECF6\",\"showlakes\":true,\"showland\":true,\"subunitcolor\":\"white\"},\"hoverlabel\":{\"align\":\"left\"},\"hovermode\":\"closest\",\"mapbox\":{\"style\":\"light\"},\"paper_bgcolor\":\"white\",\"plot_bgcolor\":\"#E5ECF6\",\"polar\":{\"angularaxis\":{\"gridcolor\":\"white\",\"linecolor\":\"white\",\"ticks\":\"\"},\"bgcolor\":\"#E5ECF6\",\"radialaxis\":{\"gridcolor\":\"white\",\"linecolor\":\"white\",\"ticks\":\"\"}},\"scene\":{\"xaxis\":{\"backgroundcolor\":\"#E5ECF6\",\"gridcolor\":\"white\",\"gridwidth\":2,\"linecolor\":\"white\",\"showbackground\":true,\"ticks\":\"\",\"zerolinecolor\":\"white\"},\"yaxis\":{\"backgroundcolor\":\"#E5ECF6\",\"gridcolor\":\"white\",\"gridwidth\":2,\"linecolor\":\"white\",\"showbackground\":true,\"ticks\":\"\",\"zerolinecolor\":\"white\"},\"zaxis\":{\"backgroundcolor\":\"#E5ECF6\",\"gridcolor\":\"white\",\"gridwidth\":2,\"linecolor\":\"white\",\"showbackground\":true,\"ticks\":\"\",\"zerolinecolor\":\"white\"}},\"shapedefaults\":{\"line\":{\"color\":\"#2a3f5f\"}},\"ternary\":{\"aaxis\":{\"gridcolor\":\"white\",\"linecolor\":\"white\",\"ticks\":\"\"},\"baxis\":{\"gridcolor\":\"white\",\"linecolor\":\"white\",\"ticks\":\"\"},\"bgcolor\":\"#E5ECF6\",\"caxis\":{\"gridcolor\":\"white\",\"linecolor\":\"white\",\"ticks\":\"\"}},\"title\":{\"x\":0.05},\"xaxis\":{\"automargin\":true,\"gridcolor\":\"white\",\"linecolor\":\"white\",\"ticks\":\"\",\"title\":{\"standoff\":15},\"zerolinecolor\":\"white\",\"zerolinewidth\":2},\"yaxis\":{\"automargin\":true,\"gridcolor\":\"white\",\"linecolor\":\"white\",\"ticks\":\"\",\"title\":{\"standoff\":15},\"zerolinecolor\":\"white\",\"zerolinewidth\":2}}},\"title\":{\"text\":\"spec_rating distribution in top hits\"},\"xaxis\":{\"anchor\":\"y\",\"domain\":[0.0,1.0],\"title\":{\"text\":\"spec_rating\"}},\"yaxis\":{\"anchor\":\"x\",\"domain\":[0.0,1.0],\"title\":{\"text\":\"count\"}}},                        {\"responsive\": true}                    ).then(function(){\n",
       "                            \n",
       "var gd = document.getElementById('30b67a1c-1dd1-4847-8234-d12df9a9ff3b');\n",
       "var x = new MutationObserver(function (mutations, observer) {{\n",
       "        var display = window.getComputedStyle(gd).display;\n",
       "        if (!display || display === 'none') {{\n",
       "            console.log([gd, 'removed!']);\n",
       "            Plotly.purge(gd);\n",
       "            observer.disconnect();\n",
       "        }}\n",
       "}});\n",
       "\n",
       "// Listen for the removal of the full notebook cells\n",
       "var notebookContainer = gd.closest('#notebook-container');\n",
       "if (notebookContainer) {{\n",
       "    x.observe(notebookContainer, {childList: true});\n",
       "}}\n",
       "\n",
       "// Listen for the clearing of the current output cell\n",
       "var outputEl = gd.closest('.output');\n",
       "if (outputEl) {{\n",
       "    x.observe(outputEl, {childList: true});\n",
       "}}\n",
       "\n",
       "                        })                };                });            </script>        </div>"
      ]
     },
     "metadata": {},
     "output_type": "display_data"
    },
    {
     "data": {
      "text/html": [
       "<div>                            <div id=\"807e75cf-0784-47ed-901f-204580cc07ec\" class=\"plotly-graph-div\" style=\"height:525px; width:100%;\"></div>            <script type=\"text/javascript\">                require([\"plotly\"], function(Plotly) {                    window.PLOTLYENV=window.PLOTLYENV || {};                                    if (document.getElementById(\"807e75cf-0784-47ed-901f-204580cc07ec\")) {                    Plotly.newPlot(                        \"807e75cf-0784-47ed-901f-204580cc07ec\",                        [{\"alignmentgroup\":\"True\",\"bingroup\":\"x\",\"hovertemplate\":\"display_size=%{x}\\u003cbr\\u003ecount=%{y}\\u003cextra\\u003e\\u003c\\u002fextra\\u003e\",\"legendgroup\":\"\",\"marker\":{\"color\":\"#000000\",\"pattern\":{\"shape\":\"\"}},\"name\":\"\",\"offsetgroup\":\"\",\"orientation\":\"v\",\"showlegend\":false,\"x\":[15.6,15.6,14.0,14.0,13.3,14.0,15.6,15.6,15.6,13.3,15.6,14.1,15.6,11.6,15.6,15.6,14.0,15.6,15.6,15.6,16.0,13.6,15.6,15.6,16.0,15.6,15.6,15.6,15.6,15.6,15.6,16.0,15.6,15.6,15.6,15.6,16.1,14.0,14.0,15.6,15.6,15.6,15.6,15.6,16.0,16.0,15.6,15.6,15.6,15.6,15.6,15.6,14.0,15.6,15.6,15.6,16.0,15.6,15.6,15.6,15.6,16.0,17.3,14.0,15.6,14.0,14.0,15.6,14.0,16.0,15.6,15.6,15.6,15.6,16.0,15.6,16.1,15.6,15.6,14.0,16.1,15.6,15.6,15.6,14.0,16.0,15.6,15.6,14.0,14.0,15.6,15.6,15.6,15.6,16.1,15.3,15.6,14.0,15.6,15.6,16.1,14.0,15.6,14.0,15.6,11.6,15.6,15.6,15.6,15.6,11.6,15.6,15.6,15.6,16.0,15.6,15.6,15.6,14.0,15.6,15.6,15.6,15.6,14.0,14.0,15.6,15.6,15.6,14.0,15.6,15.6,14.0,15.6,15.6,15.6,14.0,15.6,15.6,14.0,15.6,15.6,16.0,15.6,14.0,15.6,16.1,14.0,14.0,15.6,16.0,15.6,15.6,14.0,15.6,15.6,15.6,14.0,16.0,15.3,15.6,15.6,15.6,15.6,15.6,16.0,16.0,15.6,15.6,16.0,15.6,16.0,14.0,16.0,15.6,15.6,15.6,15.6,15.6,14.0,15.6,15.6,16.0,14.0,14.0,14.0,15.6,15.6,14.0,15.6,15.6,15.6,14.0,15.6,16.0,14.0,15.6,15.6,16.1,14.0,15.6,15.6,14.0,15.6,15.6,15.6,15.6,13.6,15.6,14.0,15.56,15.6,15.6,14.0,13.3,14.0,16.0,15.6,14.0,15.6,15.6,15.6,15.6,15.6,15.6,15.6,15.6,16.0,16.1,15.6,16.0,14.0,13.4,15.6,14.0,14.0,15.6,14.0,14.0,15.6,11.6,15.6,15.6,14.0,14.0,14.0,15.6,15.6,15.6,15.6,15.6,16.0,17.3,13.5,16.0,15.6,15.6,15.6,15.6,15.6,15.6,15.6,15.6,15.6,15.6,15.6,16.0,15.6,15.6,15.6,15.6,14.0,15.6,14.0,14.0,14.0,16.0,15.6,15.6,15.6,15.6,14.0,15.6,15.6,15.6,15.6,15.6,15.6,15.6,18.0,14.0,15.6,14.1,14.0,14.0,15.6,14.0,14.0,14.0,15.6,14.0,14.0,15.6,14.0,15.6,15.6,15.6,15.6,15.6,15.6,15.6,15.6,15.6,14.0,16.0,14.0,16.0,14.0,15.6,14.0,15.6,13.4,16.0,16.0,15.6,14.0,17.3,15.6,15.6,15.6,15.6,15.6,15.6,16.0,15.6,16.0,16.0,15.6,14.0,15.6,15.6,15.6,13.3,15.6,15.6,15.6,14.0,17.3,14.0,15.6,15.6,15.6,15.6,14.0,15.6,15.6,15.6,15.6,15.6,14.0,15.6,15.6,15.6,13.3,16.0,16.0,13.3,14.0,13.3,16.0,16.0,16.0,16.0,15.6,15.6,14.0,14.2,14.2,14.0,14.0,15.6,15.6,14.0,14.0,15.6,14.0,15.6,14.0,15.6,15.6,14.0,15.6,15.6,15.6,14.0,14.0,15.6,15.6,16.0,14.0,15.6,13.3,16.0,15.6,15.6,15.6,15.6,15.6,16.0,15.6,16.1,15.6,14.0,14.0,13.4,15.6,15.6,15.6,14.0,15.6,15.6,16.0,14.0,15.6,14.0,15.6,14.0,14.0,14.0,16.0,16.0,16.0,15.6,14.0,14.0,15.6,14.0,15.6,15.6,15.6,15.6,15.6,16.0,15.6,15.6,15.6,15.6,16.0,14.0,15.6,15.6,15.6,15.6,15.6,15.6,16.0,14.0,15.6,15.6,14.0,15.6,15.6,15.6,15.6,14.0,15.6,15.6,15.6,15.6,14.2,16.2,15.6,15.6,15.6,15.6,14.0,15.6,14.0,14.0,15.6,15.0,15.6,14.0,14.0,13.3,13.3,14.1,15.6,16.0,14.0,16.0,15.6,14.0,15.6,15.6,15.6,15.6,14.0,15.6,14.0,13.3,13.3,13.3,13.3,15.6,16.2,14.2,15.6,15.6,15.6,15.6,15.6,14.0,15.0,13.3,13.3,13.3,15.6,15.6,15.6,15.6,15.6,15.6,14.0,14.0,15.6,15.6,15.6,15.6,14.0,15.6,15.6,15.6,15.6,16.0,16.0,15.6,14.0,14.0,15.6,14.0,14.1,15.6,15.6,17.3,15.6,15.6,11.6,16.1,16.1,16.1,14.0,17.3,16.0,15.6,17.3,15.6,14.0,14.0,16.0,16.0,16.0,16.0,16.0,14.0,15.6,15.6,15.6,14.0,11.6,14.0,15.6,15.6,16.0,14.0,14.0,14.0,14.0,14.0,15.6,15.6,15.6,15.6,15.6,15.6,14.0,16.0,15.6,15.6,16.0,15.6,14.0,16.0,15.6,15.6,13.3,14.0,14.1,15.6,16.0,16.0,14.0,15.6,15.6,16.0,16.0,14.0,15.6,17.0,13.3,13.3,15.6,15.6,15.6,15.6,15.6,15.6,14.0,15.6,15.6,14.0,15.6,15.6,15.6,15.6,16.0,15.6,15.6,15.6,16.0,14.0,14.0,14.0,15.6,15.6,15.6,16.0,15.6,15.6,16.0,14.0,14.0,15.6,15.6,15.6,16.0,16.0,15.6,15.6,15.6,14.0,15.6,14.0,14.0,14.0,14.0,16.1,14.0,14.0,14.0,15.6,15.6,15.6,14.0,14.1,14.0,15.6,14.0,15.6,14.0,15.6,13.3,14.0,13.3,14.0,14.0,15.6,15.6,15.6,17.3,17.3,17.3,15.6,15.6,16.1,16.1,15.6,14.0,13.3,15.6,16.1,13.5,16.0,15.6,15.6,14.0,15.6,15.6,16.0,17.0,16.1,15.6,14.0,16.0,15.6,16.1,15.6,14.0,15.6,13.3,15.6,13.3,15.6,15.6,14.0,16.0,14.0,13.3,16.0,16.0,13.3,15.6,16.0,14.0,16.0,14.0,16.0,16.0,15.6,15.6,14.0,14.0,15.6,14.0,14.0,15.6,16.0,16.0,16.0,16.0,16.0,16.0,16.0,16.0,11.6,14.0,16.0,14.0,15.6,15.6,16.1,15.6,14.0,14.0,14.0,15.6,15.6,15.6,14.0,15.6,15.6,16.0,15.6,14.0,15.6,15.6,15.6,15.6,15.6,14.0,15.6,14.0,14.0,15.6,15.6,15.6,15.6,14.0,15.6,14.0,15.6,14.0,14.0,15.6,14.0,15.6,16.0,15.6,15.6,14.0,15.6,14.0,16.0,17.3,15.6,15.6,15.6,14.0,14.0,16.0,15.6,14.0,15.6,16.0,14.0,14.0,15.6,15.6,14.0,17.3,15.6,14.0,15.6,15.6,15.6,15.6,15.6,17.3,15.6,14.0,16.0,13.3,17.0,13.4,15.6,16.0,16.0,16.0,14.0,14.0,14.0,17.0,16.0,16.0,16.0,14.0,15.6,14.1,15.6,14.0,14.0,14.0,15.6,15.6,15.6,16.1,15.6,14.0,15.6,14.0,15.6,15.6,15.6,15.6,16.1,16.0,16.0,14.0,17.3,14.0,15.6,15.6,15.6,14.0,14.0,14.0,15.6,15.6,14.0,14.0,15.6,17.0,16.0,15.6,16.0,14.0,15.6,15.0,15.6,15.6,14.0,15.6,16.0,15.6,15.6,16.0,15.6,14.0,15.6,15.6,15.6,14.0,15.6,15.6],\"xaxis\":\"x\",\"yaxis\":\"y\",\"type\":\"histogram\"}],                        {\"barmode\":\"relative\",\"legend\":{\"tracegroupgap\":0},\"template\":{\"data\":{\"barpolar\":[{\"marker\":{\"line\":{\"color\":\"#E5ECF6\",\"width\":0.5},\"pattern\":{\"fillmode\":\"overlay\",\"size\":10,\"solidity\":0.2}},\"type\":\"barpolar\"}],\"bar\":[{\"error_x\":{\"color\":\"#2a3f5f\"},\"error_y\":{\"color\":\"#2a3f5f\"},\"marker\":{\"line\":{\"color\":\"#E5ECF6\",\"width\":0.5},\"pattern\":{\"fillmode\":\"overlay\",\"size\":10,\"solidity\":0.2}},\"type\":\"bar\"}],\"carpet\":[{\"aaxis\":{\"endlinecolor\":\"#2a3f5f\",\"gridcolor\":\"white\",\"linecolor\":\"white\",\"minorgridcolor\":\"white\",\"startlinecolor\":\"#2a3f5f\"},\"baxis\":{\"endlinecolor\":\"#2a3f5f\",\"gridcolor\":\"white\",\"linecolor\":\"white\",\"minorgridcolor\":\"white\",\"startlinecolor\":\"#2a3f5f\"},\"type\":\"carpet\"}],\"choropleth\":[{\"colorbar\":{\"outlinewidth\":0,\"ticks\":\"\"},\"type\":\"choropleth\"}],\"contourcarpet\":[{\"colorbar\":{\"outlinewidth\":0,\"ticks\":\"\"},\"type\":\"contourcarpet\"}],\"contour\":[{\"colorbar\":{\"outlinewidth\":0,\"ticks\":\"\"},\"colorscale\":[[0.0,\"#0d0887\"],[0.1111111111111111,\"#46039f\"],[0.2222222222222222,\"#7201a8\"],[0.3333333333333333,\"#9c179e\"],[0.4444444444444444,\"#bd3786\"],[0.5555555555555556,\"#d8576b\"],[0.6666666666666666,\"#ed7953\"],[0.7777777777777778,\"#fb9f3a\"],[0.8888888888888888,\"#fdca26\"],[1.0,\"#f0f921\"]],\"type\":\"contour\"}],\"heatmapgl\":[{\"colorbar\":{\"outlinewidth\":0,\"ticks\":\"\"},\"colorscale\":[[0.0,\"#0d0887\"],[0.1111111111111111,\"#46039f\"],[0.2222222222222222,\"#7201a8\"],[0.3333333333333333,\"#9c179e\"],[0.4444444444444444,\"#bd3786\"],[0.5555555555555556,\"#d8576b\"],[0.6666666666666666,\"#ed7953\"],[0.7777777777777778,\"#fb9f3a\"],[0.8888888888888888,\"#fdca26\"],[1.0,\"#f0f921\"]],\"type\":\"heatmapgl\"}],\"heatmap\":[{\"colorbar\":{\"outlinewidth\":0,\"ticks\":\"\"},\"colorscale\":[[0.0,\"#0d0887\"],[0.1111111111111111,\"#46039f\"],[0.2222222222222222,\"#7201a8\"],[0.3333333333333333,\"#9c179e\"],[0.4444444444444444,\"#bd3786\"],[0.5555555555555556,\"#d8576b\"],[0.6666666666666666,\"#ed7953\"],[0.7777777777777778,\"#fb9f3a\"],[0.8888888888888888,\"#fdca26\"],[1.0,\"#f0f921\"]],\"type\":\"heatmap\"}],\"histogram2dcontour\":[{\"colorbar\":{\"outlinewidth\":0,\"ticks\":\"\"},\"colorscale\":[[0.0,\"#0d0887\"],[0.1111111111111111,\"#46039f\"],[0.2222222222222222,\"#7201a8\"],[0.3333333333333333,\"#9c179e\"],[0.4444444444444444,\"#bd3786\"],[0.5555555555555556,\"#d8576b\"],[0.6666666666666666,\"#ed7953\"],[0.7777777777777778,\"#fb9f3a\"],[0.8888888888888888,\"#fdca26\"],[1.0,\"#f0f921\"]],\"type\":\"histogram2dcontour\"}],\"histogram2d\":[{\"colorbar\":{\"outlinewidth\":0,\"ticks\":\"\"},\"colorscale\":[[0.0,\"#0d0887\"],[0.1111111111111111,\"#46039f\"],[0.2222222222222222,\"#7201a8\"],[0.3333333333333333,\"#9c179e\"],[0.4444444444444444,\"#bd3786\"],[0.5555555555555556,\"#d8576b\"],[0.6666666666666666,\"#ed7953\"],[0.7777777777777778,\"#fb9f3a\"],[0.8888888888888888,\"#fdca26\"],[1.0,\"#f0f921\"]],\"type\":\"histogram2d\"}],\"histogram\":[{\"marker\":{\"pattern\":{\"fillmode\":\"overlay\",\"size\":10,\"solidity\":0.2}},\"type\":\"histogram\"}],\"mesh3d\":[{\"colorbar\":{\"outlinewidth\":0,\"ticks\":\"\"},\"type\":\"mesh3d\"}],\"parcoords\":[{\"line\":{\"colorbar\":{\"outlinewidth\":0,\"ticks\":\"\"}},\"type\":\"parcoords\"}],\"pie\":[{\"automargin\":true,\"type\":\"pie\"}],\"scatter3d\":[{\"line\":{\"colorbar\":{\"outlinewidth\":0,\"ticks\":\"\"}},\"marker\":{\"colorbar\":{\"outlinewidth\":0,\"ticks\":\"\"}},\"type\":\"scatter3d\"}],\"scattercarpet\":[{\"marker\":{\"colorbar\":{\"outlinewidth\":0,\"ticks\":\"\"}},\"type\":\"scattercarpet\"}],\"scattergeo\":[{\"marker\":{\"colorbar\":{\"outlinewidth\":0,\"ticks\":\"\"}},\"type\":\"scattergeo\"}],\"scattergl\":[{\"marker\":{\"colorbar\":{\"outlinewidth\":0,\"ticks\":\"\"}},\"type\":\"scattergl\"}],\"scattermapbox\":[{\"marker\":{\"colorbar\":{\"outlinewidth\":0,\"ticks\":\"\"}},\"type\":\"scattermapbox\"}],\"scatterpolargl\":[{\"marker\":{\"colorbar\":{\"outlinewidth\":0,\"ticks\":\"\"}},\"type\":\"scatterpolargl\"}],\"scatterpolar\":[{\"marker\":{\"colorbar\":{\"outlinewidth\":0,\"ticks\":\"\"}},\"type\":\"scatterpolar\"}],\"scatter\":[{\"fillpattern\":{\"fillmode\":\"overlay\",\"size\":10,\"solidity\":0.2},\"type\":\"scatter\"}],\"scatterternary\":[{\"marker\":{\"colorbar\":{\"outlinewidth\":0,\"ticks\":\"\"}},\"type\":\"scatterternary\"}],\"surface\":[{\"colorbar\":{\"outlinewidth\":0,\"ticks\":\"\"},\"colorscale\":[[0.0,\"#0d0887\"],[0.1111111111111111,\"#46039f\"],[0.2222222222222222,\"#7201a8\"],[0.3333333333333333,\"#9c179e\"],[0.4444444444444444,\"#bd3786\"],[0.5555555555555556,\"#d8576b\"],[0.6666666666666666,\"#ed7953\"],[0.7777777777777778,\"#fb9f3a\"],[0.8888888888888888,\"#fdca26\"],[1.0,\"#f0f921\"]],\"type\":\"surface\"}],\"table\":[{\"cells\":{\"fill\":{\"color\":\"#EBF0F8\"},\"line\":{\"color\":\"white\"}},\"header\":{\"fill\":{\"color\":\"#C8D4E3\"},\"line\":{\"color\":\"white\"}},\"type\":\"table\"}]},\"layout\":{\"annotationdefaults\":{\"arrowcolor\":\"#2a3f5f\",\"arrowhead\":0,\"arrowwidth\":1},\"autotypenumbers\":\"strict\",\"coloraxis\":{\"colorbar\":{\"outlinewidth\":0,\"ticks\":\"\"}},\"colorscale\":{\"diverging\":[[0,\"#8e0152\"],[0.1,\"#c51b7d\"],[0.2,\"#de77ae\"],[0.3,\"#f1b6da\"],[0.4,\"#fde0ef\"],[0.5,\"#f7f7f7\"],[0.6,\"#e6f5d0\"],[0.7,\"#b8e186\"],[0.8,\"#7fbc41\"],[0.9,\"#4d9221\"],[1,\"#276419\"]],\"sequential\":[[0.0,\"#0d0887\"],[0.1111111111111111,\"#46039f\"],[0.2222222222222222,\"#7201a8\"],[0.3333333333333333,\"#9c179e\"],[0.4444444444444444,\"#bd3786\"],[0.5555555555555556,\"#d8576b\"],[0.6666666666666666,\"#ed7953\"],[0.7777777777777778,\"#fb9f3a\"],[0.8888888888888888,\"#fdca26\"],[1.0,\"#f0f921\"]],\"sequentialminus\":[[0.0,\"#0d0887\"],[0.1111111111111111,\"#46039f\"],[0.2222222222222222,\"#7201a8\"],[0.3333333333333333,\"#9c179e\"],[0.4444444444444444,\"#bd3786\"],[0.5555555555555556,\"#d8576b\"],[0.6666666666666666,\"#ed7953\"],[0.7777777777777778,\"#fb9f3a\"],[0.8888888888888888,\"#fdca26\"],[1.0,\"#f0f921\"]]},\"colorway\":[\"#636efa\",\"#EF553B\",\"#00cc96\",\"#ab63fa\",\"#FFA15A\",\"#19d3f3\",\"#FF6692\",\"#B6E880\",\"#FF97FF\",\"#FECB52\"],\"font\":{\"color\":\"#2a3f5f\"},\"geo\":{\"bgcolor\":\"white\",\"lakecolor\":\"white\",\"landcolor\":\"#E5ECF6\",\"showlakes\":true,\"showland\":true,\"subunitcolor\":\"white\"},\"hoverlabel\":{\"align\":\"left\"},\"hovermode\":\"closest\",\"mapbox\":{\"style\":\"light\"},\"paper_bgcolor\":\"white\",\"plot_bgcolor\":\"#E5ECF6\",\"polar\":{\"angularaxis\":{\"gridcolor\":\"white\",\"linecolor\":\"white\",\"ticks\":\"\"},\"bgcolor\":\"#E5ECF6\",\"radialaxis\":{\"gridcolor\":\"white\",\"linecolor\":\"white\",\"ticks\":\"\"}},\"scene\":{\"xaxis\":{\"backgroundcolor\":\"#E5ECF6\",\"gridcolor\":\"white\",\"gridwidth\":2,\"linecolor\":\"white\",\"showbackground\":true,\"ticks\":\"\",\"zerolinecolor\":\"white\"},\"yaxis\":{\"backgroundcolor\":\"#E5ECF6\",\"gridcolor\":\"white\",\"gridwidth\":2,\"linecolor\":\"white\",\"showbackground\":true,\"ticks\":\"\",\"zerolinecolor\":\"white\"},\"zaxis\":{\"backgroundcolor\":\"#E5ECF6\",\"gridcolor\":\"white\",\"gridwidth\":2,\"linecolor\":\"white\",\"showbackground\":true,\"ticks\":\"\",\"zerolinecolor\":\"white\"}},\"shapedefaults\":{\"line\":{\"color\":\"#2a3f5f\"}},\"ternary\":{\"aaxis\":{\"gridcolor\":\"white\",\"linecolor\":\"white\",\"ticks\":\"\"},\"baxis\":{\"gridcolor\":\"white\",\"linecolor\":\"white\",\"ticks\":\"\"},\"bgcolor\":\"#E5ECF6\",\"caxis\":{\"gridcolor\":\"white\",\"linecolor\":\"white\",\"ticks\":\"\"}},\"title\":{\"x\":0.05},\"xaxis\":{\"automargin\":true,\"gridcolor\":\"white\",\"linecolor\":\"white\",\"ticks\":\"\",\"title\":{\"standoff\":15},\"zerolinecolor\":\"white\",\"zerolinewidth\":2},\"yaxis\":{\"automargin\":true,\"gridcolor\":\"white\",\"linecolor\":\"white\",\"ticks\":\"\",\"title\":{\"standoff\":15},\"zerolinecolor\":\"white\",\"zerolinewidth\":2}}},\"title\":{\"text\":\"display_size distribution in top hits\"},\"xaxis\":{\"anchor\":\"y\",\"domain\":[0.0,1.0],\"title\":{\"text\":\"display_size\"}},\"yaxis\":{\"anchor\":\"x\",\"domain\":[0.0,1.0],\"title\":{\"text\":\"count\"}}},                        {\"responsive\": true}                    ).then(function(){\n",
       "                            \n",
       "var gd = document.getElementById('807e75cf-0784-47ed-901f-204580cc07ec');\n",
       "var x = new MutationObserver(function (mutations, observer) {{\n",
       "        var display = window.getComputedStyle(gd).display;\n",
       "        if (!display || display === 'none') {{\n",
       "            console.log([gd, 'removed!']);\n",
       "            Plotly.purge(gd);\n",
       "            observer.disconnect();\n",
       "        }}\n",
       "}});\n",
       "\n",
       "// Listen for the removal of the full notebook cells\n",
       "var notebookContainer = gd.closest('#notebook-container');\n",
       "if (notebookContainer) {{\n",
       "    x.observe(notebookContainer, {childList: true});\n",
       "}}\n",
       "\n",
       "// Listen for the clearing of the current output cell\n",
       "var outputEl = gd.closest('.output');\n",
       "if (outputEl) {{\n",
       "    x.observe(outputEl, {childList: true});\n",
       "}}\n",
       "\n",
       "                        })                };                });            </script>        </div>"
      ]
     },
     "metadata": {},
     "output_type": "display_data"
    },
    {
     "data": {
      "text/html": [
       "<div>                            <div id=\"14f15ff7-73d1-41c5-abb5-d2e63499cec3\" class=\"plotly-graph-div\" style=\"height:525px; width:100%;\"></div>            <script type=\"text/javascript\">                require([\"plotly\"], function(Plotly) {                    window.PLOTLYENV=window.PLOTLYENV || {};                                    if (document.getElementById(\"14f15ff7-73d1-41c5-abb5-d2e63499cec3\")) {                    Plotly.newPlot(                        \"14f15ff7-73d1-41c5-abb5-d2e63499cec3\",                        [{\"alignmentgroup\":\"True\",\"bingroup\":\"x\",\"hovertemplate\":\"resolution_width=%{x}\\u003cbr\\u003ecount=%{y}\\u003cextra\\u003e\\u003c\\u002fextra\\u003e\",\"legendgroup\":\"\",\"marker\":{\"color\":\"#16A085\",\"pattern\":{\"shape\":\"\"}},\"name\":\"\",\"offsetgroup\":\"\",\"orientation\":\"v\",\"showlegend\":false,\"x\":[1920.0,1920.0,1920.0,2240.0,2560.0,1920.0,1920.0,1920.0,1920.0,1080.0,1920.0,1366.0,1920.0,1366.0,1920.0,1920.0,1920.0,1920.0,1920.0,1920.0,1920.0,2560.0,1920.0,1920.0,1920.0,1920.0,1366.0,1920.0,1920.0,1920.0,1920.0,1920.0,1920.0,1920.0,2560.0,1920.0,1920.0,1920.0,1920.0,1920.0,1920.0,1920.0,1920.0,1920.0,1920.0,3200.0,1080.0,1920.0,1920.0,1920.0,1920.0,1366.0,1920.0,1920.0,1920.0,1920.0,1920.0,1920.0,1920.0,1920.0,1920.0,3200.0,1920.0,1920.0,1920.0,1920.0,1920.0,1920.0,2880.0,1920.0,1920.0,1920.0,1920.0,1920.0,1920.0,1920.0,1920.0,1920.0,1920.0,2880.0,1920.0,1920.0,1920.0,1920.0,1920.0,1920.0,1920.0,1920.0,1920.0,1920.0,1920.0,1920.0,1920.0,1920.0,2560.0,2880.0,1920.0,1920.0,1920.0,1920.0,1920.0,1920.0,1920.0,1920.0,3200.0,1366.0,1920.0,1920.0,1920.0,1920.0,1366.0,1920.0,1920.0,1920.0,1920.0,1920.0,1920.0,1920.0,1920.0,1920.0,1920.0,1920.0,1920.0,1920.0,1920.0,1920.0,1920.0,1920.0,1920.0,1920.0,1920.0,1920.0,1920.0,2880.0,1920.0,1920.0,1366.0,1920.0,1920.0,1920.0,1920.0,2880.0,1366.0,1920.0,1920.0,1920.0,2880.0,3840.0,1920.0,2560.0,1920.0,1920.0,1920.0,1920.0,1920.0,1920.0,1920.0,2560.0,2880.0,1920.0,1920.0,1920.0,1920.0,1920.0,2560.0,1920.0,1920.0,1920.0,2560.0,1920.0,1920.0,2160.0,1920.0,1920.0,1920.0,1920.0,1920.0,1920.0,1920.0,2880.0,1920.0,3840.0,1920.0,1920.0,1920.0,1920.0,1920.0,1920.0,1920.0,1920.0,1920.0,1920.0,1920.0,1200.0,1366.0,1920.0,1920.0,1920.0,1366.0,1920.0,1920.0,1920.0,1920.0,1920.0,1920.0,1920.0,2560.0,1920.0,2880.0,1920.0,3200.0,1920.0,1366.0,2560.0,1920.0,3072.0,1920.0,1920.0,1920.0,1920.0,1920.0,1920.0,1920.0,1920.0,1920.0,1920.0,2560.0,1920.0,1920.0,2560.0,1920.0,2560.0,1366.0,2880.0,1920.0,1920.0,1920.0,1920.0,1920.0,1366.0,1920.0,1920.0,1920.0,1920.0,1920.0,1920.0,1920.0,1920.0,1920.0,1366.0,1920.0,1920.0,2256.0,3200.0,1920.0,1920.0,1920.0,1920.0,1920.0,1920.0,1366.0,1920.0,1920.0,1366.0,1920.0,1920.0,1920.0,1920.0,1920.0,1920.0,1080.0,1080.0,1920.0,1920.0,1920.0,1920.0,1920.0,1920.0,1920.0,1920.0,3840.0,1920.0,1920.0,1920.0,1920.0,1920.0,1920.0,1920.0,3200.0,2880.0,1920.0,1920.0,2880.0,1920.0,1920.0,2880.0,1920.0,2240.0,1920.0,1920.0,1920.0,1920.0,1920.0,1920.0,1920.0,1920.0,1920.0,1920.0,1920.0,1920.0,1920.0,1920.0,1920.0,2560.0,1920.0,2560.0,1920.0,1920.0,2880.0,1920.0,2560.0,2560.0,1920.0,2880.0,2880.0,1920.0,1920.0,1920.0,1920.0,1920.0,1920.0,1920.0,3200.0,1920.0,2560.0,1920.0,1920.0,1920.0,1920.0,1920.0,1366.0,2880.0,1920.0,2880.0,1920.0,1920.0,3840.0,1920.0,1920.0,1920.0,1920.0,1366.0,1920.0,1920.0,1920.0,1920.0,1920.0,1920.0,2880.0,1920.0,1920.0,1920.0,1920.0,2880.0,2880.0,1920.0,2880.0,1920.0,2880.0,2880.0,2880.0,2880.0,1920.0,1920.0,1920.0,3024.0,3024.0,2880.0,1920.0,1920.0,1920.0,1920.0,1920.0,1920.0,1920.0,1920.0,2880.0,1366.0,1920.0,2880.0,2880.0,1920.0,1920.0,1920.0,1920.0,1920.0,1920.0,1920.0,2880.0,1920.0,1920.0,1920.0,1920.0,1920.0,1920.0,1920.0,1920.0,2880.0,1920.0,1920.0,1920.0,2880.0,1920.0,1920.0,1920.0,1920.0,1920.0,1920.0,1920.0,1920.0,2560.0,1920.0,1920.0,1920.0,1920.0,1920.0,1920.0,1920.0,1920.0,2560.0,2560.0,1920.0,1920.0,2560.0,1920.0,1920.0,1920.0,1920.0,1920.0,1920.0,1920.0,2560.0,1920.0,1920.0,1920.0,1920.0,1920.0,1920.0,1366.0,1920.0,1920.0,1920.0,1920.0,1920.0,2560.0,1920.0,1920.0,1920.0,1920.0,1920.0,1920.0,1920.0,1920.0,1920.0,1920.0,1920.0,1920.0,1920.0,3024.0,3456.0,1920.0,1920.0,1920.0,1920.0,1440.0,3200.0,2560.0,1920.0,1920.0,2496.0,1920.0,1920.0,1920.0,1600.0,1920.0,2560.0,1920.0,1920.0,1920.0,2560.0,1920.0,2560.0,1920.0,1920.0,1920.0,1920.0,1920.0,1920.0,2160.0,1080.0,1080.0,1080.0,1920.0,1920.0,3456.0,3024.0,1920.0,2160.0,1920.0,1920.0,3200.0,1366.0,2496.0,2560.0,2560.0,1920.0,3840.0,3840.0,1920.0,1920.0,1920.0,1920.0,1920.0,1920.0,1920.0,1920.0,2560.0,1920.0,1920.0,1920.0,1920.0,1920.0,1920.0,1920.0,1920.0,1920.0,1920.0,1920.0,1920.0,1080.0,1366.0,1920.0,1920.0,2560.0,1920.0,1920.0,1366.0,2560.0,2560.0,2560.0,2880.0,2560.0,2560.0,1920.0,1920.0,1920.0,1920.0,1920.0,2560.0,2560.0,2560.0,2560.0,2560.0,1920.0,1920.0,1920.0,1920.0,1366.0,1280.0,1920.0,1920.0,1920.0,1920.0,1280.0,1920.0,1920.0,1920.0,1920.0,1920.0,1920.0,1920.0,1920.0,1920.0,1920.0,1920.0,1920.0,1920.0,1920.0,1920.0,1920.0,1920.0,1920.0,1920.0,1920.0,1920.0,1920.0,1920.0,1920.0,1920.0,2560.0,1920.0,1920.0,1920.0,2560.0,1920.0,1920.0,1366.0,1920.0,1920.0,1920.0,1920.0,1920.0,1920.0,1920.0,1920.0,1920.0,2880.0,1366.0,1920.0,1920.0,1920.0,1920.0,1366.0,1920.0,1920.0,1920.0,1920.0,1920.0,1920.0,1366.0,1920.0,1920.0,1920.0,1920.0,1366.0,1920.0,1920.0,1920.0,1920.0,1920.0,1920.0,1920.0,1920.0,1920.0,1920.0,1920.0,1920.0,1920.0,1920.0,2880.0,1920.0,1366.0,1366.0,1920.0,1366.0,2560.0,2880.0,1920.0,1920.0,1920.0,1920.0,1920.0,1920.0,1920.0,1920.0,1920.0,1920.0,1920.0,2880.0,1920.0,2560.0,1920.0,2560.0,1920.0,1920.0,1920.0,1920.0,1920.0,1920.0,1920.0,2560.0,1920.0,1920.0,1920.0,2560.0,2560.0,1920.0,2880.0,1920.0,1920.0,1920.0,1920.0,1920.0,1920.0,1920.0,1920.0,1920.0,2560.0,2560.0,1920.0,1920.0,1920.0,1920.0,1920.0,1920.0,1920.0,1920.0,1920.0,1920.0,3456.0,2560.0,1920.0,1920.0,1920.0,3200.0,1920.0,1920.0,1920.0,3840.0,1920.0,1920.0,2560.0,1920.0,1920.0,1920.0,1920.0,1920.0,1920.0,1920.0,1200.0,1920.0,1920.0,1920.0,1920.0,1366.0,1920.0,3840.0,1920.0,1920.0,3840.0,3840.0,3840.0,1600.0,1366.0,2560.0,1920.0,1200.0,1920.0,1366.0,2560.0,1920.0,1920.0,1366.0,1920.0,1920.0,1920.0,1920.0,1920.0,1920.0,1920.0,1920.0,1920.0,1920.0,1920.0,1920.0,1920.0,1920.0,1920.0,1920.0,1920.0,1920.0,1920.0,1920.0,1920.0,1920.0,2560.0,1920.0,1920.0,1920.0,1920.0,1366.0,2560.0,1920.0,1920.0,1920.0,2560.0,1920.0,1920.0,1920.0,1920.0,1920.0,1920.0,1920.0,1920.0,1920.0,1920.0,1920.0,1920.0,1920.0,1920.0,1920.0,1920.0,1920.0,1920.0,2560.0,1920.0,1920.0,1920.0,1920.0,1920.0,1920.0,1920.0,1920.0,1920.0,1920.0,1920.0,1920.0,1366.0,1920.0,1920.0,1920.0,3840.0,3840.0,3456.0,2560.0,3200.0,2560.0,1920.0,1920.0,1200.0,1600.0,1600.0,1600.0,1920.0,1920.0,1920.0,1920.0,1920.0,1920.0,1920.0,1920.0,1920.0,1920.0,1920.0,1920.0,1920.0,2560.0,2880.0,1920.0,1920.0,1920.0,1920.0,1920.0,1920.0,2560.0,2560.0,1920.0,2560.0,1366.0,1920.0,1920.0,1920.0,1920.0,1920.0,1920.0,1920.0,1920.0,1920.0,1920.0,1920.0,2560.0,1920.0,1920.0,1920.0,1920.0,1920.0,1366.0,1920.0,1920.0,1366.0,1920.0,3840.0,1920.0,1920.0,2560.0,1920.0,1920.0,1920.0,1920.0,2560.0,2560.0,1920.0,1920.0],\"xaxis\":\"x\",\"yaxis\":\"y\",\"type\":\"histogram\"}],                        {\"barmode\":\"relative\",\"legend\":{\"tracegroupgap\":0},\"template\":{\"data\":{\"barpolar\":[{\"marker\":{\"line\":{\"color\":\"#E5ECF6\",\"width\":0.5},\"pattern\":{\"fillmode\":\"overlay\",\"size\":10,\"solidity\":0.2}},\"type\":\"barpolar\"}],\"bar\":[{\"error_x\":{\"color\":\"#2a3f5f\"},\"error_y\":{\"color\":\"#2a3f5f\"},\"marker\":{\"line\":{\"color\":\"#E5ECF6\",\"width\":0.5},\"pattern\":{\"fillmode\":\"overlay\",\"size\":10,\"solidity\":0.2}},\"type\":\"bar\"}],\"carpet\":[{\"aaxis\":{\"endlinecolor\":\"#2a3f5f\",\"gridcolor\":\"white\",\"linecolor\":\"white\",\"minorgridcolor\":\"white\",\"startlinecolor\":\"#2a3f5f\"},\"baxis\":{\"endlinecolor\":\"#2a3f5f\",\"gridcolor\":\"white\",\"linecolor\":\"white\",\"minorgridcolor\":\"white\",\"startlinecolor\":\"#2a3f5f\"},\"type\":\"carpet\"}],\"choropleth\":[{\"colorbar\":{\"outlinewidth\":0,\"ticks\":\"\"},\"type\":\"choropleth\"}],\"contourcarpet\":[{\"colorbar\":{\"outlinewidth\":0,\"ticks\":\"\"},\"type\":\"contourcarpet\"}],\"contour\":[{\"colorbar\":{\"outlinewidth\":0,\"ticks\":\"\"},\"colorscale\":[[0.0,\"#0d0887\"],[0.1111111111111111,\"#46039f\"],[0.2222222222222222,\"#7201a8\"],[0.3333333333333333,\"#9c179e\"],[0.4444444444444444,\"#bd3786\"],[0.5555555555555556,\"#d8576b\"],[0.6666666666666666,\"#ed7953\"],[0.7777777777777778,\"#fb9f3a\"],[0.8888888888888888,\"#fdca26\"],[1.0,\"#f0f921\"]],\"type\":\"contour\"}],\"heatmapgl\":[{\"colorbar\":{\"outlinewidth\":0,\"ticks\":\"\"},\"colorscale\":[[0.0,\"#0d0887\"],[0.1111111111111111,\"#46039f\"],[0.2222222222222222,\"#7201a8\"],[0.3333333333333333,\"#9c179e\"],[0.4444444444444444,\"#bd3786\"],[0.5555555555555556,\"#d8576b\"],[0.6666666666666666,\"#ed7953\"],[0.7777777777777778,\"#fb9f3a\"],[0.8888888888888888,\"#fdca26\"],[1.0,\"#f0f921\"]],\"type\":\"heatmapgl\"}],\"heatmap\":[{\"colorbar\":{\"outlinewidth\":0,\"ticks\":\"\"},\"colorscale\":[[0.0,\"#0d0887\"],[0.1111111111111111,\"#46039f\"],[0.2222222222222222,\"#7201a8\"],[0.3333333333333333,\"#9c179e\"],[0.4444444444444444,\"#bd3786\"],[0.5555555555555556,\"#d8576b\"],[0.6666666666666666,\"#ed7953\"],[0.7777777777777778,\"#fb9f3a\"],[0.8888888888888888,\"#fdca26\"],[1.0,\"#f0f921\"]],\"type\":\"heatmap\"}],\"histogram2dcontour\":[{\"colorbar\":{\"outlinewidth\":0,\"ticks\":\"\"},\"colorscale\":[[0.0,\"#0d0887\"],[0.1111111111111111,\"#46039f\"],[0.2222222222222222,\"#7201a8\"],[0.3333333333333333,\"#9c179e\"],[0.4444444444444444,\"#bd3786\"],[0.5555555555555556,\"#d8576b\"],[0.6666666666666666,\"#ed7953\"],[0.7777777777777778,\"#fb9f3a\"],[0.8888888888888888,\"#fdca26\"],[1.0,\"#f0f921\"]],\"type\":\"histogram2dcontour\"}],\"histogram2d\":[{\"colorbar\":{\"outlinewidth\":0,\"ticks\":\"\"},\"colorscale\":[[0.0,\"#0d0887\"],[0.1111111111111111,\"#46039f\"],[0.2222222222222222,\"#7201a8\"],[0.3333333333333333,\"#9c179e\"],[0.4444444444444444,\"#bd3786\"],[0.5555555555555556,\"#d8576b\"],[0.6666666666666666,\"#ed7953\"],[0.7777777777777778,\"#fb9f3a\"],[0.8888888888888888,\"#fdca26\"],[1.0,\"#f0f921\"]],\"type\":\"histogram2d\"}],\"histogram\":[{\"marker\":{\"pattern\":{\"fillmode\":\"overlay\",\"size\":10,\"solidity\":0.2}},\"type\":\"histogram\"}],\"mesh3d\":[{\"colorbar\":{\"outlinewidth\":0,\"ticks\":\"\"},\"type\":\"mesh3d\"}],\"parcoords\":[{\"line\":{\"colorbar\":{\"outlinewidth\":0,\"ticks\":\"\"}},\"type\":\"parcoords\"}],\"pie\":[{\"automargin\":true,\"type\":\"pie\"}],\"scatter3d\":[{\"line\":{\"colorbar\":{\"outlinewidth\":0,\"ticks\":\"\"}},\"marker\":{\"colorbar\":{\"outlinewidth\":0,\"ticks\":\"\"}},\"type\":\"scatter3d\"}],\"scattercarpet\":[{\"marker\":{\"colorbar\":{\"outlinewidth\":0,\"ticks\":\"\"}},\"type\":\"scattercarpet\"}],\"scattergeo\":[{\"marker\":{\"colorbar\":{\"outlinewidth\":0,\"ticks\":\"\"}},\"type\":\"scattergeo\"}],\"scattergl\":[{\"marker\":{\"colorbar\":{\"outlinewidth\":0,\"ticks\":\"\"}},\"type\":\"scattergl\"}],\"scattermapbox\":[{\"marker\":{\"colorbar\":{\"outlinewidth\":0,\"ticks\":\"\"}},\"type\":\"scattermapbox\"}],\"scatterpolargl\":[{\"marker\":{\"colorbar\":{\"outlinewidth\":0,\"ticks\":\"\"}},\"type\":\"scatterpolargl\"}],\"scatterpolar\":[{\"marker\":{\"colorbar\":{\"outlinewidth\":0,\"ticks\":\"\"}},\"type\":\"scatterpolar\"}],\"scatter\":[{\"fillpattern\":{\"fillmode\":\"overlay\",\"size\":10,\"solidity\":0.2},\"type\":\"scatter\"}],\"scatterternary\":[{\"marker\":{\"colorbar\":{\"outlinewidth\":0,\"ticks\":\"\"}},\"type\":\"scatterternary\"}],\"surface\":[{\"colorbar\":{\"outlinewidth\":0,\"ticks\":\"\"},\"colorscale\":[[0.0,\"#0d0887\"],[0.1111111111111111,\"#46039f\"],[0.2222222222222222,\"#7201a8\"],[0.3333333333333333,\"#9c179e\"],[0.4444444444444444,\"#bd3786\"],[0.5555555555555556,\"#d8576b\"],[0.6666666666666666,\"#ed7953\"],[0.7777777777777778,\"#fb9f3a\"],[0.8888888888888888,\"#fdca26\"],[1.0,\"#f0f921\"]],\"type\":\"surface\"}],\"table\":[{\"cells\":{\"fill\":{\"color\":\"#EBF0F8\"},\"line\":{\"color\":\"white\"}},\"header\":{\"fill\":{\"color\":\"#C8D4E3\"},\"line\":{\"color\":\"white\"}},\"type\":\"table\"}]},\"layout\":{\"annotationdefaults\":{\"arrowcolor\":\"#2a3f5f\",\"arrowhead\":0,\"arrowwidth\":1},\"autotypenumbers\":\"strict\",\"coloraxis\":{\"colorbar\":{\"outlinewidth\":0,\"ticks\":\"\"}},\"colorscale\":{\"diverging\":[[0,\"#8e0152\"],[0.1,\"#c51b7d\"],[0.2,\"#de77ae\"],[0.3,\"#f1b6da\"],[0.4,\"#fde0ef\"],[0.5,\"#f7f7f7\"],[0.6,\"#e6f5d0\"],[0.7,\"#b8e186\"],[0.8,\"#7fbc41\"],[0.9,\"#4d9221\"],[1,\"#276419\"]],\"sequential\":[[0.0,\"#0d0887\"],[0.1111111111111111,\"#46039f\"],[0.2222222222222222,\"#7201a8\"],[0.3333333333333333,\"#9c179e\"],[0.4444444444444444,\"#bd3786\"],[0.5555555555555556,\"#d8576b\"],[0.6666666666666666,\"#ed7953\"],[0.7777777777777778,\"#fb9f3a\"],[0.8888888888888888,\"#fdca26\"],[1.0,\"#f0f921\"]],\"sequentialminus\":[[0.0,\"#0d0887\"],[0.1111111111111111,\"#46039f\"],[0.2222222222222222,\"#7201a8\"],[0.3333333333333333,\"#9c179e\"],[0.4444444444444444,\"#bd3786\"],[0.5555555555555556,\"#d8576b\"],[0.6666666666666666,\"#ed7953\"],[0.7777777777777778,\"#fb9f3a\"],[0.8888888888888888,\"#fdca26\"],[1.0,\"#f0f921\"]]},\"colorway\":[\"#636efa\",\"#EF553B\",\"#00cc96\",\"#ab63fa\",\"#FFA15A\",\"#19d3f3\",\"#FF6692\",\"#B6E880\",\"#FF97FF\",\"#FECB52\"],\"font\":{\"color\":\"#2a3f5f\"},\"geo\":{\"bgcolor\":\"white\",\"lakecolor\":\"white\",\"landcolor\":\"#E5ECF6\",\"showlakes\":true,\"showland\":true,\"subunitcolor\":\"white\"},\"hoverlabel\":{\"align\":\"left\"},\"hovermode\":\"closest\",\"mapbox\":{\"style\":\"light\"},\"paper_bgcolor\":\"white\",\"plot_bgcolor\":\"#E5ECF6\",\"polar\":{\"angularaxis\":{\"gridcolor\":\"white\",\"linecolor\":\"white\",\"ticks\":\"\"},\"bgcolor\":\"#E5ECF6\",\"radialaxis\":{\"gridcolor\":\"white\",\"linecolor\":\"white\",\"ticks\":\"\"}},\"scene\":{\"xaxis\":{\"backgroundcolor\":\"#E5ECF6\",\"gridcolor\":\"white\",\"gridwidth\":2,\"linecolor\":\"white\",\"showbackground\":true,\"ticks\":\"\",\"zerolinecolor\":\"white\"},\"yaxis\":{\"backgroundcolor\":\"#E5ECF6\",\"gridcolor\":\"white\",\"gridwidth\":2,\"linecolor\":\"white\",\"showbackground\":true,\"ticks\":\"\",\"zerolinecolor\":\"white\"},\"zaxis\":{\"backgroundcolor\":\"#E5ECF6\",\"gridcolor\":\"white\",\"gridwidth\":2,\"linecolor\":\"white\",\"showbackground\":true,\"ticks\":\"\",\"zerolinecolor\":\"white\"}},\"shapedefaults\":{\"line\":{\"color\":\"#2a3f5f\"}},\"ternary\":{\"aaxis\":{\"gridcolor\":\"white\",\"linecolor\":\"white\",\"ticks\":\"\"},\"baxis\":{\"gridcolor\":\"white\",\"linecolor\":\"white\",\"ticks\":\"\"},\"bgcolor\":\"#E5ECF6\",\"caxis\":{\"gridcolor\":\"white\",\"linecolor\":\"white\",\"ticks\":\"\"}},\"title\":{\"x\":0.05},\"xaxis\":{\"automargin\":true,\"gridcolor\":\"white\",\"linecolor\":\"white\",\"ticks\":\"\",\"title\":{\"standoff\":15},\"zerolinecolor\":\"white\",\"zerolinewidth\":2},\"yaxis\":{\"automargin\":true,\"gridcolor\":\"white\",\"linecolor\":\"white\",\"ticks\":\"\",\"title\":{\"standoff\":15},\"zerolinecolor\":\"white\",\"zerolinewidth\":2}}},\"title\":{\"text\":\"resolution_width distribution in top hits\"},\"xaxis\":{\"anchor\":\"y\",\"domain\":[0.0,1.0],\"title\":{\"text\":\"resolution_width\"}},\"yaxis\":{\"anchor\":\"x\",\"domain\":[0.0,1.0],\"title\":{\"text\":\"count\"}}},                        {\"responsive\": true}                    ).then(function(){\n",
       "                            \n",
       "var gd = document.getElementById('14f15ff7-73d1-41c5-abb5-d2e63499cec3');\n",
       "var x = new MutationObserver(function (mutations, observer) {{\n",
       "        var display = window.getComputedStyle(gd).display;\n",
       "        if (!display || display === 'none') {{\n",
       "            console.log([gd, 'removed!']);\n",
       "            Plotly.purge(gd);\n",
       "            observer.disconnect();\n",
       "        }}\n",
       "}});\n",
       "\n",
       "// Listen for the removal of the full notebook cells\n",
       "var notebookContainer = gd.closest('#notebook-container');\n",
       "if (notebookContainer) {{\n",
       "    x.observe(notebookContainer, {childList: true});\n",
       "}}\n",
       "\n",
       "// Listen for the clearing of the current output cell\n",
       "var outputEl = gd.closest('.output');\n",
       "if (outputEl) {{\n",
       "    x.observe(outputEl, {childList: true});\n",
       "}}\n",
       "\n",
       "                        })                };                });            </script>        </div>"
      ]
     },
     "metadata": {},
     "output_type": "display_data"
    },
    {
     "data": {
      "text/html": [
       "<div>                            <div id=\"dbf316e0-5189-48ca-848e-0e6c1f276712\" class=\"plotly-graph-div\" style=\"height:525px; width:100%;\"></div>            <script type=\"text/javascript\">                require([\"plotly\"], function(Plotly) {                    window.PLOTLYENV=window.PLOTLYENV || {};                                    if (document.getElementById(\"dbf316e0-5189-48ca-848e-0e6c1f276712\")) {                    Plotly.newPlot(                        \"dbf316e0-5189-48ca-848e-0e6c1f276712\",                        [{\"alignmentgroup\":\"True\",\"bingroup\":\"x\",\"hovertemplate\":\"resolution_height=%{x}\\u003cbr\\u003ecount=%{y}\\u003cextra\\u003e\\u003c\\u002fextra\\u003e\",\"legendgroup\":\"\",\"marker\":{\"color\":\"#34495E\",\"pattern\":{\"shape\":\"\"}},\"name\":\"\",\"offsetgroup\":\"\",\"orientation\":\"v\",\"showlegend\":false,\"x\":[1080.0,1080.0,1080.0,1400.0,1600.0,1080.0,1080.0,1080.0,1080.0,1920.0,1080.0,768.0,1080.0,768.0,1080.0,1080.0,1080.0,1080.0,1080.0,1080.0,1200.0,1664.0,1080.0,1080.0,1200.0,1080.0,768.0,1080.0,1080.0,1080.0,1080.0,1200.0,1080.0,1080.0,1440.0,1080.0,1080.0,1200.0,1080.0,1080.0,1080.0,1080.0,1080.0,1080.0,1200.0,2000.0,1920.0,1080.0,1080.0,1080.0,1080.0,768.0,1200.0,1080.0,1080.0,1080.0,1080.0,1080.0,1080.0,1080.0,1080.0,2000.0,1080.0,1200.0,1080.0,1080.0,1080.0,1080.0,1800.0,1200.0,1080.0,1080.0,1080.0,1080.0,1200.0,1200.0,1080.0,1080.0,1080.0,1800.0,1080.0,1080.0,1080.0,1080.0,1080.0,1080.0,1080.0,1080.0,1080.0,1080.0,1080.0,1080.0,1080.0,1080.0,1440.0,1864.0,1080.0,1080.0,1080.0,1080.0,1080.0,1080.0,1080.0,1080.0,2000.0,768.0,1080.0,1080.0,1080.0,1080.0,768.0,1080.0,1080.0,1080.0,1200.0,1080.0,1080.0,1080.0,1080.0,1080.0,1080.0,1080.0,1080.0,1080.0,1200.0,1080.0,1080.0,1080.0,1080.0,1080.0,1080.0,1080.0,1080.0,1620.0,1080.0,1080.0,768.0,1080.0,1080.0,1080.0,1080.0,1800.0,768.0,1080.0,1080.0,1080.0,1800.0,2400.0,1080.0,1600.0,1080.0,1080.0,1200.0,1080.0,1080.0,1080.0,1080.0,1600.0,1864.0,1080.0,1080.0,1080.0,1080.0,1080.0,1600.0,1200.0,1080.0,1080.0,1600.0,1080.0,1200.0,1440.0,1200.0,1080.0,1080.0,1080.0,1080.0,1080.0,1200.0,1620.0,1080.0,2400.0,1080.0,1080.0,1080.0,1080.0,1080.0,1080.0,1080.0,1080.0,1080.0,1080.0,1080.0,1920.0,768.0,1080.0,1080.0,1080.0,768.0,1080.0,1080.0,1080.0,1080.0,1080.0,1080.0,1080.0,1664.0,1080.0,1800.0,1080.0,2000.0,1080.0,768.0,1600.0,1080.0,1920.0,1080.0,1080.0,1080.0,1080.0,1080.0,1080.0,1080.0,1080.0,1080.0,1080.0,1600.0,1080.0,1080.0,1600.0,1080.0,1600.0,768.0,1800.0,1200.0,1080.0,1200.0,1200.0,1080.0,768.0,1080.0,1080.0,1200.0,1080.0,1080.0,1080.0,1080.0,1080.0,1080.0,768.0,1200.0,1080.0,1504.0,2000.0,1080.0,1080.0,1080.0,1080.0,1080.0,1080.0,768.0,1080.0,1080.0,768.0,1080.0,1200.0,1080.0,1080.0,1080.0,1080.0,1920.0,1920.0,1080.0,1080.0,1200.0,1080.0,1080.0,1080.0,1080.0,1080.0,2400.0,1080.0,1080.0,1080.0,1080.0,1080.0,1080.0,1080.0,1800.0,1800.0,1080.0,1080.0,1800.0,1200.0,1080.0,1800.0,1200.0,1400.0,1080.0,1080.0,1080.0,1080.0,1080.0,1080.0,1080.0,1080.0,1080.0,1080.0,1080.0,1080.0,1080.0,1080.0,1080.0,1600.0,1200.0,1600.0,1080.0,1080.0,1800.0,1080.0,1600.0,1600.0,1200.0,1620.0,1800.0,1080.0,1080.0,1080.0,1080.0,1080.0,1080.0,1080.0,2000.0,1080.0,1600.0,1200.0,1080.0,1080.0,1080.0,1080.0,768.0,1800.0,1080.0,1620.0,1080.0,1200.0,2160.0,1080.0,1080.0,1080.0,1080.0,768.0,1080.0,1080.0,1080.0,1080.0,1080.0,1080.0,1800.0,1080.0,1080.0,1080.0,1080.0,1800.0,1800.0,1080.0,1800.0,1080.0,1800.0,1800.0,1800.0,1800.0,1080.0,1080.0,1080.0,1964.0,1964.0,1800.0,1080.0,1080.0,1080.0,1080.0,1080.0,1080.0,1080.0,1080.0,1800.0,768.0,1080.0,1800.0,1620.0,1080.0,1080.0,1080.0,1080.0,1080.0,1080.0,1200.0,1800.0,1080.0,1200.0,1200.0,1080.0,1080.0,1080.0,1080.0,1080.0,1800.0,1080.0,1080.0,1080.0,1800.0,1080.0,1200.0,1080.0,1080.0,1080.0,1080.0,1080.0,1080.0,1600.0,1080.0,1080.0,1200.0,1080.0,1080.0,1080.0,1080.0,1200.0,1660.0,1660.0,1080.0,1200.0,1600.0,1080.0,1080.0,1080.0,1080.0,1080.0,1080.0,1080.0,1600.0,1080.0,1080.0,1080.0,1080.0,1200.0,1080.0,768.0,1080.0,1080.0,1080.0,1080.0,1080.0,1600.0,1080.0,1080.0,1080.0,1080.0,1080.0,1080.0,1080.0,1080.0,1080.0,1080.0,1080.0,1080.0,1080.0,1964.0,2234.0,1080.0,1080.0,1080.0,1080.0,2160.0,2000.0,1600.0,1080.0,1080.0,1664.0,1080.0,1080.0,1080.0,2560.0,1080.0,1600.0,1080.0,1200.0,1200.0,1600.0,1080.0,1440.0,1080.0,1080.0,1080.0,1080.0,1080.0,1080.0,1440.0,1920.0,1920.0,1920.0,1080.0,1080.0,2234.0,1964.0,1080.0,3456.0,1080.0,1080.0,2000.0,768.0,1664.0,1600.0,1600.0,1080.0,2160.0,2160.0,1080.0,1080.0,1080.0,1080.0,1200.0,1080.0,1080.0,1080.0,1440.0,1080.0,1080.0,1080.0,1080.0,1080.0,1080.0,1200.0,1200.0,1080.0,1080.0,1080.0,1080.0,1920.0,768.0,1080.0,1080.0,1440.0,1080.0,1080.0,768.0,1600.0,1600.0,1600.0,1800.0,1440.0,1600.0,1080.0,1080.0,1080.0,1080.0,1200.0,1600.0,1600.0,1600.0,1600.0,1600.0,1200.0,1080.0,1080.0,1080.0,768.0,1024.0,1080.0,1080.0,1080.0,1200.0,1024.0,1080.0,1200.0,1200.0,1080.0,1080.0,1080.0,1080.0,1080.0,1080.0,1080.0,1080.0,1200.0,1080.0,1080.0,1200.0,1080.0,1200.0,1200.0,1080.0,1080.0,1200.0,1200.0,1080.0,1080.0,1200.0,1600.0,1080.0,1080.0,1080.0,1600.0,1080.0,1080.0,768.0,2560.0,1080.0,1080.0,1080.0,1080.0,1080.0,1080.0,1080.0,1080.0,1800.0,768.0,1080.0,1200.0,1080.0,1080.0,768.0,1080.0,1200.0,1080.0,1080.0,1080.0,1200.0,768.0,1080.0,1080.0,1080.0,1080.0,768.0,1200.0,1080.0,1080.0,1200.0,1200.0,1200.0,1080.0,1080.0,1080.0,1200.0,1200.0,1080.0,1080.0,1080.0,1800.0,1080.0,768.0,768.0,1080.0,768.0,1440.0,1800.0,1080.0,1200.0,1080.0,1080.0,1080.0,1080.0,1080.0,1200.0,1080.0,1200.0,1080.0,1800.0,1080.0,1600.0,1200.0,1600.0,1200.0,1080.0,1080.0,1080.0,1080.0,1080.0,1080.0,1440.0,1080.0,1080.0,1080.0,1600.0,1440.0,1200.0,1800.0,1080.0,1080.0,1280.0,1200.0,1080.0,1080.0,1080.0,1080.0,1080.0,1600.0,1600.0,1080.0,1080.0,1080.0,1080.0,1080.0,1080.0,1080.0,1080.0,1080.0,1200.0,2160.0,1600.0,1080.0,1080.0,1080.0,1800.0,1080.0,1200.0,1200.0,2400.0,1200.0,1080.0,1600.0,1200.0,1200.0,1200.0,1200.0,1200.0,1080.0,1080.0,1920.0,1080.0,1080.0,1200.0,1200.0,768.0,1200.0,2400.0,1200.0,1200.0,2400.0,2400.0,2400.0,2560.0,768.0,1600.0,1200.0,1920.0,1080.0,768.0,1440.0,1080.0,1080.0,768.0,1080.0,1080.0,1080.0,1080.0,1200.0,1080.0,1080.0,1200.0,1080.0,1200.0,1080.0,1080.0,1080.0,1080.0,1080.0,1080.0,1080.0,1080.0,1080.0,1080.0,1080.0,1080.0,1440.0,1080.0,1080.0,1080.0,1080.0,768.0,1600.0,1080.0,1080.0,1080.0,1600.0,1080.0,1080.0,1200.0,1080.0,1080.0,1200.0,1080.0,1080.0,1080.0,1080.0,1080.0,1080.0,1080.0,1080.0,1080.0,1080.0,1200.0,1080.0,1600.0,1080.0,1080.0,1200.0,1080.0,1080.0,1080.0,1080.0,1080.0,1080.0,1080.0,1080.0,1080.0,768.0,1200.0,1080.0,1200.0,2400.0,2400.0,2160.0,1600.0,2000.0,1600.0,1080.0,1080.0,1920.0,2560.0,2560.0,2560.0,1200.0,1080.0,1080.0,1080.0,1080.0,1080.0,1200.0,1080.0,1080.0,1080.0,1080.0,1080.0,1080.0,1600.0,1620.0,1080.0,1080.0,1080.0,1080.0,1080.0,1080.0,1600.0,1600.0,1200.0,1440.0,768.0,1080.0,1080.0,1080.0,1080.0,1200.0,1080.0,1080.0,1080.0,1080.0,1080.0,1080.0,1600.0,1200.0,1080.0,1200.0,1080.0,1080.0,768.0,1080.0,1080.0,768.0,1080.0,2400.0,1080.0,1080.0,1600.0,1080.0,1080.0,1080.0,1080.0,1440.0,1600.0,1080.0,1080.0],\"xaxis\":\"x\",\"yaxis\":\"y\",\"type\":\"histogram\"}],                        {\"barmode\":\"relative\",\"legend\":{\"tracegroupgap\":0},\"template\":{\"data\":{\"barpolar\":[{\"marker\":{\"line\":{\"color\":\"#E5ECF6\",\"width\":0.5},\"pattern\":{\"fillmode\":\"overlay\",\"size\":10,\"solidity\":0.2}},\"type\":\"barpolar\"}],\"bar\":[{\"error_x\":{\"color\":\"#2a3f5f\"},\"error_y\":{\"color\":\"#2a3f5f\"},\"marker\":{\"line\":{\"color\":\"#E5ECF6\",\"width\":0.5},\"pattern\":{\"fillmode\":\"overlay\",\"size\":10,\"solidity\":0.2}},\"type\":\"bar\"}],\"carpet\":[{\"aaxis\":{\"endlinecolor\":\"#2a3f5f\",\"gridcolor\":\"white\",\"linecolor\":\"white\",\"minorgridcolor\":\"white\",\"startlinecolor\":\"#2a3f5f\"},\"baxis\":{\"endlinecolor\":\"#2a3f5f\",\"gridcolor\":\"white\",\"linecolor\":\"white\",\"minorgridcolor\":\"white\",\"startlinecolor\":\"#2a3f5f\"},\"type\":\"carpet\"}],\"choropleth\":[{\"colorbar\":{\"outlinewidth\":0,\"ticks\":\"\"},\"type\":\"choropleth\"}],\"contourcarpet\":[{\"colorbar\":{\"outlinewidth\":0,\"ticks\":\"\"},\"type\":\"contourcarpet\"}],\"contour\":[{\"colorbar\":{\"outlinewidth\":0,\"ticks\":\"\"},\"colorscale\":[[0.0,\"#0d0887\"],[0.1111111111111111,\"#46039f\"],[0.2222222222222222,\"#7201a8\"],[0.3333333333333333,\"#9c179e\"],[0.4444444444444444,\"#bd3786\"],[0.5555555555555556,\"#d8576b\"],[0.6666666666666666,\"#ed7953\"],[0.7777777777777778,\"#fb9f3a\"],[0.8888888888888888,\"#fdca26\"],[1.0,\"#f0f921\"]],\"type\":\"contour\"}],\"heatmapgl\":[{\"colorbar\":{\"outlinewidth\":0,\"ticks\":\"\"},\"colorscale\":[[0.0,\"#0d0887\"],[0.1111111111111111,\"#46039f\"],[0.2222222222222222,\"#7201a8\"],[0.3333333333333333,\"#9c179e\"],[0.4444444444444444,\"#bd3786\"],[0.5555555555555556,\"#d8576b\"],[0.6666666666666666,\"#ed7953\"],[0.7777777777777778,\"#fb9f3a\"],[0.8888888888888888,\"#fdca26\"],[1.0,\"#f0f921\"]],\"type\":\"heatmapgl\"}],\"heatmap\":[{\"colorbar\":{\"outlinewidth\":0,\"ticks\":\"\"},\"colorscale\":[[0.0,\"#0d0887\"],[0.1111111111111111,\"#46039f\"],[0.2222222222222222,\"#7201a8\"],[0.3333333333333333,\"#9c179e\"],[0.4444444444444444,\"#bd3786\"],[0.5555555555555556,\"#d8576b\"],[0.6666666666666666,\"#ed7953\"],[0.7777777777777778,\"#fb9f3a\"],[0.8888888888888888,\"#fdca26\"],[1.0,\"#f0f921\"]],\"type\":\"heatmap\"}],\"histogram2dcontour\":[{\"colorbar\":{\"outlinewidth\":0,\"ticks\":\"\"},\"colorscale\":[[0.0,\"#0d0887\"],[0.1111111111111111,\"#46039f\"],[0.2222222222222222,\"#7201a8\"],[0.3333333333333333,\"#9c179e\"],[0.4444444444444444,\"#bd3786\"],[0.5555555555555556,\"#d8576b\"],[0.6666666666666666,\"#ed7953\"],[0.7777777777777778,\"#fb9f3a\"],[0.8888888888888888,\"#fdca26\"],[1.0,\"#f0f921\"]],\"type\":\"histogram2dcontour\"}],\"histogram2d\":[{\"colorbar\":{\"outlinewidth\":0,\"ticks\":\"\"},\"colorscale\":[[0.0,\"#0d0887\"],[0.1111111111111111,\"#46039f\"],[0.2222222222222222,\"#7201a8\"],[0.3333333333333333,\"#9c179e\"],[0.4444444444444444,\"#bd3786\"],[0.5555555555555556,\"#d8576b\"],[0.6666666666666666,\"#ed7953\"],[0.7777777777777778,\"#fb9f3a\"],[0.8888888888888888,\"#fdca26\"],[1.0,\"#f0f921\"]],\"type\":\"histogram2d\"}],\"histogram\":[{\"marker\":{\"pattern\":{\"fillmode\":\"overlay\",\"size\":10,\"solidity\":0.2}},\"type\":\"histogram\"}],\"mesh3d\":[{\"colorbar\":{\"outlinewidth\":0,\"ticks\":\"\"},\"type\":\"mesh3d\"}],\"parcoords\":[{\"line\":{\"colorbar\":{\"outlinewidth\":0,\"ticks\":\"\"}},\"type\":\"parcoords\"}],\"pie\":[{\"automargin\":true,\"type\":\"pie\"}],\"scatter3d\":[{\"line\":{\"colorbar\":{\"outlinewidth\":0,\"ticks\":\"\"}},\"marker\":{\"colorbar\":{\"outlinewidth\":0,\"ticks\":\"\"}},\"type\":\"scatter3d\"}],\"scattercarpet\":[{\"marker\":{\"colorbar\":{\"outlinewidth\":0,\"ticks\":\"\"}},\"type\":\"scattercarpet\"}],\"scattergeo\":[{\"marker\":{\"colorbar\":{\"outlinewidth\":0,\"ticks\":\"\"}},\"type\":\"scattergeo\"}],\"scattergl\":[{\"marker\":{\"colorbar\":{\"outlinewidth\":0,\"ticks\":\"\"}},\"type\":\"scattergl\"}],\"scattermapbox\":[{\"marker\":{\"colorbar\":{\"outlinewidth\":0,\"ticks\":\"\"}},\"type\":\"scattermapbox\"}],\"scatterpolargl\":[{\"marker\":{\"colorbar\":{\"outlinewidth\":0,\"ticks\":\"\"}},\"type\":\"scatterpolargl\"}],\"scatterpolar\":[{\"marker\":{\"colorbar\":{\"outlinewidth\":0,\"ticks\":\"\"}},\"type\":\"scatterpolar\"}],\"scatter\":[{\"fillpattern\":{\"fillmode\":\"overlay\",\"size\":10,\"solidity\":0.2},\"type\":\"scatter\"}],\"scatterternary\":[{\"marker\":{\"colorbar\":{\"outlinewidth\":0,\"ticks\":\"\"}},\"type\":\"scatterternary\"}],\"surface\":[{\"colorbar\":{\"outlinewidth\":0,\"ticks\":\"\"},\"colorscale\":[[0.0,\"#0d0887\"],[0.1111111111111111,\"#46039f\"],[0.2222222222222222,\"#7201a8\"],[0.3333333333333333,\"#9c179e\"],[0.4444444444444444,\"#bd3786\"],[0.5555555555555556,\"#d8576b\"],[0.6666666666666666,\"#ed7953\"],[0.7777777777777778,\"#fb9f3a\"],[0.8888888888888888,\"#fdca26\"],[1.0,\"#f0f921\"]],\"type\":\"surface\"}],\"table\":[{\"cells\":{\"fill\":{\"color\":\"#EBF0F8\"},\"line\":{\"color\":\"white\"}},\"header\":{\"fill\":{\"color\":\"#C8D4E3\"},\"line\":{\"color\":\"white\"}},\"type\":\"table\"}]},\"layout\":{\"annotationdefaults\":{\"arrowcolor\":\"#2a3f5f\",\"arrowhead\":0,\"arrowwidth\":1},\"autotypenumbers\":\"strict\",\"coloraxis\":{\"colorbar\":{\"outlinewidth\":0,\"ticks\":\"\"}},\"colorscale\":{\"diverging\":[[0,\"#8e0152\"],[0.1,\"#c51b7d\"],[0.2,\"#de77ae\"],[0.3,\"#f1b6da\"],[0.4,\"#fde0ef\"],[0.5,\"#f7f7f7\"],[0.6,\"#e6f5d0\"],[0.7,\"#b8e186\"],[0.8,\"#7fbc41\"],[0.9,\"#4d9221\"],[1,\"#276419\"]],\"sequential\":[[0.0,\"#0d0887\"],[0.1111111111111111,\"#46039f\"],[0.2222222222222222,\"#7201a8\"],[0.3333333333333333,\"#9c179e\"],[0.4444444444444444,\"#bd3786\"],[0.5555555555555556,\"#d8576b\"],[0.6666666666666666,\"#ed7953\"],[0.7777777777777778,\"#fb9f3a\"],[0.8888888888888888,\"#fdca26\"],[1.0,\"#f0f921\"]],\"sequentialminus\":[[0.0,\"#0d0887\"],[0.1111111111111111,\"#46039f\"],[0.2222222222222222,\"#7201a8\"],[0.3333333333333333,\"#9c179e\"],[0.4444444444444444,\"#bd3786\"],[0.5555555555555556,\"#d8576b\"],[0.6666666666666666,\"#ed7953\"],[0.7777777777777778,\"#fb9f3a\"],[0.8888888888888888,\"#fdca26\"],[1.0,\"#f0f921\"]]},\"colorway\":[\"#636efa\",\"#EF553B\",\"#00cc96\",\"#ab63fa\",\"#FFA15A\",\"#19d3f3\",\"#FF6692\",\"#B6E880\",\"#FF97FF\",\"#FECB52\"],\"font\":{\"color\":\"#2a3f5f\"},\"geo\":{\"bgcolor\":\"white\",\"lakecolor\":\"white\",\"landcolor\":\"#E5ECF6\",\"showlakes\":true,\"showland\":true,\"subunitcolor\":\"white\"},\"hoverlabel\":{\"align\":\"left\"},\"hovermode\":\"closest\",\"mapbox\":{\"style\":\"light\"},\"paper_bgcolor\":\"white\",\"plot_bgcolor\":\"#E5ECF6\",\"polar\":{\"angularaxis\":{\"gridcolor\":\"white\",\"linecolor\":\"white\",\"ticks\":\"\"},\"bgcolor\":\"#E5ECF6\",\"radialaxis\":{\"gridcolor\":\"white\",\"linecolor\":\"white\",\"ticks\":\"\"}},\"scene\":{\"xaxis\":{\"backgroundcolor\":\"#E5ECF6\",\"gridcolor\":\"white\",\"gridwidth\":2,\"linecolor\":\"white\",\"showbackground\":true,\"ticks\":\"\",\"zerolinecolor\":\"white\"},\"yaxis\":{\"backgroundcolor\":\"#E5ECF6\",\"gridcolor\":\"white\",\"gridwidth\":2,\"linecolor\":\"white\",\"showbackground\":true,\"ticks\":\"\",\"zerolinecolor\":\"white\"},\"zaxis\":{\"backgroundcolor\":\"#E5ECF6\",\"gridcolor\":\"white\",\"gridwidth\":2,\"linecolor\":\"white\",\"showbackground\":true,\"ticks\":\"\",\"zerolinecolor\":\"white\"}},\"shapedefaults\":{\"line\":{\"color\":\"#2a3f5f\"}},\"ternary\":{\"aaxis\":{\"gridcolor\":\"white\",\"linecolor\":\"white\",\"ticks\":\"\"},\"baxis\":{\"gridcolor\":\"white\",\"linecolor\":\"white\",\"ticks\":\"\"},\"bgcolor\":\"#E5ECF6\",\"caxis\":{\"gridcolor\":\"white\",\"linecolor\":\"white\",\"ticks\":\"\"}},\"title\":{\"x\":0.05},\"xaxis\":{\"automargin\":true,\"gridcolor\":\"white\",\"linecolor\":\"white\",\"ticks\":\"\",\"title\":{\"standoff\":15},\"zerolinecolor\":\"white\",\"zerolinewidth\":2},\"yaxis\":{\"automargin\":true,\"gridcolor\":\"white\",\"linecolor\":\"white\",\"ticks\":\"\",\"title\":{\"standoff\":15},\"zerolinecolor\":\"white\",\"zerolinewidth\":2}}},\"title\":{\"text\":\"resolution_height distribution in top hits\"},\"xaxis\":{\"anchor\":\"y\",\"domain\":[0.0,1.0],\"title\":{\"text\":\"resolution_height\"}},\"yaxis\":{\"anchor\":\"x\",\"domain\":[0.0,1.0],\"title\":{\"text\":\"count\"}}},                        {\"responsive\": true}                    ).then(function(){\n",
       "                            \n",
       "var gd = document.getElementById('dbf316e0-5189-48ca-848e-0e6c1f276712');\n",
       "var x = new MutationObserver(function (mutations, observer) {{\n",
       "        var display = window.getComputedStyle(gd).display;\n",
       "        if (!display || display === 'none') {{\n",
       "            console.log([gd, 'removed!']);\n",
       "            Plotly.purge(gd);\n",
       "            observer.disconnect();\n",
       "        }}\n",
       "}});\n",
       "\n",
       "// Listen for the removal of the full notebook cells\n",
       "var notebookContainer = gd.closest('#notebook-container');\n",
       "if (notebookContainer) {{\n",
       "    x.observe(notebookContainer, {childList: true});\n",
       "}}\n",
       "\n",
       "// Listen for the clearing of the current output cell\n",
       "var outputEl = gd.closest('.output');\n",
       "if (outputEl) {{\n",
       "    x.observe(outputEl, {childList: true});\n",
       "}}\n",
       "\n",
       "                        })                };                });            </script>        </div>"
      ]
     },
     "metadata": {},
     "output_type": "display_data"
    },
    {
     "data": {
      "text/html": [
       "<div>                            <div id=\"1ebf78cf-c186-4750-a009-e7bd84dd58e4\" class=\"plotly-graph-div\" style=\"height:525px; width:100%;\"></div>            <script type=\"text/javascript\">                require([\"plotly\"], function(Plotly) {                    window.PLOTLYENV=window.PLOTLYENV || {};                                    if (document.getElementById(\"1ebf78cf-c186-4750-a009-e7bd84dd58e4\")) {                    Plotly.newPlot(                        \"1ebf78cf-c186-4750-a009-e7bd84dd58e4\",                        [{\"alignmentgroup\":\"True\",\"bingroup\":\"x\",\"hovertemplate\":\"warranty=%{x}\\u003cbr\\u003ecount=%{y}\\u003cextra\\u003e\\u003c\\u002fextra\\u003e\",\"legendgroup\":\"\",\"marker\":{\"color\":\"#21618C \",\"pattern\":{\"shape\":\"\"}},\"name\":\"\",\"offsetgroup\":\"\",\"orientation\":\"v\",\"showlegend\":false,\"x\":[1,1,1,1,1,1,1,1,1,1,1,1,1,1,1,1,1,1,1,1,1,1,1,1,1,1,1,1,1,1,1,1,1,1,1,1,1,1,1,1,1,1,1,1,1,1,1,1,1,1,1,1,1,1,1,1,1,1,1,1,1,1,1,1,1,1,1,1,1,1,1,1,1,1,1,0,1,1,1,1,1,1,1,1,1,1,1,1,1,1,1,1,1,1,1,1,1,1,1,1,1,1,1,1,1,1,1,1,1,1,1,2,1,1,1,1,1,1,1,1,1,1,1,1,1,1,1,1,1,1,1,1,1,1,1,1,1,1,1,1,1,1,1,1,1,1,1,1,1,1,1,1,1,1,1,1,1,1,1,1,1,1,1,1,1,1,1,1,1,1,1,1,1,1,1,1,1,2,1,1,1,1,1,1,1,2,1,1,1,1,1,1,1,1,1,1,1,1,1,1,1,1,1,1,1,1,1,1,1,1,1,1,1,1,1,1,1,0,1,1,1,1,1,1,1,1,1,1,2,1,1,1,1,1,1,1,1,1,1,1,1,1,2,1,1,1,2,1,1,1,1,1,1,1,1,1,1,1,1,1,1,1,1,1,1,1,1,1,1,1,1,1,1,1,1,1,1,2,1,1,1,1,1,1,1,1,1,1,1,1,1,1,1,1,1,1,1,1,1,1,1,1,1,1,1,1,2,1,2,1,1,1,1,1,1,1,1,1,1,1,1,1,1,1,1,1,1,1,1,1,1,1,1,1,1,1,2,1,1,1,1,1,1,1,1,1,2,1,1,1,1,1,1,1,1,1,1,1,1,1,1,1,1,1,1,1,1,1,1,1,1,1,1,1,1,1,1,1,1,1,1,1,1,1,1,1,1,1,1,1,1,1,1,1,1,1,1,1,1,1,1,1,1,1,1,1,1,1,1,1,1,1,1,1,1,1,1,1,1,2,1,3,1,1,1,1,1,1,1,2,2,1,1,1,1,1,1,1,1,1,1,1,1,1,1,1,1,1,1,1,1,1,1,1,1,1,2,1,1,1,1,1,1,1,1,1,1,1,1,1,1,1,1,1,1,1,1,2,1,1,1,3,1,1,1,1,1,3,1,1,1,1,1,1,1,1,1,1,1,1,1,1,1,1,1,1,1,1,1,1,1,1,1,0,0,1,0,1,2,1,1,1,1,1,1,1,2,2,3,1,1,1,1,1,1,1,1,1,1,1,1,1,1,1,1,1,1,1,1,1,1,1,3,1,1,1,1,2,1,1,1,3,2,1,1,1,1,1,1,1,1,1,1,1,1,1,1,1,1,1,1,1,1,1,1,2,1,1,2,1,1,1,1,1,1,1,1,1,1,1,1,1,1,1,1,1,1,1,2,2,1,1,1,1,1,1,1,1,1,1,1,1,1,1,1,1,1,1,1,1,1,1,1,1,1,0,2,1,1,2,1,1,1,1,1,1,2,2,1,1,1,1,1,1,1,1,2,1,2,1,1,1,1,1,1,1,1,1,1,1,1,1,1,1,1,1,2,2,2,2,2,1,1,1,1,2,1,1,1,1,1,1,1,1,1,2,1,2,2,1,1,1,1,1,1,1,1,1,1,1,1,1,1,1,1,1,2,1,2,3,1,1,1,1,1,1,1,1,1,1,1,1,2,2,1,1,1,1,1,1,1,1,1,1,1,1,1,1,1,1,1,2,1,1,2,1,2,1,2,1,1,1,1,1,1,1,1,1,1,1,1,1,1,1,1,2,1,1,1,1,1,1,1,1,1,1,1,1,1,1,1,1,1,2,2,1,1,1,1,1,1,1,1,1,1,2,2,1,1,1,1,2,2,1,1,1,1,1,1,1,2,1,1,1,1,1,1,1,1,1,1,1,1,1,1,1,1,1,1,1,1,1,1,1,1,1,1,1,3,1,1,1,1,1,1,1,1,1,1,2,1,1,1,1,1,1,1,1,1,1,3,1,1,1,1,1,1,2,2,1,1,1,1,1,1,1,1,1,1,1,1,1,1],\"xaxis\":\"x\",\"yaxis\":\"y\",\"type\":\"histogram\"}],                        {\"barmode\":\"relative\",\"legend\":{\"tracegroupgap\":0},\"template\":{\"data\":{\"barpolar\":[{\"marker\":{\"line\":{\"color\":\"#E5ECF6\",\"width\":0.5},\"pattern\":{\"fillmode\":\"overlay\",\"size\":10,\"solidity\":0.2}},\"type\":\"barpolar\"}],\"bar\":[{\"error_x\":{\"color\":\"#2a3f5f\"},\"error_y\":{\"color\":\"#2a3f5f\"},\"marker\":{\"line\":{\"color\":\"#E5ECF6\",\"width\":0.5},\"pattern\":{\"fillmode\":\"overlay\",\"size\":10,\"solidity\":0.2}},\"type\":\"bar\"}],\"carpet\":[{\"aaxis\":{\"endlinecolor\":\"#2a3f5f\",\"gridcolor\":\"white\",\"linecolor\":\"white\",\"minorgridcolor\":\"white\",\"startlinecolor\":\"#2a3f5f\"},\"baxis\":{\"endlinecolor\":\"#2a3f5f\",\"gridcolor\":\"white\",\"linecolor\":\"white\",\"minorgridcolor\":\"white\",\"startlinecolor\":\"#2a3f5f\"},\"type\":\"carpet\"}],\"choropleth\":[{\"colorbar\":{\"outlinewidth\":0,\"ticks\":\"\"},\"type\":\"choropleth\"}],\"contourcarpet\":[{\"colorbar\":{\"outlinewidth\":0,\"ticks\":\"\"},\"type\":\"contourcarpet\"}],\"contour\":[{\"colorbar\":{\"outlinewidth\":0,\"ticks\":\"\"},\"colorscale\":[[0.0,\"#0d0887\"],[0.1111111111111111,\"#46039f\"],[0.2222222222222222,\"#7201a8\"],[0.3333333333333333,\"#9c179e\"],[0.4444444444444444,\"#bd3786\"],[0.5555555555555556,\"#d8576b\"],[0.6666666666666666,\"#ed7953\"],[0.7777777777777778,\"#fb9f3a\"],[0.8888888888888888,\"#fdca26\"],[1.0,\"#f0f921\"]],\"type\":\"contour\"}],\"heatmapgl\":[{\"colorbar\":{\"outlinewidth\":0,\"ticks\":\"\"},\"colorscale\":[[0.0,\"#0d0887\"],[0.1111111111111111,\"#46039f\"],[0.2222222222222222,\"#7201a8\"],[0.3333333333333333,\"#9c179e\"],[0.4444444444444444,\"#bd3786\"],[0.5555555555555556,\"#d8576b\"],[0.6666666666666666,\"#ed7953\"],[0.7777777777777778,\"#fb9f3a\"],[0.8888888888888888,\"#fdca26\"],[1.0,\"#f0f921\"]],\"type\":\"heatmapgl\"}],\"heatmap\":[{\"colorbar\":{\"outlinewidth\":0,\"ticks\":\"\"},\"colorscale\":[[0.0,\"#0d0887\"],[0.1111111111111111,\"#46039f\"],[0.2222222222222222,\"#7201a8\"],[0.3333333333333333,\"#9c179e\"],[0.4444444444444444,\"#bd3786\"],[0.5555555555555556,\"#d8576b\"],[0.6666666666666666,\"#ed7953\"],[0.7777777777777778,\"#fb9f3a\"],[0.8888888888888888,\"#fdca26\"],[1.0,\"#f0f921\"]],\"type\":\"heatmap\"}],\"histogram2dcontour\":[{\"colorbar\":{\"outlinewidth\":0,\"ticks\":\"\"},\"colorscale\":[[0.0,\"#0d0887\"],[0.1111111111111111,\"#46039f\"],[0.2222222222222222,\"#7201a8\"],[0.3333333333333333,\"#9c179e\"],[0.4444444444444444,\"#bd3786\"],[0.5555555555555556,\"#d8576b\"],[0.6666666666666666,\"#ed7953\"],[0.7777777777777778,\"#fb9f3a\"],[0.8888888888888888,\"#fdca26\"],[1.0,\"#f0f921\"]],\"type\":\"histogram2dcontour\"}],\"histogram2d\":[{\"colorbar\":{\"outlinewidth\":0,\"ticks\":\"\"},\"colorscale\":[[0.0,\"#0d0887\"],[0.1111111111111111,\"#46039f\"],[0.2222222222222222,\"#7201a8\"],[0.3333333333333333,\"#9c179e\"],[0.4444444444444444,\"#bd3786\"],[0.5555555555555556,\"#d8576b\"],[0.6666666666666666,\"#ed7953\"],[0.7777777777777778,\"#fb9f3a\"],[0.8888888888888888,\"#fdca26\"],[1.0,\"#f0f921\"]],\"type\":\"histogram2d\"}],\"histogram\":[{\"marker\":{\"pattern\":{\"fillmode\":\"overlay\",\"size\":10,\"solidity\":0.2}},\"type\":\"histogram\"}],\"mesh3d\":[{\"colorbar\":{\"outlinewidth\":0,\"ticks\":\"\"},\"type\":\"mesh3d\"}],\"parcoords\":[{\"line\":{\"colorbar\":{\"outlinewidth\":0,\"ticks\":\"\"}},\"type\":\"parcoords\"}],\"pie\":[{\"automargin\":true,\"type\":\"pie\"}],\"scatter3d\":[{\"line\":{\"colorbar\":{\"outlinewidth\":0,\"ticks\":\"\"}},\"marker\":{\"colorbar\":{\"outlinewidth\":0,\"ticks\":\"\"}},\"type\":\"scatter3d\"}],\"scattercarpet\":[{\"marker\":{\"colorbar\":{\"outlinewidth\":0,\"ticks\":\"\"}},\"type\":\"scattercarpet\"}],\"scattergeo\":[{\"marker\":{\"colorbar\":{\"outlinewidth\":0,\"ticks\":\"\"}},\"type\":\"scattergeo\"}],\"scattergl\":[{\"marker\":{\"colorbar\":{\"outlinewidth\":0,\"ticks\":\"\"}},\"type\":\"scattergl\"}],\"scattermapbox\":[{\"marker\":{\"colorbar\":{\"outlinewidth\":0,\"ticks\":\"\"}},\"type\":\"scattermapbox\"}],\"scatterpolargl\":[{\"marker\":{\"colorbar\":{\"outlinewidth\":0,\"ticks\":\"\"}},\"type\":\"scatterpolargl\"}],\"scatterpolar\":[{\"marker\":{\"colorbar\":{\"outlinewidth\":0,\"ticks\":\"\"}},\"type\":\"scatterpolar\"}],\"scatter\":[{\"fillpattern\":{\"fillmode\":\"overlay\",\"size\":10,\"solidity\":0.2},\"type\":\"scatter\"}],\"scatterternary\":[{\"marker\":{\"colorbar\":{\"outlinewidth\":0,\"ticks\":\"\"}},\"type\":\"scatterternary\"}],\"surface\":[{\"colorbar\":{\"outlinewidth\":0,\"ticks\":\"\"},\"colorscale\":[[0.0,\"#0d0887\"],[0.1111111111111111,\"#46039f\"],[0.2222222222222222,\"#7201a8\"],[0.3333333333333333,\"#9c179e\"],[0.4444444444444444,\"#bd3786\"],[0.5555555555555556,\"#d8576b\"],[0.6666666666666666,\"#ed7953\"],[0.7777777777777778,\"#fb9f3a\"],[0.8888888888888888,\"#fdca26\"],[1.0,\"#f0f921\"]],\"type\":\"surface\"}],\"table\":[{\"cells\":{\"fill\":{\"color\":\"#EBF0F8\"},\"line\":{\"color\":\"white\"}},\"header\":{\"fill\":{\"color\":\"#C8D4E3\"},\"line\":{\"color\":\"white\"}},\"type\":\"table\"}]},\"layout\":{\"annotationdefaults\":{\"arrowcolor\":\"#2a3f5f\",\"arrowhead\":0,\"arrowwidth\":1},\"autotypenumbers\":\"strict\",\"coloraxis\":{\"colorbar\":{\"outlinewidth\":0,\"ticks\":\"\"}},\"colorscale\":{\"diverging\":[[0,\"#8e0152\"],[0.1,\"#c51b7d\"],[0.2,\"#de77ae\"],[0.3,\"#f1b6da\"],[0.4,\"#fde0ef\"],[0.5,\"#f7f7f7\"],[0.6,\"#e6f5d0\"],[0.7,\"#b8e186\"],[0.8,\"#7fbc41\"],[0.9,\"#4d9221\"],[1,\"#276419\"]],\"sequential\":[[0.0,\"#0d0887\"],[0.1111111111111111,\"#46039f\"],[0.2222222222222222,\"#7201a8\"],[0.3333333333333333,\"#9c179e\"],[0.4444444444444444,\"#bd3786\"],[0.5555555555555556,\"#d8576b\"],[0.6666666666666666,\"#ed7953\"],[0.7777777777777778,\"#fb9f3a\"],[0.8888888888888888,\"#fdca26\"],[1.0,\"#f0f921\"]],\"sequentialminus\":[[0.0,\"#0d0887\"],[0.1111111111111111,\"#46039f\"],[0.2222222222222222,\"#7201a8\"],[0.3333333333333333,\"#9c179e\"],[0.4444444444444444,\"#bd3786\"],[0.5555555555555556,\"#d8576b\"],[0.6666666666666666,\"#ed7953\"],[0.7777777777777778,\"#fb9f3a\"],[0.8888888888888888,\"#fdca26\"],[1.0,\"#f0f921\"]]},\"colorway\":[\"#636efa\",\"#EF553B\",\"#00cc96\",\"#ab63fa\",\"#FFA15A\",\"#19d3f3\",\"#FF6692\",\"#B6E880\",\"#FF97FF\",\"#FECB52\"],\"font\":{\"color\":\"#2a3f5f\"},\"geo\":{\"bgcolor\":\"white\",\"lakecolor\":\"white\",\"landcolor\":\"#E5ECF6\",\"showlakes\":true,\"showland\":true,\"subunitcolor\":\"white\"},\"hoverlabel\":{\"align\":\"left\"},\"hovermode\":\"closest\",\"mapbox\":{\"style\":\"light\"},\"paper_bgcolor\":\"white\",\"plot_bgcolor\":\"#E5ECF6\",\"polar\":{\"angularaxis\":{\"gridcolor\":\"white\",\"linecolor\":\"white\",\"ticks\":\"\"},\"bgcolor\":\"#E5ECF6\",\"radialaxis\":{\"gridcolor\":\"white\",\"linecolor\":\"white\",\"ticks\":\"\"}},\"scene\":{\"xaxis\":{\"backgroundcolor\":\"#E5ECF6\",\"gridcolor\":\"white\",\"gridwidth\":2,\"linecolor\":\"white\",\"showbackground\":true,\"ticks\":\"\",\"zerolinecolor\":\"white\"},\"yaxis\":{\"backgroundcolor\":\"#E5ECF6\",\"gridcolor\":\"white\",\"gridwidth\":2,\"linecolor\":\"white\",\"showbackground\":true,\"ticks\":\"\",\"zerolinecolor\":\"white\"},\"zaxis\":{\"backgroundcolor\":\"#E5ECF6\",\"gridcolor\":\"white\",\"gridwidth\":2,\"linecolor\":\"white\",\"showbackground\":true,\"ticks\":\"\",\"zerolinecolor\":\"white\"}},\"shapedefaults\":{\"line\":{\"color\":\"#2a3f5f\"}},\"ternary\":{\"aaxis\":{\"gridcolor\":\"white\",\"linecolor\":\"white\",\"ticks\":\"\"},\"baxis\":{\"gridcolor\":\"white\",\"linecolor\":\"white\",\"ticks\":\"\"},\"bgcolor\":\"#E5ECF6\",\"caxis\":{\"gridcolor\":\"white\",\"linecolor\":\"white\",\"ticks\":\"\"}},\"title\":{\"x\":0.05},\"xaxis\":{\"automargin\":true,\"gridcolor\":\"white\",\"linecolor\":\"white\",\"ticks\":\"\",\"title\":{\"standoff\":15},\"zerolinecolor\":\"white\",\"zerolinewidth\":2},\"yaxis\":{\"automargin\":true,\"gridcolor\":\"white\",\"linecolor\":\"white\",\"ticks\":\"\",\"title\":{\"standoff\":15},\"zerolinecolor\":\"white\",\"zerolinewidth\":2}}},\"title\":{\"text\":\"warranty distribution in top hits\"},\"xaxis\":{\"anchor\":\"y\",\"domain\":[0.0,1.0],\"title\":{\"text\":\"warranty\"}},\"yaxis\":{\"anchor\":\"x\",\"domain\":[0.0,1.0],\"title\":{\"text\":\"count\"}}},                        {\"responsive\": true}                    ).then(function(){\n",
       "                            \n",
       "var gd = document.getElementById('1ebf78cf-c186-4750-a009-e7bd84dd58e4');\n",
       "var x = new MutationObserver(function (mutations, observer) {{\n",
       "        var display = window.getComputedStyle(gd).display;\n",
       "        if (!display || display === 'none') {{\n",
       "            console.log([gd, 'removed!']);\n",
       "            Plotly.purge(gd);\n",
       "            observer.disconnect();\n",
       "        }}\n",
       "}});\n",
       "\n",
       "// Listen for the removal of the full notebook cells\n",
       "var notebookContainer = gd.closest('#notebook-container');\n",
       "if (notebookContainer) {{\n",
       "    x.observe(notebookContainer, {childList: true});\n",
       "}}\n",
       "\n",
       "// Listen for the clearing of the current output cell\n",
       "var outputEl = gd.closest('.output');\n",
       "if (outputEl) {{\n",
       "    x.observe(outputEl, {childList: true});\n",
       "}}\n",
       "\n",
       "                        })                };                });            </script>        </div>"
      ]
     },
     "metadata": {},
     "output_type": "display_data"
    }
   ],
   "source": [
    "for i in range(len(non_object_columns)):\n",
    "    fig = px.histogram(df, \n",
    "                       non_object_columns[i], \n",
    "                       title=f'{non_object_columns[i]} distribution in top hits' ,\n",
    "                        color_discrete_sequence=[colors[i]]\n",
    "                      )\n",
    "    iplot(fig)"
   ]
  },
  {
   "cell_type": "markdown",
   "id": "2ee2a4d2",
   "metadata": {
    "papermill": {
     "duration": 0.020446,
     "end_time": "2023-12-18T14:55:13.262598",
     "exception": false,
     "start_time": "2023-12-18T14:55:13.242152",
     "status": "completed"
    },
    "tags": []
   },
   "source": [
    "<div style=\"background-color: #0f0f0f; padding: 20px; border-radius: 10px; box-shadow: 5px 5px 10px #888888;\">\n",
    "<h1 style=\"color: white; font-size: 30px; font-weight: bold; text-align: center; text-shadow: 2px 2px 4px #000000;\">END</h1>\n",
    "</div>"
   ]
  }
 ],
 "metadata": {
  "kaggle": {
   "accelerator": "none",
   "dataSources": [
    {
     "datasetId": 4087248,
     "sourceId": 7092422,
     "sourceType": "datasetVersion"
    }
   ],
   "dockerImageVersionId": 30626,
   "isGpuEnabled": false,
   "isInternetEnabled": false,
   "language": "python",
   "sourceType": "notebook"
  },
  "kernelspec": {
   "display_name": "Python 3",
   "language": "python",
   "name": "python3"
  },
  "language_info": {
   "codemirror_mode": {
    "name": "ipython",
    "version": 3
   },
   "file_extension": ".py",
   "mimetype": "text/x-python",
   "name": "python",
   "nbconvert_exporter": "python",
   "pygments_lexer": "ipython3",
   "version": "3.10.12"
  },
  "papermill": {
   "default_parameters": {},
   "duration": 12.721294,
   "end_time": "2023-12-18T14:55:14.005498",
   "environment_variables": {},
   "exception": null,
   "input_path": "__notebook__.ipynb",
   "output_path": "__notebook__.ipynb",
   "parameters": {},
   "start_time": "2023-12-18T14:55:01.284204",
   "version": "2.4.0"
  }
 },
 "nbformat": 4,
 "nbformat_minor": 5
}
